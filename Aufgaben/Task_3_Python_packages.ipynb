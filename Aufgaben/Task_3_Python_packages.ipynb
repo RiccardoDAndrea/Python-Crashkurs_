{
 "cells": [
  {
   "cell_type": "markdown",
   "metadata": {},
   "source": [
    "# 2. Packages\n",
    "---\n",
    "\n",
    "In diesen Skript bearbeiten wir die Grundlagen von Packages.\n",
    "Python bietet ein breites und umfangreiches Ökosystem an Packages\n",
    "Sei es von \n",
    "- Webframeworks (`Django`), \n",
    "- Spieleentwicklung (`Pygame`), \n",
    "- Big Data (`Spark`), \n",
    "- Daten analyse (`Seaborn`, `plotly`, `Matplotlib`)\n",
    "- Machine Learning (`Skit-learn`, `Statsmodels`), \n",
    "- Deep Learning (`Tensorflow / Keras`) und viel mehr.\n",
    "---\n"
   ]
  },
  {
   "cell_type": "markdown",
   "metadata": {},
   "source": [
    "Stell sicher das du im richtigen Verzeichnis:\n",
    "---"
   ]
  },
  {
   "cell_type": "code",
   "execution_count": 5,
   "metadata": {},
   "outputs": [
    {
     "name": "stdout",
     "output_type": "stream",
     "text": [
      "New directory: /Users/riccardo/Desktop/Github/Python-Crashkurs_\n"
     ]
    }
   ],
   "source": [
    "import os\n",
    "\n",
    "# Dein Akttueller Pfad\n",
    "notebook_path = os.getcwd()\n",
    "\"Current directory:\", notebook_path\n",
    "\n",
    "# (replace '/path/to/directory' ändere es zu dein Pfad)\n",
    "new_directory = '/Users/riccardo/Desktop/Github/Python-Crashkurs_'\n",
    "os.chdir(new_directory)\n",
    "\n",
    "# Bestätige die änderung\n",
    "notebook_path = os.getcwd()\n",
    "print(\"New directory:\", notebook_path)\n"
   ]
  },
  {
   "cell_type": "markdown",
   "metadata": {},
   "source": [
    "Pandas\n",
    "---\n",
    "### Installation:\n",
    "Wenn wir in einem Jupyter Notebook (`.ipynb` )arbeiten, verwenden wir den Code \n",
    "- `%pip install dein_package`, \n",
    "um das Pakete zu installieren."
   ]
  },
  {
   "cell_type": "markdown",
   "metadata": {},
   "source": [
    "In einer `.py` Datei wird die Eingabe in dem Terminal getätig und zwar wie folgt:\n",
    "`pip install dein_package`\n",
    "\n",
    "<img src=\"/Users/riccardo/Desktop/Github/Python-Crashkurs_/Pic_for_expla/install_package_terminal.png\" alt=\"Terminal package install\" width=\"700\"/>\n",
    "\n",
    "-----"
   ]
  },
  {
   "cell_type": "markdown",
   "metadata": {},
   "source": [
    "### Wie verwende ich ein Package\n",
    "Um die Verwendung eines Pakets zu verdeutlichen machen wird es an Pandas fest.\n",
    "Um das Paket zu verwenden, importieren wir es sowohl in einer `.ipynb-Datei` als auch in einer `.py-Datei` mit dem Befehl:\n",
    "\n",
    "- `import pandas as pd`\n",
    "\n",
    "\n",
    "**ACHTUNG:**\n",
    "\n",
    "Durch den Import mit `import` steht uns das Paket zur Verfügung, und wir können die damit verbundenen Funktionen nutzen.\n",
    "Wir referenzieren das Paket nicht mit `pandas`, sondern mit `pd`, da wir `as pd` verwenden. Das bedeutet, dass wir beim Aufruf der Pandas-Funktionen anstelle von `pandas` nur noch `pd` schreiben.\n",
    "\n",
    "------"
   ]
  },
  {
   "cell_type": "markdown",
   "metadata": {},
   "source": [
    "### Welche Funktionen gibt es nun ? \n",
    "\n",
    "Wie finden wir heraus welche Funktion nun Pandas hat ? \n",
    "Jedes große Package wie Pandas, Streamlit und viele mehr haben eine Offiziele Dokumentation.\n",
    "- Die offiziele Dokumentation von Pandas findest du hier: https://pandas.pydata.org/docs/index.html \n",
    "\n",
    "Dabei wird erklärt \n",
    "- welche Funktion es gibt \n",
    "- welche Parameter mitgeben werden können \n",
    "- zugleich werden weiter unten manchmal beispiele mitgegeben wie der Code anzuwenden ist.\n",
    "----\n",
    "\n"
   ]
  },
  {
   "cell_type": "code",
   "execution_count": 47,
   "metadata": {},
   "outputs": [
    {
     "name": "stdout",
     "output_type": "stream",
     "text": [
      "Requirement already satisfied: pandas in ./venv/lib/python3.10/site-packages (2.2.3)\n",
      "Requirement already satisfied: pytz>=2020.1 in ./venv/lib/python3.10/site-packages (from pandas) (2024.2)\n",
      "Requirement already satisfied: python-dateutil>=2.8.2 in ./venv/lib/python3.10/site-packages (from pandas) (2.9.0.post0)\n",
      "Requirement already satisfied: numpy>=1.22.4 in ./venv/lib/python3.10/site-packages (from pandas) (2.1.1)\n",
      "Requirement already satisfied: tzdata>=2022.7 in ./venv/lib/python3.10/site-packages (from pandas) (2024.1)\n",
      "Requirement already satisfied: six>=1.5 in ./venv/lib/python3.10/site-packages (from python-dateutil>=2.8.2->pandas) (1.16.0)\n",
      "\n",
      "\u001b[1m[\u001b[0m\u001b[34;49mnotice\u001b[0m\u001b[1;39;49m]\u001b[0m\u001b[39;49m A new release of pip available: \u001b[0m\u001b[31;49m22.3.1\u001b[0m\u001b[39;49m -> \u001b[0m\u001b[32;49m24.2\u001b[0m\n",
      "\u001b[1m[\u001b[0m\u001b[34;49mnotice\u001b[0m\u001b[1;39;49m]\u001b[0m\u001b[39;49m To update, run: \u001b[0m\u001b[32;49mpip install --upgrade pip\u001b[0m\n",
      "Note: you may need to restart the kernel to use updated packages.\n"
     ]
    }
   ],
   "source": [
    "# Wie besproche müssen wir Pandas zunächst installieren:\n",
    "%pip install pandas"
   ]
  },
  {
   "cell_type": "code",
   "execution_count": 2,
   "metadata": {},
   "outputs": [],
   "source": [
    "# Importierung von Pandas um auf die Funktionen zugreifen zu können\n",
    "import pandas as pd"
   ]
  },
  {
   "cell_type": "markdown",
   "metadata": {},
   "source": [
    "Wir nutzen als erste Funktion \n",
    "\n",
    "- [pd.read_csv(filepath_or_buffer=\"Deine_Datei.csv\", sep=\",\")](https://pandas.pydata.org/docs/reference/api/pandas.read_csv.html)\n",
    "\n",
    "um Daten einzulesen."
   ]
  },
  {
   "cell_type": "code",
   "execution_count": 50,
   "metadata": {},
   "outputs": [
    {
     "data": {
      "text/html": [
       "<div>\n",
       "<style scoped>\n",
       "    .dataframe tbody tr th:only-of-type {\n",
       "        vertical-align: middle;\n",
       "    }\n",
       "\n",
       "    .dataframe tbody tr th {\n",
       "        vertical-align: top;\n",
       "    }\n",
       "\n",
       "    .dataframe thead th {\n",
       "        text-align: right;\n",
       "    }\n",
       "</style>\n",
       "<table border=\"1\" class=\"dataframe\">\n",
       "  <thead>\n",
       "    <tr style=\"text-align: right;\">\n",
       "      <th></th>\n",
       "      <th>Unnamed: 0</th>\n",
       "      <th>PassengerId</th>\n",
       "      <th>Survived</th>\n",
       "      <th>Pclass</th>\n",
       "      <th>Name</th>\n",
       "      <th>Sex</th>\n",
       "      <th>Age</th>\n",
       "      <th>SibSp</th>\n",
       "      <th>Parch</th>\n",
       "      <th>Ticket</th>\n",
       "      <th>Fare</th>\n",
       "      <th>Cabin</th>\n",
       "      <th>Embarked</th>\n",
       "    </tr>\n",
       "  </thead>\n",
       "  <tbody>\n",
       "    <tr>\n",
       "      <th>0</th>\n",
       "      <td>0</td>\n",
       "      <td>1</td>\n",
       "      <td>0</td>\n",
       "      <td>3</td>\n",
       "      <td>Braund, Mr. Owen Harris</td>\n",
       "      <td>male</td>\n",
       "      <td>22.0</td>\n",
       "      <td>1</td>\n",
       "      <td>0</td>\n",
       "      <td>A/5 21171</td>\n",
       "      <td>7.2500</td>\n",
       "      <td>NaN</td>\n",
       "      <td>S</td>\n",
       "    </tr>\n",
       "    <tr>\n",
       "      <th>1</th>\n",
       "      <td>1</td>\n",
       "      <td>2</td>\n",
       "      <td>1</td>\n",
       "      <td>1</td>\n",
       "      <td>Cumings, Mrs. John Bradley (Florence Briggs Th...</td>\n",
       "      <td>female</td>\n",
       "      <td>38.0</td>\n",
       "      <td>1</td>\n",
       "      <td>0</td>\n",
       "      <td>PC 17599</td>\n",
       "      <td>71.2833</td>\n",
       "      <td>C85</td>\n",
       "      <td>C</td>\n",
       "    </tr>\n",
       "    <tr>\n",
       "      <th>2</th>\n",
       "      <td>2</td>\n",
       "      <td>3</td>\n",
       "      <td>1</td>\n",
       "      <td>3</td>\n",
       "      <td>Heikkinen, Miss. Laina</td>\n",
       "      <td>female</td>\n",
       "      <td>26.0</td>\n",
       "      <td>0</td>\n",
       "      <td>0</td>\n",
       "      <td>STON/O2. 3101282</td>\n",
       "      <td>7.9250</td>\n",
       "      <td>NaN</td>\n",
       "      <td>S</td>\n",
       "    </tr>\n",
       "    <tr>\n",
       "      <th>3</th>\n",
       "      <td>3</td>\n",
       "      <td>4</td>\n",
       "      <td>1</td>\n",
       "      <td>1</td>\n",
       "      <td>Futrelle, Mrs. Jacques Heath (Lily May Peel)</td>\n",
       "      <td>female</td>\n",
       "      <td>35.0</td>\n",
       "      <td>1</td>\n",
       "      <td>0</td>\n",
       "      <td>113803</td>\n",
       "      <td>53.1000</td>\n",
       "      <td>C123</td>\n",
       "      <td>S</td>\n",
       "    </tr>\n",
       "    <tr>\n",
       "      <th>4</th>\n",
       "      <td>4</td>\n",
       "      <td>5</td>\n",
       "      <td>0</td>\n",
       "      <td>3</td>\n",
       "      <td>Allen, Mr. William Henry</td>\n",
       "      <td>male</td>\n",
       "      <td>35.0</td>\n",
       "      <td>0</td>\n",
       "      <td>0</td>\n",
       "      <td>373450</td>\n",
       "      <td>8.0500</td>\n",
       "      <td>NaN</td>\n",
       "      <td>S</td>\n",
       "    </tr>\n",
       "  </tbody>\n",
       "</table>\n",
       "</div>"
      ],
      "text/plain": [
       "   Unnamed: 0  PassengerId  Survived  Pclass  \\\n",
       "0           0            1         0       3   \n",
       "1           1            2         1       1   \n",
       "2           2            3         1       3   \n",
       "3           3            4         1       1   \n",
       "4           4            5         0       3   \n",
       "\n",
       "                                                Name     Sex   Age  SibSp  \\\n",
       "0                            Braund, Mr. Owen Harris    male  22.0      1   \n",
       "1  Cumings, Mrs. John Bradley (Florence Briggs Th...  female  38.0      1   \n",
       "2                             Heikkinen, Miss. Laina  female  26.0      0   \n",
       "3       Futrelle, Mrs. Jacques Heath (Lily May Peel)  female  35.0      1   \n",
       "4                           Allen, Mr. William Henry    male  35.0      0   \n",
       "\n",
       "   Parch            Ticket     Fare Cabin Embarked  \n",
       "0      0         A/5 21171   7.2500   NaN        S  \n",
       "1      0          PC 17599  71.2833   C85        C  \n",
       "2      0  STON/O2. 3101282   7.9250   NaN        S  \n",
       "3      0            113803  53.1000  C123        S  \n",
       "4      0            373450   8.0500   NaN        S  "
      ]
     },
     "execution_count": 50,
     "metadata": {},
     "output_type": "execute_result"
    }
   ],
   "source": [
    "df = pd.read_csv(filepath_or_buffer=\"Data/titantic.csv\",\n",
    "                 sep=\",\")\n",
    "df.head()"
   ]
  },
  {
   "cell_type": "markdown",
   "metadata": {},
   "source": [
    "Titanic Datensatz:\n",
    "\n",
    "Beschreibung (Meta-Daten):\n",
    "- PassengerId: Unique identifier for each passenger.\n",
    "- Survived: Survival status of the passenger (0 = Not Survived, 1 = Survived).\n",
    "- Pclass: Passenger class (1 = First class, 2 = Second class, 3 = Third class).\n",
    "- Sex: Gender of the passenger.\n",
    "- Age: Age of the passenger.\n",
    "- SibSp: Number of siblings/spouses aboard the Titanic.\n",
    "- Parch: Number of parents/children aboard the Titanic.\n",
    "- Fare: Fare paid by the passenger.\n",
    "- Embarked: Port of embarkation (C = Cherbourg, Q = Queenstown, S = Southampton)."
   ]
  },
  {
   "cell_type": "markdown",
   "metadata": {},
   "source": [
    "Bei der Importierung der Daten haben wir nun ausversehen eine Spalte hinzugefügt die wir nicht brauchen namenes `\"Unnamed: 0\"`.\n",
    "Um eine Spalte aus einem DataFrame zu entfernen, können wir die Funktion \n",
    "- [`df.drop()`](https://pandas.pydata.org/docs/reference/api/pandas.DataFrame.drop.html) wie folgt verwenden:\n",
    "\n",
    "- `df.drop(columns=[\"Spalte\"], inplace=True)` entfernt die Spalte dauerhaft aus dem DataFrame, da die Änderung direkt im ursprünglichen DataFrame durchgeführt wird.\n",
    "\n",
    "- `df = df.drop(columns=[\"Spalte\"])` wird verwendet, wenn der Parameter `inplace` nicht angegeben ist. In diesem Fall muss das Ergebnis entweder in der gleichen oder einer neuen Variablen gespeichert werden. Andernfalls wird die Änderung nur temporär vorgenommen und hat keinen Einfluss auf den DataFrame im weiteren Verlauf des Codes."
   ]
  },
  {
   "cell_type": "code",
   "execution_count": 52,
   "metadata": {},
   "outputs": [],
   "source": [
    "### Aufgabe \n",
    "df.drop(columns=[\"Unnamed: 0\"], inplace = True)"
   ]
  },
  {
   "cell_type": "code",
   "execution_count": 53,
   "metadata": {},
   "outputs": [
    {
     "data": {
      "text/html": [
       "<div>\n",
       "<style scoped>\n",
       "    .dataframe tbody tr th:only-of-type {\n",
       "        vertical-align: middle;\n",
       "    }\n",
       "\n",
       "    .dataframe tbody tr th {\n",
       "        vertical-align: top;\n",
       "    }\n",
       "\n",
       "    .dataframe thead th {\n",
       "        text-align: right;\n",
       "    }\n",
       "</style>\n",
       "<table border=\"1\" class=\"dataframe\">\n",
       "  <thead>\n",
       "    <tr style=\"text-align: right;\">\n",
       "      <th></th>\n",
       "      <th>PassengerId</th>\n",
       "      <th>Survived</th>\n",
       "      <th>Pclass</th>\n",
       "      <th>Name</th>\n",
       "      <th>Sex</th>\n",
       "      <th>Age</th>\n",
       "      <th>SibSp</th>\n",
       "      <th>Parch</th>\n",
       "      <th>Ticket</th>\n",
       "      <th>Fare</th>\n",
       "      <th>Cabin</th>\n",
       "      <th>Embarked</th>\n",
       "    </tr>\n",
       "  </thead>\n",
       "  <tbody>\n",
       "    <tr>\n",
       "      <th>0</th>\n",
       "      <td>1</td>\n",
       "      <td>0</td>\n",
       "      <td>3</td>\n",
       "      <td>Braund, Mr. Owen Harris</td>\n",
       "      <td>male</td>\n",
       "      <td>22.0</td>\n",
       "      <td>1</td>\n",
       "      <td>0</td>\n",
       "      <td>A/5 21171</td>\n",
       "      <td>7.2500</td>\n",
       "      <td>NaN</td>\n",
       "      <td>S</td>\n",
       "    </tr>\n",
       "    <tr>\n",
       "      <th>1</th>\n",
       "      <td>2</td>\n",
       "      <td>1</td>\n",
       "      <td>1</td>\n",
       "      <td>Cumings, Mrs. John Bradley (Florence Briggs Th...</td>\n",
       "      <td>female</td>\n",
       "      <td>38.0</td>\n",
       "      <td>1</td>\n",
       "      <td>0</td>\n",
       "      <td>PC 17599</td>\n",
       "      <td>71.2833</td>\n",
       "      <td>C85</td>\n",
       "      <td>C</td>\n",
       "    </tr>\n",
       "    <tr>\n",
       "      <th>2</th>\n",
       "      <td>3</td>\n",
       "      <td>1</td>\n",
       "      <td>3</td>\n",
       "      <td>Heikkinen, Miss. Laina</td>\n",
       "      <td>female</td>\n",
       "      <td>26.0</td>\n",
       "      <td>0</td>\n",
       "      <td>0</td>\n",
       "      <td>STON/O2. 3101282</td>\n",
       "      <td>7.9250</td>\n",
       "      <td>NaN</td>\n",
       "      <td>S</td>\n",
       "    </tr>\n",
       "    <tr>\n",
       "      <th>3</th>\n",
       "      <td>4</td>\n",
       "      <td>1</td>\n",
       "      <td>1</td>\n",
       "      <td>Futrelle, Mrs. Jacques Heath (Lily May Peel)</td>\n",
       "      <td>female</td>\n",
       "      <td>35.0</td>\n",
       "      <td>1</td>\n",
       "      <td>0</td>\n",
       "      <td>113803</td>\n",
       "      <td>53.1000</td>\n",
       "      <td>C123</td>\n",
       "      <td>S</td>\n",
       "    </tr>\n",
       "    <tr>\n",
       "      <th>4</th>\n",
       "      <td>5</td>\n",
       "      <td>0</td>\n",
       "      <td>3</td>\n",
       "      <td>Allen, Mr. William Henry</td>\n",
       "      <td>male</td>\n",
       "      <td>35.0</td>\n",
       "      <td>0</td>\n",
       "      <td>0</td>\n",
       "      <td>373450</td>\n",
       "      <td>8.0500</td>\n",
       "      <td>NaN</td>\n",
       "      <td>S</td>\n",
       "    </tr>\n",
       "    <tr>\n",
       "      <th>...</th>\n",
       "      <td>...</td>\n",
       "      <td>...</td>\n",
       "      <td>...</td>\n",
       "      <td>...</td>\n",
       "      <td>...</td>\n",
       "      <td>...</td>\n",
       "      <td>...</td>\n",
       "      <td>...</td>\n",
       "      <td>...</td>\n",
       "      <td>...</td>\n",
       "      <td>...</td>\n",
       "      <td>...</td>\n",
       "    </tr>\n",
       "    <tr>\n",
       "      <th>886</th>\n",
       "      <td>887</td>\n",
       "      <td>0</td>\n",
       "      <td>2</td>\n",
       "      <td>Montvila, Rev. Juozas</td>\n",
       "      <td>male</td>\n",
       "      <td>27.0</td>\n",
       "      <td>0</td>\n",
       "      <td>0</td>\n",
       "      <td>211536</td>\n",
       "      <td>13.0000</td>\n",
       "      <td>NaN</td>\n",
       "      <td>S</td>\n",
       "    </tr>\n",
       "    <tr>\n",
       "      <th>887</th>\n",
       "      <td>888</td>\n",
       "      <td>1</td>\n",
       "      <td>1</td>\n",
       "      <td>Graham, Miss. Margaret Edith</td>\n",
       "      <td>female</td>\n",
       "      <td>19.0</td>\n",
       "      <td>0</td>\n",
       "      <td>0</td>\n",
       "      <td>112053</td>\n",
       "      <td>30.0000</td>\n",
       "      <td>B42</td>\n",
       "      <td>S</td>\n",
       "    </tr>\n",
       "    <tr>\n",
       "      <th>888</th>\n",
       "      <td>889</td>\n",
       "      <td>0</td>\n",
       "      <td>3</td>\n",
       "      <td>Johnston, Miss. Catherine Helen \"Carrie\"</td>\n",
       "      <td>female</td>\n",
       "      <td>NaN</td>\n",
       "      <td>1</td>\n",
       "      <td>2</td>\n",
       "      <td>W./C. 6607</td>\n",
       "      <td>23.4500</td>\n",
       "      <td>NaN</td>\n",
       "      <td>S</td>\n",
       "    </tr>\n",
       "    <tr>\n",
       "      <th>889</th>\n",
       "      <td>890</td>\n",
       "      <td>1</td>\n",
       "      <td>1</td>\n",
       "      <td>Behr, Mr. Karl Howell</td>\n",
       "      <td>male</td>\n",
       "      <td>26.0</td>\n",
       "      <td>0</td>\n",
       "      <td>0</td>\n",
       "      <td>111369</td>\n",
       "      <td>30.0000</td>\n",
       "      <td>C148</td>\n",
       "      <td>C</td>\n",
       "    </tr>\n",
       "    <tr>\n",
       "      <th>890</th>\n",
       "      <td>891</td>\n",
       "      <td>0</td>\n",
       "      <td>3</td>\n",
       "      <td>Dooley, Mr. Patrick</td>\n",
       "      <td>male</td>\n",
       "      <td>32.0</td>\n",
       "      <td>0</td>\n",
       "      <td>0</td>\n",
       "      <td>370376</td>\n",
       "      <td>7.7500</td>\n",
       "      <td>NaN</td>\n",
       "      <td>Q</td>\n",
       "    </tr>\n",
       "  </tbody>\n",
       "</table>\n",
       "<p>891 rows × 12 columns</p>\n",
       "</div>"
      ],
      "text/plain": [
       "     PassengerId  Survived  Pclass  \\\n",
       "0              1         0       3   \n",
       "1              2         1       1   \n",
       "2              3         1       3   \n",
       "3              4         1       1   \n",
       "4              5         0       3   \n",
       "..           ...       ...     ...   \n",
       "886          887         0       2   \n",
       "887          888         1       1   \n",
       "888          889         0       3   \n",
       "889          890         1       1   \n",
       "890          891         0       3   \n",
       "\n",
       "                                                  Name     Sex   Age  SibSp  \\\n",
       "0                              Braund, Mr. Owen Harris    male  22.0      1   \n",
       "1    Cumings, Mrs. John Bradley (Florence Briggs Th...  female  38.0      1   \n",
       "2                               Heikkinen, Miss. Laina  female  26.0      0   \n",
       "3         Futrelle, Mrs. Jacques Heath (Lily May Peel)  female  35.0      1   \n",
       "4                             Allen, Mr. William Henry    male  35.0      0   \n",
       "..                                                 ...     ...   ...    ...   \n",
       "886                              Montvila, Rev. Juozas    male  27.0      0   \n",
       "887                       Graham, Miss. Margaret Edith  female  19.0      0   \n",
       "888           Johnston, Miss. Catherine Helen \"Carrie\"  female   NaN      1   \n",
       "889                              Behr, Mr. Karl Howell    male  26.0      0   \n",
       "890                                Dooley, Mr. Patrick    male  32.0      0   \n",
       "\n",
       "     Parch            Ticket     Fare Cabin Embarked  \n",
       "0        0         A/5 21171   7.2500   NaN        S  \n",
       "1        0          PC 17599  71.2833   C85        C  \n",
       "2        0  STON/O2. 3101282   7.9250   NaN        S  \n",
       "3        0            113803  53.1000  C123        S  \n",
       "4        0            373450   8.0500   NaN        S  \n",
       "..     ...               ...      ...   ...      ...  \n",
       "886      0            211536  13.0000   NaN        S  \n",
       "887      0            112053  30.0000   B42        S  \n",
       "888      2        W./C. 6607  23.4500   NaN        S  \n",
       "889      0            111369  30.0000  C148        C  \n",
       "890      0            370376   7.7500   NaN        Q  \n",
       "\n",
       "[891 rows x 12 columns]"
      ]
     },
     "execution_count": 53,
     "metadata": {},
     "output_type": "execute_result"
    }
   ],
   "source": [
    "# überprüfe ob die Spalte wirklich entfernt wurde\n",
    "df"
   ]
  },
  {
   "cell_type": "markdown",
   "metadata": {},
   "source": [
    "### Umgang mit NaN-Werten (Not a Number):\n",
    "\n",
    "NaN Werte sind Daten die nicht richtig erhoben worden oder auch fehler enthalten\n",
    "\n",
    "**Fehlende Werte:**\n",
    "Der Umgang mit fehlenden Werten ist ein entscheidender Schritt bei der Datenvorbereitung und sollte für jede Spalte individuell betrachtet werden.\n",
    "\n",
    "Die zentrale Frage sollte immer lauten: **Kann ich die fehlenden Werte sinnvoll ersetzen?**\n",
    "\n",
    "***Beispiel: Spalte `\"Age\"` (Alter) ?***\n"
   ]
  },
  {
   "cell_type": "code",
   "execution_count": 56,
   "metadata": {},
   "outputs": [
    {
     "data": {
      "text/plain": [
       "PassengerId      0\n",
       "Survived         0\n",
       "Pclass           0\n",
       "Name             0\n",
       "Sex              0\n",
       "Age            177\n",
       "SibSp            0\n",
       "Parch            0\n",
       "Ticket           0\n",
       "Fare             0\n",
       "Cabin          687\n",
       "Embarked         2\n",
       "dtype: int64"
      ]
     },
     "execution_count": 56,
     "metadata": {},
     "output_type": "execute_result"
    }
   ],
   "source": [
    "df.isna().sum()"
   ]
  },
  {
   "cell_type": "markdown",
   "metadata": {},
   "source": [
    "1. Lösche die Zeilen mit NaN values. ACHTUNG hier werden aus deinem Dataframe ALLE NaN values entfernt\n"
   ]
  },
  {
   "cell_type": "code",
   "execution_count": null,
   "metadata": {},
   "outputs": [],
   "source": [
    "df = df.dropna()"
   ]
  },
  {
   "cell_type": "markdown",
   "metadata": {},
   "source": [
    "2. Um alle Zeilen mit fehlenden Werten (NaN) in der 'Age'-Spalte zu löschen, kannst du den folgenden Befehl verwenden:\n",
    "\n",
    "    **Hinweis**: Dieser Schritt entfernt nur die Zeilen, die NaN-Werte in der angegebenen Spalte enthalten. \n",
    "Alle anderen NaN-Werte in anderen Spalten bleiben unverändert."
   ]
  },
  {
   "cell_type": "code",
   "execution_count": null,
   "metadata": {},
   "outputs": [],
   "source": [
    "df = df.dropna(subset=['Age'])"
   ]
  },
  {
   "cell_type": "markdown",
   "metadata": {},
   "source": [
    "3. NaN-Werte mit dem Durchschnitt der jeweiligen Spalte füllen:\n",
    "\n",
    "Um die NaN-Werte in der `'Age'`-Spalte durch den Durchschnitt dieser Spalte zu ersetzen, verwende den folgenden Befehl:"
   ]
  },
  {
   "cell_type": "code",
   "execution_count": null,
   "metadata": {},
   "outputs": [],
   "source": [
    "df = df.fillna()"
   ]
  },
  {
   "cell_type": "code",
   "execution_count": null,
   "metadata": {},
   "outputs": [],
   "source": [
    "df[\"Age\"]= df[\"Age\"].fillna(df[\"Age\"].mean()) # nur eine Spalte werden die Daten ersetzt"
   ]
  },
  {
   "cell_type": "code",
   "execution_count": null,
   "metadata": {},
   "outputs": [],
   "source": [
    "df = df.fillna(df.mean()) #<- mean(), mode(), median() / Alle Spalten werden ersetzt oder Brechnungen die eine INT oder FLOAT wiedergeben"
   ]
  },
  {
   "cell_type": "markdown",
   "metadata": {},
   "source": [
    "`df.info()` gibt uns eine gesamte Übersicht über die Datentypen für jede Spalte an."
   ]
  },
  {
   "cell_type": "code",
   "execution_count": null,
   "metadata": {},
   "outputs": [],
   "source": [
    "df.info()"
   ]
  },
  {
   "cell_type": "markdown",
   "metadata": {},
   "source": [
    "Wir sehen das folgende Spalten den Datentypen darstellen als `objects`:\n",
    "- Name\n",
    "- Sex\n",
    "- Ticket\n",
    "- Cabin\n",
    "- Embarked\n",
    "\n",
    "Betrachte die Spalten und entscheide welche Datentypen du verwendets."
   ]
  },
  {
   "cell_type": "code",
   "execution_count": null,
   "metadata": {},
   "outputs": [],
   "source": [
    "df.head()"
   ]
  },
  {
   "cell_type": "code",
   "execution_count": 8,
   "metadata": {},
   "outputs": [],
   "source": [
    "df[\"Name\"] = df[\"Name\"].astype(\"string\")\n",
    "df[\"Sex\"] = df[\"Sex\"].astype(\"category\")\n",
    "\n",
    "# mache weiter und ändere die Datentypen für Ticket, Cabin und Embarked\n",
    "\n",
    "# - Ticket\n",
    "df[\"Ticket\"] = df[\"Ticket\"].astype(\"\")\n",
    "\n",
    "# - Cabin \n",
    "df[] = df[].astype()\n",
    "\n",
    "# - Embarked\n",
    "\n"
   ]
  },
  {
   "cell_type": "markdown",
   "metadata": {},
   "source": [
    "Überprüfe ob die Datentypen korrekt geändert wurden:"
   ]
  },
  {
   "cell_type": "code",
   "execution_count": null,
   "metadata": {},
   "outputs": [],
   "source": [
    "df.info()"
   ]
  },
  {
   "cell_type": "code",
   "execution_count": null,
   "metadata": {},
   "outputs": [],
   "source": []
  },
  {
   "cell_type": "code",
   "execution_count": null,
   "metadata": {},
   "outputs": [],
   "source": [
    "df.describe().round(2)"
   ]
  },
  {
   "cell_type": "markdown",
   "metadata": {},
   "source": [
    "### Datenfilterung:\n",
    "---\n",
    "Es gibt zahlreiche Methoden, um Daten zu filtern. Eine dieser Möglichkeiten werden wir nun genauer betrachten und praktisch anwenden."
   ]
  },
  {
   "cell_type": "markdown",
   "metadata": {},
   "source": [
    "### Daten Filterun mit einer Bedigung"
   ]
  },
  {
   "cell_type": "code",
   "execution_count": null,
   "metadata": {},
   "outputs": [],
   "source": [
    "# Der folgende Datensatz enthält nur Daten über die überlebende\n",
    "Survived_df = df[df[\"Survived\"] == 1]\n",
    "\n",
    "Survived_df.head()"
   ]
  },
  {
   "cell_type": "code",
   "execution_count": null,
   "metadata": {},
   "outputs": [],
   "source": [
    "# Der folgende Datensatz enthält nur Daten über die verstorbenen\n",
    "Perished_df = df[df[\"Survived\"] == 0]\n",
    "\n",
    "\n",
    "\n",
    "Perished_df.head()"
   ]
  },
  {
   "cell_type": "markdown",
   "metadata": {},
   "source": [
    "Aufgabe: Erstelle einen DataFrame, der nur die Passagiere enthält, die in der 1. Klasse gereist sind. Dafür musst du zunächst herausfinden, wie viele eindeutige (*unique* values) Werte die entsprechende Spalte hat.Um richtig filtern zukönnen. \n",
    "\n",
    "\n",
    "mit dem Code:\n",
    "`df[\"Pclass\"].unqiue()`\n",
    "Dieser Code gibt dir eine Übersicht der verschiedenen Klassen, indem jeder Wert nur einmal angezeigt wird. Dies hilft dir, die Struktur der Daten besser zu verstehen, bevor du den Filter auf die 1. Klasse anwendest.ommen"
   ]
  },
  {
   "cell_type": "code",
   "execution_count": null,
   "metadata": {},
   "outputs": [],
   "source": [
    "# Schreibe ein Code wie du festellen kannst wie viele unique Values es in der Spalte \"Pclass\" gibt:\n",
    "df[\"Pclass\"].unique()"
   ]
  },
  {
   "cell_type": "markdown",
   "metadata": {},
   "source": [
    "Nun kannst du nach der 1. Klasse filtern da du die `unique values` kennst."
   ]
  },
  {
   "cell_type": "code",
   "execution_count": null,
   "metadata": {},
   "outputs": [],
   "source": [
    "firstClass_df = df[df[\"Pclass\"] == ]"
   ]
  },
  {
   "cell_type": "markdown",
   "metadata": {},
   "source": [
    "Ein dataframe nur mit den Passagieren die die `2. Klasse` gebucht haben\n"
   ]
  },
  {
   "cell_type": "code",
   "execution_count": null,
   "metadata": {},
   "outputs": [],
   "source": [
    "secondClass_df = df[df[\"\"] == ]"
   ]
  },
  {
   "cell_type": "markdown",
   "metadata": {},
   "source": [
    "Ein dataframe nur mit den Passagieren die die `3. Klasse` gebucht haben\n"
   ]
  },
  {
   "cell_type": "code",
   "execution_count": null,
   "metadata": {},
   "outputs": [],
   "source": [
    "thridClass_df = "
   ]
  },
  {
   "cell_type": "markdown",
   "metadata": {},
   "source": [
    "### Daten Filterun mit mehreren Bedigung\n",
    "Das Filtern von Daten kann auch auf Basis von zwei oder mehr Bedingungen erfolgen. Im folgenden Beispiel filtern wir die Daten anhand von zwei Bedingungen und speichern das Ergebnis in einer neuen Variablen."
   ]
  },
  {
   "cell_type": "code",
   "execution_count": null,
   "metadata": {},
   "outputs": [],
   "source": [
    "maleSurvived_df = df[(df[\"Sex\"] == \"male\") & \n",
    "                    (df[\"Survived\"] == 1)].round(2)\n",
    "\n",
    "\n",
    "maleSurvived_df.head()"
   ]
  },
  {
   "cell_type": "markdown",
   "metadata": {},
   "source": [
    "Aufgabe: Filtere die Daten anhand der folgenden **zwei Bedingungen**:\n",
    "\n",
    "- Passagiere, die 25 Jahre oder älter sind,\n",
    "- und Passagiere, die in der 1. Klasse gebucht haben.\n",
    "Speichere das Ergebnis der gefilterten Daten in einer neuen Variablen."
   ]
  },
  {
   "cell_type": "code",
   "execution_count": null,
   "metadata": {},
   "outputs": [],
   "source": [
    "df_filtered = df[(df[\"Age\"] >= ) & \n",
    "                    (df[\"Pclass\"] == )].round(2)\n",
    "\n",
    "df_filtered.describe()"
   ]
  },
  {
   "cell_type": "markdown",
   "metadata": {},
   "source": [
    "Aufgabe: Filtere die Daten nach den folgenden Bedingungen:\n",
    "\n",
    "- Passagiere, die in der 3. Klasse gebucht haben,\n",
    "- und Passagiere, die das Unglück überlebt haben.\n",
    "Speichere das Ergebnis der gefilterten Daten in einer neuen Variablen."
   ]
  },
  {
   "cell_type": "code",
   "execution_count": null,
   "metadata": {},
   "outputs": [],
   "source": []
  },
  {
   "cell_type": "code",
   "execution_count": null,
   "metadata": {},
   "outputs": [],
   "source": []
  },
  {
   "cell_type": "markdown",
   "metadata": {},
   "source": [
    "Visualisierung mit *Plotly*:\n",
    "---\n",
    "Für die Visualisierung nutzen wir Plotly da dies die Grundlage ist für die Integration in Streamlit später.\n"
   ]
  },
  {
   "cell_type": "code",
   "execution_count": null,
   "metadata": {},
   "outputs": [],
   "source": [
    "%pip install plotly==5.24.1"
   ]
  },
  {
   "cell_type": "markdown",
   "metadata": {},
   "source": [
    "\n",
    "Folgende Funktion können wir zur Visualisierung nutzen\n",
    "\n",
    "- [`px.box()`](https://plotly.com/python/box-plots/)\n",
    "- [`px.pie()`](https://plotly.com/python/pie-charts/) \n",
    "- [`px.bar()`](https://plotly.com/python/bar-charts/)\n",
    "- [`px.histogram()`](https://plotly.com/python/histograms/)\n",
    "- [`px.violin()`](https://plotly.com/python/violin/)\n",
    "\n",
    "und viele mehr findest du auf der offizielen Seite von Plotly.\n",
    "\n",
    "\n",
    "weitere Visualisierungen findest du unter: https://plotly.com/python/\n",
    "\n",
    "---"
   ]
  },
  {
   "cell_type": "code",
   "execution_count": 23,
   "metadata": {},
   "outputs": [],
   "source": [
    "import plotly.express as px"
   ]
  },
  {
   "cell_type": "markdown",
   "metadata": {},
   "source": [
    "Lade die Folgende Datei herunter in Ilias in den Ordner Data/World_Data_Bank.csv\n",
    "\n",
    "- Nutze die Funktion `pd.read_csv()` um die Datei einzulesen und speicher die ab als `df_wb`.\n",
    "\n",
    "*Stell sicher das du im richtigen Directory bist*"
   ]
  },
  {
   "cell_type": "code",
   "execution_count": 7,
   "metadata": {},
   "outputs": [
    {
     "data": {
      "text/html": [
       "<div>\n",
       "<style scoped>\n",
       "    .dataframe tbody tr th:only-of-type {\n",
       "        vertical-align: middle;\n",
       "    }\n",
       "\n",
       "    .dataframe tbody tr th {\n",
       "        vertical-align: top;\n",
       "    }\n",
       "\n",
       "    .dataframe thead th {\n",
       "        text-align: right;\n",
       "    }\n",
       "</style>\n",
       "<table border=\"1\" class=\"dataframe\">\n",
       "  <thead>\n",
       "    <tr style=\"text-align: right;\">\n",
       "      <th></th>\n",
       "      <th>Country</th>\n",
       "      <th>Year</th>\n",
       "      <th>FDI as % of GDP</th>\n",
       "      <th>Inflation Rate (%)</th>\n",
       "      <th>GDP per Capita (constant 2015 $)</th>\n",
       "      <th>Unemployment Rate (%)</th>\n",
       "    </tr>\n",
       "  </thead>\n",
       "  <tbody>\n",
       "    <tr>\n",
       "      <th>0</th>\n",
       "      <td>United States</td>\n",
       "      <td>2020</td>\n",
       "      <td>0.642810</td>\n",
       "      <td>1.233584</td>\n",
       "      <td>59394.778327</td>\n",
       "      <td>9.971</td>\n",
       "    </tr>\n",
       "    <tr>\n",
       "      <th>1</th>\n",
       "      <td>United States</td>\n",
       "      <td>2019</td>\n",
       "      <td>1.468232</td>\n",
       "      <td>1.812210</td>\n",
       "      <td>61330.645977</td>\n",
       "      <td>4.854</td>\n",
       "    </tr>\n",
       "    <tr>\n",
       "      <th>2</th>\n",
       "      <td>United States</td>\n",
       "      <td>2018</td>\n",
       "      <td>1.039454</td>\n",
       "      <td>2.442583</td>\n",
       "      <td>60127.210278</td>\n",
       "      <td>5.156</td>\n",
       "    </tr>\n",
       "    <tr>\n",
       "      <th>3</th>\n",
       "      <td>United States</td>\n",
       "      <td>2017</td>\n",
       "      <td>1.941776</td>\n",
       "      <td>2.130110</td>\n",
       "      <td>58703.144078</td>\n",
       "      <td>5.791</td>\n",
       "    </tr>\n",
       "    <tr>\n",
       "      <th>4</th>\n",
       "      <td>United States</td>\n",
       "      <td>2016</td>\n",
       "      <td>2.522681</td>\n",
       "      <td>1.261583</td>\n",
       "      <td>57658.670883</td>\n",
       "      <td>6.524</td>\n",
       "    </tr>\n",
       "  </tbody>\n",
       "</table>\n",
       "</div>"
      ],
      "text/plain": [
       "         Country  Year  FDI as % of GDP  Inflation Rate (%)  \\\n",
       "0  United States  2020         0.642810            1.233584   \n",
       "1  United States  2019         1.468232            1.812210   \n",
       "2  United States  2018         1.039454            2.442583   \n",
       "3  United States  2017         1.941776            2.130110   \n",
       "4  United States  2016         2.522681            1.261583   \n",
       "\n",
       "   GDP per Capita (constant 2015 $)  Unemployment Rate (%)  \n",
       "0                      59394.778327                  9.971  \n",
       "1                      61330.645977                  4.854  \n",
       "2                      60127.210278                  5.156  \n",
       "3                      58703.144078                  5.791  \n",
       "4                      57658.670883                  6.524  "
      ]
     },
     "execution_count": 7,
     "metadata": {},
     "output_type": "execute_result"
    }
   ],
   "source": [
    "# Daten einlesen\n",
    "\n",
    "df_wb = pd.read_csv(filepath_or_buffer=\"Data/World_Data_Bank.csv\")\n",
    "df_wb.head()"
   ]
  },
  {
   "cell_type": "markdown",
   "metadata": {},
   "source": [
    "Stell sicher das du keine NaN Werte hast:"
   ]
  },
  {
   "cell_type": "code",
   "execution_count": 9,
   "metadata": {},
   "outputs": [
    {
     "data": {
      "text/plain": [
       "Country                             0\n",
       "Year                                0\n",
       "FDI as % of GDP                     0\n",
       "Inflation Rate (%)                  0\n",
       "GDP per Capita (constant 2015 $)    0\n",
       "Unemployment Rate (%)               9\n",
       "dtype: int64"
      ]
     },
     "execution_count": 9,
     "metadata": {},
     "output_type": "execute_result"
    }
   ],
   "source": [
    "df_wb.isna().sum()"
   ]
  },
  {
   "cell_type": "markdown",
   "metadata": {},
   "source": [
    "Ersetzte die `NaN` werte nutze dafür gerne den Leitfaden oder den Code von oben"
   ]
  },
  {
   "cell_type": "code",
   "execution_count": null,
   "metadata": {},
   "outputs": [],
   "source": []
  },
  {
   "cell_type": "markdown",
   "metadata": {},
   "source": [
    "Überprüfe ob die Datentypen richtig formatiert sind:"
   ]
  },
  {
   "cell_type": "code",
   "execution_count": 11,
   "metadata": {},
   "outputs": [
    {
     "name": "stdout",
     "output_type": "stream",
     "text": [
      "<class 'pandas.core.frame.DataFrame'>\n",
      "RangeIndex: 93 entries, 0 to 92\n",
      "Data columns (total 6 columns):\n",
      " #   Column                            Non-Null Count  Dtype  \n",
      "---  ------                            --------------  -----  \n",
      " 0   Country                           93 non-null     object \n",
      " 1   Year                              93 non-null     int64  \n",
      " 2   FDI as % of GDP                   93 non-null     float64\n",
      " 3   Inflation Rate (%)                93 non-null     float64\n",
      " 4   GDP per Capita (constant 2015 $)  93 non-null     float64\n",
      " 5   Unemployment Rate (%)             84 non-null     float64\n",
      "dtypes: float64(4), int64(1), object(1)\n",
      "memory usage: 4.5+ KB\n"
     ]
    }
   ],
   "source": [
    "df_wb.info()"
   ]
  },
  {
   "cell_type": "code",
   "execution_count": null,
   "metadata": {},
   "outputs": [],
   "source": [
    "# Falls nötig ändere die Datentypen\n",
    "\n"
   ]
  },
  {
   "cell_type": "markdown",
   "metadata": {},
   "source": [
    "### Erstellung eines Boxplots\n",
    "`px.box()`\n",
    "- Parameter: \n",
    "\n",
    "    - `data_frame=df`aus welchen Dataframe die Daten visualisiert werden sollen\n",
    "    - `y=\"Age\"` die Spalte\n",
    "    - `title=\"Age Distribution of Passengers\"` Ist die überschrift des Boxplots.\n",
    "\n",
    "`fig.update_layout`\n",
    "- Parameter:\n",
    "    - width (breite) als *`int`*\n",
    "    - height (höhe) als *`int`* \n",
    "\n",
    "**Dieses Muster werden sich immer wieder holen**\n"
   ]
  },
  {
   "cell_type": "code",
   "execution_count": null,
   "metadata": {},
   "outputs": [],
   "source": [
    "fig = px.box(data_frame=df, y=\"Age\", title=\"Age Distribution of Passengers\")\n",
    "fig.update_layout(width=800, height=600)  # Setze die Breite und Höhe des Graphen\n",
    "fig.show()\n"
   ]
  },
  {
   "cell_type": "markdown",
   "metadata": {},
   "source": [
    "### Erstellung eines Histogram\n",
    "\n",
    "Indemfall nutzen wir den `px.histogram()` um die Verteilung der Geschlechter zu visualisieren\n",
    "Die Parameter bleiben exakt die gleichen jedoch die Visualsierung ändert sich."
   ]
  },
  {
   "cell_type": "code",
   "execution_count": null,
   "metadata": {},
   "outputs": [],
   "source": [
    "fig = px.histogram(data_frame=df, x=\"Sex\", title=\"Male or Female\")\n",
    "fig.update_layout(width=800, height=600)\n",
    "fig.show()"
   ]
  },
  {
   "cell_type": "markdown",
   "metadata": {},
   "source": [
    "Eine weiter mögliche ist eine Lücke `(bargap)` zwischen den Balken zu setzen indem wir \n",
    "- `fig.update_layout(bargap=0.2)` hinzufügen.\n",
    "\n",
    "Der Parameter ist ein Wert zwischen 0 und 1, wobei 0 bedeutet, dass die Balken aneinander kleben und 1 bedeutet, dass die Balken so weit wie möglich voneinander entfernt sind."
   ]
  },
  {
   "cell_type": "code",
   "execution_count": null,
   "metadata": {},
   "outputs": [],
   "source": [
    "fig = px.histogram(data_frame=df, x=\"Survived\", title=\"How many passengers survived?\")\n",
    "fig.update_layout(width=800, height=600, bargap=0.2,)  # Setzt eine Lücke von 20% zwischen den Balken\n",
    "fig.show()"
   ]
  },
  {
   "cell_type": "markdown",
   "metadata": {},
   "source": [
    "Kreisdiagramm:\n",
    "---\n",
    "- `data_frame=Survived_df`: Der Datensatz, der für das Diagramm verwendet wird.\n",
    "- `values='Survived'`: Die Spalte, die die Werte für die Segmentgrößen angibt.\n",
    "- `names='Pclass'`: Die Spalte, die die Kategorien (Passagierklassen) für die Segmente definiert.\n",
    "- `title='Survival rate of Pclass'`: Der Titel des Diagramms.\n",
    "- `hole=0.3`: Macht aus dem Kuchendiagramm ein Donut-Diagramm, indem es die Mitte zu 30 % leer lässt."
   ]
  },
  {
   "cell_type": "code",
   "execution_count": null,
   "metadata": {},
   "outputs": [],
   "source": [
    "fig = px.pie(data_frame=df, \n",
    "                values='Survived',\n",
    "                names='Pclass',\n",
    "                title='Survival rate of Pclass',\n",
    "                hole=0.3)\n",
    "fig.update_layout(width=800, height=600)  \n",
    "fig.show()"
   ]
  },
  {
   "cell_type": "markdown",
   "metadata": {},
   "source": [
    "1. `fig = px.pie(...)`: \n",
    "    - `hole=0.3`: Erstellt ein Donut-Diagramm  \n",
    "    - `names=\"Pclass\"`:der Passagierklasse (Pclass) als Kategorie und dem Titel \"Verteilung der Passagiere nach Klasse\".\n",
    "\n",
    "2. `fig.update_traces(pull=[0.2, 0.1, 0.4])`: \n",
    "    - `pull`:Hebt die Segmente der Klassen 1 und 3 hervor, indem sie aus dem Donut herausgezogen werden. Der Wert in pull bestimmt, wie stark jedes Segment verschoben wird (Klasse 1 um 0.2, Klasse 3 um 0.4).\n",
    "\n",
    "3. `fig.update_layout()`: \n",
    "    - Parameter:\n",
    "        - `width`: (breite) als *`int`*\n",
    "        - `height`: (höhe) als *`int`* "
   ]
  },
  {
   "cell_type": "code",
   "execution_count": null,
   "metadata": {},
   "outputs": [],
   "source": [
    "fig = px.pie(df, names=\"Pclass\",\n",
    "              title=\"Verteilung der Passagiere nach Klasse\",\n",
    "             hole=0.3)\n",
    "  \n",
    "fig.update_traces(pull=[0.2, 0.1, 0.4])  # Hebt die Klassen 1 und 3 hervor\n",
    "fig.update_layout(width=600, height=600, title_font_size=22, font=dict(size=16))\n",
    "fig.show()\n"
   ]
  },
  {
   "cell_type": "markdown",
   "metadata": {},
   "source": [
    "`fig = px.bar()`\n",
    "- `y=\"Pclass\"`: Y-Achse zeigt die Passagierklasse.\n",
    "- `x=\"Survived\"`: X-Achse zeigt den Überlebensstatus.\n",
    "- `color=\"Embarked\"`: Balken werden nach Einschiffungshäfen farblich markiert.\n",
    "- `barmode=\"group\"`: Balken sind gruppiert, nicht gestapelt.\n",
    "- `facet_col=\"Sex\"`: Separate Diagramme für Männer und Frauen (Facetten-Spalten).\n",
    "- `category_orders`: Legt die Reihenfolge der Kategorien fest (Pclass, Embarked, Sex).\n",
    "\n",
    "`fig.update_traces()`: \n",
    "- `marker_line_width=0`:Entfernt die Linien um die Balken."
   ]
  },
  {
   "cell_type": "code",
   "execution_count": null,
   "metadata": {},
   "outputs": [],
   "source": [
    "pclass_feature = df.Pclass.value_counts()\n",
    "pclass_feature\n",
    "fig = px.bar(x=pclass_feature.index,\n",
    "             y=pclass_feature.values,\n",
    "               text = pclass_feature.index)\n",
    "fig.update_layout(title=\"Verteilung der Passagiere nach Klasse\",\n",
    "                  xaxis_title=\"Klasse\",\n",
    "                  yaxis_title=\"Anzahl der Passagiere\")\n",
    "fig.show()"
   ]
  },
  {
   "cell_type": "code",
   "execution_count": null,
   "metadata": {},
   "outputs": [],
   "source": [
    "fig = px.histogram(\n",
    "    df,\n",
    "    x='Survived',\n",
    "    color='Pclass',\n",
    "    barmode='group',\n",
    "    title=\"Survival Count Plot\",\n",
    "    text_auto=True  # This parameter automatically adds text labels to the bars\n",
    ")\n",
    "\n",
    "# Update layout to improve appearance\n",
    "fig.update_layout(\n",
    "    xaxis_title='Survived',\n",
    "    yaxis_title='Count',\n",
    "    legend_title='Passenger Class',\n",
    "    font=dict(size=14)  # Optionally adjust the font size of the text labels\n",
    ")\n"
   ]
  },
  {
   "cell_type": "code",
   "execution_count": null,
   "metadata": {},
   "outputs": [],
   "source": [
    "fig = px.pie(data_frame=df, values='Survived',\n",
    "                names='Pclass',\n",
    "                title='Survival rate of Pclass',\n",
    "                hole=0.3,\n",
    "                width=800, height=600)\n",
    "\n",
    "fig.show()"
   ]
  },
  {
   "cell_type": "markdown",
   "metadata": {},
   "source": [
    "Visualisierungen mit einem Datensatz der **World Data Bank**:\n",
    "---"
   ]
  },
  {
   "cell_type": "code",
   "execution_count": null,
   "metadata": {},
   "outputs": [],
   "source": [
    "# 3D-Scatterplot mit Farbcodierung basierend auf der Anzahl der Zylinder ('cylinders')\n",
    "fig = px.scatter_3d(df_car, x='displacement', y='mpg', z='weight',\n",
    "                    color='cylinders',  # Farbskala basierend auf der Anzahl der Zylinder\n",
    "                    size='horsepower',  # Punktgröße basierend auf der Leistung (PS)\n",
    "                    title=\"3D-Darstellung: Hubraum, Kraftstoffeffizienz und Fahrzeuggewicht\",\n",
    "                    labels={'displacement': 'Hubraum (cc)', \n",
    "                            'mpg': 'Meilen pro Gallone (mpg)', \n",
    "                            'weight': 'Gewicht (lbs)'})\n",
    "\n",
    "# Layout-Anpassungen\n",
    "fig.update_layout(title_x=0.5,  # Titel zentrieren\n",
    "                  width=800, height=600)\n",
    "\n",
    "# Zeige das Diagramm an\n",
    "fig.show()"
   ]
  },
  {
   "cell_type": "markdown",
   "metadata": {},
   "source": [
    "World Bank data \n",
    "---"
   ]
  },
  {
   "cell_type": "code",
   "execution_count": null,
   "metadata": {},
   "outputs": [],
   "source": []
  },
  {
   "cell_type": "code",
   "execution_count": null,
   "metadata": {},
   "outputs": [],
   "source": []
  },
  {
   "cell_type": "code",
   "execution_count": null,
   "metadata": {},
   "outputs": [],
   "source": []
  },
  {
   "cell_type": "code",
   "execution_count": null,
   "metadata": {},
   "outputs": [],
   "source": []
  },
  {
   "cell_type": "code",
   "execution_count": null,
   "metadata": {},
   "outputs": [],
   "source": []
  }
 ],
 "metadata": {
  "kernelspec": {
   "display_name": "venv",
   "language": "python",
   "name": "python3"
  },
  "language_info": {
   "codemirror_mode": {
    "name": "ipython",
    "version": 3
   },
   "file_extension": ".py",
   "mimetype": "text/x-python",
   "name": "python",
   "nbconvert_exporter": "python",
   "pygments_lexer": "ipython3",
   "version": "3.10.9"
  }
 },
 "nbformat": 4,
 "nbformat_minor": 2
}
