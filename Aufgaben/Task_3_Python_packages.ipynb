{
 "cells": [
  {
   "cell_type": "markdown",
   "metadata": {},
   "source": [
    "# 2. Packages\n",
    "---\n",
    "\n",
    "In diesen Skript bearbeiten wir die Grundlagen von Packages.\n",
    "Python bietet ein breites und umfangreiches Ökosystem an Packages\n",
    "Sei es von \n",
    "- Webframeworks (`Django`), \n",
    "- Spieleentwicklung (`Pygame`), \n",
    "- Big Data (`Spark`), \n",
    "- Daten analyse (`Seaborn`, `Plotly`, `Matplotlib`)\n",
    "- Machine Learning (`Skit-learn`, `Statsmodels`), \n",
    "- Deep Learning (`Tensorflow / Keras`) und viel mehr.\n",
    "---\n"
   ]
  },
  {
   "cell_type": "markdown",
   "metadata": {},
   "source": [
    "Stell sicher das du im richtigen Verzeichnis bist:\n",
    "---"
   ]
  },
  {
   "cell_type": "code",
   "execution_count": null,
   "metadata": {},
   "outputs": [],
   "source": [
    "import os\n",
    "import warnings \n",
    "warnings.filterwarnings('ignore')\n",
    "\n",
    "# Dein Akttueller Pfad\n",
    "notebook_path = os.getcwd()\n",
    "\"Current directory:\", notebook_path\n",
    "\n",
    "# (replace '/path/to/directory' ändere es zu dein Pfad)\n",
    "new_directory = '/Users/riccardo/Desktop/Github/Python-Crashkurs_'\n",
    "os.chdir(new_directory)\n",
    "\n",
    "# Bestätige die änderung\n",
    "notebook_path = os.getcwd()\n",
    "print(\"New directory:\", notebook_path)\n"
   ]
  },
  {
   "cell_type": "markdown",
   "metadata": {},
   "source": [
    "Pandas\n",
    "---\n",
    "### Installation:\n",
    "Wenn wir in einem Jupyter Notebook (`.ipynb` )arbeiten, verwenden wir den Code \n",
    "- `%pip install dein_package`, \n",
    "um das Pakete zu installieren."
   ]
  },
  {
   "cell_type": "markdown",
   "metadata": {},
   "source": [
    "In einer `.py` Datei wird die Eingabe in dem Terminal getätig und zwar wie folgt:\n",
    "`pip install dein_package`\n",
    "\n",
    "<img src=\"/Users/riccardo/Desktop/Github/Python-Crashkurs_/Pic_for_expla/install_package_terminal.png\" alt=\"Terminal package install\" width=\"700\"/>\n",
    "\n",
    "-----"
   ]
  },
  {
   "cell_type": "markdown",
   "metadata": {},
   "source": [
    "### Wie verwende ich ein Package\n",
    "Um die Verwendung eines Pakets zu verdeutlichen machen wird es an Pandas fest.\n",
    "Um das Paket zu verwenden, importieren wir es sowohl in einer `.ipynb-Datei` als auch in einer `.py-Datei` mit dem Befehl:\n",
    "\n",
    "- `import pandas as pd`\n",
    "\n",
    "\n",
    "**ACHTUNG:**\n",
    "\n",
    "Durch den Import mit `import` steht uns das Paket zur Verfügung, und wir können die damit verbundenen Funktionen nutzen.\n",
    "Wir referenzieren das Paket nicht mit `pandas`, sondern mit `pd`, da wir `as pd` verwenden. Das bedeutet, dass wir beim Aufruf der Pandas-Funktionen anstelle von `pandas` nur noch `pd` schreiben.\n",
    "\n",
    "------"
   ]
  },
  {
   "cell_type": "markdown",
   "metadata": {},
   "source": [
    "### Welche Funktionen gibt es nun ? \n",
    "\n",
    "Wie finden wir heraus welche Funktion nun Pandas hat ? \n",
    "Jedes große Package wie Pandas, Streamlit und viele mehr haben eine Offiziele Dokumentation.\n",
    "- Die offiziele Dokumentation von Pandas findest du hier: https://pandas.pydata.org/docs/index.html \n",
    "\n",
    "Dabei wird erklärt \n",
    "- welche Funktion es gibt \n",
    "- welche Parameter mitgeben werden können \n",
    "- zugleich werden weiter unten manchmal beispiele mitgegeben wie der Code anzuwenden ist.\n",
    "----\n",
    "\n"
   ]
  },
  {
   "cell_type": "code",
   "execution_count": null,
   "metadata": {},
   "outputs": [],
   "source": [
    "# Wie besproche müssen wir Pandas zunächst installieren:\n",
    "%pip install pandas"
   ]
  },
  {
   "cell_type": "code",
   "execution_count": 1,
   "metadata": {},
   "outputs": [],
   "source": [
    "# Importierung von Pandas um auf die Funktionen zugreifen zu können\n",
    "import pandas as pd"
   ]
  },
  {
   "cell_type": "markdown",
   "metadata": {},
   "source": [
    "Wir nutzen als erste Funktion \n",
    "\n",
    "- [pd.read_csv(filepath_or_buffer=\"Deine_Datei.csv\", sep=\",\")](https://pandas.pydata.org/docs/reference/api/pandas.read_csv.html)\n",
    "\n",
    "um Daten einzulesen."
   ]
  },
  {
   "cell_type": "code",
   "execution_count": null,
   "metadata": {},
   "outputs": [],
   "source": [
    "df = pd.read_csv(filepath_or_buffer=\"Data/titantic.csv\",\n",
    "                 sep=\",\")\n",
    "df.head()"
   ]
  },
  {
   "cell_type": "markdown",
   "metadata": {},
   "source": [
    "Titanic Datensatz:\n",
    "\n",
    "Beschreibung (Meta-Daten):\n",
    "- PassengerId: Unique identifier for each passenger.\n",
    "- Survived: Survival status of the passenger (0 = Not Survived, 1 = Survived).\n",
    "- Pclass: Passenger class (1 = First class, 2 = Second class, 3 = Third class).\n",
    "- Sex: Gender of the passenger.\n",
    "- Age: Age of the passenger.\n",
    "- SibSp: Number of siblings/spouses aboard the Titanic.\n",
    "- Parch: Number of parents/children aboard the Titanic.\n",
    "- Fare: Fare paid by the passenger.\n",
    "- Embarked: Port of embarkation (C = Cherbourg, Q = Queenstown, S = Southampton).\n",
    "---"
   ]
  },
  {
   "cell_type": "markdown",
   "metadata": {},
   "source": [
    "Bei der Importierung der Daten haben wir nun ausversehen eine Spalte hinzugefügt die wir nicht brauchen namenes `\"Unnamed: 0\"`.\n",
    "Um eine Spalte aus einem DataFrame zu entfernen, können wir die Funktion \n",
    "- [`df.drop()`](https://pandas.pydata.org/docs/reference/api/pandas.DataFrame.drop.html) wie folgt verwenden:\n",
    "\n",
    "- `df.drop(columns=[\"Spalte\"], inplace=True)` entfernt die Spalte dauerhaft aus dem DataFrame, da die Änderung direkt im ursprünglichen DataFrame durchgeführt wird.\n",
    "\n",
    "- `df = df.drop(columns=[\"Spalte\"])` wird verwendet, wenn der Parameter `inplace` nicht angegeben ist. In diesem Fall muss das Ergebnis entweder in der gleichen oder einer neuen Variablen gespeichert werden. Andernfalls wird die Änderung nur temporär vorgenommen und hat keinen Einfluss auf den DataFrame im weiteren Verlauf des Codes."
   ]
  },
  {
   "cell_type": "code",
   "execution_count": 30,
   "metadata": {},
   "outputs": [],
   "source": [
    "df.drop(columns=[\"Unnamed: 0\"], inplace = True)"
   ]
  },
  {
   "cell_type": "code",
   "execution_count": null,
   "metadata": {},
   "outputs": [],
   "source": [
    "# überprüfe ob die Spalte wirklich entfernt wurde\n",
    "df"
   ]
  },
  {
   "cell_type": "markdown",
   "metadata": {},
   "source": [
    "### Umgang mit NaN-Werten (Not a Number):\n",
    "\n",
    "NaN Werte sind Daten die nicht richtig erhoben worden oder auch fehler enthalten\n",
    "\n",
    "**Fehlende Werte:**\n",
    "Der Umgang mit fehlenden Werten ist ein entscheidender Schritt bei der Datenvorbereitung und sollte für jede Spalte individuell betrachtet werden.\n",
    "\n",
    "Die zentrale Frage sollte immer lauten: **Kann ich die fehlenden Werte sinnvoll ersetzen?**\n",
    "\n",
    "***Beispiel: Spalte `\"Age\"` (Alter) ?***\n"
   ]
  },
  {
   "cell_type": "code",
   "execution_count": null,
   "metadata": {},
   "outputs": [],
   "source": [
    "df.isna().sum()"
   ]
  },
  {
   "cell_type": "code",
   "execution_count": null,
   "metadata": {},
   "outputs": [],
   "source": []
  },
  {
   "cell_type": "markdown",
   "metadata": {},
   "source": [
    "1. Lösche die Zeilen mit NaN values. ACHTUNG hier werden aus deinem Dataframe ALLE NaN values entfernt\n"
   ]
  },
  {
   "cell_type": "code",
   "execution_count": 9,
   "metadata": {},
   "outputs": [],
   "source": [
    "#df = df.dropna()"
   ]
  },
  {
   "cell_type": "markdown",
   "metadata": {},
   "source": [
    "2. Um alle Zeilen mit fehlenden Werten (NaN) in der 'Age'-Spalte zu löschen, kannst du den folgenden Befehl verwenden:\n",
    "\n",
    "    **Hinweis**: Dieser Schritt entfernt nur die Zeilen, die NaN-Werte in der angegebenen Spalte enthalten. \n",
    "Alle anderen NaN-Werte in anderen Spalten bleiben unverändert."
   ]
  },
  {
   "cell_type": "code",
   "execution_count": 33,
   "metadata": {},
   "outputs": [],
   "source": [
    "df = df.dropna(subset=['Age'])"
   ]
  },
  {
   "cell_type": "markdown",
   "metadata": {},
   "source": [
    "3. NaN-Werte mit dem Durchschnitt der jeweiligen Spalte füllen:\n",
    "\n",
    "Um die NaN-Werte in der `'Age'`-Spalte durch den Durchschnitt dieser Spalte zu ersetzen, verwende den folgenden Befehl:"
   ]
  },
  {
   "cell_type": "code",
   "execution_count": null,
   "metadata": {},
   "outputs": [],
   "source": [
    "#df = df.fillna()"
   ]
  },
  {
   "cell_type": "code",
   "execution_count": 9,
   "metadata": {},
   "outputs": [],
   "source": [
    "#df[\"Age\"]= df[\"Age\"].fillna(df[\"Age\"].mean()) # nur eine Spalte werden die Daten ersetzt"
   ]
  },
  {
   "cell_type": "code",
   "execution_count": null,
   "metadata": {},
   "outputs": [],
   "source": [
    "#df = df.fillna(df.mean()) #<- mean(), mode(), median() / Alle Spalten werden ersetzt oder Brechnungen die eine INT oder FLOAT wiedergeben"
   ]
  },
  {
   "cell_type": "code",
   "execution_count": null,
   "metadata": {},
   "outputs": [],
   "source": [
    "df.describe().round(2)"
   ]
  },
  {
   "cell_type": "markdown",
   "metadata": {},
   "source": [
    "`df.info()` gibt uns eine gesamte Übersicht über die Datentypen für jede Spalte an."
   ]
  },
  {
   "cell_type": "code",
   "execution_count": null,
   "metadata": {},
   "outputs": [],
   "source": [
    "df.info()"
   ]
  },
  {
   "cell_type": "markdown",
   "metadata": {},
   "source": [
    "Wir sehen das folgende Spalten den Datentypen darstellen als `objects`:\n",
    "- Name\n",
    "- Sex\n",
    "- Ticket\n",
    "- Cabin\n",
    "- Embarked\n",
    "\n",
    "Betrachte die Spalten und entscheide welche Datentypen du verwendets."
   ]
  },
  {
   "cell_type": "code",
   "execution_count": null,
   "metadata": {},
   "outputs": [],
   "source": [
    "df.head()"
   ]
  },
  {
   "cell_type": "markdown",
   "metadata": {},
   "source": [
    "### Anpassung der Datentypen:\n",
    "\n",
    "---"
   ]
  },
  {
   "cell_type": "markdown",
   "metadata": {},
   "source": [
    "Im folgenden werden wir die Datentypen anpassen. Da bei der Importierung fehler enstanden sind\n",
    "\n",
    "- Dabei nutzen wir die Funktion `.astype(\"string\")` um die jewelige Spalten Datentypen zu ändern."
   ]
  },
  {
   "cell_type": "code",
   "execution_count": 13,
   "metadata": {},
   "outputs": [],
   "source": [
    "df[\"Name\"] = df[\"Name\"].astype(\"string\")\n",
    "df[\"Sex\"] = df[\"Sex\"].astype(\"category\")\n",
    "\n",
    "# mache weiter und ändere die Datentypen für Ticket, Cabin und Embarked\n",
    "\n",
    "# - Ticket\n",
    "\n",
    "\n",
    "# - Cabin \n",
    "\n",
    "\n",
    "# - Embarked\n"
   ]
  },
  {
   "cell_type": "markdown",
   "metadata": {},
   "source": [
    "Überprüfe ob die Datentypen korrekt geändert wurden:"
   ]
  },
  {
   "cell_type": "code",
   "execution_count": null,
   "metadata": {},
   "outputs": [],
   "source": []
  },
  {
   "cell_type": "code",
   "execution_count": null,
   "metadata": {},
   "outputs": [],
   "source": [
    "df.head()"
   ]
  },
  {
   "cell_type": "markdown",
   "metadata": {},
   "source": [
    "### Datenfilterung:\n",
    "---\n",
    "Es gibt zahlreiche Methoden, um Daten zu filtern. Eine dieser Möglichkeiten werden wir nun genauer betrachten und praktisch anwenden."
   ]
  },
  {
   "cell_type": "markdown",
   "metadata": {},
   "source": [
    "### Daten Filterun mit einer Bedigung"
   ]
  },
  {
   "cell_type": "code",
   "execution_count": null,
   "metadata": {},
   "outputs": [],
   "source": [
    "# Der folgende Datensatz enthält nur Daten über die überlebende\n",
    "Survived_df = df[df[\"Survived\"] == 1]\n",
    "\n",
    "Survived_df.head()"
   ]
  },
  {
   "cell_type": "code",
   "execution_count": null,
   "metadata": {},
   "outputs": [],
   "source": [
    "# Der folgende Datensatz enthält nur Daten über die verstorbenen\n",
    "Perished_df = \n",
    "\n",
    "\n",
    "\n",
    "Perished_df.head()"
   ]
  },
  {
   "cell_type": "markdown",
   "metadata": {},
   "source": [
    "Aufgabe: Erstelle einen DataFrame, der nur die Passagiere enthält, die in der 1. Klasse gereist sind. Dafür musst du zunächst herausfinden, wie viele eindeutige *`(unique values)`* Werte die entsprechende Spalte hat.Um richtig filtern zukönnen. \n",
    "\n",
    "\n",
    "mit dem Code:\n",
    "`df[\"Pclass\"].unqiue()`\n",
    "Dieser Code gibt dir eine Übersicht der verschiedenen Klassen, indem jeder Wert nur einmal angezeigt wird. Dies hilft dir, die Struktur der Daten besser zu verstehen, \n",
    "bevor du den Filter auf die 1. Klasse anwendest."
   ]
  },
  {
   "cell_type": "code",
   "execution_count": null,
   "metadata": {},
   "outputs": [],
   "source": [
    "print(df[\"Pclass\"].unique())\n",
    "# print(df[\"Pclass\"].dtype)"
   ]
  },
  {
   "cell_type": "markdown",
   "metadata": {},
   "source": [
    "Nun kannst du nach der 1. Klasse filtern da du die `unique values` kennst."
   ]
  },
  {
   "cell_type": "code",
   "execution_count": null,
   "metadata": {},
   "outputs": [],
   "source": [
    "firstClass_df = "
   ]
  },
  {
   "cell_type": "markdown",
   "metadata": {},
   "source": [
    "Ein dataframe nur mit den Passagieren die die `2. Klasse` gebucht haben\n"
   ]
  },
  {
   "cell_type": "code",
   "execution_count": null,
   "metadata": {},
   "outputs": [],
   "source": [
    "secondClass_df ="
   ]
  },
  {
   "cell_type": "markdown",
   "metadata": {},
   "source": [
    "Ein dataframe nur mit den Passagieren die die `3. Klasse` gebucht haben\n"
   ]
  },
  {
   "cell_type": "code",
   "execution_count": null,
   "metadata": {},
   "outputs": [],
   "source": [
    "thridClass_df = "
   ]
  },
  {
   "cell_type": "markdown",
   "metadata": {},
   "source": [
    "### Daten Filterung mit mehreren Bedigung\n",
    "Das Filtern von Daten kann auch auf Basis von zwei oder mehr Bedingungen erfolgen. Im folgenden Beispiel filtern wir die Daten anhand von zwei Bedingungen und speichern das Ergebnis in einer neuen Variablen."
   ]
  },
  {
   "cell_type": "code",
   "execution_count": null,
   "metadata": {},
   "outputs": [],
   "source": [
    "maleSurvived_df = df[(df[\"Sex\"] == \"male\") & \n",
    "                    (df[\"Survived\"] == 1)].round(2)\n",
    "\n",
    "\n",
    "maleSurvived_df.head()"
   ]
  },
  {
   "cell_type": "markdown",
   "metadata": {},
   "source": [
    "Aufgabe: Filtere die Daten anhand der folgenden **zwei Bedingungen**:\n",
    "\n",
    "- Passagiere, die 25 Jahre oder älter sind,\n",
    "- und Passagiere, die in der 1. Klasse gebucht haben.\n",
    "Speichere das Ergebnis der gefilterten Daten in einer neuen Variablen."
   ]
  },
  {
   "cell_type": "code",
   "execution_count": null,
   "metadata": {},
   "outputs": [],
   "source": [
    "df_filtered = \n",
    "\n",
    "df_filtered"
   ]
  },
  {
   "cell_type": "markdown",
   "metadata": {},
   "source": [
    "Aufgabe: Filtere die Daten nach den folgenden Bedingungen:\n",
    "\n",
    "- Passagiere, die in der 3. Klasse gebucht haben,\n",
    "- und Passagiere, die das Unglück überlebt haben.\n",
    "Speichere das Ergebnis der gefilterten Daten in einer neuen Variablen."
   ]
  },
  {
   "cell_type": "code",
   "execution_count": null,
   "metadata": {},
   "outputs": [],
   "source": []
  },
  {
   "cell_type": "code",
   "execution_count": null,
   "metadata": {},
   "outputs": [],
   "source": []
  },
  {
   "cell_type": "markdown",
   "metadata": {},
   "source": [
    "## World Bank Data:\n",
    "\n",
    "---"
   ]
  },
  {
   "cell_type": "markdown",
   "metadata": {},
   "source": [
    "Lade die Folgende Datei herunter in Ilias in den Ordner Data/World_Data_Bank.csv\n",
    "\n",
    "- Nutze die Funktion `pd.read_csv()` um die Datei einzulesen und speicher sie ab als `df_wb`.\n",
    "\n",
    "*Stell sicher das du im richtigen Directory bist*"
   ]
  },
  {
   "cell_type": "code",
   "execution_count": null,
   "metadata": {},
   "outputs": [],
   "source": [
    "# Daten einlesen\n",
    "df_wb = \n",
    "df_wb"
   ]
  },
  {
   "cell_type": "markdown",
   "metadata": {},
   "source": [
    "Stell sicher das du keine NaN Werte hast:\n",
    "- Ersetzte die `NaN` werte nutze dafür gerne den Leitfaden oder den Code von oben"
   ]
  },
  {
   "cell_type": "code",
   "execution_count": null,
   "metadata": {},
   "outputs": [],
   "source": []
  },
  {
   "cell_type": "code",
   "execution_count": null,
   "metadata": {},
   "outputs": [],
   "source": []
  },
  {
   "cell_type": "markdown",
   "metadata": {},
   "source": [
    "Überprüfe ob die Datentypen richtig formatiert sind:"
   ]
  },
  {
   "cell_type": "code",
   "execution_count": null,
   "metadata": {},
   "outputs": [],
   "source": [
    "# Hier überprüfen nach den Datentypen\n"
   ]
  },
  {
   "cell_type": "code",
   "execution_count": null,
   "metadata": {},
   "outputs": [],
   "source": [
    "# Falls nötig ändere die Datentypen\n",
    "\n"
   ]
  },
  {
   "cell_type": "markdown",
   "metadata": {},
   "source": [
    "Betrachte den Datensatz und stelle fest wie viele Länder es gibt. \n",
    "Als Tipps `unqiue values` in der Spalte \"Country\""
   ]
  },
  {
   "cell_type": "code",
   "execution_count": 10,
   "metadata": {},
   "outputs": [],
   "source": [
    "# Hier nach unqiue values in der Spalte \"Country\" suchen\n"
   ]
  },
  {
   "cell_type": "markdown",
   "metadata": {},
   "source": [
    "Nachdem du erfolgreich festgestellt hast wie viele Länder dein Daten repräsentiert.\n",
    "Speicher die Länder in Variablen ab.\n",
    "- `ger_df`\n",
    "- `usa_df`\n",
    "- `fra_df`\n",
    "\n",
    "*Wie gefiltert wird haben wir bereits weiter oben besprochen oder du schaust im Leitfaden nach.*"
   ]
  },
  {
   "cell_type": "code",
   "execution_count": 28,
   "metadata": {},
   "outputs": [],
   "source": []
  },
  {
   "cell_type": "code",
   "execution_count": 7,
   "metadata": {},
   "outputs": [],
   "source": []
  },
  {
   "cell_type": "code",
   "execution_count": 6,
   "metadata": {},
   "outputs": [],
   "source": []
  },
  {
   "cell_type": "code",
   "execution_count": null,
   "metadata": {},
   "outputs": [],
   "source": []
  },
  {
   "cell_type": "markdown",
   "metadata": {},
   "source": [
    "Visualisierung mit *Plotly*:\n",
    "---\n",
    "Für die Visualisierung nutzen wir Plotly da dies die Grundlage ist für die Integration in Streamlit später.\n"
   ]
  },
  {
   "cell_type": "code",
   "execution_count": null,
   "metadata": {},
   "outputs": [],
   "source": [
    "%pip install plotly==5.24.1"
   ]
  },
  {
   "cell_type": "markdown",
   "metadata": {},
   "source": [
    "\n",
    "Folgende Funktion können wir zur Visualisierung nutzen\n",
    "- [`px.line()`](https://plotly.com/python/line-charts/) Liniendiagramm\n",
    "- [`px.box()`](https://plotly.com/python/box-plots/)    Boxplot\n",
    "- [`px.pie()`](https://plotly.com/python/pie-charts/)   Kuchendiagramm\n",
    "- [`px.bar()`](https://plotly.com/python/bar-charts/)   Balkendiagramm\n",
    "- [`px.histogram()`](https://plotly.com/python/histograms/)  Histogramm\n",
    "- [`px.violin()`](https://plotly.com/python/violin/)     Violin \n",
    "\n",
    "und viele mehr findest du auf der offizielen Seite von Plotly.\n",
    "Plotly: https://plotly.com/python/\n",
    "\n",
    "---"
   ]
  },
  {
   "cell_type": "code",
   "execution_count": 3,
   "metadata": {},
   "outputs": [],
   "source": [
    "import plotly.express as px"
   ]
  },
  {
   "cell_type": "markdown",
   "metadata": {},
   "source": [
    "Wir werden mit `simplen Zeitreihen` beginnen und steigern uns stück für stück.\n",
    "\n",
    "Als Orientierung kannst du den Code `df_wb.columns` nutzen um die exakte Schreibe weise deiner Spalten zu betrachten:"
   ]
  },
  {
   "cell_type": "code",
   "execution_count": null,
   "metadata": {},
   "outputs": [],
   "source": [
    "df_wb.columns"
   ]
  },
  {
   "cell_type": "markdown",
   "metadata": {},
   "source": [
    "## Im folgeden wirst du in der Funktion den Parameter `titel` haben wo eine Überschrift festgehalten wird, nach diesem Titel erstellst du deine Grafik"
   ]
  },
  {
   "cell_type": "markdown",
   "metadata": {},
   "source": [
    "### 1. Visualisierung:\n",
    "---\n",
    "\n",
    "Schauen wir an welche Parameter wir mitgeben können:\n",
    "\n",
    "`px.line()`: Ist ein Liniendiagramm\n",
    "- `dataframe`: Der Datensatz\n",
    "- `x`: Die x-Achse, wo wir nur die Spalten namen eigeben des Datensatzes\n",
    "- `y`: Die y-Achse, wo wir nur die Spalten namen eigeben des Datensatzes\n",
    "- `color`: Die Farbe der Linie nach Ländern eine art Gruppierung\n",
    "- `title`: Der Titel des Diagramms"
   ]
  },
  {
   "cell_type": "code",
   "execution_count": null,
   "metadata": {},
   "outputs": [],
   "source": [
    "fig = px.line(data_frame=ger_df, \n",
    "              x=\"Year\", \n",
    "              y=\"Unemployment Rate (%)\", \n",
    "              title='Unemployment Rate (%) in Germany', \n",
    "              color='Country')\n",
    "fig.show()"
   ]
  },
  {
   "cell_type": "markdown",
   "metadata": {},
   "source": [
    "### 2. Visualisierung\n",
    "\n",
    "---\n",
    "\n",
    "Als weitere Funktion haben wir nun:\n",
    "`update_xaxes()`,`update_yaxes()`\n",
    "- `dtick=1`: Wie soll die Skalierung deiner X-Achse sein\n",
    "- `tickangle`: Die Rotation deiner X-Achsen Werte\n",
    "\n",
    "Trage gerne andere Werte (`int`) in `dtick` ein um zusehen wie sich die X-Achse ändert und gernauch bei `tickangle`\n",
    "\n",
    "**Aufgabe:**\n",
    "Als nächstes nutzt du die Variable `df_wb` und erstellst ein Liniendiagramm mit den gleichen Parametern nur für alle Länder,\n",
    "während der Great Depression. \n",
    "1. Filter die Daten damit du nur den Zeitraum hast der Great_depression \n",
    "2. visualisiere Sie.\n"
   ]
  },
  {
   "cell_type": "code",
   "execution_count": null,
   "metadata": {},
   "outputs": [],
   "source": [
    "# Ein Diagramm mit den Daten aller drei Länder in einer Figur\n",
    "fig = px.line(\n",
    "              title=\"Unemployment Rate (%) in Germany, France and US in the financial recession\")\n",
    "\n",
    "fig.update_xaxes(dtick=1, tickangle=1)\n",
    "fig.update_yaxes(dtick=1, tickangle=1)\n",
    "fig.show()"
   ]
  },
  {
   "cell_type": "markdown",
   "metadata": {},
   "source": [
    "### 3. Visualisierung\n",
    "\n",
    "---\n",
    "Als nächstes werden wir den ursprünglichen Datensatz nehmen `df` und visualisieren die Daten aller 3 Länder in einer Figur.\n",
    "Visualisieren dafür \n",
    "\n",
    "- *Gestalte bitte den Graphen so das er eine klare und minimalitische Übersicht der Daten wiedergibt.*\n",
    "\n",
    "1. Filter nur die Daten zwischen 1995 und 2005 \n",
    "2. Visualisieren bitte die FDI as % of GDP\" wieder für alle Länder\n"
   ]
  },
  {
   "cell_type": "code",
   "execution_count": null,
   "metadata": {},
   "outputs": [],
   "source": [
    "# Ein Diagramm mit den Daten aller drei Länder in einer Figur\n",
    "fig = px.line(\n",
    "\n",
    "\n",
    "\n",
    "# Entferne den Hastag und vervollständige den Code\n",
    "\n",
    "\n",
    "\n",
    ")\n",
    "\n",
    "fig.update_xaxes(dtick=1, tickangle=1)\n",
    "fig.update_yaxes(dtick=1, tickangle=1)\n",
    "fig.show()"
   ]
  },
  {
   "cell_type": "code",
   "execution_count": null,
   "metadata": {},
   "outputs": [],
   "source": [
    "df_wb.columns"
   ]
  },
  {
   "cell_type": "markdown",
   "metadata": {},
   "source": [
    "### 4. Visualisierungen\n",
    "---\n",
    "Eine neue Funktion, die wir hier einführen, ist `update_layout()`. Diese Funktion ermöglicht uns, das Layout des Diagramms weiter anzupassen:\n",
    "\n",
    "- `legend_title=\"Metric\"`: Legt den Titel der Legende fest, der erklärt, welche Linie welche Metrik repräsentiert.\n",
    "- `xaxis_title = \"Year\"`: Fügt der X-Achse eine Beschriftung hinzu, die die Jahre darstellt.\n",
    "- `yaxis_title = \"Rate (%)\"`: Fügt der Y-Achse eine Beschriftung hinzu, die die Rate in Prozent anzeigt (für Arbeitslosenquote und Inflation).\n",
    "\n",
    "Durch diese Anpassungen wird das Diagramm nicht nur informativer, sondern auch leichter verständlich.\n",
    "\n",
    "Aufgabe:\n",
    "1. Filter die Daten nach Frankreich für den Zeitraum 2005 bis 2020\n",
    "2. Zeige die Visualisierung an"
   ]
  },
  {
   "cell_type": "code",
   "execution_count": null,
   "metadata": {},
   "outputs": [],
   "source": [
    "# Daten für Frankreich filtern zwischen 2005 und 2020\n",
    "\n",
    "\n",
    "fig = px.line( \n",
    "              \n",
    "              y = [\"Unemployment Rate (%)\", \"Inflation Rate (%)\"], \n",
    "              \n",
    "\n",
    "# Layout aktualisieren\n",
    "fig.update_layout(\n",
    "    legend_title=\"Metric\",  # Legendentitel\n",
    "    xaxis_title=\"Year\",     # X-Achsen-Titel\n",
    "    yaxis_title=\"Rate (%)\"  # Y-Achsen-Titel\n",
    ")\n",
    "\n",
    "fig.show()"
   ]
  },
  {
   "cell_type": "markdown",
   "metadata": {},
   "source": [
    "Nun arbeiten wieder mit den Titantic datensatz den wir als `df` abgespeichert haben\n",
    "---\n",
    "\n",
    "\n",
    "### 1. Erstellung eines Boxplots\n",
    "---\n",
    "`px.box()`\n",
    "\n",
    "`fig.update_layout`\n",
    "- Parameter:\n",
    "    - width (breite) als *`int`*\n",
    "    - height (höhe) als *`int`* \n",
    "\n",
    "**Aufgabe:**\n",
    "Erstelle ein Boxplot des Alters der Passagiere.\n"
   ]
  },
  {
   "cell_type": "code",
   "execution_count": null,
   "metadata": {},
   "outputs": [],
   "source": [
    "fig = px.box(\n",
    "             title = \"Age Distribution of Passengers\")\n",
    "\n",
    "fig.update_layout(width = 800, \n",
    "                  height = 600)  # Setze die Breite und Höhe des Graphen\n",
    "fig.show()\n"
   ]
  },
  {
   "cell_type": "markdown",
   "metadata": {},
   "source": [
    "### 2. Erstellung eines Histogram\n",
    "\n",
    "Indemfall nutzen wir den `px.histogram()` um die Verteilung der Geschlechter `(\"Sex\")` zu visualisieren\n",
    "\n",
    "**Aufgabe:**\n",
    "Erstelle eine Histogramm für die Geschlechter `Sex`"
   ]
  },
  {
   "cell_type": "code",
   "execution_count": null,
   "metadata": {},
   "outputs": [],
   "source": [
    "fig = px.histogram(\n",
    "                    title=\"Male or Female\")\n",
    "\n",
    "fig.update_layout(width=800, \n",
    "                  height = 600)\n",
    "fig.show()"
   ]
  },
  {
   "cell_type": "markdown",
   "metadata": {},
   "source": [
    "### 3. Wie viele haben überlebt\n",
    "Eine weiter mögliche ist eine Lücke `(bargap)` zwischen den Balken zu setzen indem wir \n",
    "- `fig.update_layout(bargap=0.2)` hinzufügen.\n",
    "\n",
    "Der Parameter ist ein Wert zwischen 0 und 1, wobei 0 bedeutet, dass die Balken aneinander kleben und 1 bedeutet, dass die Balken so weit wie möglich voneinander entfernt sind."
   ]
  },
  {
   "cell_type": "code",
   "execution_count": null,
   "metadata": {},
   "outputs": [],
   "source": [
    "fig = px.histogram(\n",
    "                   title=\"How many passengers survived?\")\n",
    "\n",
    "fig.update_layout(width=800, \n",
    "                  height=600, \n",
    "                  bargap=0.2,)  # Setzt eine Lücke von 20% zwischen den Balken\n",
    "\n",
    "fig.show()"
   ]
  },
  {
   "cell_type": "markdown",
   "metadata": {},
   "source": [
    "### 3. Kreisdiagramm:\n",
    "\n",
    "- `data_frame=Survived_df`: Der Datensatz, der für das Diagramm verwendet wird.\n",
    "- `values='Survived'`: Die Spalte, die die Werte für die Segmentgrößen angibt.\n",
    "- `names='Pclass'`: Die Spalte, die die Kategorien (Passagierklassen) für die Segmente definiert.\n",
    "- `title='Survival rate of Pclass'`: Der Titel des Diagramms.\n",
    "- `hole=0.3`: Macht aus dem Kuchendiagramm ein Donut-Diagramm, indem es die Mitte zu 30 % leer lässt."
   ]
  },
  {
   "cell_type": "code",
   "execution_count": null,
   "metadata": {},
   "outputs": [],
   "source": [
    "fig = px.pie(data_frame=df, \n",
    "                values='Survived',\n",
    "                names='Pclass',\n",
    "                title='Survival rate of Pclass',\n",
    "                hole=0.3)\n",
    "\n",
    "fig.update_layout(width=800, height=600)  \n",
    "fig.show()"
   ]
  },
  {
   "cell_type": "markdown",
   "metadata": {},
   "source": [
    "1. `fig = px.pie(...)`: \n",
    "    - `hole=0.3`: Erstellt ein Donut-Diagramm  \n",
    "    - `names=\"Pclass\"`:der Passagierklasse (Pclass) als Kategorie und dem Titel \"Verteilung der Passagiere nach Klasse\".\n",
    "\n",
    "2. `fig.update_traces(pull=[0.2, 0.1, 0.4])`: \n",
    "    - `pull`:Hebt die Segmente der Klassen 1 und 3 hervor, indem sie aus dem Donut herausgezogen werden. Der Wert in pull bestimmt, wie stark jedes Segment verschoben wird (Klasse 1 um 0.2, Klasse 3 um 0.4).\n",
    "\n",
    "3. `fig.update_layout()`: \n",
    "    - Parameter:\n",
    "        - `width`: (breite) als *`int`*\n",
    "        - `height`: (höhe) als *`int`* "
   ]
  },
  {
   "cell_type": "code",
   "execution_count": null,
   "metadata": {},
   "outputs": [],
   "source": [
    "fig = px.pie(df, names=\"Pclass\",\n",
    "              title=\"Verteilung der Passagiere nach Klasse\",\n",
    "             hole=0.3)\n",
    "  \n",
    "fig.update_traces(pull=[0.2, 0.1, 0.4])  # Hebt die Klassen 1 und 3 hervor\n",
    "fig.update_layout(width=600, height=600, title_font_size=22, font=dict(size=16))\n",
    "fig.show()\n"
   ]
  },
  {
   "cell_type": "markdown",
   "metadata": {},
   "source": [
    "`fig = px.bar()`\n",
    "- `y=\"Pclass\"`: Y-Achse zeigt die Passagierklasse.\n",
    "- `x=\"Survived\"`: X-Achse zeigt den Überlebensstatus.\n",
    "- `color=\"Embarked\"`: Balken werden nach Einschiffungshäfen farblich markiert.\n",
    "- `barmode=\"group\"`: Balken sind gruppiert, nicht gestapelt.\n",
    "- `facet_col=\"Sex\"`: Separate Diagramme für Männer und Frauen (Facetten-Spalten).\n",
    "- `category_orders`: Legt die Reihenfolge der Kategorien fest (Pclass, Embarked, Sex).\n",
    "\n",
    "`fig.update_traces()`: \n",
    "- `marker_line_width=0`:Entfernt die Linien um die Balken."
   ]
  },
  {
   "cell_type": "code",
   "execution_count": null,
   "metadata": {},
   "outputs": [],
   "source": [
    "pclass_feature = df.Pclass.value_counts()\n",
    "pclass_feature\n",
    "\n",
    "fig = px.bar(x=pclass_feature.index,\n",
    "             y=pclass_feature.values,\n",
    "             title=\"Verteilung der Passagiere nach Klasse\")\n",
    "\n",
    "fig.update_layout(title=\"Verteilung der Passagiere nach Klasse\",\n",
    "                  xaxis_title=\"Klasse\",\n",
    "                  yaxis_title=\"Anzahl der Passagiere\")\n",
    "\n",
    "fig.update_xaxes(dtick=1)\n",
    "fig.show()"
   ]
  },
  {
   "cell_type": "code",
   "execution_count": null,
   "metadata": {},
   "outputs": [],
   "source": [
    "fig = px.histogram(\n",
    "    df,\n",
    "    x='Survived',\n",
    "    color='Pclass',\n",
    "    barmode='group',\n",
    "    title=\"Survival Count Plot\",\n",
    "    text_auto=True  # This parameter automatically adds text labels to the bars\n",
    ")\n",
    "\n",
    "# Update layout to improve appearance\n",
    "fig.update_layout(\n",
    "    xaxis_title='Survived',\n",
    "    yaxis_title='Count',\n",
    "    legend_title='Passenger Class',\n",
    "    font=dict(size=14)  # Optionally adjust the font size of the text labels\n",
    ")\n"
   ]
  },
  {
   "cell_type": "code",
   "execution_count": null,
   "metadata": {},
   "outputs": [],
   "source": [
    "fig = px.pie(   data_frame=df, \n",
    "                values='Survived',\n",
    "                names='Pclass',\n",
    "                title='Survival rate of Pclass',\n",
    "                hole=0.3,\n",
    "                width=800, height=600)\n",
    "\n",
    "fig.show()"
   ]
  },
  {
   "cell_type": "markdown",
   "metadata": {},
   "source": [
    "### Car dataset\n",
    "---"
   ]
  },
  {
   "cell_type": "code",
   "execution_count": 28,
   "metadata": {},
   "outputs": [],
   "source": [
    "df_car = pd.read_csv(filepath_or_buffer=\"Data/car.csv\")\n",
    "df_car.drop(columns=[\"Unnamed: 0\"], inplace = True)\n",
    "df_car.dropna(inplace = True)"
   ]
  },
  {
   "cell_type": "code",
   "execution_count": null,
   "metadata": {},
   "outputs": [],
   "source": [
    "# 3D-Scatterplot mit Farbcodierung basierend auf der Anzahl der Zylinder ('cylinders')\n",
    "fig = px.scatter_3d(df_car, x='displacement', y='mpg', z='weight',\n",
    "                    color='cylinders',  # Farbskala basierend auf der Anzahl der Zylinder\n",
    "                    size='horsepower',  # Punktgröße basierend auf der Leistung (PS)\n",
    "                    title=\"3D-Darstellung: Hubraum, Kraftstoffeffizienz und Fahrzeuggewicht\",\n",
    "                    labels={'displacement': 'Hubraum (cc)', \n",
    "                            'mpg': 'Meilen pro Gallone (mpg)', \n",
    "                            'weight': 'Gewicht (lbs)'})\n",
    "\n",
    "# Layout-Anpassungen\n",
    "fig.update_layout(title_x=0.5,  # Titel zentrieren\n",
    "                  width=800, height=600)\n",
    "\n",
    "# Zeige das Diagramm an\n",
    "fig.show()"
   ]
  },
  {
   "cell_type": "markdown",
   "metadata": {},
   "source": [
    "---\n",
    "## User Mobile Device beahvior\n",
    "---"
   ]
  },
  {
   "cell_type": "markdown",
   "metadata": {},
   "source": [
    "Führe selbstständig eine \n",
    "- Daten importierung\n",
    "- Daten reinigung\n",
    "- Filter die Daten so wie sie dir am nützlichsten sind\n",
    "- und Visualisiere die Daten\n",
    "- Teile deine Beobachtungen\n"
   ]
  },
  {
   "cell_type": "code",
   "execution_count": null,
   "metadata": {},
   "outputs": [],
   "source": []
  },
  {
   "cell_type": "code",
   "execution_count": null,
   "metadata": {},
   "outputs": [],
   "source": []
  },
  {
   "cell_type": "code",
   "execution_count": null,
   "metadata": {},
   "outputs": [],
   "source": []
  },
  {
   "cell_type": "code",
   "execution_count": null,
   "metadata": {},
   "outputs": [],
   "source": []
  },
  {
   "cell_type": "code",
   "execution_count": null,
   "metadata": {},
   "outputs": [],
   "source": []
  },
  {
   "cell_type": "code",
   "execution_count": null,
   "metadata": {},
   "outputs": [],
   "source": []
  },
  {
   "cell_type": "code",
   "execution_count": null,
   "metadata": {},
   "outputs": [],
   "source": []
  },
  {
   "cell_type": "code",
   "execution_count": null,
   "metadata": {},
   "outputs": [],
   "source": []
  },
  {
   "cell_type": "code",
   "execution_count": null,
   "metadata": {},
   "outputs": [],
   "source": []
  },
  {
   "cell_type": "code",
   "execution_count": null,
   "metadata": {},
   "outputs": [],
   "source": []
  },
  {
   "cell_type": "code",
   "execution_count": null,
   "metadata": {},
   "outputs": [],
   "source": []
  },
  {
   "cell_type": "code",
   "execution_count": null,
   "metadata": {},
   "outputs": [],
   "source": []
  },
  {
   "cell_type": "markdown",
   "metadata": {},
   "source": [
    "Machine-Learning\n",
    "---\n",
    "\n",
    "### Multiple Lineare Regression\n",
    "---"
   ]
  },
  {
   "cell_type": "code",
   "execution_count": 33,
   "metadata": {},
   "outputs": [],
   "source": [
    "import statsmodels.api as sm\n",
    "from sklearn.model_selection import train_test_split"
   ]
  },
  {
   "cell_type": "code",
   "execution_count": null,
   "metadata": {},
   "outputs": [],
   "source": [
    "df_wage = pd.read_csv(\"Data/wage.csv\", sep=\"\\t\")\n",
    "df_wage.head()"
   ]
  },
  {
   "cell_type": "code",
   "execution_count": 35,
   "metadata": {},
   "outputs": [],
   "source": [
    "X = df_wage[[\"educ\", \"exper\", \"metro\"]]\n",
    "y = df_wage[\"wage\"]"
   ]
  },
  {
   "cell_type": "code",
   "execution_count": 36,
   "metadata": {},
   "outputs": [],
   "source": [
    "X = sm.add_constant(X)"
   ]
  },
  {
   "cell_type": "code",
   "execution_count": null,
   "metadata": {},
   "outputs": [],
   "source": [
    "X_train, X_test, y_train, y_test = train_test_split(X, y, test_size=0.33, random_state=42)\n",
    "X_train.shape, X_test.shape, y_train.shape, y_test.shape"
   ]
  },
  {
   "cell_type": "code",
   "execution_count": 38,
   "metadata": {},
   "outputs": [],
   "source": [
    "model_stats = sm.OLS(y_train, X_train).fit()"
   ]
  },
  {
   "cell_type": "code",
   "execution_count": null,
   "metadata": {},
   "outputs": [],
   "source": [
    "print(model_stats.summary())"
   ]
  },
  {
   "cell_type": "code",
   "execution_count": null,
   "metadata": {},
   "outputs": [],
   "source": [
    "model_stats.params"
   ]
  },
  {
   "cell_type": "code",
   "execution_count": null,
   "metadata": {},
   "outputs": [],
   "source": [
    "educ = 1\n",
    "exper = 1\n",
    "metro = 1\n",
    "\n",
    "wage = model_stats.params[0] + model_stats.params[1] * educ + model_stats.params[2] * exper + model_stats.params[3] * metro\n",
    "print(f\"Dein Gehalt entspricht {wage}\")"
   ]
  },
  {
   "cell_type": "code",
   "execution_count": null,
   "metadata": {},
   "outputs": [],
   "source": []
  },
  {
   "cell_type": "markdown",
   "metadata": {},
   "source": [
    "### Logistische Regression\n",
    "\n",
    "---"
   ]
  },
  {
   "cell_type": "code",
   "execution_count": 42,
   "metadata": {},
   "outputs": [],
   "source": [
    "from sklearn.linear_model import LogisticRegression\n",
    "from sklearn.metrics import accuracy_score"
   ]
  },
  {
   "cell_type": "code",
   "execution_count": 43,
   "metadata": {},
   "outputs": [],
   "source": [
    "df['Sex'].replace(['male','female'], [0, 1], inplace=True)"
   ]
  },
  {
   "cell_type": "code",
   "execution_count": 44,
   "metadata": {},
   "outputs": [],
   "source": [
    "y_titantic = df['Survived']\n",
    "X_titantic = df[[\"Pclass\",\"Age\",\"Sex\"]]"
   ]
  },
  {
   "cell_type": "code",
   "execution_count": 45,
   "metadata": {},
   "outputs": [],
   "source": [
    "model = LogisticRegression().fit(X_titantic, y_titantic)\n"
   ]
  },
  {
   "cell_type": "code",
   "execution_count": null,
   "metadata": {},
   "outputs": [],
   "source": [
    "y_pred = model.predict(X_titantic)\n",
    "y_pred[:5]\n"
   ]
  },
  {
   "cell_type": "code",
   "execution_count": null,
   "metadata": {},
   "outputs": [],
   "source": [
    "print(\"Perished:\", model.predict_proba(X_titantic)[:,0][:5]) # Wahrscheinlichkeiten verstorben\n",
    "print(\"Survived:\", model.predict_proba(X_titantic)[:,1][:5]) # Wahrscheinlichkeiten überlebend\n"
   ]
  },
  {
   "cell_type": "code",
   "execution_count": null,
   "metadata": {},
   "outputs": [],
   "source": [
    "print(\"Accuracy Score:\", accuracy_score(y_titantic,y_pred))"
   ]
  },
  {
   "cell_type": "markdown",
   "metadata": {},
   "source": [
    "## Erstellung eine Vohersage: \n",
    "---\n"
   ]
  },
  {
   "cell_type": "markdown",
   "metadata": {},
   "source": [
    "Person 2:\n",
    "\n",
    "- ***44 Jahre alt, Weiblich, 1. Klasse***\n"
   ]
  },
  {
   "cell_type": "code",
   "execution_count": null,
   "metadata": {},
   "outputs": [],
   "source": [
    "#Pclass, Age, Sex\n",
    "Female = [[1,44,1]]\n",
    "print(model.predict(Female)[0])\n",
    "probability = model.predict_proba(Female)[0][1]\n",
    "print(f'Probability of survival: {probability:.1%}')"
   ]
  },
  {
   "cell_type": "markdown",
   "metadata": {},
   "source": [
    "Person 3:\n",
    "\n",
    "- ***66 Jahre alt, männlich, 1. Klasse***\n"
   ]
  },
  {
   "cell_type": "code",
   "execution_count": null,
   "metadata": {},
   "outputs": [],
   "source": [
    "#Pclass, Age, Sex\n",
    "Female = [[1,66,0]]\n",
    "print(model.predict(Female)[0])\n",
    "probability = model.predict_proba(Female)[0][1]\n",
    "print(f'Probability of survival: {probability:.1%}')"
   ]
  },
  {
   "cell_type": "code",
   "execution_count": null,
   "metadata": {},
   "outputs": [],
   "source": []
  }
 ],
 "metadata": {
  "kernelspec": {
   "display_name": "venv",
   "language": "python",
   "name": "python3"
  },
  "language_info": {
   "codemirror_mode": {
    "name": "ipython",
    "version": 3
   },
   "file_extension": ".py",
   "mimetype": "text/x-python",
   "name": "python",
   "nbconvert_exporter": "python",
   "pygments_lexer": "ipython3",
   "version": "3.10.9"
  }
 },
 "nbformat": 4,
 "nbformat_minor": 2
}
