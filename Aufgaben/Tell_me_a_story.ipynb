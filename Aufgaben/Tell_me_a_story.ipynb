{
 "cells": [
  {
   "cell_type": "code",
   "execution_count": null,
   "metadata": {
    "vscode": {
     "languageId": "plaintext"
    }
   },
   "outputs": [],
   "source": []
  },
  {
   "cell_type": "markdown",
   "metadata": {},
   "source": [
    "# Arbeitsblatt: Umgang mit if, elif und else-Anweisungen\n",
    "\n",
    "\n",
    "- Ziel: \n",
    "    In diesem Arbeitsblatt lernst du, wie du if, elif und else-Anweisungen verwendest, um verschiedene Entscheidungen im Code zu treffen.\n",
    "\n",
    "- Aufgabe:\n",
    "    Entwickle ein Szenario, eine Geschichte oder eine Situation, in der du eine Benutzereingabe erwartest. Verwende if, elif und else, um auf diese Eingabe zu \n",
    "    reagieren und verschiedene Ergebnisse zu erzeugen.\n",
    "\n",
    "Erklärung:\n",
    "- input(\"Hier steht eine Frage oder ein Text\"): Ermöglicht es dem Benutzer, über das Terminal eine Eingabe zu machen.\n",
    "- .lower(): Wandelt alle Buchstaben eines eingegebenen Strings in Kleinbuchstaben um, um fehlerhafte Eingaben durch Groß- und Kleinschreibung zu vermeiden.\n",
    "\n",
    "Du kannst gerne weiter machen bei \"Es war ein mal..\" oder fängst von vorne an und schreibst eine neue Geschichte.\n",
    "\n",
    "#------------------------------------------------------------------------------------------------------------------------------------------------------------------------------------------------\n",
    "\n",
    "\n"
   ]
  },
  {
   "cell_type": "code",
   "execution_count": null,
   "metadata": {},
   "outputs": [],
   "source": [
    "# Benutzer nach Name und Alter fragen\n",
    "user_name = input(\"Wie heißt du: \")\n",
    "user_age = int(input(\"Wie alt bist du: \"))\n",
    "age_req = int(18)\n",
    "\n",
    "\n",
    "# Überprüfen, ob der Benutzer volljährig ist\n",
    "if user_age >= 18:\n",
    "    print(f\"Willkommen, {user_name}!\")\n",
    "    print(\"Du bist volljährig und kannst dich auf die Reise ins Horror-Haus begeben.\")\n",
    "    \n",
    "    # Benutzer fragen, ob er bereit ist\n",
    "    user_ready = input(\"Bist du bereit für die Reise? [j/n]: \").lower()\n",
    "\n",
    "    if user_ready == \"j\":\n",
    "        print(\"Dann lass uns loslegen!\")\n",
    "        print(\"Es war ein mal... \")\n",
    "        enter_house = input(f\"{user_name} sieht ein Verlassenes Haus willst du es betreten [j/n]\").lower()\n",
    "\n",
    "    else:\n",
    "        print(\"Schade, vielleicht ein andermal!\")\n",
    "else:\n",
    "    print(f\"Es tut mir leid, {user_name}, du bist noch nicht 18.\")\n",
    "    print(f\"Du bist erst {user_age} bitte komm wieder in {age_req - user_age} Jahren, wenn du alt genug bist!\")\n",
    "\n",
    "\n",
    "\n",
    "\n",
    "\n",
    "\n",
    "\n"
   ]
  },
  {
   "cell_type": "code",
   "execution_count": null,
   "metadata": {
    "vscode": {
     "languageId": "plaintext"
    }
   },
   "outputs": [],
   "source": []
  }
 ],
 "metadata": {
  "language_info": {
   "name": "python"
  }
 },
 "nbformat": 4,
 "nbformat_minor": 2
}
