{
 "cells": [
  {
   "cell_type": "markdown",
   "metadata": {},
   "source": [
    "# 2. Packages\n",
    "---\n",
    "\n",
    "In diesen Skript bearbeiten wir die Grundlagen von Packages.\n",
    "Python bietet ein breites und umfangreiches Ökosystem an Packages\n",
    "Sei es von \n",
    "- Webframeworks (`Django`), \n",
    "- Spieleentwicklung (`Pygame`), \n",
    "- Big Data (`Spark`), \n",
    "- Daten analyse (`Seaborn`, `Plotly`, `Matplotlib`)\n",
    "- Machine Learning (`Skit-learn`, `Statsmodels`), \n",
    "- Deep Learning (`Tensorflow / Keras`) und viel mehr.\n",
    "---\n"
   ]
  },
  {
   "cell_type": "markdown",
   "metadata": {},
   "source": [
    "Stell sicher das du im richtigen Verzeichnis bist:\n",
    "---"
   ]
  },
  {
   "cell_type": "code",
   "execution_count": 38,
   "metadata": {},
   "outputs": [
    {
     "name": "stdout",
     "output_type": "stream",
     "text": [
      "New directory: /Users/riccardo/Desktop/Github/Python-Crashkurs_\n"
     ]
    }
   ],
   "source": [
    "import os\n",
    "import warnings \n",
    "warnings.filterwarnings('ignore')\n",
    "\n",
    "# Dein Akttueller Pfad\n",
    "notebook_path = os.getcwd()\n",
    "\"Current directory:\", notebook_path\n",
    "\n",
    "# (replace '/path/to/directory' ändere es zu dein Pfad)\n",
    "new_directory = '/Users/riccardo/Desktop/Github/Python-Crashkurs_'\n",
    "os.chdir(new_directory)\n",
    "\n",
    "# Bestätige die änderung\n",
    "notebook_path = os.getcwd()\n",
    "print(\"New directory:\", notebook_path)\n"
   ]
  },
  {
   "cell_type": "markdown",
   "metadata": {},
   "source": [
    "Pandas\n",
    "---\n",
    "### Installation:\n",
    "Wenn wir in einem Jupyter Notebook (`.ipynb` )arbeiten, verwenden wir den Code \n",
    "- `%pip install dein_package`, \n",
    "um das Pakete zu installieren."
   ]
  },
  {
   "cell_type": "markdown",
   "metadata": {},
   "source": [
    "In einer `.py` Datei wird die Eingabe in dem Terminal getätig und zwar wie folgt:\n",
    "`pip install dein_package`\n",
    "\n",
    "<img src=\"/Users/riccardo/Desktop/Github/Python-Crashkurs_/Pic_for_expla/install_package_terminal.png\" alt=\"Terminal package install\" width=\"700\"/>\n",
    "\n",
    "-----"
   ]
  },
  {
   "cell_type": "markdown",
   "metadata": {},
   "source": [
    "### Wie verwende ich ein Package\n",
    "Um die Verwendung eines Pakets zu verdeutlichen machen wird es an Pandas fest.\n",
    "Um das Paket zu verwenden, importieren wir es sowohl in einer `.ipynb-Datei` als auch in einer `.py-Datei` mit dem Befehl:\n",
    "\n",
    "- `import pandas as pd`\n",
    "\n",
    "\n",
    "**ACHTUNG:**\n",
    "\n",
    "Durch den Import mit `import` steht uns das Paket zur Verfügung, und wir können die damit verbundenen Funktionen nutzen.\n",
    "Wir referenzieren das Paket nicht mit `pandas`, sondern mit `pd`, da wir `as pd` verwenden. Das bedeutet, dass wir beim Aufruf der Pandas-Funktionen anstelle von `pandas` nur noch `pd` schreiben.\n",
    "\n",
    "------"
   ]
  },
  {
   "cell_type": "markdown",
   "metadata": {},
   "source": [
    "### Welche Funktionen gibt es nun ? \n",
    "\n",
    "Wie finden wir heraus welche Funktion nun Pandas hat ? \n",
    "Jedes große Package wie Pandas, Streamlit und viele mehr haben eine Offiziele Dokumentation.\n",
    "- Die offiziele Dokumentation von Pandas findest du hier: https://pandas.pydata.org/docs/index.html \n",
    "\n",
    "Dabei wird erklärt \n",
    "- welche Funktion es gibt \n",
    "- welche Parameter mitgeben werden können \n",
    "- zugleich werden weiter unten manchmal beispiele mitgegeben wie der Code anzuwenden ist.\n",
    "----\n",
    "\n"
   ]
  },
  {
   "cell_type": "code",
   "execution_count": null,
   "metadata": {},
   "outputs": [],
   "source": [
    "# Wie besproche müssen wir Pandas zunächst installieren:\n",
    "%pip install pandas"
   ]
  },
  {
   "cell_type": "code",
   "execution_count": 1,
   "metadata": {},
   "outputs": [],
   "source": [
    "# Importierung von Pandas um auf die Funktionen zugreifen zu können\n",
    "import pandas as pd"
   ]
  },
  {
   "cell_type": "markdown",
   "metadata": {},
   "source": [
    "Wir nutzen als erste Funktion \n",
    "\n",
    "- [pd.read_csv(filepath_or_buffer=\"Deine_Datei.csv\", sep=\",\")](https://pandas.pydata.org/docs/reference/api/pandas.read_csv.html)\n",
    "\n",
    "um Daten einzulesen."
   ]
  },
  {
   "cell_type": "code",
   "execution_count": null,
   "metadata": {},
   "outputs": [],
   "source": [
    "df = pd.read_csv(filepath_or_buffer=\"Data/titantic.csv\",\n",
    "                 sep=\",\")\n",
    "df.head()"
   ]
  },
  {
   "cell_type": "markdown",
   "metadata": {},
   "source": [
    "Titanic Datensatz:\n",
    "\n",
    "Beschreibung (Meta-Daten):\n",
    "- PassengerId: Unique identifier for each passenger.\n",
    "- Survived: Survival status of the passenger (0 = Not Survived, 1 = Survived).\n",
    "- Pclass: Passenger class (1 = First class, 2 = Second class, 3 = Third class).\n",
    "- Sex: Gender of the passenger.\n",
    "- Age: Age of the passenger.\n",
    "- SibSp: Number of siblings/spouses aboard the Titanic.\n",
    "- Parch: Number of parents/children aboard the Titanic.\n",
    "- Fare: Fare paid by the passenger.\n",
    "- Embarked: Port of embarkation (C = Cherbourg, Q = Queenstown, S = Southampton).\n",
    "---"
   ]
  },
  {
   "cell_type": "markdown",
   "metadata": {},
   "source": [
    "Bei der Importierung der Daten haben wir nun ausversehen eine Spalte hinzugefügt die wir nicht brauchen namenes `\"Unnamed: 0\"`.\n",
    "Um eine Spalte aus einem DataFrame zu entfernen, können wir die Funktion \n",
    "- [`df.drop()`](https://pandas.pydata.org/docs/reference/api/pandas.DataFrame.drop.html) wie folgt verwenden:\n",
    "\n",
    "- `df.drop(columns=[\"Spalte\"], inplace=True)` entfernt die Spalte dauerhaft aus dem DataFrame, da die Änderung direkt im ursprünglichen DataFrame durchgeführt wird.\n",
    "\n",
    "- `df = df.drop(columns=[\"Spalte\"])` wird verwendet, wenn der Parameter `inplace` nicht angegeben ist. In diesem Fall muss das Ergebnis entweder in der gleichen oder einer neuen Variablen gespeichert werden. Andernfalls wird die Änderung nur temporär vorgenommen und hat keinen Einfluss auf den DataFrame im weiteren Verlauf des Codes."
   ]
  },
  {
   "cell_type": "code",
   "execution_count": 30,
   "metadata": {},
   "outputs": [],
   "source": [
    "df.drop(columns=[\"Unnamed: 0\"], inplace = True)"
   ]
  },
  {
   "cell_type": "code",
   "execution_count": null,
   "metadata": {},
   "outputs": [],
   "source": [
    "# überprüfe ob die Spalte wirklich entfernt wurde\n",
    "df"
   ]
  },
  {
   "cell_type": "markdown",
   "metadata": {},
   "source": [
    "### Umgang mit NaN-Werten (Not a Number):\n",
    "\n",
    "NaN Werte sind Daten die nicht richtig erhoben worden oder auch fehler enthalten\n",
    "\n",
    "**Fehlende Werte:**\n",
    "Der Umgang mit fehlenden Werten ist ein entscheidender Schritt bei der Datenvorbereitung und sollte für jede Spalte individuell betrachtet werden.\n",
    "\n",
    "Die zentrale Frage sollte immer lauten: **Kann ich die fehlenden Werte sinnvoll ersetzen?**\n",
    "\n",
    "***Beispiel: Spalte `\"Age\"` (Alter) ?***\n"
   ]
  },
  {
   "cell_type": "code",
   "execution_count": null,
   "metadata": {},
   "outputs": [],
   "source": [
    "df.isna().sum()"
   ]
  },
  {
   "cell_type": "code",
   "execution_count": null,
   "metadata": {},
   "outputs": [],
   "source": [
    "df.describe().round(2)"
   ]
  },
  {
   "cell_type": "markdown",
   "metadata": {},
   "source": [
    "1. Lösche die Zeilen mit NaN values. ACHTUNG hier werden aus deinem Dataframe ALLE NaN values entfernt\n"
   ]
  },
  {
   "cell_type": "code",
   "execution_count": 9,
   "metadata": {},
   "outputs": [],
   "source": [
    "#df = df.dropna()"
   ]
  },
  {
   "cell_type": "markdown",
   "metadata": {},
   "source": [
    "2. Um alle Zeilen mit fehlenden Werten (NaN) in der 'Age'-Spalte zu löschen, kannst du den folgenden Befehl verwenden:\n",
    "\n",
    "    **Hinweis**: Dieser Schritt entfernt nur die Zeilen, die NaN-Werte in der angegebenen Spalte enthalten. \n",
    "Alle anderen NaN-Werte in anderen Spalten bleiben unverändert."
   ]
  },
  {
   "cell_type": "code",
   "execution_count": 33,
   "metadata": {},
   "outputs": [],
   "source": [
    "df = df.dropna(subset=['Age'])"
   ]
  },
  {
   "cell_type": "markdown",
   "metadata": {},
   "source": [
    "3. NaN-Werte mit dem Durchschnitt der jeweiligen Spalte füllen:\n",
    "\n",
    "Um die NaN-Werte in der `'Age'`-Spalte durch den Durchschnitt dieser Spalte zu ersetzen, verwende den folgenden Befehl:"
   ]
  },
  {
   "cell_type": "code",
   "execution_count": null,
   "metadata": {},
   "outputs": [],
   "source": [
    "#df = df.fillna()"
   ]
  },
  {
   "cell_type": "code",
   "execution_count": 9,
   "metadata": {},
   "outputs": [],
   "source": [
    "#df[\"Age\"]= df[\"Age\"].fillna(df[\"Age\"].mean()) # nur eine Spalte werden die Daten ersetzt"
   ]
  },
  {
   "cell_type": "code",
   "execution_count": null,
   "metadata": {},
   "outputs": [],
   "source": [
    "#df = df.fillna(df.mean()) #<- mean(), mode(), median() / Alle Spalten werden ersetzt oder Brechnungen die eine INT oder FLOAT wiedergeben"
   ]
  },
  {
   "cell_type": "code",
   "execution_count": null,
   "metadata": {},
   "outputs": [],
   "source": [
    "df.describe().round(2)"
   ]
  },
  {
   "cell_type": "markdown",
   "metadata": {},
   "source": [
    "`df.info()` gibt uns eine gesamte Übersicht über die Datentypen für jede Spalte an."
   ]
  },
  {
   "cell_type": "code",
   "execution_count": null,
   "metadata": {},
   "outputs": [],
   "source": [
    "df.info()"
   ]
  },
  {
   "cell_type": "markdown",
   "metadata": {},
   "source": [
    "Wir sehen das folgende Spalten den Datentypen darstellen als `objects`:\n",
    "- Name\n",
    "- Sex\n",
    "- Ticket\n",
    "- Cabin\n",
    "- Embarked\n",
    "\n",
    "Betrachte die Spalten und entscheide welche Datentypen du verwendets."
   ]
  },
  {
   "cell_type": "code",
   "execution_count": null,
   "metadata": {},
   "outputs": [],
   "source": [
    "df.head()"
   ]
  },
  {
   "cell_type": "markdown",
   "metadata": {},
   "source": [
    "### Anpassung der Datentypen:\n",
    "\n",
    "---"
   ]
  },
  {
   "cell_type": "markdown",
   "metadata": {},
   "source": [
    "Im folgenden werden wir die Datentypen anpassen. Da bei der Importierung fehler enstanden sind\n",
    "\n",
    "- Dabei nutzen wir die Funktion `.astype(\"string\")` um die jewelige Spalten Datentypen zu ändern."
   ]
  },
  {
   "cell_type": "code",
   "execution_count": 13,
   "metadata": {},
   "outputs": [],
   "source": [
    "df[\"Name\"] = df[\"Name\"].astype(\"string\")\n",
    "df[\"Sex\"] = df[\"Sex\"].astype(\"category\")\n",
    "\n",
    "# mache weiter und ändere die Datentypen für Ticket, Cabin und Embarked\n",
    "\n",
    "# - Ticket\n",
    "\n",
    "\n",
    "# - Cabin \n",
    "\n",
    "\n",
    "# - Embarked\n"
   ]
  },
  {
   "cell_type": "markdown",
   "metadata": {},
   "source": [
    "Überprüfe ob die Datentypen korrekt geändert wurden:"
   ]
  },
  {
   "cell_type": "code",
   "execution_count": null,
   "metadata": {},
   "outputs": [],
   "source": []
  },
  {
   "cell_type": "code",
   "execution_count": null,
   "metadata": {},
   "outputs": [],
   "source": [
    "df.head()"
   ]
  },
  {
   "cell_type": "markdown",
   "metadata": {},
   "source": [
    "### Datenfilterung:\n",
    "---\n",
    "Es gibt zahlreiche Methoden, um Daten zu filtern. Eine dieser Möglichkeiten werden wir nun genauer betrachten und praktisch anwenden."
   ]
  },
  {
   "cell_type": "markdown",
   "metadata": {},
   "source": [
    "### Daten Filterun mit einer Bedigung"
   ]
  },
  {
   "cell_type": "code",
   "execution_count": null,
   "metadata": {},
   "outputs": [],
   "source": [
    "# Der folgende Datensatz enthält nur Daten über die überlebende\n",
    "Survived_df = df[df[\"Survived\"] == 1]\n",
    "\n",
    "Survived_df.head()"
   ]
  },
  {
   "cell_type": "code",
   "execution_count": null,
   "metadata": {},
   "outputs": [],
   "source": [
    "# Der folgende Datensatz enthält nur Daten über die verstorbenen\n",
    "Perished_df = \n",
    "\n",
    "\n",
    "\n",
    "Perished_df.head()"
   ]
  },
  {
   "cell_type": "markdown",
   "metadata": {},
   "source": [
    "Aufgabe: Erstelle einen DataFrame, der nur die Passagiere enthält, die in der 1. Klasse gereist sind. Dafür musst du zunächst herausfinden, wie viele eindeutige *`(unique values)`* Werte die entsprechende Spalte hat.Um richtig filtern zukönnen. \n",
    "\n",
    "\n",
    "mit dem Code:\n",
    "`df[\"Pclass\"].unqiue()`\n",
    "Dieser Code gibt dir eine Übersicht der verschiedenen Klassen, indem jeder Wert nur einmal angezeigt wird. Dies hilft dir, die Struktur der Daten besser zu verstehen, \n",
    "bevor du den Filter auf die 1. Klasse anwendest."
   ]
  },
  {
   "cell_type": "code",
   "execution_count": null,
   "metadata": {},
   "outputs": [],
   "source": [
    "print(df[\"Pclass\"].unique())\n",
    "# print(df[\"Pclass\"].dtype)"
   ]
  },
  {
   "cell_type": "markdown",
   "metadata": {},
   "source": [
    "Nun kannst du nach der 1. Klasse filtern da du die `unique values` kennst."
   ]
  },
  {
   "cell_type": "code",
   "execution_count": null,
   "metadata": {},
   "outputs": [],
   "source": [
    "firstClass_df = "
   ]
  },
  {
   "cell_type": "markdown",
   "metadata": {},
   "source": [
    "Ein dataframe nur mit den Passagieren die die `2. Klasse` gebucht haben\n"
   ]
  },
  {
   "cell_type": "code",
   "execution_count": null,
   "metadata": {},
   "outputs": [],
   "source": [
    "secondClass_df ="
   ]
  },
  {
   "cell_type": "markdown",
   "metadata": {},
   "source": [
    "Ein dataframe nur mit den Passagieren die die `3. Klasse` gebucht haben\n"
   ]
  },
  {
   "cell_type": "code",
   "execution_count": null,
   "metadata": {},
   "outputs": [],
   "source": [
    "thridClass_df = "
   ]
  },
  {
   "cell_type": "markdown",
   "metadata": {},
   "source": [
    "### Daten Filterung mit mehreren Bedigung\n",
    "Das Filtern von Daten kann auch auf Basis von zwei oder mehr Bedingungen erfolgen. Im folgenden Beispiel filtern wir die Daten anhand von zwei Bedingungen und speichern das Ergebnis in einer neuen Variablen."
   ]
  },
  {
   "cell_type": "code",
   "execution_count": null,
   "metadata": {},
   "outputs": [],
   "source": [
    "maleSurvived_df = df[(df[\"Sex\"] == \"male\") & \n",
    "                    (df[\"Survived\"] == 1)].round(2)\n",
    "\n",
    "\n",
    "maleSurvived_df.head()"
   ]
  },
  {
   "cell_type": "markdown",
   "metadata": {},
   "source": [
    "Aufgabe: Filtere die Daten anhand der folgenden **zwei Bedingungen**:\n",
    "\n",
    "- Passagiere, die 25 Jahre oder älter sind,\n",
    "- und Passagiere, die in der 1. Klasse gebucht haben.\n",
    "Speichere das Ergebnis der gefilterten Daten in einer neuen Variablen."
   ]
  },
  {
   "cell_type": "code",
   "execution_count": null,
   "metadata": {},
   "outputs": [],
   "source": [
    "df_filtered = \n",
    "\n",
    "df_filtered"
   ]
  },
  {
   "cell_type": "markdown",
   "metadata": {},
   "source": [
    "Aufgabe: Filtere die Daten nach den folgenden Bedingungen:\n",
    "\n",
    "- Passagiere, die in der 3. Klasse gebucht haben,\n",
    "- und Passagiere, die das Unglück überlebt haben.\n",
    "Speichere das Ergebnis der gefilterten Daten in einer neuen Variablen."
   ]
  },
  {
   "cell_type": "code",
   "execution_count": null,
   "metadata": {},
   "outputs": [],
   "source": []
  },
  {
   "cell_type": "code",
   "execution_count": null,
   "metadata": {},
   "outputs": [],
   "source": []
  },
  {
   "cell_type": "markdown",
   "metadata": {},
   "source": [
    "## World Bank Data:\n",
    "\n",
    "---"
   ]
  },
  {
   "cell_type": "markdown",
   "metadata": {},
   "source": [
    "Lade die Folgende Datei herunter in Ilias in den Ordner Data/World_Data_Bank.csv\n",
    "\n",
    "- Nutze die Funktion `pd.read_csv()` um die Datei einzulesen und speicher sie ab als `df_wb`.\n",
    "\n",
    "*Stell sicher das du im richtigen Directory bist*"
   ]
  },
  {
   "cell_type": "code",
   "execution_count": null,
   "metadata": {},
   "outputs": [],
   "source": [
    "# Daten einlesen\n",
    "df_wb = \n",
    "df_wb"
   ]
  },
  {
   "cell_type": "markdown",
   "metadata": {},
   "source": [
    "Stell sicher das du keine NaN Werte hast:\n",
    "- Ersetzte die `NaN` werte nutze dafür gerne den Leitfaden oder den Code von oben"
   ]
  },
  {
   "cell_type": "code",
   "execution_count": null,
   "metadata": {},
   "outputs": [],
   "source": []
  },
  {
   "cell_type": "code",
   "execution_count": null,
   "metadata": {},
   "outputs": [],
   "source": []
  },
  {
   "cell_type": "markdown",
   "metadata": {},
   "source": [
    "Überprüfe ob die Datentypen richtig formatiert sind:"
   ]
  },
  {
   "cell_type": "code",
   "execution_count": null,
   "metadata": {},
   "outputs": [],
   "source": [
    "# Hier überprüfen nach den Datentypen"
   ]
  },
  {
   "cell_type": "code",
   "execution_count": null,
   "metadata": {},
   "outputs": [],
   "source": [
    "# Falls nötig ändere die Datentypen\n",
    "\n"
   ]
  },
  {
   "cell_type": "markdown",
   "metadata": {},
   "source": [
    "Betrachte den Datensatz und stelle fest wie viele Länder es gibt. \n",
    "Als Tipps `unqiue values` in der Spalte \"Country\""
   ]
  },
  {
   "cell_type": "code",
   "execution_count": 10,
   "metadata": {},
   "outputs": [],
   "source": [
    "# Hier nach unqiue values in der Spalte \"Country\" suchen\n"
   ]
  },
  {
   "cell_type": "markdown",
   "metadata": {},
   "source": [
    "Nachdem du erfolgreich festgestellt hast wie viele Länder dein Daten repräsentiert.\n",
    "Speicher die Länder in Variablen ab.\n",
    "- `ger_df`\n",
    "- `usa_df`\n",
    "- `fra_df`\n",
    "\n",
    "*Wie gefiltert wird haben wir bereits weiter oben besprochen oder du schaust im Leitfaden nach.*"
   ]
  },
  {
   "cell_type": "code",
   "execution_count": 28,
   "metadata": {},
   "outputs": [],
   "source": []
  },
  {
   "cell_type": "code",
   "execution_count": 7,
   "metadata": {},
   "outputs": [],
   "source": []
  },
  {
   "cell_type": "code",
   "execution_count": 6,
   "metadata": {},
   "outputs": [],
   "source": []
  },
  {
   "cell_type": "code",
   "execution_count": null,
   "metadata": {},
   "outputs": [],
   "source": []
  },
  {
   "cell_type": "markdown",
   "metadata": {},
   "source": [
    "Visualisierung mit *Plotly*:\n",
    "---\n",
    "Für die Visualisierung nutzen wir Plotly da dies die Grundlage ist für die Integration in Streamlit später.\n"
   ]
  },
  {
   "cell_type": "code",
   "execution_count": null,
   "metadata": {},
   "outputs": [],
   "source": [
    "%pip install plotly==5.24.1"
   ]
  },
  {
   "cell_type": "markdown",
   "metadata": {},
   "source": [
    "\n",
    "Folgende Funktion können wir zur Visualisierung nutzen\n",
    "- [`px.line()`](https://plotly.com/python/line-charts/) Liniendiagramm\n",
    "- [`px.box()`](https://plotly.com/python/box-plots/)    Boxplot\n",
    "- [`px.pie()`](https://plotly.com/python/pie-charts/)   Kuchendiagramm\n",
    "- [`px.bar()`](https://plotly.com/python/bar-charts/)   Balkendiagramm\n",
    "- [`px.histogram()`](https://plotly.com/python/histograms/)  Histogramm\n",
    "- [`px.violin()`](https://plotly.com/python/violin/)     Violin \n",
    "\n",
    "und viele mehr findest du auf der offizielen Seite von Plotly.\n",
    "Plotly: https://plotly.com/python/\n",
    "\n",
    "---"
   ]
  },
  {
   "cell_type": "code",
   "execution_count": 17,
   "metadata": {},
   "outputs": [],
   "source": [
    "import plotly.express as px"
   ]
  },
  {
   "cell_type": "markdown",
   "metadata": {},
   "source": [
    "Wir werden mit `simplen Zeitreihen` beginnen und steigern uns stück für stück.\n",
    "\n",
    "Als Orientierung kannst du den Code `df_wb.columns` nutzen um die exakte Schreibe weise deiner Spalten zu betrachten:"
   ]
  },
  {
   "cell_type": "code",
   "execution_count": null,
   "metadata": {},
   "outputs": [],
   "source": [
    "df_wb.columns"
   ]
  },
  {
   "cell_type": "markdown",
   "metadata": {},
   "source": [
    "### 1. Visualisierung:\n",
    "---\n",
    "\n",
    "Schauen wir an welche Parameter wir mitgeben können:\n",
    "\n",
    "`px.line()`: Ist ein Liniendiagramm\n",
    "- `dataframe`: Der Datensatz\n",
    "- `x`: Die x-Achse, wo wir nur die Spalten namen eigeben des Datensatzes\n",
    "- `y`: Die y-Achse, wo wir nur die Spalten namen eigeben des Datensatzes\n",
    "- `color`: Die Farbe der Linie nach Ländern\n",
    "- `title`: Der Titel des Diagramms"
   ]
  },
  {
   "cell_type": "code",
   "execution_count": null,
   "metadata": {},
   "outputs": [],
   "source": [
    "fig = px.line(data_frame=ger_df, \n",
    "              x=\"Year\", \n",
    "              y=\"Unemployment Rate (%)\", \n",
    "              title='Unemployment Rate (%) in Germany', \n",
    "              color='Country')\n",
    "fig.show()"
   ]
  },
  {
   "cell_type": "markdown",
   "metadata": {},
   "source": [
    "### 2. Visualisierung\n",
    "\n",
    "---\n",
    "\n",
    "\n",
    "Als weitere Funktion haben wir nun:\n",
    "`update_xaxes()`,`update_yaxes()`\n",
    "- `dtick=1`: Wie soll die Skalierung deiner X-Achse sein\n",
    "- `tickangle`: Die Rotation deiner X-Achsen Werte\n",
    "\n",
    "Trage gerne andere Werte (`int`) in `dtick` ein um zusehen wie sich die X-Achse ändert und gernauch bei `tickangle`\n",
    "\n",
    "Als nächstes nutzt du die Variable `usa_df` und erstellst ein Liniendiagramm mit den gleichen Parametern,\n",
    "aber anstatt von `ger_df` nutzt du bitte `usa_df` in den Parameter `dataframe`\n"
   ]
  },
  {
   "cell_type": "code",
   "execution_count": null,
   "metadata": {},
   "outputs": [],
   "source": [
    "# Ein Diagramm mit den Daten aller drei Länder in einer Figur\n",
    "fig = px.line(data_frame = ,\n",
    "              x = , \n",
    "              y = , \n",
    "              color= , \n",
    "              title = )\n",
    "\n",
    "fig.update_xaxes(dtick=1, tickangle=1)\n",
    "fig.update_yaxes(dtick=1, tickangle=1)\n",
    "fig.show()"
   ]
  },
  {
   "cell_type": "markdown",
   "metadata": {},
   "source": [
    "### 3. Visualisierung\n",
    "\n",
    "---\n",
    "\n",
    "Als nächstes werden wir den ursprünglichen Datensatz nehmen `df` und visualisieren die Daten aller 3 Länder in einer Figur.\n",
    "Visualisieren dafür \n",
    "\n",
    "- *Gestalte bitte den Graphen so das er eine klare und minimalitische Übersicht der Daten wiedergibt.*"
   ]
  },
  {
   "cell_type": "code",
   "execution_count": null,
   "metadata": {},
   "outputs": [],
   "source": [
    "# Ein Diagramm mit den Daten aller drei Länder in einer Figur\n",
    "fig = px.line(\n",
    "\n",
    "\n",
    "\n",
    "# Entferne den Hastag und vervollständige den Code\n",
    "\n",
    "\n",
    "\n",
    ")\n",
    "\n",
    "fig.update_xaxes(dtick=1, tickangle=1)\n",
    "fig.update_yaxes(dtick=1, tickangle=1)\n",
    "fig.show()"
   ]
  },
  {
   "cell_type": "code",
   "execution_count": null,
   "metadata": {},
   "outputs": [],
   "source": [
    "df_wb.columns"
   ]
  },
  {
   "cell_type": "markdown",
   "metadata": {},
   "source": [
    "### 4. Visualisierungen\n",
    "---\n",
    "\n",
    "In diesem Schritt erstellen wir ein weiteres Liniendiagramm, um die *Arbeitslosenquote* und die *Inflationsrate* in Deutschland zu visualisieren. Dazu verwenden wir die bereits bekannte Funktion `px.line()`. Der Unterschied ist nun, dass wir dem *Parameter* `y` eine Liste von Spalten übergeben **(dargestellt durch [])**, die wir im Diagramm darstellen möchten.\n",
    "\n",
    "Eine neue Funktion, die wir hier einführen, ist `update_layout()`. Diese Funktion ermöglicht uns, das Layout des Diagramms weiter anzupassen:\n",
    "\n",
    "- `legend_title=\"Metric\"`: Legt den Titel der Legende fest, der erklärt, welche Linie welche Metrik repräsentiert.\n",
    "- `xaxis_title = \"Year\"`: Fügt der X-Achse eine Beschriftung hinzu, die die Jahre darstellt.\n",
    "- `yaxis_title = \"Rate (%)\"`: Fügt der Y-Achse eine Beschriftung hinzu, die die Rate in Prozent anzeigt (für Arbeitslosenquote und Inflation).\n",
    "\n",
    "Durch diese Anpassungen wird das Diagramm nicht nur informativer, sondern auch leichter verständlich."
   ]
  },
  {
   "cell_type": "code",
   "execution_count": null,
   "metadata": {},
   "outputs": [],
   "source": [
    "fig = px.line( \n",
    "              \n",
    "              y = [\"Unemployment Rate (%)\", \"Inflation Rate (%)\"], \n",
    "              \n",
    "\n",
    "#Update layout to ensure legend appears with proper labels\n",
    "fig.update_layout(\n",
    "    legend_title = \"Metric\",\n",
    "    xaxis_title = \"Year\",\n",
    "    yaxis_title = \"Rate (%)\"\n",
    ")\n",
    "fig.show()"
   ]
  },
  {
   "cell_type": "markdown",
   "metadata": {
    "vscode": {
     "languageId": "bat"
    }
   },
   "source": [
    "### Die möglichkeiten sind unendlich viele und es gibt noch viele weitere Funktionen die du nutzen kannst.\n",
    "### Es folgen weitere beispiele die jedoch im Kern gleich sind."
   ]
  },
  {
   "cell_type": "markdown",
   "metadata": {},
   "source": [
    "### Erstellung eines Boxplots\n",
    "---\n",
    "`px.box()`\n",
    "- Parameter: \n",
    "\n",
    "    - `data_frame=df`aus welchen Dataframe die Daten visualisiert werden sollen\n",
    "    - `y=\"Age\"` die Spalte\n",
    "    - `title=\"Age Distribution of Passengers\"` Ist die überschrift des Boxplots.\n",
    "\n",
    "`fig.update_layout`\n",
    "- Parameter:\n",
    "    - width (breite) als *`int`*\n",
    "    - height (höhe) als *`int`* \n",
    "\n",
    "**Dieses Muster werden sich immer wieder holen**\n"
   ]
  },
  {
   "cell_type": "code",
   "execution_count": null,
   "metadata": {},
   "outputs": [],
   "source": [
    "fig = px.box(data_frame = df, \n",
    "             y = \"Age\", \n",
    "             title = \"Age Distribution of Passengers\")\n",
    "\n",
    "fig.update_layout(width = 800, \n",
    "                  height = 600)  # Setze die Breite und Höhe des Graphen\n",
    "fig.show()\n"
   ]
  },
  {
   "cell_type": "markdown",
   "metadata": {},
   "source": [
    "### Erstellung eines Histogram\n",
    "\n",
    "Indemfall nutzen wir den `px.histogram()` um die Verteilung der Geschlechter `(\"Sex\")` zu visualisieren\n",
    "Die Parameter bleiben exakt die gleichen jedoch die Visualsierung ändert sich.\n",
    "\n",
    "-Erstelle eine Histogramm für die Geschlechter `Sex`"
   ]
  },
  {
   "cell_type": "code",
   "execution_count": null,
   "metadata": {},
   "outputs": [],
   "source": [
    "fig = px.histogram(data_frame = df,\n",
    "                    x=\"Sex\", \n",
    "                    title=\"Male or Female\")\n",
    "\n",
    "fig.update_layout(width=800, \n",
    "                  height = 600)\n",
    "fig.show()"
   ]
  },
  {
   "cell_type": "markdown",
   "metadata": {},
   "source": [
    "Eine weiter mögliche ist eine Lücke `(bargap)` zwischen den Balken zu setzen indem wir \n",
    "- `fig.update_layout(bargap=0.2)` hinzufügen.\n",
    "\n",
    "Der Parameter ist ein Wert zwischen 0 und 1, wobei 0 bedeutet, dass die Balken aneinander kleben und 1 bedeutet, dass die Balken so weit wie möglich voneinander entfernt sind."
   ]
  },
  {
   "cell_type": "code",
   "execution_count": null,
   "metadata": {},
   "outputs": [],
   "source": [
    "fig = px.histogram(data_frame=df, \n",
    "                   x=\"Survived\", \n",
    "                   title=\"How many passengers survived?\")\n",
    "\n",
    "fig.update_layout(width=800, \n",
    "                  height=600, \n",
    "                  bargap=0.2,)  # Setzt eine Lücke von 20% zwischen den Balken\n",
    "\n",
    "fig.show()"
   ]
  },
  {
   "cell_type": "markdown",
   "metadata": {},
   "source": [
    "Kreisdiagramm:\n",
    "---\n",
    "- `data_frame=Survived_df`: Der Datensatz, der für das Diagramm verwendet wird.\n",
    "- `values='Survived'`: Die Spalte, die die Werte für die Segmentgrößen angibt.\n",
    "- `names='Pclass'`: Die Spalte, die die Kategorien (Passagierklassen) für die Segmente definiert.\n",
    "- `title='Survival rate of Pclass'`: Der Titel des Diagramms.\n",
    "- `hole=0.3`: Macht aus dem Kuchendiagramm ein Donut-Diagramm, indem es die Mitte zu 30 % leer lässt."
   ]
  },
  {
   "cell_type": "code",
   "execution_count": null,
   "metadata": {},
   "outputs": [],
   "source": [
    "fig = px.pie(data_frame=df, \n",
    "                values='Survived',\n",
    "                names='Pclass',\n",
    "                title='Survival rate of Pclass',\n",
    "                hole=0.3)\n",
    "fig.update_layout(width=800, height=600)  \n",
    "fig.show()"
   ]
  },
  {
   "cell_type": "markdown",
   "metadata": {},
   "source": [
    "1. `fig = px.pie(...)`: \n",
    "    - `hole=0.3`: Erstellt ein Donut-Diagramm  \n",
    "    - `names=\"Pclass\"`:der Passagierklasse (Pclass) als Kategorie und dem Titel \"Verteilung der Passagiere nach Klasse\".\n",
    "\n",
    "2. `fig.update_traces(pull=[0.2, 0.1, 0.4])`: \n",
    "    - `pull`:Hebt die Segmente der Klassen 1 und 3 hervor, indem sie aus dem Donut herausgezogen werden. Der Wert in pull bestimmt, wie stark jedes Segment verschoben wird (Klasse 1 um 0.2, Klasse 3 um 0.4).\n",
    "\n",
    "3. `fig.update_layout()`: \n",
    "    - Parameter:\n",
    "        - `width`: (breite) als *`int`*\n",
    "        - `height`: (höhe) als *`int`* "
   ]
  },
  {
   "cell_type": "code",
   "execution_count": null,
   "metadata": {},
   "outputs": [],
   "source": [
    "fig = px.pie(df, names=\"Pclass\",\n",
    "              title=\"Verteilung der Passagiere nach Klasse\",\n",
    "             hole=0.3)\n",
    "  \n",
    "fig.update_traces(pull=[0.2, 0.1, 0.4])  # Hebt die Klassen 1 und 3 hervor\n",
    "fig.update_layout(width=600, height=600, title_font_size=22, font=dict(size=16))\n",
    "fig.show()\n"
   ]
  },
  {
   "cell_type": "markdown",
   "metadata": {},
   "source": [
    "`fig = px.bar()`\n",
    "- `y=\"Pclass\"`: Y-Achse zeigt die Passagierklasse.\n",
    "- `x=\"Survived\"`: X-Achse zeigt den Überlebensstatus.\n",
    "- `color=\"Embarked\"`: Balken werden nach Einschiffungshäfen farblich markiert.\n",
    "- `barmode=\"group\"`: Balken sind gruppiert, nicht gestapelt.\n",
    "- `facet_col=\"Sex\"`: Separate Diagramme für Männer und Frauen (Facetten-Spalten).\n",
    "- `category_orders`: Legt die Reihenfolge der Kategorien fest (Pclass, Embarked, Sex).\n",
    "\n",
    "`fig.update_traces()`: \n",
    "- `marker_line_width=0`:Entfernt die Linien um die Balken."
   ]
  },
  {
   "cell_type": "code",
   "execution_count": null,
   "metadata": {},
   "outputs": [],
   "source": [
    "pclass_feature = df.Pclass.value_counts()\n",
    "pclass_feature\n",
    "fig = px.bar(x=pclass_feature.index,\n",
    "             y=pclass_feature.values,\n",
    "             title=\"Verteilung der Passagiere nach Klasse\")\n",
    "\n",
    "fig.update_layout(title=\"Verteilung der Passagiere nach Klasse\",\n",
    "                  xaxis_title=\"Klasse\",\n",
    "                  yaxis_title=\"Anzahl der Passagiere\")\n",
    "\n",
    "fig.update_xaxes(dtick=1)\n",
    "fig.show()"
   ]
  },
  {
   "cell_type": "code",
   "execution_count": null,
   "metadata": {},
   "outputs": [],
   "source": [
    "fig = px.histogram(\n",
    "    df,\n",
    "    x='Survived',\n",
    "    color='Pclass',\n",
    "    barmode='group',\n",
    "    title=\"Survival Count Plot\",\n",
    "    text_auto=True  # This parameter automatically adds text labels to the bars\n",
    ")\n",
    "\n",
    "# Update layout to improve appearance\n",
    "fig.update_layout(\n",
    "    xaxis_title='Survived',\n",
    "    yaxis_title='Count',\n",
    "    legend_title='Passenger Class',\n",
    "    font=dict(size=14)  # Optionally adjust the font size of the text labels\n",
    ")\n"
   ]
  },
  {
   "cell_type": "code",
   "execution_count": null,
   "metadata": {},
   "outputs": [],
   "source": [
    "fig = px.pie(data_frame=df, values='Survived',\n",
    "                names='Pclass',\n",
    "                title='Survival rate of Pclass',\n",
    "                hole=0.3,\n",
    "                width=800, height=600)\n",
    "\n",
    "fig.show()"
   ]
  },
  {
   "cell_type": "code",
   "execution_count": 28,
   "metadata": {},
   "outputs": [],
   "source": [
    "df_car = pd.read_csv(filepath_or_buffer=\"Data/car.csv\")\n",
    "df_car.drop(columns=[\"Unnamed: 0\"], inplace = True)\n",
    "df_car.dropna(inplace = True)"
   ]
  },
  {
   "cell_type": "code",
   "execution_count": null,
   "metadata": {},
   "outputs": [],
   "source": [
    "# 3D-Scatterplot mit Farbcodierung basierend auf der Anzahl der Zylinder ('cylinders')\n",
    "fig = px.scatter_3d(df_car, x='displacement', y='mpg', z='weight',\n",
    "                    color='cylinders',  # Farbskala basierend auf der Anzahl der Zylinder\n",
    "                    size='horsepower',  # Punktgröße basierend auf der Leistung (PS)\n",
    "                    title=\"3D-Darstellung: Hubraum, Kraftstoffeffizienz und Fahrzeuggewicht\",\n",
    "                    labels={'displacement': 'Hubraum (cc)', \n",
    "                            'mpg': 'Meilen pro Gallone (mpg)', \n",
    "                            'weight': 'Gewicht (lbs)'})\n",
    "\n",
    "# Layout-Anpassungen\n",
    "fig.update_layout(title_x=0.5,  # Titel zentrieren\n",
    "                  width=800, height=600)\n",
    "\n",
    "# Zeige das Diagramm an\n",
    "fig.show()"
   ]
  },
  {
   "cell_type": "markdown",
   "metadata": {},
   "source": [
    "---\n",
    "## User Mobile Device beahvior\n",
    "---"
   ]
  },
  {
   "cell_type": "markdown",
   "metadata": {},
   "source": [
    "Führe selbstständig eine \n",
    "- Daten importierung\n",
    "- Daten reinigung\n",
    "- Filter die Daten sowie es dir passen\n",
    "- und Visualisiere die Daten\n"
   ]
  },
  {
   "cell_type": "code",
   "execution_count": 41,
   "metadata": {},
   "outputs": [
    {
     "data": {
      "text/html": [
       "<div>\n",
       "<style scoped>\n",
       "    .dataframe tbody tr th:only-of-type {\n",
       "        vertical-align: middle;\n",
       "    }\n",
       "\n",
       "    .dataframe tbody tr th {\n",
       "        vertical-align: top;\n",
       "    }\n",
       "\n",
       "    .dataframe thead th {\n",
       "        text-align: right;\n",
       "    }\n",
       "</style>\n",
       "<table border=\"1\" class=\"dataframe\">\n",
       "  <thead>\n",
       "    <tr style=\"text-align: right;\">\n",
       "      <th></th>\n",
       "      <th>User ID</th>\n",
       "      <th>Device Model</th>\n",
       "      <th>Operating System</th>\n",
       "      <th>App Usage Time (min/day)</th>\n",
       "      <th>Screen On Time (hours/day)</th>\n",
       "      <th>Battery Drain (mAh/day)</th>\n",
       "      <th>Number of Apps Installed</th>\n",
       "      <th>Data Usage (MB/day)</th>\n",
       "      <th>Age</th>\n",
       "      <th>Gender</th>\n",
       "      <th>User Behavior Class</th>\n",
       "    </tr>\n",
       "  </thead>\n",
       "  <tbody>\n",
       "    <tr>\n",
       "      <th>0</th>\n",
       "      <td>1</td>\n",
       "      <td>Google Pixel 5</td>\n",
       "      <td>Android</td>\n",
       "      <td>393</td>\n",
       "      <td>6.4</td>\n",
       "      <td>1872</td>\n",
       "      <td>67</td>\n",
       "      <td>1122</td>\n",
       "      <td>40</td>\n",
       "      <td>Male</td>\n",
       "      <td>4</td>\n",
       "    </tr>\n",
       "    <tr>\n",
       "      <th>1</th>\n",
       "      <td>2</td>\n",
       "      <td>OnePlus 9</td>\n",
       "      <td>Android</td>\n",
       "      <td>268</td>\n",
       "      <td>4.7</td>\n",
       "      <td>1331</td>\n",
       "      <td>42</td>\n",
       "      <td>944</td>\n",
       "      <td>47</td>\n",
       "      <td>Female</td>\n",
       "      <td>3</td>\n",
       "    </tr>\n",
       "    <tr>\n",
       "      <th>2</th>\n",
       "      <td>3</td>\n",
       "      <td>Xiaomi Mi 11</td>\n",
       "      <td>Android</td>\n",
       "      <td>154</td>\n",
       "      <td>4.0</td>\n",
       "      <td>761</td>\n",
       "      <td>32</td>\n",
       "      <td>322</td>\n",
       "      <td>42</td>\n",
       "      <td>Male</td>\n",
       "      <td>2</td>\n",
       "    </tr>\n",
       "    <tr>\n",
       "      <th>3</th>\n",
       "      <td>4</td>\n",
       "      <td>Google Pixel 5</td>\n",
       "      <td>Android</td>\n",
       "      <td>239</td>\n",
       "      <td>4.8</td>\n",
       "      <td>1676</td>\n",
       "      <td>56</td>\n",
       "      <td>871</td>\n",
       "      <td>20</td>\n",
       "      <td>Male</td>\n",
       "      <td>3</td>\n",
       "    </tr>\n",
       "    <tr>\n",
       "      <th>4</th>\n",
       "      <td>5</td>\n",
       "      <td>iPhone 12</td>\n",
       "      <td>iOS</td>\n",
       "      <td>187</td>\n",
       "      <td>4.3</td>\n",
       "      <td>1367</td>\n",
       "      <td>58</td>\n",
       "      <td>988</td>\n",
       "      <td>31</td>\n",
       "      <td>Female</td>\n",
       "      <td>3</td>\n",
       "    </tr>\n",
       "    <tr>\n",
       "      <th>...</th>\n",
       "      <td>...</td>\n",
       "      <td>...</td>\n",
       "      <td>...</td>\n",
       "      <td>...</td>\n",
       "      <td>...</td>\n",
       "      <td>...</td>\n",
       "      <td>...</td>\n",
       "      <td>...</td>\n",
       "      <td>...</td>\n",
       "      <td>...</td>\n",
       "      <td>...</td>\n",
       "    </tr>\n",
       "    <tr>\n",
       "      <th>695</th>\n",
       "      <td>696</td>\n",
       "      <td>iPhone 12</td>\n",
       "      <td>iOS</td>\n",
       "      <td>92</td>\n",
       "      <td>3.9</td>\n",
       "      <td>1082</td>\n",
       "      <td>26</td>\n",
       "      <td>381</td>\n",
       "      <td>22</td>\n",
       "      <td>Male</td>\n",
       "      <td>2</td>\n",
       "    </tr>\n",
       "    <tr>\n",
       "      <th>696</th>\n",
       "      <td>697</td>\n",
       "      <td>Xiaomi Mi 11</td>\n",
       "      <td>Android</td>\n",
       "      <td>316</td>\n",
       "      <td>6.8</td>\n",
       "      <td>1965</td>\n",
       "      <td>68</td>\n",
       "      <td>1201</td>\n",
       "      <td>59</td>\n",
       "      <td>Male</td>\n",
       "      <td>4</td>\n",
       "    </tr>\n",
       "    <tr>\n",
       "      <th>697</th>\n",
       "      <td>698</td>\n",
       "      <td>Google Pixel 5</td>\n",
       "      <td>Android</td>\n",
       "      <td>99</td>\n",
       "      <td>3.1</td>\n",
       "      <td>942</td>\n",
       "      <td>22</td>\n",
       "      <td>457</td>\n",
       "      <td>50</td>\n",
       "      <td>Female</td>\n",
       "      <td>2</td>\n",
       "    </tr>\n",
       "    <tr>\n",
       "      <th>698</th>\n",
       "      <td>699</td>\n",
       "      <td>Samsung Galaxy S21</td>\n",
       "      <td>Android</td>\n",
       "      <td>62</td>\n",
       "      <td>1.7</td>\n",
       "      <td>431</td>\n",
       "      <td>13</td>\n",
       "      <td>224</td>\n",
       "      <td>44</td>\n",
       "      <td>Male</td>\n",
       "      <td>1</td>\n",
       "    </tr>\n",
       "    <tr>\n",
       "      <th>699</th>\n",
       "      <td>700</td>\n",
       "      <td>OnePlus 9</td>\n",
       "      <td>Android</td>\n",
       "      <td>212</td>\n",
       "      <td>5.4</td>\n",
       "      <td>1306</td>\n",
       "      <td>49</td>\n",
       "      <td>828</td>\n",
       "      <td>23</td>\n",
       "      <td>Female</td>\n",
       "      <td>3</td>\n",
       "    </tr>\n",
       "  </tbody>\n",
       "</table>\n",
       "<p>700 rows × 11 columns</p>\n",
       "</div>"
      ],
      "text/plain": [
       "     User ID        Device Model Operating System  App Usage Time (min/day)  \\\n",
       "0          1      Google Pixel 5          Android                       393   \n",
       "1          2           OnePlus 9          Android                       268   \n",
       "2          3        Xiaomi Mi 11          Android                       154   \n",
       "3          4      Google Pixel 5          Android                       239   \n",
       "4          5           iPhone 12              iOS                       187   \n",
       "..       ...                 ...              ...                       ...   \n",
       "695      696           iPhone 12              iOS                        92   \n",
       "696      697        Xiaomi Mi 11          Android                       316   \n",
       "697      698      Google Pixel 5          Android                        99   \n",
       "698      699  Samsung Galaxy S21          Android                        62   \n",
       "699      700           OnePlus 9          Android                       212   \n",
       "\n",
       "     Screen On Time (hours/day)  Battery Drain (mAh/day)  \\\n",
       "0                           6.4                     1872   \n",
       "1                           4.7                     1331   \n",
       "2                           4.0                      761   \n",
       "3                           4.8                     1676   \n",
       "4                           4.3                     1367   \n",
       "..                          ...                      ...   \n",
       "695                         3.9                     1082   \n",
       "696                         6.8                     1965   \n",
       "697                         3.1                      942   \n",
       "698                         1.7                      431   \n",
       "699                         5.4                     1306   \n",
       "\n",
       "     Number of Apps Installed  Data Usage (MB/day)  Age  Gender  \\\n",
       "0                          67                 1122   40    Male   \n",
       "1                          42                  944   47  Female   \n",
       "2                          32                  322   42    Male   \n",
       "3                          56                  871   20    Male   \n",
       "4                          58                  988   31  Female   \n",
       "..                        ...                  ...  ...     ...   \n",
       "695                        26                  381   22    Male   \n",
       "696                        68                 1201   59    Male   \n",
       "697                        22                  457   50  Female   \n",
       "698                        13                  224   44    Male   \n",
       "699                        49                  828   23  Female   \n",
       "\n",
       "     User Behavior Class  \n",
       "0                      4  \n",
       "1                      3  \n",
       "2                      2  \n",
       "3                      3  \n",
       "4                      3  \n",
       "..                   ...  \n",
       "695                    2  \n",
       "696                    4  \n",
       "697                    2  \n",
       "698                    1  \n",
       "699                    3  \n",
       "\n",
       "[700 rows x 11 columns]"
      ]
     },
     "execution_count": 41,
     "metadata": {},
     "output_type": "execute_result"
    }
   ],
   "source": [
    "df_U = pd.read_csv(\"Data/user_behavior_dataset.csv\")\n",
    "df_U"
   ]
  },
  {
   "cell_type": "code",
   "execution_count": 55,
   "metadata": {},
   "outputs": [
    {
     "data": {
      "application/vnd.plotly.v1+json": {
       "config": {
        "plotlyServerURL": "https://plot.ly"
       },
       "data": [
        {
         "alignmentgroup": "True",
         "bingroup": "x",
         "histfunc": "sum",
         "hovertemplate": "Number of Apps Installed=%{x}<br>sum of Screen On Time (hours/day)=%{y}<extra></extra>",
         "legendgroup": "",
         "marker": {
          "color": "#636efa",
          "pattern": {
           "shape": ""
          }
         },
         "name": "",
         "offsetgroup": "",
         "orientation": "v",
         "showlegend": false,
         "type": "histogram",
         "x": [
          67,
          42,
          32,
          56,
          58,
          35,
          66,
          82,
          75,
          75,
          17,
          47,
          65,
          43,
          53,
          84,
          32,
          41,
          16,
          89,
          37,
          82,
          65,
          46,
          59,
          38,
          77,
          89,
          77,
          78,
          44,
          59,
          55,
          14,
          81,
          19,
          30,
          93,
          74,
          77,
          52,
          83,
          39,
          32,
          21,
          96,
          97,
          25,
          90,
          82,
          61,
          52,
          28,
          38,
          83,
          14,
          10,
          89,
          75,
          64,
          85,
          77,
          14,
          87,
          67,
          48,
          57,
          35,
          98,
          16,
          64,
          97,
          66,
          11,
          14,
          43,
          14,
          29,
          17,
          52,
          99,
          22,
          77,
          11,
          56,
          63,
          25,
          11,
          31,
          75,
          39,
          46,
          16,
          24,
          72,
          73,
          91,
          82,
          18,
          44,
          15,
          45,
          37,
          52,
          28,
          12,
          38,
          17,
          55,
          41,
          26,
          84,
          45,
          33,
          76,
          34,
          13,
          49,
          13,
          37,
          71,
          89,
          99,
          96,
          57,
          99,
          68,
          45,
          34,
          39,
          90,
          69,
          30,
          18,
          19,
          90,
          16,
          42,
          94,
          91,
          42,
          71,
          37,
          12,
          90,
          45,
          73,
          19,
          58,
          34,
          92,
          19,
          38,
          72,
          10,
          36,
          19,
          71,
          79,
          26,
          19,
          15,
          69,
          18,
          48,
          98,
          88,
          10,
          44,
          90,
          27,
          17,
          25,
          72,
          11,
          47,
          42,
          51,
          52,
          83,
          38,
          68,
          83,
          15,
          91,
          94,
          79,
          15,
          21,
          11,
          23,
          13,
          63,
          52,
          79,
          49,
          41,
          32,
          14,
          32,
          84,
          35,
          11,
          16,
          21,
          71,
          15,
          21,
          92,
          47,
          76,
          86,
          38,
          10,
          29,
          89,
          78,
          95,
          81,
          28,
          75,
          31,
          79,
          83,
          31,
          97,
          72,
          49,
          25,
          79,
          32,
          91,
          83,
          27,
          28,
          18,
          88,
          66,
          13,
          96,
          16,
          81,
          36,
          69,
          16,
          45,
          17,
          63,
          22,
          13,
          13,
          78,
          99,
          31,
          14,
          77,
          65,
          45,
          50,
          98,
          14,
          68,
          93,
          10,
          77,
          85,
          43,
          84,
          45,
          69,
          78,
          56,
          29,
          32,
          37,
          88,
          42,
          52,
          12,
          75,
          12,
          11,
          72,
          16,
          70,
          90,
          64,
          54,
          36,
          10,
          66,
          19,
          10,
          45,
          87,
          18,
          67,
          26,
          44,
          35,
          65,
          59,
          67,
          89,
          22,
          32,
          47,
          68,
          57,
          66,
          51,
          68,
          32,
          21,
          59,
          11,
          43,
          29,
          63,
          81,
          56,
          56,
          61,
          14,
          78,
          54,
          57,
          18,
          12,
          89,
          49,
          36,
          45,
          69,
          18,
          99,
          62,
          15,
          70,
          13,
          13,
          90,
          87,
          54,
          52,
          73,
          38,
          18,
          34,
          66,
          73,
          14,
          52,
          68,
          14,
          19,
          51,
          92,
          13,
          55,
          86,
          97,
          11,
          64,
          84,
          67,
          82,
          85,
          36,
          35,
          83,
          86,
          91,
          95,
          12,
          17,
          17,
          63,
          99,
          22,
          47,
          99,
          19,
          35,
          38,
          78,
          32,
          13,
          92,
          31,
          69,
          76,
          29,
          66,
          84,
          61,
          14,
          90,
          18,
          10,
          86,
          36,
          71,
          89,
          84,
          69,
          33,
          61,
          74,
          61,
          86,
          88,
          46,
          51,
          22,
          24,
          52,
          91,
          43,
          11,
          12,
          38,
          71,
          18,
          59,
          24,
          36,
          28,
          33,
          90,
          59,
          36,
          90,
          15,
          99,
          21,
          46,
          16,
          24,
          39,
          56,
          44,
          17,
          48,
          97,
          61,
          81,
          58,
          22,
          10,
          30,
          92,
          35,
          13,
          24,
          13,
          15,
          55,
          10,
          37,
          91,
          36,
          54,
          50,
          10,
          51,
          75,
          47,
          61,
          16,
          52,
          93,
          37,
          45,
          55,
          68,
          77,
          44,
          59,
          59,
          39,
          87,
          87,
          18,
          61,
          18,
          34,
          46,
          62,
          94,
          71,
          22,
          19,
          69,
          24,
          88,
          51,
          37,
          54,
          26,
          14,
          74,
          91,
          50,
          99,
          66,
          45,
          11,
          45,
          90,
          58,
          89,
          17,
          31,
          73,
          28,
          36,
          19,
          87,
          22,
          75,
          17,
          64,
          98,
          45,
          57,
          36,
          10,
          32,
          47,
          86,
          66,
          66,
          57,
          67,
          24,
          48,
          82,
          98,
          95,
          89,
          21,
          48,
          48,
          97,
          17,
          45,
          33,
          74,
          32,
          72,
          30,
          23,
          75,
          61,
          41,
          25,
          43,
          65,
          81,
          69,
          21,
          15,
          10,
          55,
          15,
          26,
          16,
          43,
          77,
          74,
          73,
          42,
          86,
          93,
          30,
          83,
          66,
          49,
          18,
          82,
          34,
          53,
          10,
          19,
          28,
          44,
          72,
          75,
          26,
          33,
          84,
          64,
          42,
          63,
          82,
          91,
          31,
          31,
          42,
          70,
          15,
          32,
          22,
          42,
          72,
          81,
          56,
          56,
          92,
          95,
          16,
          82,
          16,
          23,
          36,
          49,
          55,
          71,
          54,
          46,
          15,
          65,
          15,
          15,
          12,
          53,
          46,
          18,
          62,
          38,
          54,
          84,
          31,
          67,
          39,
          90,
          10,
          63,
          91,
          11,
          16,
          90,
          35,
          53,
          23,
          16,
          17,
          76,
          58,
          39,
          10,
          47,
          19,
          91,
          29,
          59,
          56,
          68,
          91,
          12,
          29,
          37,
          78,
          83,
          53,
          82,
          49,
          38,
          31,
          13,
          64,
          84,
          18,
          93,
          17,
          38,
          26,
          59,
          16,
          76,
          77,
          58,
          12,
          47,
          67,
          68,
          61,
          56,
          98,
          48,
          37,
          78,
          82,
          83,
          26,
          68,
          22,
          13,
          49
         ],
         "xaxis": "x",
         "y": [
          6.4,
          4.7,
          4,
          4.8,
          4.3,
          2,
          7.3,
          11.4,
          7.7,
          6.6,
          1.4,
          5.5,
          6.2,
          4.9,
          5.4,
          10.4,
          3.6,
          5.8,
          1.4,
          8.5,
          2.6,
          11.6,
          6.5,
          5.6,
          4,
          3.4,
          7.6,
          10.5,
          6.8,
          6.2,
          6,
          4.6,
          4.7,
          2,
          10.2,
          1.2,
          3.3,
          11.2,
          6.4,
          6.2,
          4.7,
          10.1,
          2.1,
          3.7,
          2.4,
          10.9,
          8.4,
          3.6,
          8.2,
          8.7,
          7.4,
          5.9,
          2.7,
          2.2,
          8.7,
          1.6,
          1.1,
          8.4,
          7,
          7.1,
          11.9,
          7.5,
          1.9,
          11.5,
          7,
          4,
          4.5,
          4,
          10.2,
          1.7,
          7.2,
          9,
          6.3,
          1.1,
          2,
          5.7,
          2,
          2.5,
          1.8,
          5.7,
          10.6,
          2.8,
          7.2,
          1.8,
          4.5,
          7.4,
          2.4,
          1.5,
          3.3,
          6.2,
          2.1,
          4.1,
          1.4,
          2.5,
          7.5,
          7.2,
          9.5,
          12,
          1.2,
          5.5,
          1.1,
          4.1,
          2.5,
          4.2,
          2.8,
          1.2,
          2.7,
          1.4,
          5.5,
          6,
          3.8,
          8.6,
          5.1,
          3.2,
          7.9,
          3.2,
          1.2,
          5.2,
          1.6,
          2.7,
          6.6,
          8.7,
          10,
          8.1,
          5.1,
          11.8,
          7.4,
          4.2,
          2.5,
          3.3,
          10.8,
          7.2,
          3.6,
          1,
          1.6,
          11.3,
          1.7,
          4.5,
          9.7,
          11.1,
          5.2,
          6.3,
          2.2,
          1.1,
          11.2,
          5.3,
          7.4,
          1.6,
          4.2,
          3.7,
          9.4,
          1.6,
          2,
          7.5,
          1.5,
          3.4,
          1.7,
          7.8,
          6.5,
          2.4,
          1.6,
          1.9,
          7.7,
          2,
          4.8,
          8.4,
          11.3,
          1.5,
          5.4,
          11.8,
          3.7,
          1.1,
          2.8,
          6.6,
          1.6,
          5.2,
          5.4,
          5.7,
          5.7,
          11.9,
          2.4,
          6.4,
          9.2,
          1.2,
          10.4,
          10.7,
          7.8,
          1.1,
          2,
          1.1,
          2.2,
          1.9,
          7.2,
          4.1,
          6.4,
          4.7,
          4.4,
          3.7,
          1.6,
          2.8,
          8.9,
          3.7,
          1.3,
          1.6,
          3.3,
          6.5,
          1.7,
          3.1,
          9.3,
          4.6,
          6.1,
          10.9,
          3.4,
          1.1,
          3.3,
          8.4,
          6.9,
          9.5,
          9.6,
          3.2,
          6.8,
          2,
          6.1,
          10.7,
          2.5,
          10.8,
          7,
          5.2,
          3.8,
          7.3,
          2.3,
          8.9,
          10,
          3.4,
          3.8,
          1.4,
          8.9,
          6.9,
          1.7,
          10.8,
          1.7,
          11.7,
          3.5,
          6.5,
          1.3,
          5,
          1.5,
          6.2,
          4,
          1.9,
          1.4,
          7.9,
          10.5,
          2.4,
          1.2,
          7,
          7.7,
          5,
          4,
          9,
          1.3,
          6.6,
          9.6,
          1.7,
          6.8,
          8.4,
          4.1,
          9.4,
          4.7,
          6.6,
          6.5,
          4.2,
          2.2,
          2.3,
          2.6,
          11.9,
          5.9,
          4.4,
          1.6,
          7.8,
          1.7,
          1.7,
          7.7,
          1.3,
          6.9,
          10.8,
          7.4,
          4,
          3.7,
          1.2,
          7.6,
          1.6,
          1.8,
          4.5,
          8.5,
          1.8,
          6.6,
          2.7,
          5.2,
          3.3,
          6.5,
          4.4,
          6,
          11.4,
          2.9,
          2.8,
          5,
          7.5,
          5.1,
          6.8,
          4.2,
          7.2,
          2.9,
          3,
          4.9,
          2,
          4.3,
          2.2,
          6.6,
          11.3,
          4.4,
          6,
          6.3,
          1.3,
          7.5,
          4.3,
          6,
          2,
          1.6,
          8.3,
          4.6,
          3.8,
          6,
          7.5,
          1.5,
          9.8,
          7.9,
          1.3,
          6.1,
          1.2,
          1,
          10.3,
          10.5,
          6,
          5.8,
          7.7,
          3.3,
          1.4,
          3.8,
          7.4,
          6.9,
          1.5,
          4.6,
          7.5,
          1.4,
          1.9,
          4.1,
          9.5,
          2,
          4.6,
          11.8,
          10.4,
          1.5,
          7.9,
          8.6,
          7.2,
          11.6,
          11.2,
          3.9,
          2.4,
          9.8,
          10.6,
          10.9,
          11.3,
          1.3,
          1.1,
          1.7,
          6,
          10.8,
          3,
          4.6,
          10.4,
          1.5,
          2.9,
          3,
          6.6,
          2,
          1.3,
          11.6,
          2.8,
          7.9,
          6.1,
          3.5,
          7.4,
          9.2,
          6.8,
          1.1,
          11.6,
          1.6,
          1.5,
          11.1,
          2.7,
          7.4,
          8.6,
          8.2,
          7.3,
          3.2,
          7.3,
          7.8,
          6.9,
          11.8,
          8.2,
          5.1,
          5,
          2,
          2.3,
          5.1,
          11.7,
          4.9,
          1.4,
          1.4,
          3.2,
          6.1,
          1.1,
          5,
          2.8,
          2.4,
          3.8,
          2.3,
          10.1,
          5.5,
          3.8,
          10.4,
          2,
          8.4,
          3.4,
          4.4,
          1.7,
          3,
          3.9,
          5.7,
          5.7,
          1.1,
          4,
          8.8,
          7.2,
          8.8,
          5.2,
          3,
          1.2,
          3.5,
          11.8,
          3.3,
          1.3,
          3.9,
          1.6,
          1.6,
          4.7,
          1,
          2.4,
          9,
          3.3,
          5.9,
          4.6,
          1.3,
          4.8,
          7.3,
          4,
          7.5,
          1.9,
          4.6,
          9.4,
          3,
          5,
          4.9,
          6.2,
          6.6,
          4.2,
          4.3,
          4.8,
          2.4,
          10.4,
          11.1,
          1.6,
          6,
          1.1,
          3.8,
          4.4,
          7.3,
          9.3,
          6.1,
          3.7,
          1.5,
          6.8,
          2.5,
          10.9,
          4.8,
          2.9,
          4.5,
          3.6,
          1.3,
          7.7,
          8.4,
          5.8,
          8.5,
          6.6,
          5.1,
          2,
          5.9,
          10,
          5.3,
          10.8,
          1.6,
          3.4,
          7.1,
          2.2,
          3.8,
          1.2,
          8.5,
          2.2,
          6.5,
          1.1,
          6.5,
          11.2,
          5.2,
          4.5,
          2.4,
          1.2,
          3,
          4.8,
          11.8,
          7.9,
          6.4,
          4.7,
          6.1,
          3.3,
          5.9,
          11.1,
          9.5,
          9.4,
          10.5,
          2.5,
          5.4,
          5.5,
          9.7,
          2,
          4.6,
          2.6,
          6.6,
          4,
          6.2,
          2.5,
          3.8,
          7.3,
          6.6,
          4.9,
          3.5,
          4.2,
          7.6,
          11.6,
          6.2,
          2.1,
          1.4,
          1.6,
          4.4,
          1.3,
          3.9,
          1.7,
          5.3,
          6.6,
          7.1,
          6.1,
          5.9,
          9.1,
          10.9,
          3.5,
          10.3,
          7.5,
          6,
          1.1,
          10,
          2.7,
          5.7,
          1.9,
          1.3,
          3.1,
          4.4,
          6.1,
          7.5,
          3.6,
          3.7,
          11.5,
          7.7,
          4.2,
          6.3,
          10.5,
          10.8,
          2.5,
          3,
          4.3,
          6,
          1.2,
          3,
          2.1,
          5.3,
          6,
          10.4,
          4,
          4.9,
          8.5,
          9.6,
          1.3,
          10.2,
          1.1,
          4,
          3.7,
          5.4,
          5.6,
          7,
          4.2,
          5,
          1.8,
          7.4,
          1.8,
          1.5,
          1.8,
          5,
          5.2,
          1.2,
          6.3,
          3.1,
          5.1,
          10.2,
          3.2,
          6.6,
          3.4,
          10.7,
          1.1,
          6.2,
          9.8,
          1.8,
          1.4,
          8.2,
          3.3,
          4.8,
          2.9,
          1.3,
          1.5,
          6.3,
          5.4,
          2,
          1.7,
          5.2,
          1.2,
          10.5,
          3.7,
          5.6,
          5.3,
          6.8,
          9.6,
          1.5,
          3.1,
          3.2,
          6.4,
          10.3,
          5.4,
          11.4,
          5.5,
          2.4,
          3.2,
          1.6,
          7.3,
          11.2,
          1.6,
          11.4,
          1.5,
          3.8,
          3.5,
          4.6,
          1.8,
          6.1,
          7.6,
          5.5,
          1.6,
          4,
          6.6,
          7.7,
          6.3,
          4.9,
          9.5,
          5.7,
          4,
          6.7,
          8.6,
          9.7,
          3.9,
          6.8,
          3.1,
          1.7,
          5.4
         ],
         "yaxis": "y"
        }
       ],
       "layout": {
        "barmode": "relative",
        "legend": {
         "tracegroupgap": 0
        },
        "margin": {
         "t": 60
        },
        "template": {
         "data": {
          "bar": [
           {
            "error_x": {
             "color": "#2a3f5f"
            },
            "error_y": {
             "color": "#2a3f5f"
            },
            "marker": {
             "line": {
              "color": "#E5ECF6",
              "width": 0.5
             },
             "pattern": {
              "fillmode": "overlay",
              "size": 10,
              "solidity": 0.2
             }
            },
            "type": "bar"
           }
          ],
          "barpolar": [
           {
            "marker": {
             "line": {
              "color": "#E5ECF6",
              "width": 0.5
             },
             "pattern": {
              "fillmode": "overlay",
              "size": 10,
              "solidity": 0.2
             }
            },
            "type": "barpolar"
           }
          ],
          "carpet": [
           {
            "aaxis": {
             "endlinecolor": "#2a3f5f",
             "gridcolor": "white",
             "linecolor": "white",
             "minorgridcolor": "white",
             "startlinecolor": "#2a3f5f"
            },
            "baxis": {
             "endlinecolor": "#2a3f5f",
             "gridcolor": "white",
             "linecolor": "white",
             "minorgridcolor": "white",
             "startlinecolor": "#2a3f5f"
            },
            "type": "carpet"
           }
          ],
          "choropleth": [
           {
            "colorbar": {
             "outlinewidth": 0,
             "ticks": ""
            },
            "type": "choropleth"
           }
          ],
          "contour": [
           {
            "colorbar": {
             "outlinewidth": 0,
             "ticks": ""
            },
            "colorscale": [
             [
              0,
              "#0d0887"
             ],
             [
              0.1111111111111111,
              "#46039f"
             ],
             [
              0.2222222222222222,
              "#7201a8"
             ],
             [
              0.3333333333333333,
              "#9c179e"
             ],
             [
              0.4444444444444444,
              "#bd3786"
             ],
             [
              0.5555555555555556,
              "#d8576b"
             ],
             [
              0.6666666666666666,
              "#ed7953"
             ],
             [
              0.7777777777777778,
              "#fb9f3a"
             ],
             [
              0.8888888888888888,
              "#fdca26"
             ],
             [
              1,
              "#f0f921"
             ]
            ],
            "type": "contour"
           }
          ],
          "contourcarpet": [
           {
            "colorbar": {
             "outlinewidth": 0,
             "ticks": ""
            },
            "type": "contourcarpet"
           }
          ],
          "heatmap": [
           {
            "colorbar": {
             "outlinewidth": 0,
             "ticks": ""
            },
            "colorscale": [
             [
              0,
              "#0d0887"
             ],
             [
              0.1111111111111111,
              "#46039f"
             ],
             [
              0.2222222222222222,
              "#7201a8"
             ],
             [
              0.3333333333333333,
              "#9c179e"
             ],
             [
              0.4444444444444444,
              "#bd3786"
             ],
             [
              0.5555555555555556,
              "#d8576b"
             ],
             [
              0.6666666666666666,
              "#ed7953"
             ],
             [
              0.7777777777777778,
              "#fb9f3a"
             ],
             [
              0.8888888888888888,
              "#fdca26"
             ],
             [
              1,
              "#f0f921"
             ]
            ],
            "type": "heatmap"
           }
          ],
          "heatmapgl": [
           {
            "colorbar": {
             "outlinewidth": 0,
             "ticks": ""
            },
            "colorscale": [
             [
              0,
              "#0d0887"
             ],
             [
              0.1111111111111111,
              "#46039f"
             ],
             [
              0.2222222222222222,
              "#7201a8"
             ],
             [
              0.3333333333333333,
              "#9c179e"
             ],
             [
              0.4444444444444444,
              "#bd3786"
             ],
             [
              0.5555555555555556,
              "#d8576b"
             ],
             [
              0.6666666666666666,
              "#ed7953"
             ],
             [
              0.7777777777777778,
              "#fb9f3a"
             ],
             [
              0.8888888888888888,
              "#fdca26"
             ],
             [
              1,
              "#f0f921"
             ]
            ],
            "type": "heatmapgl"
           }
          ],
          "histogram": [
           {
            "marker": {
             "pattern": {
              "fillmode": "overlay",
              "size": 10,
              "solidity": 0.2
             }
            },
            "type": "histogram"
           }
          ],
          "histogram2d": [
           {
            "colorbar": {
             "outlinewidth": 0,
             "ticks": ""
            },
            "colorscale": [
             [
              0,
              "#0d0887"
             ],
             [
              0.1111111111111111,
              "#46039f"
             ],
             [
              0.2222222222222222,
              "#7201a8"
             ],
             [
              0.3333333333333333,
              "#9c179e"
             ],
             [
              0.4444444444444444,
              "#bd3786"
             ],
             [
              0.5555555555555556,
              "#d8576b"
             ],
             [
              0.6666666666666666,
              "#ed7953"
             ],
             [
              0.7777777777777778,
              "#fb9f3a"
             ],
             [
              0.8888888888888888,
              "#fdca26"
             ],
             [
              1,
              "#f0f921"
             ]
            ],
            "type": "histogram2d"
           }
          ],
          "histogram2dcontour": [
           {
            "colorbar": {
             "outlinewidth": 0,
             "ticks": ""
            },
            "colorscale": [
             [
              0,
              "#0d0887"
             ],
             [
              0.1111111111111111,
              "#46039f"
             ],
             [
              0.2222222222222222,
              "#7201a8"
             ],
             [
              0.3333333333333333,
              "#9c179e"
             ],
             [
              0.4444444444444444,
              "#bd3786"
             ],
             [
              0.5555555555555556,
              "#d8576b"
             ],
             [
              0.6666666666666666,
              "#ed7953"
             ],
             [
              0.7777777777777778,
              "#fb9f3a"
             ],
             [
              0.8888888888888888,
              "#fdca26"
             ],
             [
              1,
              "#f0f921"
             ]
            ],
            "type": "histogram2dcontour"
           }
          ],
          "mesh3d": [
           {
            "colorbar": {
             "outlinewidth": 0,
             "ticks": ""
            },
            "type": "mesh3d"
           }
          ],
          "parcoords": [
           {
            "line": {
             "colorbar": {
              "outlinewidth": 0,
              "ticks": ""
             }
            },
            "type": "parcoords"
           }
          ],
          "pie": [
           {
            "automargin": true,
            "type": "pie"
           }
          ],
          "scatter": [
           {
            "fillpattern": {
             "fillmode": "overlay",
             "size": 10,
             "solidity": 0.2
            },
            "type": "scatter"
           }
          ],
          "scatter3d": [
           {
            "line": {
             "colorbar": {
              "outlinewidth": 0,
              "ticks": ""
             }
            },
            "marker": {
             "colorbar": {
              "outlinewidth": 0,
              "ticks": ""
             }
            },
            "type": "scatter3d"
           }
          ],
          "scattercarpet": [
           {
            "marker": {
             "colorbar": {
              "outlinewidth": 0,
              "ticks": ""
             }
            },
            "type": "scattercarpet"
           }
          ],
          "scattergeo": [
           {
            "marker": {
             "colorbar": {
              "outlinewidth": 0,
              "ticks": ""
             }
            },
            "type": "scattergeo"
           }
          ],
          "scattergl": [
           {
            "marker": {
             "colorbar": {
              "outlinewidth": 0,
              "ticks": ""
             }
            },
            "type": "scattergl"
           }
          ],
          "scattermapbox": [
           {
            "marker": {
             "colorbar": {
              "outlinewidth": 0,
              "ticks": ""
             }
            },
            "type": "scattermapbox"
           }
          ],
          "scatterpolar": [
           {
            "marker": {
             "colorbar": {
              "outlinewidth": 0,
              "ticks": ""
             }
            },
            "type": "scatterpolar"
           }
          ],
          "scatterpolargl": [
           {
            "marker": {
             "colorbar": {
              "outlinewidth": 0,
              "ticks": ""
             }
            },
            "type": "scatterpolargl"
           }
          ],
          "scatterternary": [
           {
            "marker": {
             "colorbar": {
              "outlinewidth": 0,
              "ticks": ""
             }
            },
            "type": "scatterternary"
           }
          ],
          "surface": [
           {
            "colorbar": {
             "outlinewidth": 0,
             "ticks": ""
            },
            "colorscale": [
             [
              0,
              "#0d0887"
             ],
             [
              0.1111111111111111,
              "#46039f"
             ],
             [
              0.2222222222222222,
              "#7201a8"
             ],
             [
              0.3333333333333333,
              "#9c179e"
             ],
             [
              0.4444444444444444,
              "#bd3786"
             ],
             [
              0.5555555555555556,
              "#d8576b"
             ],
             [
              0.6666666666666666,
              "#ed7953"
             ],
             [
              0.7777777777777778,
              "#fb9f3a"
             ],
             [
              0.8888888888888888,
              "#fdca26"
             ],
             [
              1,
              "#f0f921"
             ]
            ],
            "type": "surface"
           }
          ],
          "table": [
           {
            "cells": {
             "fill": {
              "color": "#EBF0F8"
             },
             "line": {
              "color": "white"
             }
            },
            "header": {
             "fill": {
              "color": "#C8D4E3"
             },
             "line": {
              "color": "white"
             }
            },
            "type": "table"
           }
          ]
         },
         "layout": {
          "annotationdefaults": {
           "arrowcolor": "#2a3f5f",
           "arrowhead": 0,
           "arrowwidth": 1
          },
          "autotypenumbers": "strict",
          "coloraxis": {
           "colorbar": {
            "outlinewidth": 0,
            "ticks": ""
           }
          },
          "colorscale": {
           "diverging": [
            [
             0,
             "#8e0152"
            ],
            [
             0.1,
             "#c51b7d"
            ],
            [
             0.2,
             "#de77ae"
            ],
            [
             0.3,
             "#f1b6da"
            ],
            [
             0.4,
             "#fde0ef"
            ],
            [
             0.5,
             "#f7f7f7"
            ],
            [
             0.6,
             "#e6f5d0"
            ],
            [
             0.7,
             "#b8e186"
            ],
            [
             0.8,
             "#7fbc41"
            ],
            [
             0.9,
             "#4d9221"
            ],
            [
             1,
             "#276419"
            ]
           ],
           "sequential": [
            [
             0,
             "#0d0887"
            ],
            [
             0.1111111111111111,
             "#46039f"
            ],
            [
             0.2222222222222222,
             "#7201a8"
            ],
            [
             0.3333333333333333,
             "#9c179e"
            ],
            [
             0.4444444444444444,
             "#bd3786"
            ],
            [
             0.5555555555555556,
             "#d8576b"
            ],
            [
             0.6666666666666666,
             "#ed7953"
            ],
            [
             0.7777777777777778,
             "#fb9f3a"
            ],
            [
             0.8888888888888888,
             "#fdca26"
            ],
            [
             1,
             "#f0f921"
            ]
           ],
           "sequentialminus": [
            [
             0,
             "#0d0887"
            ],
            [
             0.1111111111111111,
             "#46039f"
            ],
            [
             0.2222222222222222,
             "#7201a8"
            ],
            [
             0.3333333333333333,
             "#9c179e"
            ],
            [
             0.4444444444444444,
             "#bd3786"
            ],
            [
             0.5555555555555556,
             "#d8576b"
            ],
            [
             0.6666666666666666,
             "#ed7953"
            ],
            [
             0.7777777777777778,
             "#fb9f3a"
            ],
            [
             0.8888888888888888,
             "#fdca26"
            ],
            [
             1,
             "#f0f921"
            ]
           ]
          },
          "colorway": [
           "#636efa",
           "#EF553B",
           "#00cc96",
           "#ab63fa",
           "#FFA15A",
           "#19d3f3",
           "#FF6692",
           "#B6E880",
           "#FF97FF",
           "#FECB52"
          ],
          "font": {
           "color": "#2a3f5f"
          },
          "geo": {
           "bgcolor": "white",
           "lakecolor": "white",
           "landcolor": "#E5ECF6",
           "showlakes": true,
           "showland": true,
           "subunitcolor": "white"
          },
          "hoverlabel": {
           "align": "left"
          },
          "hovermode": "closest",
          "mapbox": {
           "style": "light"
          },
          "paper_bgcolor": "white",
          "plot_bgcolor": "#E5ECF6",
          "polar": {
           "angularaxis": {
            "gridcolor": "white",
            "linecolor": "white",
            "ticks": ""
           },
           "bgcolor": "#E5ECF6",
           "radialaxis": {
            "gridcolor": "white",
            "linecolor": "white",
            "ticks": ""
           }
          },
          "scene": {
           "xaxis": {
            "backgroundcolor": "#E5ECF6",
            "gridcolor": "white",
            "gridwidth": 2,
            "linecolor": "white",
            "showbackground": true,
            "ticks": "",
            "zerolinecolor": "white"
           },
           "yaxis": {
            "backgroundcolor": "#E5ECF6",
            "gridcolor": "white",
            "gridwidth": 2,
            "linecolor": "white",
            "showbackground": true,
            "ticks": "",
            "zerolinecolor": "white"
           },
           "zaxis": {
            "backgroundcolor": "#E5ECF6",
            "gridcolor": "white",
            "gridwidth": 2,
            "linecolor": "white",
            "showbackground": true,
            "ticks": "",
            "zerolinecolor": "white"
           }
          },
          "shapedefaults": {
           "line": {
            "color": "#2a3f5f"
           }
          },
          "ternary": {
           "aaxis": {
            "gridcolor": "white",
            "linecolor": "white",
            "ticks": ""
           },
           "baxis": {
            "gridcolor": "white",
            "linecolor": "white",
            "ticks": ""
           },
           "bgcolor": "#E5ECF6",
           "caxis": {
            "gridcolor": "white",
            "linecolor": "white",
            "ticks": ""
           }
          },
          "title": {
           "x": 0.05
          },
          "xaxis": {
           "automargin": true,
           "gridcolor": "white",
           "linecolor": "white",
           "ticks": "",
           "title": {
            "standoff": 15
           },
           "zerolinecolor": "white",
           "zerolinewidth": 2
          },
          "yaxis": {
           "automargin": true,
           "gridcolor": "white",
           "linecolor": "white",
           "ticks": "",
           "title": {
            "standoff": 15
           },
           "zerolinecolor": "white",
           "zerolinewidth": 2
          }
         }
        },
        "xaxis": {
         "anchor": "y",
         "domain": [
          0,
          1
         ],
         "title": {
          "text": "Number of Apps Installed"
         }
        },
        "yaxis": {
         "anchor": "x",
         "domain": [
          0,
          1
         ],
         "title": {
          "text": "sum of Screen On Time (hours/day)"
         }
        }
       }
      }
     },
     "metadata": {},
     "output_type": "display_data"
    }
   ],
   "source": [
    "px.histogram(data_frame=df_U, x=\"Number of Apps Installed\", y=\"Screen On Time (hours/day)\" )"
   ]
  },
  {
   "cell_type": "code",
   "execution_count": 56,
   "metadata": {},
   "outputs": [
    {
     "data": {
      "application/vnd.plotly.v1+json": {
       "config": {
        "plotlyServerURL": "https://plot.ly"
       },
       "data": [
        {
         "alignmentgroup": "True",
         "bingroup": "x",
         "hovertemplate": "Operating System=%{x}<br>count=%{y}<extra></extra>",
         "legendgroup": "",
         "marker": {
          "color": "#636efa",
          "pattern": {
           "shape": ""
          }
         },
         "name": "",
         "offsetgroup": "",
         "orientation": "v",
         "showlegend": false,
         "type": "histogram",
         "x": [
          "Android",
          "Android",
          "Android",
          "Android",
          "iOS",
          "Android",
          "Android",
          "Android",
          "Android",
          "iOS",
          "Android",
          "Android",
          "Android",
          "Android",
          "iOS",
          "Android",
          "Android",
          "iOS",
          "Android",
          "iOS",
          "Android",
          "Android",
          "Android",
          "Android",
          "Android",
          "Android",
          "iOS",
          "Android",
          "Android",
          "Android",
          "Android",
          "Android",
          "Android",
          "Android",
          "Android",
          "Android",
          "iOS",
          "Android",
          "Android",
          "Android",
          "Android",
          "Android",
          "Android",
          "Android",
          "Android",
          "Android",
          "Android",
          "Android",
          "Android",
          "Android",
          "Android",
          "Android",
          "Android",
          "Android",
          "Android",
          "iOS",
          "Android",
          "Android",
          "Android",
          "iOS",
          "Android",
          "Android",
          "Android",
          "Android",
          "Android",
          "iOS",
          "iOS",
          "Android",
          "iOS",
          "Android",
          "Android",
          "iOS",
          "Android",
          "Android",
          "iOS",
          "Android",
          "Android",
          "Android",
          "Android",
          "Android",
          "Android",
          "iOS",
          "Android",
          "Android",
          "Android",
          "Android",
          "Android",
          "Android",
          "Android",
          "Android",
          "Android",
          "Android",
          "iOS",
          "iOS",
          "Android",
          "Android",
          "iOS",
          "Android",
          "Android",
          "Android",
          "Android",
          "Android",
          "Android",
          "Android",
          "Android",
          "Android",
          "Android",
          "Android",
          "Android",
          "Android",
          "Android",
          "Android",
          "Android",
          "Android",
          "Android",
          "iOS",
          "iOS",
          "iOS",
          "Android",
          "Android",
          "Android",
          "Android",
          "Android",
          "Android",
          "Android",
          "Android",
          "iOS",
          "Android",
          "Android",
          "Android",
          "Android",
          "Android",
          "Android",
          "Android",
          "Android",
          "iOS",
          "Android",
          "Android",
          "Android",
          "Android",
          "Android",
          "Android",
          "iOS",
          "Android",
          "iOS",
          "iOS",
          "Android",
          "Android",
          "Android",
          "Android",
          "iOS",
          "Android",
          "Android",
          "Android",
          "Android",
          "Android",
          "Android",
          "Android",
          "Android",
          "Android",
          "Android",
          "Android",
          "Android",
          "iOS",
          "Android",
          "Android",
          "Android",
          "Android",
          "Android",
          "Android",
          "Android",
          "Android",
          "Android",
          "iOS",
          "Android",
          "Android",
          "Android",
          "Android",
          "Android",
          "iOS",
          "Android",
          "Android",
          "iOS",
          "iOS",
          "Android",
          "Android",
          "iOS",
          "Android",
          "iOS",
          "Android",
          "iOS",
          "Android",
          "iOS",
          "iOS",
          "Android",
          "Android",
          "Android",
          "Android",
          "Android",
          "Android",
          "Android",
          "iOS",
          "Android",
          "Android",
          "Android",
          "Android",
          "Android",
          "Android",
          "Android",
          "Android",
          "Android",
          "Android",
          "Android",
          "Android",
          "iOS",
          "Android",
          "iOS",
          "Android",
          "iOS",
          "Android",
          "Android",
          "Android",
          "Android",
          "Android",
          "Android",
          "Android",
          "Android",
          "iOS",
          "Android",
          "Android",
          "iOS",
          "iOS",
          "Android",
          "Android",
          "iOS",
          "Android",
          "Android",
          "Android",
          "Android",
          "iOS",
          "Android",
          "Android",
          "Android",
          "Android",
          "Android",
          "Android",
          "Android",
          "Android",
          "Android",
          "Android",
          "Android",
          "Android",
          "Android",
          "Android",
          "Android",
          "Android",
          "Android",
          "Android",
          "Android",
          "Android",
          "Android",
          "iOS",
          "iOS",
          "Android",
          "iOS",
          "Android",
          "iOS",
          "Android",
          "Android",
          "Android",
          "Android",
          "Android",
          "Android",
          "Android",
          "iOS",
          "Android",
          "Android",
          "Android",
          "Android",
          "Android",
          "Android",
          "Android",
          "iOS",
          "Android",
          "Android",
          "Android",
          "Android",
          "Android",
          "Android",
          "Android",
          "Android",
          "Android",
          "Android",
          "Android",
          "Android",
          "Android",
          "Android",
          "iOS",
          "iOS",
          "Android",
          "Android",
          "iOS",
          "iOS",
          "iOS",
          "iOS",
          "Android",
          "Android",
          "Android",
          "iOS",
          "Android",
          "Android",
          "iOS",
          "Android",
          "Android",
          "iOS",
          "Android",
          "Android",
          "Android",
          "Android",
          "Android",
          "iOS",
          "Android",
          "Android",
          "Android",
          "iOS",
          "Android",
          "Android",
          "Android",
          "Android",
          "iOS",
          "Android",
          "iOS",
          "Android",
          "Android",
          "Android",
          "Android",
          "Android",
          "Android",
          "iOS",
          "iOS",
          "iOS",
          "iOS",
          "iOS",
          "iOS",
          "iOS",
          "iOS",
          "Android",
          "Android",
          "Android",
          "Android",
          "Android",
          "Android",
          "Android",
          "Android",
          "Android",
          "Android",
          "iOS",
          "iOS",
          "Android",
          "Android",
          "Android",
          "Android",
          "Android",
          "iOS",
          "Android",
          "Android",
          "Android",
          "Android",
          "Android",
          "iOS",
          "iOS",
          "Android",
          "Android",
          "Android",
          "Android",
          "Android",
          "iOS",
          "Android",
          "Android",
          "Android",
          "iOS",
          "iOS",
          "Android",
          "Android",
          "Android",
          "iOS",
          "Android",
          "Android",
          "Android",
          "Android",
          "Android",
          "Android",
          "Android",
          "iOS",
          "Android",
          "Android",
          "Android",
          "iOS",
          "Android",
          "Android",
          "Android",
          "Android",
          "iOS",
          "Android",
          "iOS",
          "Android",
          "Android",
          "Android",
          "Android",
          "Android",
          "Android",
          "Android",
          "Android",
          "iOS",
          "Android",
          "iOS",
          "Android",
          "Android",
          "Android",
          "iOS",
          "iOS",
          "iOS",
          "iOS",
          "Android",
          "Android",
          "Android",
          "Android",
          "Android",
          "Android",
          "Android",
          "iOS",
          "iOS",
          "Android",
          "Android",
          "iOS",
          "Android",
          "Android",
          "iOS",
          "Android",
          "Android",
          "Android",
          "Android",
          "Android",
          "iOS",
          "iOS",
          "Android",
          "Android",
          "Android",
          "Android",
          "Android",
          "Android",
          "Android",
          "Android",
          "Android",
          "iOS",
          "iOS",
          "iOS",
          "Android",
          "iOS",
          "Android",
          "Android",
          "Android",
          "Android",
          "iOS",
          "Android",
          "Android",
          "Android",
          "Android",
          "Android",
          "Android",
          "Android",
          "Android",
          "Android",
          "iOS",
          "Android",
          "Android",
          "Android",
          "iOS",
          "Android",
          "Android",
          "iOS",
          "Android",
          "iOS",
          "Android",
          "iOS",
          "Android",
          "iOS",
          "iOS",
          "Android",
          "Android",
          "Android",
          "iOS",
          "Android",
          "Android",
          "Android",
          "Android",
          "iOS",
          "iOS",
          "Android",
          "iOS",
          "Android",
          "Android",
          "Android",
          "Android",
          "Android",
          "Android",
          "Android",
          "Android",
          "Android",
          "iOS",
          "Android",
          "Android",
          "Android",
          "Android",
          "Android",
          "Android",
          "Android",
          "iOS",
          "Android",
          "Android",
          "Android",
          "Android",
          "Android",
          "Android",
          "Android",
          "Android",
          "Android",
          "iOS",
          "Android",
          "Android",
          "Android",
          "Android",
          "iOS",
          "Android",
          "Android",
          "Android",
          "Android",
          "Android",
          "Android",
          "Android",
          "iOS",
          "iOS",
          "Android",
          "Android",
          "Android",
          "Android",
          "Android",
          "iOS",
          "Android",
          "Android",
          "Android",
          "Android",
          "iOS",
          "Android",
          "iOS",
          "Android",
          "iOS",
          "Android",
          "Android",
          "Android",
          "Android",
          "Android",
          "Android",
          "iOS",
          "Android",
          "Android",
          "Android",
          "Android",
          "Android",
          "Android",
          "Android",
          "Android",
          "Android",
          "Android",
          "Android",
          "Android",
          "Android",
          "iOS",
          "Android",
          "Android",
          "iOS",
          "Android",
          "iOS",
          "Android",
          "Android",
          "Android",
          "Android",
          "Android",
          "Android",
          "Android",
          "Android",
          "Android",
          "Android",
          "Android",
          "Android",
          "Android",
          "Android",
          "Android",
          "Android",
          "Android",
          "iOS",
          "Android",
          "Android",
          "Android",
          "Android",
          "Android",
          "Android",
          "Android",
          "Android",
          "iOS",
          "iOS",
          "Android",
          "Android",
          "Android",
          "Android",
          "Android",
          "Android",
          "Android",
          "Android",
          "Android",
          "iOS",
          "Android",
          "Android",
          "Android",
          "Android",
          "Android",
          "iOS",
          "iOS",
          "Android",
          "iOS",
          "Android",
          "Android",
          "iOS",
          "Android",
          "iOS",
          "Android",
          "Android",
          "Android",
          "Android",
          "Android",
          "Android",
          "Android",
          "Android",
          "Android",
          "Android",
          "Android",
          "Android",
          "iOS",
          "iOS",
          "Android",
          "Android",
          "iOS",
          "Android",
          "Android",
          "Android",
          "Android",
          "Android",
          "Android",
          "Android",
          "Android",
          "Android",
          "Android",
          "Android",
          "Android",
          "Android",
          "iOS",
          "Android",
          "Android",
          "iOS",
          "Android",
          "iOS",
          "Android",
          "Android",
          "Android",
          "Android",
          "Android",
          "Android",
          "Android",
          "Android",
          "iOS",
          "Android",
          "Android",
          "Android",
          "Android",
          "Android",
          "Android",
          "Android",
          "Android",
          "Android",
          "Android",
          "Android",
          "iOS",
          "Android",
          "Android",
          "Android",
          "iOS",
          "Android",
          "Android",
          "Android",
          "Android"
         ],
         "xaxis": "x",
         "yaxis": "y"
        }
       ],
       "layout": {
        "barmode": "relative",
        "legend": {
         "tracegroupgap": 0
        },
        "margin": {
         "t": 60
        },
        "template": {
         "data": {
          "bar": [
           {
            "error_x": {
             "color": "#2a3f5f"
            },
            "error_y": {
             "color": "#2a3f5f"
            },
            "marker": {
             "line": {
              "color": "#E5ECF6",
              "width": 0.5
             },
             "pattern": {
              "fillmode": "overlay",
              "size": 10,
              "solidity": 0.2
             }
            },
            "type": "bar"
           }
          ],
          "barpolar": [
           {
            "marker": {
             "line": {
              "color": "#E5ECF6",
              "width": 0.5
             },
             "pattern": {
              "fillmode": "overlay",
              "size": 10,
              "solidity": 0.2
             }
            },
            "type": "barpolar"
           }
          ],
          "carpet": [
           {
            "aaxis": {
             "endlinecolor": "#2a3f5f",
             "gridcolor": "white",
             "linecolor": "white",
             "minorgridcolor": "white",
             "startlinecolor": "#2a3f5f"
            },
            "baxis": {
             "endlinecolor": "#2a3f5f",
             "gridcolor": "white",
             "linecolor": "white",
             "minorgridcolor": "white",
             "startlinecolor": "#2a3f5f"
            },
            "type": "carpet"
           }
          ],
          "choropleth": [
           {
            "colorbar": {
             "outlinewidth": 0,
             "ticks": ""
            },
            "type": "choropleth"
           }
          ],
          "contour": [
           {
            "colorbar": {
             "outlinewidth": 0,
             "ticks": ""
            },
            "colorscale": [
             [
              0,
              "#0d0887"
             ],
             [
              0.1111111111111111,
              "#46039f"
             ],
             [
              0.2222222222222222,
              "#7201a8"
             ],
             [
              0.3333333333333333,
              "#9c179e"
             ],
             [
              0.4444444444444444,
              "#bd3786"
             ],
             [
              0.5555555555555556,
              "#d8576b"
             ],
             [
              0.6666666666666666,
              "#ed7953"
             ],
             [
              0.7777777777777778,
              "#fb9f3a"
             ],
             [
              0.8888888888888888,
              "#fdca26"
             ],
             [
              1,
              "#f0f921"
             ]
            ],
            "type": "contour"
           }
          ],
          "contourcarpet": [
           {
            "colorbar": {
             "outlinewidth": 0,
             "ticks": ""
            },
            "type": "contourcarpet"
           }
          ],
          "heatmap": [
           {
            "colorbar": {
             "outlinewidth": 0,
             "ticks": ""
            },
            "colorscale": [
             [
              0,
              "#0d0887"
             ],
             [
              0.1111111111111111,
              "#46039f"
             ],
             [
              0.2222222222222222,
              "#7201a8"
             ],
             [
              0.3333333333333333,
              "#9c179e"
             ],
             [
              0.4444444444444444,
              "#bd3786"
             ],
             [
              0.5555555555555556,
              "#d8576b"
             ],
             [
              0.6666666666666666,
              "#ed7953"
             ],
             [
              0.7777777777777778,
              "#fb9f3a"
             ],
             [
              0.8888888888888888,
              "#fdca26"
             ],
             [
              1,
              "#f0f921"
             ]
            ],
            "type": "heatmap"
           }
          ],
          "heatmapgl": [
           {
            "colorbar": {
             "outlinewidth": 0,
             "ticks": ""
            },
            "colorscale": [
             [
              0,
              "#0d0887"
             ],
             [
              0.1111111111111111,
              "#46039f"
             ],
             [
              0.2222222222222222,
              "#7201a8"
             ],
             [
              0.3333333333333333,
              "#9c179e"
             ],
             [
              0.4444444444444444,
              "#bd3786"
             ],
             [
              0.5555555555555556,
              "#d8576b"
             ],
             [
              0.6666666666666666,
              "#ed7953"
             ],
             [
              0.7777777777777778,
              "#fb9f3a"
             ],
             [
              0.8888888888888888,
              "#fdca26"
             ],
             [
              1,
              "#f0f921"
             ]
            ],
            "type": "heatmapgl"
           }
          ],
          "histogram": [
           {
            "marker": {
             "pattern": {
              "fillmode": "overlay",
              "size": 10,
              "solidity": 0.2
             }
            },
            "type": "histogram"
           }
          ],
          "histogram2d": [
           {
            "colorbar": {
             "outlinewidth": 0,
             "ticks": ""
            },
            "colorscale": [
             [
              0,
              "#0d0887"
             ],
             [
              0.1111111111111111,
              "#46039f"
             ],
             [
              0.2222222222222222,
              "#7201a8"
             ],
             [
              0.3333333333333333,
              "#9c179e"
             ],
             [
              0.4444444444444444,
              "#bd3786"
             ],
             [
              0.5555555555555556,
              "#d8576b"
             ],
             [
              0.6666666666666666,
              "#ed7953"
             ],
             [
              0.7777777777777778,
              "#fb9f3a"
             ],
             [
              0.8888888888888888,
              "#fdca26"
             ],
             [
              1,
              "#f0f921"
             ]
            ],
            "type": "histogram2d"
           }
          ],
          "histogram2dcontour": [
           {
            "colorbar": {
             "outlinewidth": 0,
             "ticks": ""
            },
            "colorscale": [
             [
              0,
              "#0d0887"
             ],
             [
              0.1111111111111111,
              "#46039f"
             ],
             [
              0.2222222222222222,
              "#7201a8"
             ],
             [
              0.3333333333333333,
              "#9c179e"
             ],
             [
              0.4444444444444444,
              "#bd3786"
             ],
             [
              0.5555555555555556,
              "#d8576b"
             ],
             [
              0.6666666666666666,
              "#ed7953"
             ],
             [
              0.7777777777777778,
              "#fb9f3a"
             ],
             [
              0.8888888888888888,
              "#fdca26"
             ],
             [
              1,
              "#f0f921"
             ]
            ],
            "type": "histogram2dcontour"
           }
          ],
          "mesh3d": [
           {
            "colorbar": {
             "outlinewidth": 0,
             "ticks": ""
            },
            "type": "mesh3d"
           }
          ],
          "parcoords": [
           {
            "line": {
             "colorbar": {
              "outlinewidth": 0,
              "ticks": ""
             }
            },
            "type": "parcoords"
           }
          ],
          "pie": [
           {
            "automargin": true,
            "type": "pie"
           }
          ],
          "scatter": [
           {
            "fillpattern": {
             "fillmode": "overlay",
             "size": 10,
             "solidity": 0.2
            },
            "type": "scatter"
           }
          ],
          "scatter3d": [
           {
            "line": {
             "colorbar": {
              "outlinewidth": 0,
              "ticks": ""
             }
            },
            "marker": {
             "colorbar": {
              "outlinewidth": 0,
              "ticks": ""
             }
            },
            "type": "scatter3d"
           }
          ],
          "scattercarpet": [
           {
            "marker": {
             "colorbar": {
              "outlinewidth": 0,
              "ticks": ""
             }
            },
            "type": "scattercarpet"
           }
          ],
          "scattergeo": [
           {
            "marker": {
             "colorbar": {
              "outlinewidth": 0,
              "ticks": ""
             }
            },
            "type": "scattergeo"
           }
          ],
          "scattergl": [
           {
            "marker": {
             "colorbar": {
              "outlinewidth": 0,
              "ticks": ""
             }
            },
            "type": "scattergl"
           }
          ],
          "scattermapbox": [
           {
            "marker": {
             "colorbar": {
              "outlinewidth": 0,
              "ticks": ""
             }
            },
            "type": "scattermapbox"
           }
          ],
          "scatterpolar": [
           {
            "marker": {
             "colorbar": {
              "outlinewidth": 0,
              "ticks": ""
             }
            },
            "type": "scatterpolar"
           }
          ],
          "scatterpolargl": [
           {
            "marker": {
             "colorbar": {
              "outlinewidth": 0,
              "ticks": ""
             }
            },
            "type": "scatterpolargl"
           }
          ],
          "scatterternary": [
           {
            "marker": {
             "colorbar": {
              "outlinewidth": 0,
              "ticks": ""
             }
            },
            "type": "scatterternary"
           }
          ],
          "surface": [
           {
            "colorbar": {
             "outlinewidth": 0,
             "ticks": ""
            },
            "colorscale": [
             [
              0,
              "#0d0887"
             ],
             [
              0.1111111111111111,
              "#46039f"
             ],
             [
              0.2222222222222222,
              "#7201a8"
             ],
             [
              0.3333333333333333,
              "#9c179e"
             ],
             [
              0.4444444444444444,
              "#bd3786"
             ],
             [
              0.5555555555555556,
              "#d8576b"
             ],
             [
              0.6666666666666666,
              "#ed7953"
             ],
             [
              0.7777777777777778,
              "#fb9f3a"
             ],
             [
              0.8888888888888888,
              "#fdca26"
             ],
             [
              1,
              "#f0f921"
             ]
            ],
            "type": "surface"
           }
          ],
          "table": [
           {
            "cells": {
             "fill": {
              "color": "#EBF0F8"
             },
             "line": {
              "color": "white"
             }
            },
            "header": {
             "fill": {
              "color": "#C8D4E3"
             },
             "line": {
              "color": "white"
             }
            },
            "type": "table"
           }
          ]
         },
         "layout": {
          "annotationdefaults": {
           "arrowcolor": "#2a3f5f",
           "arrowhead": 0,
           "arrowwidth": 1
          },
          "autotypenumbers": "strict",
          "coloraxis": {
           "colorbar": {
            "outlinewidth": 0,
            "ticks": ""
           }
          },
          "colorscale": {
           "diverging": [
            [
             0,
             "#8e0152"
            ],
            [
             0.1,
             "#c51b7d"
            ],
            [
             0.2,
             "#de77ae"
            ],
            [
             0.3,
             "#f1b6da"
            ],
            [
             0.4,
             "#fde0ef"
            ],
            [
             0.5,
             "#f7f7f7"
            ],
            [
             0.6,
             "#e6f5d0"
            ],
            [
             0.7,
             "#b8e186"
            ],
            [
             0.8,
             "#7fbc41"
            ],
            [
             0.9,
             "#4d9221"
            ],
            [
             1,
             "#276419"
            ]
           ],
           "sequential": [
            [
             0,
             "#0d0887"
            ],
            [
             0.1111111111111111,
             "#46039f"
            ],
            [
             0.2222222222222222,
             "#7201a8"
            ],
            [
             0.3333333333333333,
             "#9c179e"
            ],
            [
             0.4444444444444444,
             "#bd3786"
            ],
            [
             0.5555555555555556,
             "#d8576b"
            ],
            [
             0.6666666666666666,
             "#ed7953"
            ],
            [
             0.7777777777777778,
             "#fb9f3a"
            ],
            [
             0.8888888888888888,
             "#fdca26"
            ],
            [
             1,
             "#f0f921"
            ]
           ],
           "sequentialminus": [
            [
             0,
             "#0d0887"
            ],
            [
             0.1111111111111111,
             "#46039f"
            ],
            [
             0.2222222222222222,
             "#7201a8"
            ],
            [
             0.3333333333333333,
             "#9c179e"
            ],
            [
             0.4444444444444444,
             "#bd3786"
            ],
            [
             0.5555555555555556,
             "#d8576b"
            ],
            [
             0.6666666666666666,
             "#ed7953"
            ],
            [
             0.7777777777777778,
             "#fb9f3a"
            ],
            [
             0.8888888888888888,
             "#fdca26"
            ],
            [
             1,
             "#f0f921"
            ]
           ]
          },
          "colorway": [
           "#636efa",
           "#EF553B",
           "#00cc96",
           "#ab63fa",
           "#FFA15A",
           "#19d3f3",
           "#FF6692",
           "#B6E880",
           "#FF97FF",
           "#FECB52"
          ],
          "font": {
           "color": "#2a3f5f"
          },
          "geo": {
           "bgcolor": "white",
           "lakecolor": "white",
           "landcolor": "#E5ECF6",
           "showlakes": true,
           "showland": true,
           "subunitcolor": "white"
          },
          "hoverlabel": {
           "align": "left"
          },
          "hovermode": "closest",
          "mapbox": {
           "style": "light"
          },
          "paper_bgcolor": "white",
          "plot_bgcolor": "#E5ECF6",
          "polar": {
           "angularaxis": {
            "gridcolor": "white",
            "linecolor": "white",
            "ticks": ""
           },
           "bgcolor": "#E5ECF6",
           "radialaxis": {
            "gridcolor": "white",
            "linecolor": "white",
            "ticks": ""
           }
          },
          "scene": {
           "xaxis": {
            "backgroundcolor": "#E5ECF6",
            "gridcolor": "white",
            "gridwidth": 2,
            "linecolor": "white",
            "showbackground": true,
            "ticks": "",
            "zerolinecolor": "white"
           },
           "yaxis": {
            "backgroundcolor": "#E5ECF6",
            "gridcolor": "white",
            "gridwidth": 2,
            "linecolor": "white",
            "showbackground": true,
            "ticks": "",
            "zerolinecolor": "white"
           },
           "zaxis": {
            "backgroundcolor": "#E5ECF6",
            "gridcolor": "white",
            "gridwidth": 2,
            "linecolor": "white",
            "showbackground": true,
            "ticks": "",
            "zerolinecolor": "white"
           }
          },
          "shapedefaults": {
           "line": {
            "color": "#2a3f5f"
           }
          },
          "ternary": {
           "aaxis": {
            "gridcolor": "white",
            "linecolor": "white",
            "ticks": ""
           },
           "baxis": {
            "gridcolor": "white",
            "linecolor": "white",
            "ticks": ""
           },
           "bgcolor": "#E5ECF6",
           "caxis": {
            "gridcolor": "white",
            "linecolor": "white",
            "ticks": ""
           }
          },
          "title": {
           "x": 0.05
          },
          "xaxis": {
           "automargin": true,
           "gridcolor": "white",
           "linecolor": "white",
           "ticks": "",
           "title": {
            "standoff": 15
           },
           "zerolinecolor": "white",
           "zerolinewidth": 2
          },
          "yaxis": {
           "automargin": true,
           "gridcolor": "white",
           "linecolor": "white",
           "ticks": "",
           "title": {
            "standoff": 15
           },
           "zerolinecolor": "white",
           "zerolinewidth": 2
          }
         }
        },
        "xaxis": {
         "anchor": "y",
         "domain": [
          0,
          1
         ],
         "title": {
          "text": "Operating System"
         }
        },
        "yaxis": {
         "anchor": "x",
         "domain": [
          0,
          1
         ],
         "title": {
          "text": "count"
         }
        }
       }
      }
     },
     "metadata": {},
     "output_type": "display_data"
    }
   ],
   "source": [
    "px.histogram(data_frame=df_U, x=\"Operating System\")"
   ]
  },
  {
   "cell_type": "code",
   "execution_count": 43,
   "metadata": {},
   "outputs": [
    {
     "data": {
      "application/vnd.plotly.v1+json": {
       "config": {
        "plotlyServerURL": "https://plot.ly"
       },
       "data": [
        {
         "alignmentgroup": "True",
         "hovertemplate": "Operating System=%{x}<br>App Usage Time (min/day)=%{y}<extra></extra>",
         "legendgroup": "",
         "marker": {
          "color": "#636efa"
         },
         "name": "",
         "notched": false,
         "offsetgroup": "",
         "orientation": "v",
         "showlegend": false,
         "type": "box",
         "x": [
          "Android",
          "Android",
          "Android",
          "Android",
          "iOS",
          "Android",
          "Android",
          "Android",
          "Android",
          "iOS",
          "Android",
          "Android",
          "Android",
          "Android",
          "iOS",
          "Android",
          "Android",
          "iOS",
          "Android",
          "iOS",
          "Android",
          "Android",
          "Android",
          "Android",
          "Android",
          "Android",
          "iOS",
          "Android",
          "Android",
          "Android",
          "Android",
          "Android",
          "Android",
          "Android",
          "Android",
          "Android",
          "iOS",
          "Android",
          "Android",
          "Android",
          "Android",
          "Android",
          "Android",
          "Android",
          "Android",
          "Android",
          "Android",
          "Android",
          "Android",
          "Android",
          "Android",
          "Android",
          "Android",
          "Android",
          "Android",
          "iOS",
          "Android",
          "Android",
          "Android",
          "iOS",
          "Android",
          "Android",
          "Android",
          "Android",
          "Android",
          "iOS",
          "iOS",
          "Android",
          "iOS",
          "Android",
          "Android",
          "iOS",
          "Android",
          "Android",
          "iOS",
          "Android",
          "Android",
          "Android",
          "Android",
          "Android",
          "Android",
          "iOS",
          "Android",
          "Android",
          "Android",
          "Android",
          "Android",
          "Android",
          "Android",
          "Android",
          "Android",
          "Android",
          "iOS",
          "iOS",
          "Android",
          "Android",
          "iOS",
          "Android",
          "Android",
          "Android",
          "Android",
          "Android",
          "Android",
          "Android",
          "Android",
          "Android",
          "Android",
          "Android",
          "Android",
          "Android",
          "Android",
          "Android",
          "Android",
          "Android",
          "Android",
          "iOS",
          "iOS",
          "iOS",
          "Android",
          "Android",
          "Android",
          "Android",
          "Android",
          "Android",
          "Android",
          "Android",
          "iOS",
          "Android",
          "Android",
          "Android",
          "Android",
          "Android",
          "Android",
          "Android",
          "Android",
          "iOS",
          "Android",
          "Android",
          "Android",
          "Android",
          "Android",
          "Android",
          "iOS",
          "Android",
          "iOS",
          "iOS",
          "Android",
          "Android",
          "Android",
          "Android",
          "iOS",
          "Android",
          "Android",
          "Android",
          "Android",
          "Android",
          "Android",
          "Android",
          "Android",
          "Android",
          "Android",
          "Android",
          "Android",
          "iOS",
          "Android",
          "Android",
          "Android",
          "Android",
          "Android",
          "Android",
          "Android",
          "Android",
          "Android",
          "iOS",
          "Android",
          "Android",
          "Android",
          "Android",
          "Android",
          "iOS",
          "Android",
          "Android",
          "iOS",
          "iOS",
          "Android",
          "Android",
          "iOS",
          "Android",
          "iOS",
          "Android",
          "iOS",
          "Android",
          "iOS",
          "iOS",
          "Android",
          "Android",
          "Android",
          "Android",
          "Android",
          "Android",
          "Android",
          "iOS",
          "Android",
          "Android",
          "Android",
          "Android",
          "Android",
          "Android",
          "Android",
          "Android",
          "Android",
          "Android",
          "Android",
          "Android",
          "iOS",
          "Android",
          "iOS",
          "Android",
          "iOS",
          "Android",
          "Android",
          "Android",
          "Android",
          "Android",
          "Android",
          "Android",
          "Android",
          "iOS",
          "Android",
          "Android",
          "iOS",
          "iOS",
          "Android",
          "Android",
          "iOS",
          "Android",
          "Android",
          "Android",
          "Android",
          "iOS",
          "Android",
          "Android",
          "Android",
          "Android",
          "Android",
          "Android",
          "Android",
          "Android",
          "Android",
          "Android",
          "Android",
          "Android",
          "Android",
          "Android",
          "Android",
          "Android",
          "Android",
          "Android",
          "Android",
          "Android",
          "Android",
          "iOS",
          "iOS",
          "Android",
          "iOS",
          "Android",
          "iOS",
          "Android",
          "Android",
          "Android",
          "Android",
          "Android",
          "Android",
          "Android",
          "iOS",
          "Android",
          "Android",
          "Android",
          "Android",
          "Android",
          "Android",
          "Android",
          "iOS",
          "Android",
          "Android",
          "Android",
          "Android",
          "Android",
          "Android",
          "Android",
          "Android",
          "Android",
          "Android",
          "Android",
          "Android",
          "Android",
          "Android",
          "iOS",
          "iOS",
          "Android",
          "Android",
          "iOS",
          "iOS",
          "iOS",
          "iOS",
          "Android",
          "Android",
          "Android",
          "iOS",
          "Android",
          "Android",
          "iOS",
          "Android",
          "Android",
          "iOS",
          "Android",
          "Android",
          "Android",
          "Android",
          "Android",
          "iOS",
          "Android",
          "Android",
          "Android",
          "iOS",
          "Android",
          "Android",
          "Android",
          "Android",
          "iOS",
          "Android",
          "iOS",
          "Android",
          "Android",
          "Android",
          "Android",
          "Android",
          "Android",
          "iOS",
          "iOS",
          "iOS",
          "iOS",
          "iOS",
          "iOS",
          "iOS",
          "iOS",
          "Android",
          "Android",
          "Android",
          "Android",
          "Android",
          "Android",
          "Android",
          "Android",
          "Android",
          "Android",
          "iOS",
          "iOS",
          "Android",
          "Android",
          "Android",
          "Android",
          "Android",
          "iOS",
          "Android",
          "Android",
          "Android",
          "Android",
          "Android",
          "iOS",
          "iOS",
          "Android",
          "Android",
          "Android",
          "Android",
          "Android",
          "iOS",
          "Android",
          "Android",
          "Android",
          "iOS",
          "iOS",
          "Android",
          "Android",
          "Android",
          "iOS",
          "Android",
          "Android",
          "Android",
          "Android",
          "Android",
          "Android",
          "Android",
          "iOS",
          "Android",
          "Android",
          "Android",
          "iOS",
          "Android",
          "Android",
          "Android",
          "Android",
          "iOS",
          "Android",
          "iOS",
          "Android",
          "Android",
          "Android",
          "Android",
          "Android",
          "Android",
          "Android",
          "Android",
          "iOS",
          "Android",
          "iOS",
          "Android",
          "Android",
          "Android",
          "iOS",
          "iOS",
          "iOS",
          "iOS",
          "Android",
          "Android",
          "Android",
          "Android",
          "Android",
          "Android",
          "Android",
          "iOS",
          "iOS",
          "Android",
          "Android",
          "iOS",
          "Android",
          "Android",
          "iOS",
          "Android",
          "Android",
          "Android",
          "Android",
          "Android",
          "iOS",
          "iOS",
          "Android",
          "Android",
          "Android",
          "Android",
          "Android",
          "Android",
          "Android",
          "Android",
          "Android",
          "iOS",
          "iOS",
          "iOS",
          "Android",
          "iOS",
          "Android",
          "Android",
          "Android",
          "Android",
          "iOS",
          "Android",
          "Android",
          "Android",
          "Android",
          "Android",
          "Android",
          "Android",
          "Android",
          "Android",
          "iOS",
          "Android",
          "Android",
          "Android",
          "iOS",
          "Android",
          "Android",
          "iOS",
          "Android",
          "iOS",
          "Android",
          "iOS",
          "Android",
          "iOS",
          "iOS",
          "Android",
          "Android",
          "Android",
          "iOS",
          "Android",
          "Android",
          "Android",
          "Android",
          "iOS",
          "iOS",
          "Android",
          "iOS",
          "Android",
          "Android",
          "Android",
          "Android",
          "Android",
          "Android",
          "Android",
          "Android",
          "Android",
          "iOS",
          "Android",
          "Android",
          "Android",
          "Android",
          "Android",
          "Android",
          "Android",
          "iOS",
          "Android",
          "Android",
          "Android",
          "Android",
          "Android",
          "Android",
          "Android",
          "Android",
          "Android",
          "iOS",
          "Android",
          "Android",
          "Android",
          "Android",
          "iOS",
          "Android",
          "Android",
          "Android",
          "Android",
          "Android",
          "Android",
          "Android",
          "iOS",
          "iOS",
          "Android",
          "Android",
          "Android",
          "Android",
          "Android",
          "iOS",
          "Android",
          "Android",
          "Android",
          "Android",
          "iOS",
          "Android",
          "iOS",
          "Android",
          "iOS",
          "Android",
          "Android",
          "Android",
          "Android",
          "Android",
          "Android",
          "iOS",
          "Android",
          "Android",
          "Android",
          "Android",
          "Android",
          "Android",
          "Android",
          "Android",
          "Android",
          "Android",
          "Android",
          "Android",
          "Android",
          "iOS",
          "Android",
          "Android",
          "iOS",
          "Android",
          "iOS",
          "Android",
          "Android",
          "Android",
          "Android",
          "Android",
          "Android",
          "Android",
          "Android",
          "Android",
          "Android",
          "Android",
          "Android",
          "Android",
          "Android",
          "Android",
          "Android",
          "Android",
          "iOS",
          "Android",
          "Android",
          "Android",
          "Android",
          "Android",
          "Android",
          "Android",
          "Android",
          "iOS",
          "iOS",
          "Android",
          "Android",
          "Android",
          "Android",
          "Android",
          "Android",
          "Android",
          "Android",
          "Android",
          "iOS",
          "Android",
          "Android",
          "Android",
          "Android",
          "Android",
          "iOS",
          "iOS",
          "Android",
          "iOS",
          "Android",
          "Android",
          "iOS",
          "Android",
          "iOS",
          "Android",
          "Android",
          "Android",
          "Android",
          "Android",
          "Android",
          "Android",
          "Android",
          "Android",
          "Android",
          "Android",
          "Android",
          "iOS",
          "iOS",
          "Android",
          "Android",
          "iOS",
          "Android",
          "Android",
          "Android",
          "Android",
          "Android",
          "Android",
          "Android",
          "Android",
          "Android",
          "Android",
          "Android",
          "Android",
          "Android",
          "iOS",
          "Android",
          "Android",
          "iOS",
          "Android",
          "iOS",
          "Android",
          "Android",
          "Android",
          "Android",
          "Android",
          "Android",
          "Android",
          "Android",
          "iOS",
          "Android",
          "Android",
          "Android",
          "Android",
          "Android",
          "Android",
          "Android",
          "Android",
          "Android",
          "Android",
          "Android",
          "iOS",
          "Android",
          "Android",
          "Android",
          "iOS",
          "Android",
          "Android",
          "Android",
          "Android"
         ],
         "x0": " ",
         "xaxis": "x",
         "y": [
          393,
          268,
          154,
          239,
          187,
          99,
          350,
          543,
          340,
          424,
          53,
          215,
          462,
          215,
          189,
          503,
          132,
          299,
          81,
          577,
          93,
          576,
          423,
          292,
          216,
          91,
          444,
          512,
          452,
          412,
          260,
          197,
          278,
          46,
          593,
          32,
          122,
          522,
          473,
          398,
          240,
          576,
          120,
          152,
          138,
          502,
          558,
          138,
          580,
          589,
          452,
          245,
          125,
          97,
          516,
          68,
          64,
          539,
          428,
          325,
          522,
          309,
          79,
          545,
          459,
          225,
          257,
          134,
          516,
          82,
          452,
          521,
          457,
          31,
          47,
          229,
          34,
          173,
          78,
          230,
          565,
          172,
          330,
          39,
          223,
          404,
          151,
          34,
          137,
          301,
          116,
          291,
          84,
          134,
          411,
          326,
          550,
          516,
          59,
          225,
          41,
          183,
          174,
          274,
          166,
          66,
          152,
          54,
          187,
          216,
          95,
          488,
          295,
          136,
          471,
          121,
          75,
          220,
          82,
          97,
          388,
          529,
          584,
          529,
          227,
          535,
          332,
          252,
          125,
          97,
          540,
          320,
          176,
          79,
          83,
          555,
          66,
          237,
          497,
          516,
          219,
          448,
          156,
          68,
          524,
          188,
          443,
          52,
          228,
          149,
          523,
          42,
          120,
          329,
          68,
          158,
          86,
          339,
          304,
          131,
          64,
          53,
          442,
          32,
          278,
          540,
          595,
          35,
          225,
          587,
          92,
          46,
          153,
          368,
          51,
          279,
          255,
          193,
          207,
          539,
          151,
          474,
          544,
          73,
          597,
          498,
          402,
          75,
          130,
          42,
          134,
          79,
          432,
          262,
          473,
          202,
          215,
          151,
          80,
          126,
          495,
          127,
          88,
          69,
          100,
          301,
          78,
          163,
          539,
          278,
          451,
          481,
          133,
          41,
          152,
          553,
          402,
          555,
          499,
          101,
          433,
          133,
          351,
          532,
          92,
          511,
          384,
          193,
          132,
          360,
          159,
          495,
          537,
          129,
          132,
          37,
          524,
          425,
          64,
          573,
          45,
          564,
          162,
          451,
          30,
          202,
          71,
          314,
          168,
          75,
          42,
          441,
          523,
          100,
          52,
          397,
          424,
          272,
          201,
          570,
          64,
          334,
          518,
          70,
          334,
          563,
          181,
          584,
          208,
          381,
          426,
          284,
          105,
          179,
          122,
          501,
          269,
          230,
          85,
          411,
          73,
          39,
          386,
          49,
          411,
          534,
          314,
          211,
          121,
          84,
          448,
          55,
          59,
          226,
          580,
          65,
          458,
          170,
          264,
          122,
          420,
          267,
          469,
          541,
          155,
          106,
          243,
          410,
          285,
          397,
          230,
          341,
          132,
          130,
          281,
          74,
          299,
          116,
          408,
          508,
          227,
          274,
          347,
          76,
          445,
          203,
          199,
          48,
          88,
          541,
          233,
          176,
          191,
          461,
          37,
          531,
          473,
          30,
          306,
          64,
          75,
          597,
          529,
          290,
          256,
          308,
          156,
          62,
          156,
          303,
          463,
          60,
          225,
          379,
          53,
          30,
          291,
          488,
          74,
          230,
          517,
          557,
          78,
          321,
          579,
          382,
          516,
          598,
          102,
          165,
          558,
          561,
          511,
          560,
          69,
          44,
          65,
          458,
          525,
          106,
          188,
          493,
          84,
          104,
          102,
          349,
          98,
          72,
          563,
          119,
          311,
          337,
          168,
          331,
          589,
          472,
          78,
          517,
          41,
          49,
          522,
          97,
          411,
          566,
          559,
          478,
          147,
          395,
          357,
          405,
          501,
          575,
          257,
          270,
          116,
          98,
          264,
          572,
          202,
          83,
          32,
          168,
          416,
          46,
          201,
          130,
          98,
          105,
          94,
          540,
          266,
          140,
          534,
          46,
          581,
          105,
          221,
          41,
          105,
          123,
          260,
          223,
          66,
          231,
          555,
          378,
          546,
          234,
          152,
          34,
          179,
          591,
          120,
          88,
          143,
          74,
          74,
          234,
          56,
          174,
          523,
          123,
          216,
          290,
          68,
          265,
          414,
          238,
          429,
          39,
          248,
          541,
          139,
          289,
          210,
          412,
          318,
          258,
          258,
          189,
          155,
          528,
          549,
          78,
          444,
          80,
          131,
          228,
          416,
          586,
          416,
          152,
          87,
          329,
          107,
          493,
          182,
          102,
          274,
          143,
          66,
          420,
          582,
          200,
          493,
          348,
          238,
          33,
          267,
          492,
          241,
          567,
          36,
          110,
          466,
          126,
          120,
          64,
          574,
          119,
          350,
          69,
          438,
          506,
          272,
          224,
          99,
          44,
          175,
          228,
          589,
          339,
          431,
          190,
          389,
          139,
          289,
          593,
          576,
          592,
          567,
          170,
          242,
          275,
          544,
          50,
          236,
          139,
          383,
          172,
          455,
          157,
          173,
          405,
          387,
          201,
          142,
          198,
          361,
          553,
          408,
          121,
          71,
          46,
          290,
          60,
          116,
          86,
          291,
          404,
          441,
          444,
          211,
          537,
          519,
          94,
          554,
          381,
          257,
          47,
          527,
          148,
          191,
          71,
          73,
          149,
          197,
          328,
          424,
          111,
          159,
          580,
          379,
          217,
          447,
          512,
          511,
          140,
          114,
          192,
          325,
          83,
          122,
          138,
          182,
          425,
          580,
          203,
          258,
          551,
          507,
          57,
          553,
          49,
          106,
          119,
          288,
          225,
          342,
          292,
          218,
          64,
          453,
          42,
          36,
          55,
          210,
          227,
          47,
          461,
          94,
          216,
          496,
          138,
          318,
          96,
          510,
          83,
          417,
          538,
          63,
          50,
          502,
          105,
          186,
          174,
          89,
          66,
          389,
          186,
          149,
          69,
          206,
          49,
          594,
          104,
          262,
          278,
          463,
          505,
          50,
          138,
          130,
          469,
          555,
          198,
          529,
          205,
          170,
          160,
          81,
          468,
          500,
          37,
          522,
          81,
          141,
          115,
          298,
          33,
          307,
          380,
          190,
          75,
          218,
          412,
          335,
          387,
          261,
          541,
          195,
          178,
          378,
          505,
          564,
          92,
          316,
          99,
          62,
          212
         ],
         "y0": " ",
         "yaxis": "y"
        }
       ],
       "layout": {
        "boxmode": "group",
        "legend": {
         "tracegroupgap": 0
        },
        "template": {
         "data": {
          "bar": [
           {
            "error_x": {
             "color": "#2a3f5f"
            },
            "error_y": {
             "color": "#2a3f5f"
            },
            "marker": {
             "line": {
              "color": "#E5ECF6",
              "width": 0.5
             },
             "pattern": {
              "fillmode": "overlay",
              "size": 10,
              "solidity": 0.2
             }
            },
            "type": "bar"
           }
          ],
          "barpolar": [
           {
            "marker": {
             "line": {
              "color": "#E5ECF6",
              "width": 0.5
             },
             "pattern": {
              "fillmode": "overlay",
              "size": 10,
              "solidity": 0.2
             }
            },
            "type": "barpolar"
           }
          ],
          "carpet": [
           {
            "aaxis": {
             "endlinecolor": "#2a3f5f",
             "gridcolor": "white",
             "linecolor": "white",
             "minorgridcolor": "white",
             "startlinecolor": "#2a3f5f"
            },
            "baxis": {
             "endlinecolor": "#2a3f5f",
             "gridcolor": "white",
             "linecolor": "white",
             "minorgridcolor": "white",
             "startlinecolor": "#2a3f5f"
            },
            "type": "carpet"
           }
          ],
          "choropleth": [
           {
            "colorbar": {
             "outlinewidth": 0,
             "ticks": ""
            },
            "type": "choropleth"
           }
          ],
          "contour": [
           {
            "colorbar": {
             "outlinewidth": 0,
             "ticks": ""
            },
            "colorscale": [
             [
              0,
              "#0d0887"
             ],
             [
              0.1111111111111111,
              "#46039f"
             ],
             [
              0.2222222222222222,
              "#7201a8"
             ],
             [
              0.3333333333333333,
              "#9c179e"
             ],
             [
              0.4444444444444444,
              "#bd3786"
             ],
             [
              0.5555555555555556,
              "#d8576b"
             ],
             [
              0.6666666666666666,
              "#ed7953"
             ],
             [
              0.7777777777777778,
              "#fb9f3a"
             ],
             [
              0.8888888888888888,
              "#fdca26"
             ],
             [
              1,
              "#f0f921"
             ]
            ],
            "type": "contour"
           }
          ],
          "contourcarpet": [
           {
            "colorbar": {
             "outlinewidth": 0,
             "ticks": ""
            },
            "type": "contourcarpet"
           }
          ],
          "heatmap": [
           {
            "colorbar": {
             "outlinewidth": 0,
             "ticks": ""
            },
            "colorscale": [
             [
              0,
              "#0d0887"
             ],
             [
              0.1111111111111111,
              "#46039f"
             ],
             [
              0.2222222222222222,
              "#7201a8"
             ],
             [
              0.3333333333333333,
              "#9c179e"
             ],
             [
              0.4444444444444444,
              "#bd3786"
             ],
             [
              0.5555555555555556,
              "#d8576b"
             ],
             [
              0.6666666666666666,
              "#ed7953"
             ],
             [
              0.7777777777777778,
              "#fb9f3a"
             ],
             [
              0.8888888888888888,
              "#fdca26"
             ],
             [
              1,
              "#f0f921"
             ]
            ],
            "type": "heatmap"
           }
          ],
          "heatmapgl": [
           {
            "colorbar": {
             "outlinewidth": 0,
             "ticks": ""
            },
            "colorscale": [
             [
              0,
              "#0d0887"
             ],
             [
              0.1111111111111111,
              "#46039f"
             ],
             [
              0.2222222222222222,
              "#7201a8"
             ],
             [
              0.3333333333333333,
              "#9c179e"
             ],
             [
              0.4444444444444444,
              "#bd3786"
             ],
             [
              0.5555555555555556,
              "#d8576b"
             ],
             [
              0.6666666666666666,
              "#ed7953"
             ],
             [
              0.7777777777777778,
              "#fb9f3a"
             ],
             [
              0.8888888888888888,
              "#fdca26"
             ],
             [
              1,
              "#f0f921"
             ]
            ],
            "type": "heatmapgl"
           }
          ],
          "histogram": [
           {
            "marker": {
             "pattern": {
              "fillmode": "overlay",
              "size": 10,
              "solidity": 0.2
             }
            },
            "type": "histogram"
           }
          ],
          "histogram2d": [
           {
            "colorbar": {
             "outlinewidth": 0,
             "ticks": ""
            },
            "colorscale": [
             [
              0,
              "#0d0887"
             ],
             [
              0.1111111111111111,
              "#46039f"
             ],
             [
              0.2222222222222222,
              "#7201a8"
             ],
             [
              0.3333333333333333,
              "#9c179e"
             ],
             [
              0.4444444444444444,
              "#bd3786"
             ],
             [
              0.5555555555555556,
              "#d8576b"
             ],
             [
              0.6666666666666666,
              "#ed7953"
             ],
             [
              0.7777777777777778,
              "#fb9f3a"
             ],
             [
              0.8888888888888888,
              "#fdca26"
             ],
             [
              1,
              "#f0f921"
             ]
            ],
            "type": "histogram2d"
           }
          ],
          "histogram2dcontour": [
           {
            "colorbar": {
             "outlinewidth": 0,
             "ticks": ""
            },
            "colorscale": [
             [
              0,
              "#0d0887"
             ],
             [
              0.1111111111111111,
              "#46039f"
             ],
             [
              0.2222222222222222,
              "#7201a8"
             ],
             [
              0.3333333333333333,
              "#9c179e"
             ],
             [
              0.4444444444444444,
              "#bd3786"
             ],
             [
              0.5555555555555556,
              "#d8576b"
             ],
             [
              0.6666666666666666,
              "#ed7953"
             ],
             [
              0.7777777777777778,
              "#fb9f3a"
             ],
             [
              0.8888888888888888,
              "#fdca26"
             ],
             [
              1,
              "#f0f921"
             ]
            ],
            "type": "histogram2dcontour"
           }
          ],
          "mesh3d": [
           {
            "colorbar": {
             "outlinewidth": 0,
             "ticks": ""
            },
            "type": "mesh3d"
           }
          ],
          "parcoords": [
           {
            "line": {
             "colorbar": {
              "outlinewidth": 0,
              "ticks": ""
             }
            },
            "type": "parcoords"
           }
          ],
          "pie": [
           {
            "automargin": true,
            "type": "pie"
           }
          ],
          "scatter": [
           {
            "fillpattern": {
             "fillmode": "overlay",
             "size": 10,
             "solidity": 0.2
            },
            "type": "scatter"
           }
          ],
          "scatter3d": [
           {
            "line": {
             "colorbar": {
              "outlinewidth": 0,
              "ticks": ""
             }
            },
            "marker": {
             "colorbar": {
              "outlinewidth": 0,
              "ticks": ""
             }
            },
            "type": "scatter3d"
           }
          ],
          "scattercarpet": [
           {
            "marker": {
             "colorbar": {
              "outlinewidth": 0,
              "ticks": ""
             }
            },
            "type": "scattercarpet"
           }
          ],
          "scattergeo": [
           {
            "marker": {
             "colorbar": {
              "outlinewidth": 0,
              "ticks": ""
             }
            },
            "type": "scattergeo"
           }
          ],
          "scattergl": [
           {
            "marker": {
             "colorbar": {
              "outlinewidth": 0,
              "ticks": ""
             }
            },
            "type": "scattergl"
           }
          ],
          "scattermapbox": [
           {
            "marker": {
             "colorbar": {
              "outlinewidth": 0,
              "ticks": ""
             }
            },
            "type": "scattermapbox"
           }
          ],
          "scatterpolar": [
           {
            "marker": {
             "colorbar": {
              "outlinewidth": 0,
              "ticks": ""
             }
            },
            "type": "scatterpolar"
           }
          ],
          "scatterpolargl": [
           {
            "marker": {
             "colorbar": {
              "outlinewidth": 0,
              "ticks": ""
             }
            },
            "type": "scatterpolargl"
           }
          ],
          "scatterternary": [
           {
            "marker": {
             "colorbar": {
              "outlinewidth": 0,
              "ticks": ""
             }
            },
            "type": "scatterternary"
           }
          ],
          "surface": [
           {
            "colorbar": {
             "outlinewidth": 0,
             "ticks": ""
            },
            "colorscale": [
             [
              0,
              "#0d0887"
             ],
             [
              0.1111111111111111,
              "#46039f"
             ],
             [
              0.2222222222222222,
              "#7201a8"
             ],
             [
              0.3333333333333333,
              "#9c179e"
             ],
             [
              0.4444444444444444,
              "#bd3786"
             ],
             [
              0.5555555555555556,
              "#d8576b"
             ],
             [
              0.6666666666666666,
              "#ed7953"
             ],
             [
              0.7777777777777778,
              "#fb9f3a"
             ],
             [
              0.8888888888888888,
              "#fdca26"
             ],
             [
              1,
              "#f0f921"
             ]
            ],
            "type": "surface"
           }
          ],
          "table": [
           {
            "cells": {
             "fill": {
              "color": "#EBF0F8"
             },
             "line": {
              "color": "white"
             }
            },
            "header": {
             "fill": {
              "color": "#C8D4E3"
             },
             "line": {
              "color": "white"
             }
            },
            "type": "table"
           }
          ]
         },
         "layout": {
          "annotationdefaults": {
           "arrowcolor": "#2a3f5f",
           "arrowhead": 0,
           "arrowwidth": 1
          },
          "autotypenumbers": "strict",
          "coloraxis": {
           "colorbar": {
            "outlinewidth": 0,
            "ticks": ""
           }
          },
          "colorscale": {
           "diverging": [
            [
             0,
             "#8e0152"
            ],
            [
             0.1,
             "#c51b7d"
            ],
            [
             0.2,
             "#de77ae"
            ],
            [
             0.3,
             "#f1b6da"
            ],
            [
             0.4,
             "#fde0ef"
            ],
            [
             0.5,
             "#f7f7f7"
            ],
            [
             0.6,
             "#e6f5d0"
            ],
            [
             0.7,
             "#b8e186"
            ],
            [
             0.8,
             "#7fbc41"
            ],
            [
             0.9,
             "#4d9221"
            ],
            [
             1,
             "#276419"
            ]
           ],
           "sequential": [
            [
             0,
             "#0d0887"
            ],
            [
             0.1111111111111111,
             "#46039f"
            ],
            [
             0.2222222222222222,
             "#7201a8"
            ],
            [
             0.3333333333333333,
             "#9c179e"
            ],
            [
             0.4444444444444444,
             "#bd3786"
            ],
            [
             0.5555555555555556,
             "#d8576b"
            ],
            [
             0.6666666666666666,
             "#ed7953"
            ],
            [
             0.7777777777777778,
             "#fb9f3a"
            ],
            [
             0.8888888888888888,
             "#fdca26"
            ],
            [
             1,
             "#f0f921"
            ]
           ],
           "sequentialminus": [
            [
             0,
             "#0d0887"
            ],
            [
             0.1111111111111111,
             "#46039f"
            ],
            [
             0.2222222222222222,
             "#7201a8"
            ],
            [
             0.3333333333333333,
             "#9c179e"
            ],
            [
             0.4444444444444444,
             "#bd3786"
            ],
            [
             0.5555555555555556,
             "#d8576b"
            ],
            [
             0.6666666666666666,
             "#ed7953"
            ],
            [
             0.7777777777777778,
             "#fb9f3a"
            ],
            [
             0.8888888888888888,
             "#fdca26"
            ],
            [
             1,
             "#f0f921"
            ]
           ]
          },
          "colorway": [
           "#636efa",
           "#EF553B",
           "#00cc96",
           "#ab63fa",
           "#FFA15A",
           "#19d3f3",
           "#FF6692",
           "#B6E880",
           "#FF97FF",
           "#FECB52"
          ],
          "font": {
           "color": "#2a3f5f"
          },
          "geo": {
           "bgcolor": "white",
           "lakecolor": "white",
           "landcolor": "#E5ECF6",
           "showlakes": true,
           "showland": true,
           "subunitcolor": "white"
          },
          "hoverlabel": {
           "align": "left"
          },
          "hovermode": "closest",
          "mapbox": {
           "style": "light"
          },
          "paper_bgcolor": "white",
          "plot_bgcolor": "#E5ECF6",
          "polar": {
           "angularaxis": {
            "gridcolor": "white",
            "linecolor": "white",
            "ticks": ""
           },
           "bgcolor": "#E5ECF6",
           "radialaxis": {
            "gridcolor": "white",
            "linecolor": "white",
            "ticks": ""
           }
          },
          "scene": {
           "xaxis": {
            "backgroundcolor": "#E5ECF6",
            "gridcolor": "white",
            "gridwidth": 2,
            "linecolor": "white",
            "showbackground": true,
            "ticks": "",
            "zerolinecolor": "white"
           },
           "yaxis": {
            "backgroundcolor": "#E5ECF6",
            "gridcolor": "white",
            "gridwidth": 2,
            "linecolor": "white",
            "showbackground": true,
            "ticks": "",
            "zerolinecolor": "white"
           },
           "zaxis": {
            "backgroundcolor": "#E5ECF6",
            "gridcolor": "white",
            "gridwidth": 2,
            "linecolor": "white",
            "showbackground": true,
            "ticks": "",
            "zerolinecolor": "white"
           }
          },
          "shapedefaults": {
           "line": {
            "color": "#2a3f5f"
           }
          },
          "ternary": {
           "aaxis": {
            "gridcolor": "white",
            "linecolor": "white",
            "ticks": ""
           },
           "baxis": {
            "gridcolor": "white",
            "linecolor": "white",
            "ticks": ""
           },
           "bgcolor": "#E5ECF6",
           "caxis": {
            "gridcolor": "white",
            "linecolor": "white",
            "ticks": ""
           }
          },
          "title": {
           "x": 0.05
          },
          "xaxis": {
           "automargin": true,
           "gridcolor": "white",
           "linecolor": "white",
           "ticks": "",
           "title": {
            "standoff": 15
           },
           "zerolinecolor": "white",
           "zerolinewidth": 2
          },
          "yaxis": {
           "automargin": true,
           "gridcolor": "white",
           "linecolor": "white",
           "ticks": "",
           "title": {
            "standoff": 15
           },
           "zerolinecolor": "white",
           "zerolinewidth": 2
          }
         }
        },
        "title": {
         "text": "App Usage Time by Operating System"
        },
        "xaxis": {
         "anchor": "y",
         "domain": [
          0,
          1
         ],
         "title": {
          "text": "Operating System"
         }
        },
        "yaxis": {
         "anchor": "x",
         "domain": [
          0,
          1
         ],
         "title": {
          "text": "App Usage Time (min/day)"
         }
        }
       }
      }
     },
     "metadata": {},
     "output_type": "display_data"
    }
   ],
   "source": [
    "# 1. Verteilung der App-Nutzungszeit nach Betriebssystem (Boxplot)\n",
    "fig1 = px.box(df_U, x='Operating System', y='App Usage Time (min/day)', title='App Usage Time by Operating System')\n",
    "fig1.show()"
   ]
  },
  {
   "cell_type": "code",
   "execution_count": 44,
   "metadata": {},
   "outputs": [
    {
     "data": {
      "application/vnd.plotly.v1+json": {
       "config": {
        "plotlyServerURL": "https://plot.ly"
       },
       "data": [
        {
         "hovertemplate": "Operating System=Android<br>Screen On Time (hours/day)=%{x}<br>Battery Drain (mAh/day)=%{y}<br>App Usage Time (min/day)=%{marker.size}<extra></extra>",
         "legendgroup": "Android",
         "marker": {
          "color": "#636efa",
          "size": [
           393,
           268,
           154,
           239,
           99,
           350,
           543,
           340,
           53,
           215,
           462,
           215,
           503,
           132,
           81,
           93,
           576,
           423,
           292,
           216,
           91,
           512,
           452,
           412,
           260,
           197,
           278,
           46,
           593,
           32,
           522,
           473,
           398,
           240,
           576,
           120,
           152,
           138,
           502,
           558,
           138,
           580,
           589,
           452,
           245,
           125,
           97,
           516,
           64,
           539,
           428,
           522,
           309,
           79,
           545,
           459,
           134,
           82,
           452,
           457,
           31,
           229,
           34,
           173,
           78,
           230,
           565,
           330,
           39,
           223,
           404,
           151,
           34,
           137,
           301,
           116,
           291,
           411,
           326,
           516,
           59,
           225,
           41,
           183,
           174,
           274,
           166,
           66,
           152,
           54,
           187,
           216,
           95,
           488,
           295,
           136,
           471,
           82,
           97,
           388,
           529,
           584,
           529,
           227,
           535,
           252,
           125,
           97,
           540,
           320,
           176,
           79,
           83,
           66,
           237,
           497,
           516,
           219,
           448,
           68,
           443,
           52,
           228,
           149,
           42,
           120,
           329,
           68,
           158,
           86,
           339,
           304,
           131,
           64,
           53,
           442,
           278,
           540,
           595,
           35,
           225,
           587,
           92,
           46,
           153,
           51,
           279,
           255,
           193,
           207,
           151,
           474,
           597,
           498,
           75,
           42,
           79,
           473,
           202,
           215,
           151,
           80,
           126,
           495,
           88,
           69,
           100,
           301,
           78,
           163,
           539,
           278,
           451,
           481,
           133,
           41,
           553,
           555,
           101,
           433,
           133,
           351,
           532,
           92,
           511,
           384,
           132,
           360,
           537,
           129,
           37,
           524,
           425,
           64,
           45,
           564,
           162,
           451,
           30,
           202,
           71,
           314,
           168,
           75,
           42,
           441,
           523,
           100,
           52,
           397,
           424,
           272,
           201,
           570,
           64,
           70,
           563,
           584,
           208,
           381,
           426,
           284,
           105,
           179,
           501,
           269,
           230,
           85,
           411,
           73,
           39,
           49,
           411,
           534,
           314,
           211,
           121,
           84,
           448,
           55,
           59,
           226,
           580,
           65,
           458,
           122,
           420,
           106,
           243,
           410,
           397,
           230,
           132,
           130,
           74,
           299,
           116,
           408,
           508,
           274,
           347,
           76,
           203,
           199,
           48,
           88,
           233,
           191,
           461,
           37,
           531,
           473,
           30,
           156,
           62,
           156,
           303,
           463,
           60,
           225,
           379,
           53,
           30,
           74,
           230,
           517,
           557,
           78,
           579,
           382,
           516,
           598,
           102,
           561,
           511,
           560,
           69,
           44,
           458,
           525,
           106,
           84,
           104,
           102,
           98,
           72,
           563,
           119,
           311,
           337,
           168,
           589,
           472,
           78,
           41,
           49,
           522,
           97,
           566,
           478,
           147,
           395,
           357,
           405,
           501,
           575,
           257,
           116,
           264,
           572,
           202,
           46,
           201,
           130,
           98,
           105,
           94,
           540,
           534,
           46,
           105,
           221,
           105,
           123,
           260,
           223,
           66,
           378,
           546,
           234,
           152,
           34,
           179,
           591,
           120,
           88,
           234,
           174,
           523,
           123,
           216,
           68,
           265,
           414,
           238,
           429,
           39,
           248,
           541,
           139,
           210,
           412,
           318,
           258,
           189,
           528,
           78,
           80,
           416,
           586,
           416,
           87,
           329,
           107,
           493,
           274,
           66,
           420,
           582,
           200,
           493,
           348,
           238,
           33,
           267,
           241,
           567,
           36,
           110,
           466,
           126,
           120,
           574,
           119,
           350,
           69,
           438,
           506,
           272,
           224,
           99,
           175,
           228,
           589,
           339,
           190,
           389,
           139,
           289,
           593,
           576,
           592,
           242,
           275,
           544,
           50,
           236,
           383,
           172,
           455,
           157,
           405,
           201,
           198,
           361,
           553,
           408,
           121,
           71,
           290,
           60,
           116,
           86,
           291,
           404,
           441,
           444,
           211,
           537,
           519,
           94,
           554,
           257,
           47,
           148,
           71,
           73,
           149,
           197,
           328,
           424,
           111,
           159,
           580,
           379,
           217,
           447,
           512,
           511,
           140,
           114,
           192,
           83,
           122,
           138,
           182,
           425,
           580,
           203,
           258,
           57,
           553,
           49,
           106,
           119,
           288,
           225,
           342,
           292,
           64,
           453,
           42,
           36,
           55,
           47,
           94,
           216,
           138,
           96,
           510,
           83,
           417,
           538,
           63,
           50,
           502,
           105,
           186,
           174,
           89,
           186,
           149,
           206,
           49,
           594,
           104,
           262,
           278,
           463,
           505,
           50,
           138,
           130,
           469,
           555,
           529,
           205,
           160,
           468,
           500,
           37,
           522,
           81,
           141,
           115,
           298,
           307,
           380,
           190,
           75,
           218,
           412,
           335,
           387,
           261,
           541,
           195,
           378,
           505,
           564,
           316,
           99,
           62,
           212
          ],
          "sizemode": "area",
          "sizeref": 1.495,
          "symbol": "circle"
         },
         "mode": "markers",
         "name": "Android",
         "orientation": "v",
         "showlegend": true,
         "type": "scatter",
         "x": [
          6.4,
          4.7,
          4,
          4.8,
          2,
          7.3,
          11.4,
          7.7,
          1.4,
          5.5,
          6.2,
          4.9,
          10.4,
          3.6,
          1.4,
          2.6,
          11.6,
          6.5,
          5.6,
          4,
          3.4,
          10.5,
          6.8,
          6.2,
          6,
          4.6,
          4.7,
          2,
          10.2,
          1.2,
          11.2,
          6.4,
          6.2,
          4.7,
          10.1,
          2.1,
          3.7,
          2.4,
          10.9,
          8.4,
          3.6,
          8.2,
          8.7,
          7.4,
          5.9,
          2.7,
          2.2,
          8.7,
          1.1,
          8.4,
          7,
          11.9,
          7.5,
          1.9,
          11.5,
          7,
          4,
          1.7,
          7.2,
          6.3,
          1.1,
          5.7,
          2,
          2.5,
          1.8,
          5.7,
          10.6,
          7.2,
          1.8,
          4.5,
          7.4,
          2.4,
          1.5,
          3.3,
          6.2,
          2.1,
          4.1,
          7.5,
          7.2,
          12,
          1.2,
          5.5,
          1.1,
          4.1,
          2.5,
          4.2,
          2.8,
          1.2,
          2.7,
          1.4,
          5.5,
          6,
          3.8,
          8.6,
          5.1,
          3.2,
          7.9,
          1.6,
          2.7,
          6.6,
          8.7,
          10,
          8.1,
          5.1,
          11.8,
          4.2,
          2.5,
          3.3,
          10.8,
          7.2,
          3.6,
          1,
          1.6,
          1.7,
          4.5,
          9.7,
          11.1,
          5.2,
          6.3,
          1.1,
          7.4,
          1.6,
          4.2,
          3.7,
          1.6,
          2,
          7.5,
          1.5,
          3.4,
          1.7,
          7.8,
          6.5,
          2.4,
          1.6,
          1.9,
          7.7,
          4.8,
          8.4,
          11.3,
          1.5,
          5.4,
          11.8,
          3.7,
          1.1,
          2.8,
          1.6,
          5.2,
          5.4,
          5.7,
          5.7,
          2.4,
          6.4,
          10.4,
          10.7,
          1.1,
          1.1,
          1.9,
          6.4,
          4.7,
          4.4,
          3.7,
          1.6,
          2.8,
          8.9,
          1.3,
          1.6,
          3.3,
          6.5,
          1.7,
          3.1,
          9.3,
          4.6,
          6.1,
          10.9,
          3.4,
          1.1,
          8.4,
          9.5,
          3.2,
          6.8,
          2,
          6.1,
          10.7,
          2.5,
          10.8,
          7,
          3.8,
          7.3,
          10,
          3.4,
          1.4,
          8.9,
          6.9,
          1.7,
          1.7,
          11.7,
          3.5,
          6.5,
          1.3,
          5,
          1.5,
          6.2,
          4,
          1.9,
          1.4,
          7.9,
          10.5,
          2.4,
          1.2,
          7,
          7.7,
          5,
          4,
          9,
          1.3,
          1.7,
          8.4,
          9.4,
          4.7,
          6.6,
          6.5,
          4.2,
          2.2,
          2.3,
          11.9,
          5.9,
          4.4,
          1.6,
          7.8,
          1.7,
          1.7,
          1.3,
          6.9,
          10.8,
          7.4,
          4,
          3.7,
          1.2,
          7.6,
          1.6,
          1.8,
          4.5,
          8.5,
          1.8,
          6.6,
          3.3,
          6.5,
          2.8,
          5,
          7.5,
          6.8,
          4.2,
          2.9,
          3,
          2,
          4.3,
          2.2,
          6.6,
          11.3,
          6,
          6.3,
          1.3,
          4.3,
          6,
          2,
          1.6,
          4.6,
          6,
          7.5,
          1.5,
          9.8,
          7.9,
          1.3,
          3.3,
          1.4,
          3.8,
          7.4,
          6.9,
          1.5,
          4.6,
          7.5,
          1.4,
          1.9,
          2,
          4.6,
          11.8,
          10.4,
          1.5,
          8.6,
          7.2,
          11.6,
          11.2,
          3.9,
          10.6,
          10.9,
          11.3,
          1.3,
          1.1,
          6,
          10.8,
          3,
          1.5,
          2.9,
          3,
          2,
          1.3,
          11.6,
          2.8,
          7.9,
          6.1,
          3.5,
          9.2,
          6.8,
          1.1,
          1.6,
          1.5,
          11.1,
          2.7,
          8.6,
          7.3,
          3.2,
          7.3,
          7.8,
          6.9,
          11.8,
          8.2,
          5.1,
          2,
          5.1,
          11.7,
          4.9,
          1.1,
          5,
          2.8,
          2.4,
          3.8,
          2.3,
          10.1,
          10.4,
          2,
          3.4,
          4.4,
          3,
          3.9,
          5.7,
          5.7,
          1.1,
          7.2,
          8.8,
          5.2,
          3,
          1.2,
          3.5,
          11.8,
          3.3,
          1.3,
          4.7,
          2.4,
          9,
          3.3,
          5.9,
          1.3,
          4.8,
          7.3,
          4,
          7.5,
          1.9,
          4.6,
          9.4,
          3,
          4.9,
          6.2,
          6.6,
          4.3,
          4.8,
          10.4,
          1.6,
          1.1,
          7.3,
          9.3,
          6.1,
          1.5,
          6.8,
          2.5,
          10.9,
          4.5,
          1.3,
          7.7,
          8.4,
          5.8,
          8.5,
          6.6,
          5.1,
          2,
          5.9,
          5.3,
          10.8,
          1.6,
          3.4,
          7.1,
          2.2,
          3.8,
          8.5,
          2.2,
          6.5,
          1.1,
          6.5,
          11.2,
          5.2,
          4.5,
          2.4,
          3,
          4.8,
          11.8,
          7.9,
          4.7,
          6.1,
          3.3,
          5.9,
          11.1,
          9.5,
          9.4,
          5.4,
          5.5,
          9.7,
          2,
          4.6,
          6.6,
          4,
          6.2,
          2.5,
          7.3,
          4.9,
          4.2,
          7.6,
          11.6,
          6.2,
          2.1,
          1.4,
          4.4,
          1.3,
          3.9,
          1.7,
          5.3,
          6.6,
          7.1,
          6.1,
          5.9,
          9.1,
          10.9,
          3.5,
          10.3,
          6,
          1.1,
          2.7,
          1.9,
          1.3,
          3.1,
          4.4,
          6.1,
          7.5,
          3.6,
          3.7,
          11.5,
          7.7,
          4.2,
          6.3,
          10.5,
          10.8,
          2.5,
          3,
          4.3,
          1.2,
          3,
          2.1,
          5.3,
          6,
          10.4,
          4,
          4.9,
          1.3,
          10.2,
          1.1,
          4,
          3.7,
          5.4,
          5.6,
          7,
          4.2,
          1.8,
          7.4,
          1.8,
          1.5,
          1.8,
          1.2,
          3.1,
          5.1,
          3.2,
          3.4,
          10.7,
          1.1,
          6.2,
          9.8,
          1.8,
          1.4,
          8.2,
          3.3,
          4.8,
          2.9,
          1.3,
          5.4,
          2,
          5.2,
          1.2,
          10.5,
          3.7,
          5.6,
          5.3,
          6.8,
          9.6,
          1.5,
          3.1,
          3.2,
          6.4,
          10.3,
          11.4,
          5.5,
          3.2,
          7.3,
          11.2,
          1.6,
          11.4,
          1.5,
          3.8,
          3.5,
          4.6,
          6.1,
          7.6,
          5.5,
          1.6,
          4,
          6.6,
          7.7,
          6.3,
          4.9,
          9.5,
          5.7,
          6.7,
          8.6,
          9.7,
          6.8,
          3.1,
          1.7,
          5.4
         ],
         "xaxis": "x",
         "y": [
          1872,
          1331,
          761,
          1676,
          940,
          1802,
          2956,
          2138,
          435,
          1690,
          2303,
          1662,
          2571,
          628,
          558,
          681,
          2803,
          2094,
          1401,
          1711,
          1073,
          2409,
          2387,
          1899,
          1361,
          1660,
          1484,
          457,
          2499,
          580,
          2808,
          2312,
          1851,
          1464,
          2447,
          720,
          993,
          837,
          2476,
          2447,
          889,
          2623,
          2736,
          2180,
          1243,
          690,
          1101,
          2857,
          572,
          2796,
          2306,
          2798,
          2292,
          493,
          2911,
          1982,
          773,
          558,
          1808,
          2347,
          585,
          1305,
          558,
          678,
          333,
          1254,
          2475,
          2363,
          368,
          1311,
          2081,
          1003,
          345,
          839,
          2053,
          912,
          1474,
          2169,
          2243,
          2406,
          361,
          1526,
          389,
          1210,
          929,
          1781,
          1113,
          585,
          642,
          403,
          1754,
          1641,
          718,
          2447,
          1483,
          818,
          2156,
          590,
          1018,
          2085,
          2484,
          2541,
          2686,
          1702,
          2858,
          1439,
          678,
          751,
          2923,
          2056,
          1193,
          313,
          303,
          375,
          1368,
          2876,
          2429,
          1510,
          2044,
          528,
          2289,
          385,
          1677,
          873,
          315,
          741,
          2277,
          364,
          893,
          439,
          2102,
          2375,
          859,
          540,
          526,
          2067,
          1238,
          2993,
          2968,
          467,
          1370,
          2431,
          1124,
          487,
          935,
          509,
          1660,
          1738,
          1471,
          1582,
          1124,
          2109,
          2984,
          2738,
          379,
          402,
          477,
          2109,
          1512,
          1407,
          1116,
          549,
          971,
          2920,
          327,
          463,
          961,
          2084,
          455,
          620,
          2606,
          1385,
          2108,
          2752,
          714,
          588,
          2559,
          2855,
          603,
          2093,
          1007,
          1941,
          2556,
          690,
          2712,
          2185,
          649,
          1946,
          2720,
          1059,
          369,
          2549,
          2142,
          585,
          302,
          2764,
          761,
          2378,
          479,
          1542,
          590,
          2205,
          866,
          537,
          324,
          2332,
          2460,
          982,
          398,
          2352,
          1863,
          1655,
          1791,
          2613,
          490,
          359,
          2849,
          2766,
          1642,
          2160,
          1969,
          1360,
          1002,
          1014,
          2702,
          1666,
          1607,
          417,
          2029,
          403,
          530,
          542,
          1820,
          2805,
          2136,
          1519,
          619,
          415,
          2199,
          360,
          497,
          1781,
          2660,
          481,
          2214,
          748,
          2113,
          686,
          1232,
          2176,
          2027,
          1507,
          1054,
          820,
          320,
          1737,
          827,
          2026,
          2590,
          1489,
          2001,
          490,
          1554,
          1707,
          574,
          420,
          1534,
          1762,
          2001,
          375,
          2905,
          2292,
          561,
          1020,
          542,
          866,
          2314,
          2111,
          593,
          1230,
          1823,
          455,
          574,
          366,
          1325,
          2435,
          2900,
          341,
          2539,
          1965,
          2464,
          2876,
          747,
          2547,
          2514,
          2947,
          434,
          531,
          1875,
          2445,
          922,
          373,
          653,
          890,
          925,
          461,
          2968,
          775,
          2231,
          1901,
          1055,
          2663,
          2288,
          437,
          323,
          571,
          2821,
          612,
          2595,
          2340,
          994,
          2291,
          2289,
          2366,
          2790,
          2918,
          1692,
          1171,
          1293,
          2655,
          1549,
          536,
          1482,
          1062,
          747,
          967,
          1033,
          2757,
          2672,
          309,
          798,
          1341,
          728,
          915,
          1725,
          1295,
          505,
          1859,
          2852,
          1604,
          617,
          518,
          1114,
          2953,
          734,
          557,
          1707,
          639,
          2696,
          938,
          1789,
          583,
          1770,
          2349,
          1414,
          1921,
          541,
          1396,
          2452,
          697,
          1657,
          2201,
          2089,
          1759,
          1681,
          2717,
          470,
          417,
          1882,
          2403,
          2279,
          594,
          1892,
          1176,
          2928,
          1356,
          369,
          2017,
          2664,
          1291,
          2859,
          2398,
          1408,
          318,
          1740,
          1767,
          2911,
          442,
          975,
          1984,
          1187,
          940,
          2780,
          1123,
          2364,
          535,
          1849,
          2623,
          1390,
          1646,
          689,
          801,
          1639,
          2629,
          1987,
          1276,
          2087,
          937,
          1528,
          2672,
          2638,
          2867,
          1307,
          1616,
          2633,
          362,
          1750,
          2155,
          1047,
          1984,
          1110,
          2082,
          1633,
          1392,
          2037,
          2914,
          2245,
          1188,
          508,
          1272,
          462,
          1132,
          312,
          1537,
          2181,
          1928,
          2229,
          1757,
          2858,
          2571,
          606,
          2776,
          1715,
          532,
          625,
          571,
          538,
          1191,
          1665,
          1975,
          1995,
          627,
          630,
          2767,
          1809,
          1500,
          1959,
          2538,
          2529,
          825,
          1131,
          1382,
          545,
          922,
          660,
          1278,
          1928,
          2496,
          1323,
          1596,
          489,
          2911,
          395,
          1158,
          608,
          1476,
          1388,
          1826,
          1407,
          351,
          2363,
          417,
          310,
          328,
          437,
          1078,
          1483,
          1142,
          1198,
          2433,
          546,
          2074,
          2778,
          321,
          443,
          2597,
          723,
          1494,
          1197,
          314,
          1627,
          1041,
          1632,
          365,
          2839,
          1028,
          1489,
          1368,
          2358,
          2464,
          387,
          947,
          1189,
          1858,
          2568,
          2891,
          1699,
          648,
          1937,
          2925,
          490,
          2776,
          545,
          689,
          706,
          1525,
          2105,
          2354,
          1718,
          325,
          1221,
          1859,
          2037,
          2098,
          1589,
          2424,
          1447,
          1898,
          2792,
          2422,
          1965,
          942,
          431,
          1306
         ],
         "yaxis": "y"
        },
        {
         "hovertemplate": "Operating System=iOS<br>Screen On Time (hours/day)=%{x}<br>Battery Drain (mAh/day)=%{y}<br>App Usage Time (min/day)=%{marker.size}<extra></extra>",
         "legendgroup": "iOS",
         "marker": {
          "color": "#EF553B",
          "size": [
           187,
           424,
           189,
           299,
           577,
           444,
           122,
           68,
           325,
           225,
           257,
           516,
           521,
           47,
           172,
           84,
           134,
           550,
           121,
           75,
           220,
           332,
           555,
           156,
           524,
           188,
           523,
           32,
           368,
           539,
           544,
           73,
           402,
           130,
           134,
           432,
           262,
           127,
           152,
           402,
           499,
           193,
           159,
           495,
           132,
           573,
           334,
           518,
           334,
           181,
           122,
           386,
           170,
           264,
           267,
           469,
           541,
           155,
           285,
           341,
           281,
           227,
           445,
           541,
           176,
           306,
           64,
           75,
           597,
           529,
           290,
           256,
           308,
           291,
           488,
           321,
           165,
           558,
           65,
           188,
           493,
           349,
           331,
           517,
           411,
           559,
           270,
           98,
           83,
           32,
           168,
           416,
           266,
           140,
           581,
           41,
           231,
           555,
           143,
           74,
           74,
           56,
           290,
           289,
           258,
           155,
           549,
           444,
           131,
           228,
           152,
           182,
           102,
           143,
           492,
           64,
           44,
           431,
           567,
           170,
           139,
           173,
           387,
           142,
           46,
           381,
           527,
           191,
           325,
           551,
           507,
           218,
           210,
           227,
           461,
           496,
           318,
           66,
           389,
           69,
           198,
           170,
           81,
           33,
           178,
           92
          ],
          "sizemode": "area",
          "sizeref": 1.495,
          "symbol": "circle"
         },
         "mode": "markers",
         "name": "iOS",
         "orientation": "v",
         "showlegend": true,
         "type": "scatter",
         "x": [
          4.3,
          6.6,
          5.4,
          5.8,
          8.5,
          7.6,
          3.3,
          1.6,
          7.1,
          4,
          4.5,
          10.2,
          9,
          2,
          2.8,
          1.4,
          2.5,
          9.5,
          3.2,
          1.2,
          5.2,
          7.4,
          11.3,
          2.2,
          11.2,
          5.3,
          9.4,
          2,
          6.6,
          11.9,
          9.2,
          1.2,
          7.8,
          2,
          2.2,
          7.2,
          4.1,
          3.7,
          3.3,
          6.9,
          9.6,
          5.2,
          2.3,
          8.9,
          3.8,
          10.8,
          6.6,
          9.6,
          6.8,
          4.1,
          2.6,
          7.7,
          2.7,
          5.2,
          4.4,
          6,
          11.4,
          2.9,
          5.1,
          7.2,
          4.9,
          4.4,
          7.5,
          8.3,
          3.8,
          6.1,
          1.2,
          1,
          10.3,
          10.5,
          6,
          5.8,
          7.7,
          4.1,
          9.5,
          7.9,
          2.4,
          9.8,
          1.7,
          4.6,
          10.4,
          6.6,
          7.4,
          11.6,
          7.4,
          8.2,
          5,
          2.3,
          1.4,
          1.4,
          3.2,
          6.1,
          5.5,
          3.8,
          8.4,
          1.7,
          4,
          8.8,
          3.9,
          1.6,
          1.6,
          1,
          4.6,
          5,
          4.2,
          2.4,
          11.1,
          6,
          3.8,
          4.4,
          3.7,
          4.8,
          2.9,
          3.6,
          10,
          1.2,
          1.2,
          6.4,
          10.5,
          2.5,
          2.6,
          3.8,
          6.6,
          3.5,
          1.6,
          7.5,
          10,
          5.7,
          6,
          8.5,
          9.6,
          5,
          5,
          5.2,
          6.3,
          10.2,
          6.6,
          1.5,
          6.3,
          1.7,
          5.4,
          2.4,
          1.6,
          1.8,
          4,
          3.9
         ],
         "xaxis": "x",
         "y": [
          1367,
          1957,
          1754,
          1431,
          2774,
          2372,
          755,
          450,
          2269,
          1420,
          1705,
          2932,
          2902,
          476,
          1035,
          501,
          1125,
          2916,
          651,
          409,
          1631,
          2149,
          2528,
          896,
          2417,
          1281,
          2583,
          469,
          1817,
          2853,
          2936,
          308,
          2014,
          602,
          917,
          1822,
          1287,
          1153,
          1175,
          2282,
          2873,
          1318,
          1083,
          2855,
          636,
          2711,
          2394,
          2954,
          2000,
          1608,
          639,
          2114,
          805,
          1641,
          1505,
          2290,
          2443,
          1117,
          1226,
          2397,
          1566,
          1275,
          2007,
          2865,
          727,
          2267,
          590,
          435,
          2718,
          2971,
          1533,
          1309,
          1974,
          1326,
          2840,
          2159,
          816,
          2765,
          490,
          1767,
          2453,
          2041,
          2129,
          2798,
          1960,
          2618,
          1532,
          608,
          454,
          416,
          716,
          2115,
          1238,
          1137,
          2591,
          408,
          1664,
          2540,
          1160,
          436,
          587,
          547,
          1694,
          1625,
          1315,
          954,
          2851,
          1873,
          739,
          1734,
          948,
          1500,
          918,
          988,
          2513,
          592,
          466,
          2206,
          2817,
          740,
          658,
          605,
          2168,
          625,
          440,
          2216,
          2430,
          1414,
          2244,
          2927,
          2606,
          1475,
          1614,
          1446,
          1988,
          2587,
          2055,
          565,
          2294,
          519,
          1544,
          1039,
          387,
          334,
          856,
          1082
         ],
         "yaxis": "y"
        }
       ],
       "layout": {
        "legend": {
         "itemsizing": "constant",
         "title": {
          "text": "Operating System"
         },
         "tracegroupgap": 0
        },
        "template": {
         "data": {
          "bar": [
           {
            "error_x": {
             "color": "#2a3f5f"
            },
            "error_y": {
             "color": "#2a3f5f"
            },
            "marker": {
             "line": {
              "color": "#E5ECF6",
              "width": 0.5
             },
             "pattern": {
              "fillmode": "overlay",
              "size": 10,
              "solidity": 0.2
             }
            },
            "type": "bar"
           }
          ],
          "barpolar": [
           {
            "marker": {
             "line": {
              "color": "#E5ECF6",
              "width": 0.5
             },
             "pattern": {
              "fillmode": "overlay",
              "size": 10,
              "solidity": 0.2
             }
            },
            "type": "barpolar"
           }
          ],
          "carpet": [
           {
            "aaxis": {
             "endlinecolor": "#2a3f5f",
             "gridcolor": "white",
             "linecolor": "white",
             "minorgridcolor": "white",
             "startlinecolor": "#2a3f5f"
            },
            "baxis": {
             "endlinecolor": "#2a3f5f",
             "gridcolor": "white",
             "linecolor": "white",
             "minorgridcolor": "white",
             "startlinecolor": "#2a3f5f"
            },
            "type": "carpet"
           }
          ],
          "choropleth": [
           {
            "colorbar": {
             "outlinewidth": 0,
             "ticks": ""
            },
            "type": "choropleth"
           }
          ],
          "contour": [
           {
            "colorbar": {
             "outlinewidth": 0,
             "ticks": ""
            },
            "colorscale": [
             [
              0,
              "#0d0887"
             ],
             [
              0.1111111111111111,
              "#46039f"
             ],
             [
              0.2222222222222222,
              "#7201a8"
             ],
             [
              0.3333333333333333,
              "#9c179e"
             ],
             [
              0.4444444444444444,
              "#bd3786"
             ],
             [
              0.5555555555555556,
              "#d8576b"
             ],
             [
              0.6666666666666666,
              "#ed7953"
             ],
             [
              0.7777777777777778,
              "#fb9f3a"
             ],
             [
              0.8888888888888888,
              "#fdca26"
             ],
             [
              1,
              "#f0f921"
             ]
            ],
            "type": "contour"
           }
          ],
          "contourcarpet": [
           {
            "colorbar": {
             "outlinewidth": 0,
             "ticks": ""
            },
            "type": "contourcarpet"
           }
          ],
          "heatmap": [
           {
            "colorbar": {
             "outlinewidth": 0,
             "ticks": ""
            },
            "colorscale": [
             [
              0,
              "#0d0887"
             ],
             [
              0.1111111111111111,
              "#46039f"
             ],
             [
              0.2222222222222222,
              "#7201a8"
             ],
             [
              0.3333333333333333,
              "#9c179e"
             ],
             [
              0.4444444444444444,
              "#bd3786"
             ],
             [
              0.5555555555555556,
              "#d8576b"
             ],
             [
              0.6666666666666666,
              "#ed7953"
             ],
             [
              0.7777777777777778,
              "#fb9f3a"
             ],
             [
              0.8888888888888888,
              "#fdca26"
             ],
             [
              1,
              "#f0f921"
             ]
            ],
            "type": "heatmap"
           }
          ],
          "heatmapgl": [
           {
            "colorbar": {
             "outlinewidth": 0,
             "ticks": ""
            },
            "colorscale": [
             [
              0,
              "#0d0887"
             ],
             [
              0.1111111111111111,
              "#46039f"
             ],
             [
              0.2222222222222222,
              "#7201a8"
             ],
             [
              0.3333333333333333,
              "#9c179e"
             ],
             [
              0.4444444444444444,
              "#bd3786"
             ],
             [
              0.5555555555555556,
              "#d8576b"
             ],
             [
              0.6666666666666666,
              "#ed7953"
             ],
             [
              0.7777777777777778,
              "#fb9f3a"
             ],
             [
              0.8888888888888888,
              "#fdca26"
             ],
             [
              1,
              "#f0f921"
             ]
            ],
            "type": "heatmapgl"
           }
          ],
          "histogram": [
           {
            "marker": {
             "pattern": {
              "fillmode": "overlay",
              "size": 10,
              "solidity": 0.2
             }
            },
            "type": "histogram"
           }
          ],
          "histogram2d": [
           {
            "colorbar": {
             "outlinewidth": 0,
             "ticks": ""
            },
            "colorscale": [
             [
              0,
              "#0d0887"
             ],
             [
              0.1111111111111111,
              "#46039f"
             ],
             [
              0.2222222222222222,
              "#7201a8"
             ],
             [
              0.3333333333333333,
              "#9c179e"
             ],
             [
              0.4444444444444444,
              "#bd3786"
             ],
             [
              0.5555555555555556,
              "#d8576b"
             ],
             [
              0.6666666666666666,
              "#ed7953"
             ],
             [
              0.7777777777777778,
              "#fb9f3a"
             ],
             [
              0.8888888888888888,
              "#fdca26"
             ],
             [
              1,
              "#f0f921"
             ]
            ],
            "type": "histogram2d"
           }
          ],
          "histogram2dcontour": [
           {
            "colorbar": {
             "outlinewidth": 0,
             "ticks": ""
            },
            "colorscale": [
             [
              0,
              "#0d0887"
             ],
             [
              0.1111111111111111,
              "#46039f"
             ],
             [
              0.2222222222222222,
              "#7201a8"
             ],
             [
              0.3333333333333333,
              "#9c179e"
             ],
             [
              0.4444444444444444,
              "#bd3786"
             ],
             [
              0.5555555555555556,
              "#d8576b"
             ],
             [
              0.6666666666666666,
              "#ed7953"
             ],
             [
              0.7777777777777778,
              "#fb9f3a"
             ],
             [
              0.8888888888888888,
              "#fdca26"
             ],
             [
              1,
              "#f0f921"
             ]
            ],
            "type": "histogram2dcontour"
           }
          ],
          "mesh3d": [
           {
            "colorbar": {
             "outlinewidth": 0,
             "ticks": ""
            },
            "type": "mesh3d"
           }
          ],
          "parcoords": [
           {
            "line": {
             "colorbar": {
              "outlinewidth": 0,
              "ticks": ""
             }
            },
            "type": "parcoords"
           }
          ],
          "pie": [
           {
            "automargin": true,
            "type": "pie"
           }
          ],
          "scatter": [
           {
            "fillpattern": {
             "fillmode": "overlay",
             "size": 10,
             "solidity": 0.2
            },
            "type": "scatter"
           }
          ],
          "scatter3d": [
           {
            "line": {
             "colorbar": {
              "outlinewidth": 0,
              "ticks": ""
             }
            },
            "marker": {
             "colorbar": {
              "outlinewidth": 0,
              "ticks": ""
             }
            },
            "type": "scatter3d"
           }
          ],
          "scattercarpet": [
           {
            "marker": {
             "colorbar": {
              "outlinewidth": 0,
              "ticks": ""
             }
            },
            "type": "scattercarpet"
           }
          ],
          "scattergeo": [
           {
            "marker": {
             "colorbar": {
              "outlinewidth": 0,
              "ticks": ""
             }
            },
            "type": "scattergeo"
           }
          ],
          "scattergl": [
           {
            "marker": {
             "colorbar": {
              "outlinewidth": 0,
              "ticks": ""
             }
            },
            "type": "scattergl"
           }
          ],
          "scattermapbox": [
           {
            "marker": {
             "colorbar": {
              "outlinewidth": 0,
              "ticks": ""
             }
            },
            "type": "scattermapbox"
           }
          ],
          "scatterpolar": [
           {
            "marker": {
             "colorbar": {
              "outlinewidth": 0,
              "ticks": ""
             }
            },
            "type": "scatterpolar"
           }
          ],
          "scatterpolargl": [
           {
            "marker": {
             "colorbar": {
              "outlinewidth": 0,
              "ticks": ""
             }
            },
            "type": "scatterpolargl"
           }
          ],
          "scatterternary": [
           {
            "marker": {
             "colorbar": {
              "outlinewidth": 0,
              "ticks": ""
             }
            },
            "type": "scatterternary"
           }
          ],
          "surface": [
           {
            "colorbar": {
             "outlinewidth": 0,
             "ticks": ""
            },
            "colorscale": [
             [
              0,
              "#0d0887"
             ],
             [
              0.1111111111111111,
              "#46039f"
             ],
             [
              0.2222222222222222,
              "#7201a8"
             ],
             [
              0.3333333333333333,
              "#9c179e"
             ],
             [
              0.4444444444444444,
              "#bd3786"
             ],
             [
              0.5555555555555556,
              "#d8576b"
             ],
             [
              0.6666666666666666,
              "#ed7953"
             ],
             [
              0.7777777777777778,
              "#fb9f3a"
             ],
             [
              0.8888888888888888,
              "#fdca26"
             ],
             [
              1,
              "#f0f921"
             ]
            ],
            "type": "surface"
           }
          ],
          "table": [
           {
            "cells": {
             "fill": {
              "color": "#EBF0F8"
             },
             "line": {
              "color": "white"
             }
            },
            "header": {
             "fill": {
              "color": "#C8D4E3"
             },
             "line": {
              "color": "white"
             }
            },
            "type": "table"
           }
          ]
         },
         "layout": {
          "annotationdefaults": {
           "arrowcolor": "#2a3f5f",
           "arrowhead": 0,
           "arrowwidth": 1
          },
          "autotypenumbers": "strict",
          "coloraxis": {
           "colorbar": {
            "outlinewidth": 0,
            "ticks": ""
           }
          },
          "colorscale": {
           "diverging": [
            [
             0,
             "#8e0152"
            ],
            [
             0.1,
             "#c51b7d"
            ],
            [
             0.2,
             "#de77ae"
            ],
            [
             0.3,
             "#f1b6da"
            ],
            [
             0.4,
             "#fde0ef"
            ],
            [
             0.5,
             "#f7f7f7"
            ],
            [
             0.6,
             "#e6f5d0"
            ],
            [
             0.7,
             "#b8e186"
            ],
            [
             0.8,
             "#7fbc41"
            ],
            [
             0.9,
             "#4d9221"
            ],
            [
             1,
             "#276419"
            ]
           ],
           "sequential": [
            [
             0,
             "#0d0887"
            ],
            [
             0.1111111111111111,
             "#46039f"
            ],
            [
             0.2222222222222222,
             "#7201a8"
            ],
            [
             0.3333333333333333,
             "#9c179e"
            ],
            [
             0.4444444444444444,
             "#bd3786"
            ],
            [
             0.5555555555555556,
             "#d8576b"
            ],
            [
             0.6666666666666666,
             "#ed7953"
            ],
            [
             0.7777777777777778,
             "#fb9f3a"
            ],
            [
             0.8888888888888888,
             "#fdca26"
            ],
            [
             1,
             "#f0f921"
            ]
           ],
           "sequentialminus": [
            [
             0,
             "#0d0887"
            ],
            [
             0.1111111111111111,
             "#46039f"
            ],
            [
             0.2222222222222222,
             "#7201a8"
            ],
            [
             0.3333333333333333,
             "#9c179e"
            ],
            [
             0.4444444444444444,
             "#bd3786"
            ],
            [
             0.5555555555555556,
             "#d8576b"
            ],
            [
             0.6666666666666666,
             "#ed7953"
            ],
            [
             0.7777777777777778,
             "#fb9f3a"
            ],
            [
             0.8888888888888888,
             "#fdca26"
            ],
            [
             1,
             "#f0f921"
            ]
           ]
          },
          "colorway": [
           "#636efa",
           "#EF553B",
           "#00cc96",
           "#ab63fa",
           "#FFA15A",
           "#19d3f3",
           "#FF6692",
           "#B6E880",
           "#FF97FF",
           "#FECB52"
          ],
          "font": {
           "color": "#2a3f5f"
          },
          "geo": {
           "bgcolor": "white",
           "lakecolor": "white",
           "landcolor": "#E5ECF6",
           "showlakes": true,
           "showland": true,
           "subunitcolor": "white"
          },
          "hoverlabel": {
           "align": "left"
          },
          "hovermode": "closest",
          "mapbox": {
           "style": "light"
          },
          "paper_bgcolor": "white",
          "plot_bgcolor": "#E5ECF6",
          "polar": {
           "angularaxis": {
            "gridcolor": "white",
            "linecolor": "white",
            "ticks": ""
           },
           "bgcolor": "#E5ECF6",
           "radialaxis": {
            "gridcolor": "white",
            "linecolor": "white",
            "ticks": ""
           }
          },
          "scene": {
           "xaxis": {
            "backgroundcolor": "#E5ECF6",
            "gridcolor": "white",
            "gridwidth": 2,
            "linecolor": "white",
            "showbackground": true,
            "ticks": "",
            "zerolinecolor": "white"
           },
           "yaxis": {
            "backgroundcolor": "#E5ECF6",
            "gridcolor": "white",
            "gridwidth": 2,
            "linecolor": "white",
            "showbackground": true,
            "ticks": "",
            "zerolinecolor": "white"
           },
           "zaxis": {
            "backgroundcolor": "#E5ECF6",
            "gridcolor": "white",
            "gridwidth": 2,
            "linecolor": "white",
            "showbackground": true,
            "ticks": "",
            "zerolinecolor": "white"
           }
          },
          "shapedefaults": {
           "line": {
            "color": "#2a3f5f"
           }
          },
          "ternary": {
           "aaxis": {
            "gridcolor": "white",
            "linecolor": "white",
            "ticks": ""
           },
           "baxis": {
            "gridcolor": "white",
            "linecolor": "white",
            "ticks": ""
           },
           "bgcolor": "#E5ECF6",
           "caxis": {
            "gridcolor": "white",
            "linecolor": "white",
            "ticks": ""
           }
          },
          "title": {
           "x": 0.05
          },
          "xaxis": {
           "automargin": true,
           "gridcolor": "white",
           "linecolor": "white",
           "ticks": "",
           "title": {
            "standoff": 15
           },
           "zerolinecolor": "white",
           "zerolinewidth": 2
          },
          "yaxis": {
           "automargin": true,
           "gridcolor": "white",
           "linecolor": "white",
           "ticks": "",
           "title": {
            "standoff": 15
           },
           "zerolinecolor": "white",
           "zerolinewidth": 2
          }
         }
        },
        "title": {
         "text": "Screen On Time vs Battery Drain"
        },
        "xaxis": {
         "anchor": "y",
         "domain": [
          0,
          1
         ],
         "title": {
          "text": "Screen On Time (hours/day)"
         }
        },
        "yaxis": {
         "anchor": "x",
         "domain": [
          0,
          1
         ],
         "title": {
          "text": "Battery Drain (mAh/day)"
         }
        }
       }
      }
     },
     "metadata": {},
     "output_type": "display_data"
    }
   ],
   "source": [
    "# 2. Bildschirm-Zeit im Vergleich zur Batterieverbrauch (Streudiagramm)\n",
    "fig2 = px.scatter(df_U, x='Screen On Time (hours/day)', y='Battery Drain (mAh/day)', \n",
    "                  size='App Usage Time (min/day)', color='Operating System', \n",
    "                  title='Screen On Time vs Battery Drain')\n",
    "fig2.show()"
   ]
  },
  {
   "cell_type": "code",
   "execution_count": 45,
   "metadata": {},
   "outputs": [
    {
     "data": {
      "application/vnd.plotly.v1+json": {
       "config": {
        "plotlyServerURL": "https://plot.ly"
       },
       "data": [
        {
         "hovertemplate": "Device Model=Google Pixel 5<br>Number of Apps Installed=%{x}<br>Data Usage (MB/day)=%{y}<br>App Usage Time (min/day)=%{marker.size}<extra></extra>",
         "legendgroup": "Google Pixel 5",
         "marker": {
          "color": "#636efa",
          "size": [
           393,
           239,
           99,
           53,
           503,
           81,
           292,
           512,
           278,
           46,
           580,
           516,
           82,
           457,
           173,
           230,
           223,
           404,
           116,
           291,
           59,
           41,
           174,
           152,
           54,
           295,
           97,
           584,
           529,
           227,
           252,
           540,
           176,
           516,
           448,
           149,
           120,
           442,
           595,
           35,
           225,
           587,
           46,
           279,
           474,
           498,
           79,
           202,
           69,
           78,
           163,
           278,
           45,
           71,
           314,
           75,
           523,
           105,
           179,
           230,
           49,
           411,
           84,
           55,
           59,
           132,
           116,
           508,
           274,
           347,
           233,
           461,
           156,
           60,
           225,
           74,
           561,
           560,
           458,
           589,
           97,
           478,
           405,
           116,
           534,
           123,
           260,
           66,
           34,
           88,
           238,
           318,
           586,
           416,
           493,
           274,
           66,
           200,
           493,
           267,
           241,
           69,
           99,
           175,
           228,
           576,
           242,
           544,
           383,
           361,
           71,
           116,
           291,
           404,
           444,
           554,
           71,
           580,
           49,
           119,
           225,
           64,
           94,
           417,
           538,
           502,
           186,
           149,
           594,
           104,
           262,
           50,
           469,
           468,
           37,
           298,
           307,
           218,
           335,
           261,
           195,
           99
          ],
          "sizemode": "area",
          "sizeref": 1.495,
          "symbol": "circle"
         },
         "mode": "markers",
         "name": "Google Pixel 5",
         "orientation": "v",
         "showlegend": true,
         "type": "scatter",
         "x": [
          67,
          56,
          35,
          17,
          84,
          16,
          46,
          89,
          55,
          14,
          90,
          83,
          16,
          66,
          29,
          52,
          56,
          63,
          39,
          46,
          18,
          15,
          37,
          38,
          17,
          45,
          37,
          99,
          96,
          57,
          45,
          90,
          30,
          91,
          71,
          34,
          38,
          69,
          88,
          10,
          44,
          90,
          17,
          47,
          68,
          94,
          13,
          49,
          16,
          15,
          21,
          47,
          16,
          17,
          63,
          13,
          99,
          29,
          32,
          52,
          16,
          70,
          10,
          19,
          10,
          32,
          29,
          81,
          56,
          61,
          49,
          69,
          34,
          14,
          52,
          13,
          86,
          95,
          63,
          84,
          36,
          69,
          61,
          22,
          90,
          39,
          56,
          17,
          10,
          13,
          47,
          77,
          94,
          71,
          88,
          54,
          14,
          50,
          99,
          45,
          58,
          17,
          36,
          32,
          47,
          98,
          48,
          97,
          74,
          65,
          15,
          26,
          43,
          77,
          73,
          83,
          10,
          84,
          16,
          36,
          55,
          15,
          38,
          63,
          91,
          90,
          53,
          39,
          91,
          29,
          59,
          12,
          78,
          64,
          18,
          59,
          76,
          47,
          68,
          56,
          48,
          22
         ],
         "xaxis": "x",
         "y": [
          1122,
          871,
          564,
          162,
          2025,
          297,
          949,
          1599,
          917,
          105,
          2262,
          2189,
          284,
          1082,
          301,
          989,
          695,
          1352,
          307,
          827,
          293,
          136,
          565,
          596,
          278,
          748,
          428,
          2391,
          1924,
          714,
          667,
          1886,
          458,
          1796,
          1337,
          459,
          396,
          1440,
          2366,
          158,
          791,
          1894,
          208,
          629,
          1079,
          1995,
          161,
          659,
          146,
          207,
          419,
          823,
          191,
          257,
          1066,
          230,
          1787,
          453,
          588,
          878,
          169,
          1024,
          146,
          149,
          208,
          563,
          434,
          2481,
          666,
          1456,
          796,
          1324,
          510,
          281,
          954,
          253,
          1823,
          1663,
          1072,
          1774,
          508,
          1017,
          1434,
          573,
          1702,
          468,
          920,
          218,
          170,
          164,
          661,
          1126,
          2332,
          1096,
          2116,
          869,
          195,
          965,
          2450,
          791,
          976,
          250,
          318,
          338,
          796,
          2281,
          642,
          1727,
          1360,
          1056,
          265,
          498,
          700,
          1327,
          1194,
          1606,
          117,
          2341,
          153,
          461,
          965,
          274,
          489,
          1135,
          2080,
          1553,
          949,
          356,
          1647,
          493,
          628,
          146,
          1297,
          1209,
          216,
          814,
          1111,
          822,
          1007,
          824,
          679,
          457
         ],
         "yaxis": "y"
        },
        {
         "hovertemplate": "Device Model=OnePlus 9<br>Number of Apps Installed=%{x}<br>Data Usage (MB/day)=%{y}<br>App Usage Time (min/day)=%{marker.size}<extra></extra>",
         "legendgroup": "OnePlus 9",
         "marker": {
          "color": "#EF553B",
          "size": [
           268,
           543,
           215,
           462,
           132,
           576,
           216,
           452,
           473,
           576,
           558,
           589,
           64,
           539,
           565,
           516,
           225,
           183,
           216,
           95,
           529,
           228,
           329,
           153,
           151,
           75,
           215,
           151,
           80,
           100,
           539,
           553,
           555,
           433,
           133,
           92,
           129,
           425,
           64,
           162,
           30,
           42,
           441,
           52,
           397,
           584,
           284,
           501,
           534,
           121,
           448,
           65,
           458,
           106,
           243,
           410,
           397,
           74,
           299,
           408,
           203,
           48,
           88,
           191,
           531,
           156,
           53,
           557,
           382,
           598,
           102,
           69,
           44,
           106,
           84,
           104,
           98,
           311,
           337,
           41,
           49,
           395,
           257,
           201,
           98,
           105,
           46,
           221,
           105,
           546,
           591,
           234,
           174,
           265,
           258,
           329,
           110,
           126,
           574,
           119,
           350,
           339,
           389,
           592,
           50,
           236,
           553,
           86,
           441,
           211,
           257,
           73,
           149,
           424,
           512,
           140,
           83,
           122,
           138,
           182,
           425,
           580,
           288,
           342,
           42,
           55,
           138,
           510,
           50,
           105,
           141,
           387,
           212
          ],
          "sizemode": "area",
          "sizeref": 1.495,
          "symbol": "circle"
         },
         "mode": "markers",
         "name": "OnePlus 9",
         "orientation": "v",
         "showlegend": true,
         "type": "scatter",
         "x": [
          42,
          82,
          47,
          65,
          32,
          82,
          59,
          77,
          74,
          83,
          97,
          82,
          10,
          89,
          99,
          82,
          44,
          45,
          41,
          26,
          89,
          58,
          72,
          25,
          38,
          15,
          41,
          32,
          14,
          21,
          92,
          89,
          95,
          75,
          31,
          31,
          27,
          66,
          13,
          36,
          16,
          13,
          78,
          14,
          77,
          84,
          56,
          88,
          90,
          36,
          66,
          18,
          67,
          32,
          47,
          68,
          66,
          11,
          43,
          63,
          54,
          18,
          12,
          45,
          99,
          38,
          14,
          97,
          67,
          85,
          36,
          12,
          17,
          22,
          19,
          35,
          32,
          69,
          76,
          18,
          10,
          61,
          46,
          59,
          36,
          28,
          15,
          46,
          24,
          81,
          92,
          55,
          37,
          51,
          59,
          69,
          31,
          28,
          87,
          22,
          75,
          66,
          67,
          95,
          17,
          45,
          81,
          16,
          74,
          42,
          49,
          19,
          28,
          75,
          82,
          31,
          15,
          32,
          22,
          42,
          72,
          81,
          49,
          71,
          15,
          12,
          31,
          90,
          16,
          35,
          38,
          61,
          49
         ],
         "xaxis": "x",
         "y": [
          944,
          1702,
          641,
          1099,
          344,
          1553,
          748,
          1456,
          1400,
          2323,
          1594,
          1997,
          161,
          2415,
          1603,
          1968,
          875,
          738,
          889,
          459,
          2189,
          823,
          1185,
          578,
          571,
          185,
          991,
          320,
          197,
          433,
          1990,
          2471,
          1565,
          1300,
          417,
          563,
          580,
          1130,
          107,
          338,
          253,
          272,
          1477,
          172,
          1101,
          2151,
          888,
          1738,
          1538,
          473,
          1047,
          130,
          1163,
          594,
          877,
          1213,
          1167,
          103,
          953,
          1076,
          638,
          127,
          274,
          904,
          1632,
          447,
          106,
          1609,
          1341,
          2477,
          408,
          164,
          232,
          313,
          299,
          322,
          457,
          1021,
          1359,
          221,
          203,
          1049,
          769,
          709,
          403,
          489,
          116,
          862,
          343,
          1641,
          1903,
          871,
          545,
          723,
          718,
          1383,
          507,
          599,
          1809,
          371,
          1485,
          1191,
          1383,
          1701,
          182,
          971,
          1860,
          227,
          1421,
          864,
          916,
          175,
          563,
          1228,
          1694,
          347,
          284,
          373,
          424,
          885,
          1150,
          2441,
          767,
          1077,
          284,
          196,
          366,
          1729,
          255,
          566,
          576,
          1178,
          828
         ],
         "yaxis": "y"
        },
        {
         "hovertemplate": "Device Model=Xiaomi Mi 11<br>Number of Apps Installed=%{x}<br>Data Usage (MB/day)=%{y}<br>App Usage Time (min/day)=%{marker.size}<extra></extra>",
         "legendgroup": "Xiaomi Mi 11",
         "marker": {
          "color": "#00cc96",
          "size": [
           154,
           215,
           260,
           197,
           593,
           240,
           138,
           502,
           452,
           245,
           97,
           428,
           522,
           309,
           79,
           545,
           134,
           31,
           229,
           34,
           330,
           39,
           137,
           326,
           274,
           166,
           66,
           187,
           488,
           471,
           125,
           97,
           320,
           83,
           237,
           219,
           52,
           68,
           158,
           86,
           339,
           131,
           53,
           278,
           540,
           92,
           51,
           255,
           207,
           597,
           126,
           88,
           301,
           41,
           101,
           351,
           511,
           384,
           537,
           37,
           564,
           168,
           100,
           424,
           272,
           201,
           570,
           64,
           563,
           426,
           269,
           85,
           39,
           211,
           226,
           122,
           420,
           130,
           76,
           78,
           579,
           516,
           563,
           119,
           472,
           78,
           522,
           147,
           575,
           264,
           202,
           46,
           94,
           540,
           105,
           68,
           429,
           39,
           541,
           139,
           210,
           78,
           80,
           416,
           87,
           420,
           582,
           238,
           33,
           120,
           438,
           589,
           190,
           455,
           201,
           121,
           290,
           519,
           197,
           447,
           511,
           203,
           258,
           57,
           553,
           453,
           47,
           83,
           174,
           186,
           206,
           278,
           463,
           505,
           138,
           130,
           555,
           500,
           522,
           81,
           380,
           190,
           412,
           378,
           505,
           316
          ],
          "sizemode": "area",
          "sizeref": 1.495,
          "symbol": "circle"
         },
         "mode": "markers",
         "name": "Xiaomi Mi 11",
         "orientation": "v",
         "showlegend": true,
         "type": "scatter",
         "x": [
          32,
          43,
          44,
          59,
          81,
          52,
          21,
          96,
          61,
          52,
          38,
          75,
          85,
          77,
          14,
          87,
          35,
          11,
          43,
          14,
          77,
          11,
          31,
          73,
          52,
          28,
          12,
          55,
          84,
          76,
          34,
          39,
          69,
          19,
          42,
          42,
          19,
          10,
          36,
          19,
          71,
          26,
          15,
          48,
          98,
          27,
          11,
          42,
          52,
          91,
          32,
          11,
          71,
          10,
          28,
          79,
          97,
          72,
          83,
          18,
          81,
          22,
          31,
          65,
          45,
          50,
          98,
          14,
          85,
          78,
          42,
          12,
          11,
          54,
          45,
          35,
          65,
          21,
          14,
          11,
          84,
          82,
          92,
          31,
          61,
          14,
          86,
          33,
          88,
          52,
          43,
          18,
          33,
          90,
          21,
          10,
          61,
          16,
          93,
          37,
          55,
          18,
          18,
          62,
          19,
          74,
          91,
          45,
          11,
          36,
          64,
          86,
          57,
          72,
          41,
          21,
          55,
          93,
          44,
          63,
          91,
          56,
          56,
          16,
          82,
          65,
          18,
          10,
          23,
          58,
          47,
          56,
          68,
          91,
          29,
          37,
          83,
          84,
          93,
          17,
          77,
          58,
          67,
          78,
          82,
          68
         ],
         "xaxis": "x",
         "y": [
          322,
          857,
          889,
          975,
          1616,
          708,
          572,
          1935,
          1417,
          885,
          375,
          1144,
          1663,
          1253,
          128,
          1717,
          449,
          208,
          985,
          122,
          1133,
          105,
          348,
          1454,
          934,
          360,
          264,
          711,
          2344,
          1324,
          465,
          412,
          1226,
          285,
          868,
          655,
          234,
          102,
          493,
          136,
          1062,
          305,
          112,
          851,
          1540,
          524,
          113,
          826,
          692,
          1564,
          431,
          262,
          1421,
          246,
          417,
          1290,
          2438,
          1376,
          1763,
          295,
          2133,
          581,
          478,
          1116,
          686,
          914,
          2497,
          151,
          1508,
          1266,
          629,
          122,
          268,
          811,
          649,
          499,
          1314,
          308,
          156,
          259,
          1935,
          1767,
          2191,
          313,
          1356,
          143,
          1891,
          567,
          1928,
          737,
          964,
          167,
          369,
          2180,
          467,
          281,
          1102,
          294,
          1811,
          513,
          765,
          230,
          298,
          1333,
          198,
          1187,
          2493,
          941,
          173,
          535,
          1125,
          2479,
          915,
          1287,
          972,
          578,
          910,
          2163,
          608,
          1441,
          2387,
          787,
          937,
          131,
          2441,
          1046,
          234,
          289,
          345,
          790,
          694,
          894,
          1236,
          2375,
          545,
          448,
          2003,
          2438,
          1768,
          159,
          1191,
          815,
          1393,
          1455,
          1709,
          1201
         ],
         "yaxis": "y"
        },
        {
         "hovertemplate": "Device Model=iPhone 12<br>Number of Apps Installed=%{x}<br>Data Usage (MB/day)=%{y}<br>App Usage Time (min/day)=%{marker.size}<extra></extra>",
         "legendgroup": "iPhone 12",
         "marker": {
          "color": "#ab63fa",
          "size": [
           187,
           424,
           189,
           299,
           577,
           444,
           122,
           68,
           325,
           225,
           257,
           516,
           521,
           47,
           172,
           84,
           134,
           550,
           121,
           75,
           220,
           332,
           555,
           156,
           524,
           188,
           523,
           32,
           368,
           539,
           544,
           73,
           402,
           130,
           134,
           432,
           262,
           127,
           152,
           402,
           499,
           193,
           159,
           495,
           132,
           573,
           334,
           518,
           334,
           181,
           122,
           386,
           170,
           264,
           267,
           469,
           541,
           155,
           285,
           341,
           281,
           227,
           445,
           541,
           176,
           306,
           64,
           75,
           597,
           529,
           290,
           256,
           308,
           291,
           488,
           321,
           165,
           558,
           65,
           188,
           493,
           349,
           331,
           517,
           411,
           559,
           270,
           98,
           83,
           32,
           168,
           416,
           266,
           140,
           581,
           41,
           231,
           555,
           143,
           74,
           74,
           56,
           290,
           289,
           258,
           155,
           549,
           444,
           131,
           228,
           152,
           182,
           102,
           143,
           492,
           64,
           44,
           431,
           567,
           170,
           139,
           173,
           387,
           142,
           46,
           381,
           527,
           191,
           325,
           551,
           507,
           218,
           210,
           227,
           461,
           496,
           318,
           66,
           389,
           69,
           198,
           170,
           81,
           33,
           178,
           92
          ],
          "sizemode": "area",
          "sizeref": 1.495,
          "symbol": "circle"
         },
         "mode": "markers",
         "name": "iPhone 12",
         "orientation": "v",
         "showlegend": true,
         "type": "scatter",
         "x": [
          58,
          75,
          53,
          41,
          89,
          77,
          30,
          14,
          64,
          48,
          57,
          98,
          97,
          14,
          22,
          16,
          24,
          91,
          34,
          13,
          49,
          68,
          90,
          37,
          90,
          45,
          92,
          18,
          72,
          83,
          83,
          15,
          79,
          21,
          23,
          63,
          52,
          35,
          29,
          78,
          81,
          49,
          32,
          91,
          28,
          96,
          68,
          93,
          77,
          43,
          37,
          72,
          26,
          44,
          59,
          67,
          89,
          22,
          57,
          68,
          59,
          56,
          78,
          89,
          36,
          70,
          13,
          13,
          90,
          87,
          54,
          52,
          73,
          51,
          92,
          64,
          35,
          83,
          17,
          47,
          99,
          78,
          66,
          90,
          71,
          84,
          51,
          24,
          11,
          12,
          38,
          71,
          59,
          36,
          99,
          16,
          48,
          97,
          24,
          13,
          15,
          10,
          50,
          45,
          44,
          39,
          87,
          61,
          34,
          46,
          22,
          51,
          37,
          26,
          90,
          19,
          10,
          66,
          89,
          21,
          33,
          23,
          61,
          25,
          10,
          66,
          82,
          53,
          70,
          92,
          95,
          46,
          53,
          46,
          62,
          84,
          67,
          17,
          76,
          10,
          53,
          38,
          13,
          16,
          37,
          26
         ],
         "xaxis": "x",
         "y": [
          988,
          1301,
          779,
          985,
          2192,
          1002,
          573,
          111,
          1053,
          917,
          912,
          1547,
          1701,
          125,
          549,
          284,
          367,
          1946,
          596,
          281,
          909,
          1321,
          1856,
          429,
          2069,
          974,
          1539,
          139,
          1406,
          2007,
          2416,
          275,
          1088,
          589,
          423,
          1127,
          997,
          314,
          461,
          1397,
          1805,
          626,
          526,
          2150,
          529,
          2118,
          1227,
          2125,
          1079,
          752,
          568,
          1209,
          344,
          778,
          971,
          1086,
          1923,
          322,
          666,
          1055,
          632,
          984,
          1115,
          1820,
          362,
          1449,
          155,
          223,
          1863,
          1683,
          645,
          840,
          1431,
          905,
          1986,
          1499,
          503,
          1548,
          122,
          653,
          1813,
          1096,
          1459,
          2175,
          1264,
          2102,
          957,
          394,
          228,
          198,
          414,
          1041,
          839,
          506,
          2304,
          291,
          724,
          2402,
          398,
          182,
          275,
          142,
          809,
          687,
          762,
          441,
          1814,
          1093,
          330,
          804,
          507,
          807,
          362,
          504,
          1968,
          218,
          131,
          1200,
          2194,
          537,
          358,
          583,
          1246,
          370,
          265,
          1291,
          1737,
          991,
          1296,
          1901,
          1543,
          972,
          679,
          920,
          1004,
          1921,
          1253,
          283,
          1334,
          167,
          635,
          334,
          224,
          113,
          569,
          381
         ],
         "yaxis": "y"
        },
        {
         "hovertemplate": "Device Model=Samsung Galaxy S21<br>Number of Apps Installed=%{x}<br>Data Usage (MB/day)=%{y}<br>App Usage Time (min/day)=%{marker.size}<extra></extra>",
         "legendgroup": "Samsung Galaxy S21",
         "marker": {
          "color": "#FFA15A",
          "size": [
           350,
           340,
           93,
           423,
           91,
           412,
           32,
           522,
           398,
           120,
           152,
           138,
           125,
           459,
           452,
           78,
           151,
           34,
           301,
           411,
           136,
           82,
           388,
           535,
           79,
           66,
           497,
           68,
           443,
           42,
           304,
           64,
           193,
           42,
           473,
           495,
           451,
           481,
           133,
           532,
           132,
           360,
           524,
           451,
           202,
           70,
           208,
           381,
           411,
           73,
           314,
           580,
           230,
           199,
           37,
           473,
           30,
           62,
           303,
           463,
           379,
           30,
           230,
           517,
           511,
           525,
           102,
           72,
           168,
           566,
           357,
           501,
           572,
           130,
           223,
           378,
           234,
           152,
           179,
           120,
           523,
           123,
           216,
           414,
           248,
           412,
           189,
           528,
           107,
           348,
           567,
           36,
           466,
           506,
           272,
           224,
           139,
           289,
           593,
           275,
           172,
           157,
           405,
           198,
           408,
           60,
           537,
           94,
           47,
           148,
           328,
           111,
           159,
           379,
           217,
           114,
           192,
           106,
           292,
           36,
           216,
           96,
           63,
           89,
           49,
           529,
           205,
           160,
           115,
           75,
           541,
           564,
           62
          ],
          "sizemode": "area",
          "sizeref": 1.495,
          "symbol": "circle"
         },
         "mode": "markers",
         "name": "Samsung Galaxy S21",
         "orientation": "v",
         "showlegend": true,
         "type": "scatter",
         "x": [
          66,
          75,
          37,
          65,
          38,
          78,
          19,
          93,
          77,
          39,
          32,
          25,
          28,
          67,
          64,
          17,
          25,
          11,
          75,
          72,
          33,
          13,
          71,
          99,
          18,
          16,
          94,
          12,
          73,
          19,
          79,
          19,
          51,
          11,
          79,
          84,
          76,
          86,
          38,
          83,
          25,
          79,
          88,
          69,
          45,
          10,
          45,
          69,
          75,
          12,
          64,
          87,
          51,
          57,
          18,
          62,
          15,
          18,
          66,
          73,
          68,
          19,
          55,
          86,
          91,
          99,
          38,
          13,
          29,
          89,
          74,
          86,
          91,
          24,
          44,
          61,
          58,
          22,
          30,
          35,
          91,
          36,
          54,
          75,
          52,
          68,
          59,
          87,
          24,
          66,
          89,
          17,
          73,
          98,
          45,
          57,
          24,
          48,
          82,
          48,
          32,
          30,
          75,
          43,
          69,
          15,
          86,
          30,
          18,
          34,
          72,
          26,
          33,
          64,
          42,
          31,
          42,
          23,
          54,
          15,
          54,
          39,
          11,
          16,
          19,
          82,
          49,
          31,
          26,
          12,
          98,
          83,
          13
         ],
         "xaxis": "x",
         "y": [
          1054,
          1053,
          302,
          1372,
          451,
          1384,
          153,
          2328,
          1180,
          392,
          429,
          323,
          393,
          1091,
          1090,
          138,
          392,
          276,
          1303,
          1083,
          404,
          124,
          1150,
          2378,
          139,
          216,
          2076,
          201,
          1026,
          207,
          1493,
          262,
          972,
          265,
          1300,
          2252,
          1434,
          2017,
          445,
          2148,
          368,
          1164,
          1730,
          1341,
          844,
          109,
          861,
          1450,
          1136,
          163,
          1376,
          1795,
          868,
          881,
          246,
          1472,
          252,
          266,
          1387,
          1463,
          1075,
          287,
          845,
          2208,
          2335,
          1623,
          548,
          199,
          313,
          1657,
          1242,
          2074,
          2481,
          579,
          751,
          1318,
          919,
          306,
          466,
          583,
          1561,
          438,
          987,
          1092,
          883,
          1085,
          795,
          2140,
          545,
          1415,
          1682,
          249,
          1461,
          2460,
          792,
          665,
          573,
          915,
          2258,
          656,
          508,
          373,
          1162,
          640,
          1103,
          296,
          2158,
          446,
          122,
          416,
          1101,
          464,
          575,
          1050,
          677,
          596,
          905,
          493,
          867,
          272,
          977,
          401,
          271,
          201,
          144,
          1845,
          729,
          339,
          495,
          225,
          1550,
          1985,
          224
         ],
         "yaxis": "y"
        }
       ],
       "layout": {
        "legend": {
         "itemsizing": "constant",
         "title": {
          "text": "Device Model"
         },
         "tracegroupgap": 0
        },
        "template": {
         "data": {
          "bar": [
           {
            "error_x": {
             "color": "#2a3f5f"
            },
            "error_y": {
             "color": "#2a3f5f"
            },
            "marker": {
             "line": {
              "color": "#E5ECF6",
              "width": 0.5
             },
             "pattern": {
              "fillmode": "overlay",
              "size": 10,
              "solidity": 0.2
             }
            },
            "type": "bar"
           }
          ],
          "barpolar": [
           {
            "marker": {
             "line": {
              "color": "#E5ECF6",
              "width": 0.5
             },
             "pattern": {
              "fillmode": "overlay",
              "size": 10,
              "solidity": 0.2
             }
            },
            "type": "barpolar"
           }
          ],
          "carpet": [
           {
            "aaxis": {
             "endlinecolor": "#2a3f5f",
             "gridcolor": "white",
             "linecolor": "white",
             "minorgridcolor": "white",
             "startlinecolor": "#2a3f5f"
            },
            "baxis": {
             "endlinecolor": "#2a3f5f",
             "gridcolor": "white",
             "linecolor": "white",
             "minorgridcolor": "white",
             "startlinecolor": "#2a3f5f"
            },
            "type": "carpet"
           }
          ],
          "choropleth": [
           {
            "colorbar": {
             "outlinewidth": 0,
             "ticks": ""
            },
            "type": "choropleth"
           }
          ],
          "contour": [
           {
            "colorbar": {
             "outlinewidth": 0,
             "ticks": ""
            },
            "colorscale": [
             [
              0,
              "#0d0887"
             ],
             [
              0.1111111111111111,
              "#46039f"
             ],
             [
              0.2222222222222222,
              "#7201a8"
             ],
             [
              0.3333333333333333,
              "#9c179e"
             ],
             [
              0.4444444444444444,
              "#bd3786"
             ],
             [
              0.5555555555555556,
              "#d8576b"
             ],
             [
              0.6666666666666666,
              "#ed7953"
             ],
             [
              0.7777777777777778,
              "#fb9f3a"
             ],
             [
              0.8888888888888888,
              "#fdca26"
             ],
             [
              1,
              "#f0f921"
             ]
            ],
            "type": "contour"
           }
          ],
          "contourcarpet": [
           {
            "colorbar": {
             "outlinewidth": 0,
             "ticks": ""
            },
            "type": "contourcarpet"
           }
          ],
          "heatmap": [
           {
            "colorbar": {
             "outlinewidth": 0,
             "ticks": ""
            },
            "colorscale": [
             [
              0,
              "#0d0887"
             ],
             [
              0.1111111111111111,
              "#46039f"
             ],
             [
              0.2222222222222222,
              "#7201a8"
             ],
             [
              0.3333333333333333,
              "#9c179e"
             ],
             [
              0.4444444444444444,
              "#bd3786"
             ],
             [
              0.5555555555555556,
              "#d8576b"
             ],
             [
              0.6666666666666666,
              "#ed7953"
             ],
             [
              0.7777777777777778,
              "#fb9f3a"
             ],
             [
              0.8888888888888888,
              "#fdca26"
             ],
             [
              1,
              "#f0f921"
             ]
            ],
            "type": "heatmap"
           }
          ],
          "heatmapgl": [
           {
            "colorbar": {
             "outlinewidth": 0,
             "ticks": ""
            },
            "colorscale": [
             [
              0,
              "#0d0887"
             ],
             [
              0.1111111111111111,
              "#46039f"
             ],
             [
              0.2222222222222222,
              "#7201a8"
             ],
             [
              0.3333333333333333,
              "#9c179e"
             ],
             [
              0.4444444444444444,
              "#bd3786"
             ],
             [
              0.5555555555555556,
              "#d8576b"
             ],
             [
              0.6666666666666666,
              "#ed7953"
             ],
             [
              0.7777777777777778,
              "#fb9f3a"
             ],
             [
              0.8888888888888888,
              "#fdca26"
             ],
             [
              1,
              "#f0f921"
             ]
            ],
            "type": "heatmapgl"
           }
          ],
          "histogram": [
           {
            "marker": {
             "pattern": {
              "fillmode": "overlay",
              "size": 10,
              "solidity": 0.2
             }
            },
            "type": "histogram"
           }
          ],
          "histogram2d": [
           {
            "colorbar": {
             "outlinewidth": 0,
             "ticks": ""
            },
            "colorscale": [
             [
              0,
              "#0d0887"
             ],
             [
              0.1111111111111111,
              "#46039f"
             ],
             [
              0.2222222222222222,
              "#7201a8"
             ],
             [
              0.3333333333333333,
              "#9c179e"
             ],
             [
              0.4444444444444444,
              "#bd3786"
             ],
             [
              0.5555555555555556,
              "#d8576b"
             ],
             [
              0.6666666666666666,
              "#ed7953"
             ],
             [
              0.7777777777777778,
              "#fb9f3a"
             ],
             [
              0.8888888888888888,
              "#fdca26"
             ],
             [
              1,
              "#f0f921"
             ]
            ],
            "type": "histogram2d"
           }
          ],
          "histogram2dcontour": [
           {
            "colorbar": {
             "outlinewidth": 0,
             "ticks": ""
            },
            "colorscale": [
             [
              0,
              "#0d0887"
             ],
             [
              0.1111111111111111,
              "#46039f"
             ],
             [
              0.2222222222222222,
              "#7201a8"
             ],
             [
              0.3333333333333333,
              "#9c179e"
             ],
             [
              0.4444444444444444,
              "#bd3786"
             ],
             [
              0.5555555555555556,
              "#d8576b"
             ],
             [
              0.6666666666666666,
              "#ed7953"
             ],
             [
              0.7777777777777778,
              "#fb9f3a"
             ],
             [
              0.8888888888888888,
              "#fdca26"
             ],
             [
              1,
              "#f0f921"
             ]
            ],
            "type": "histogram2dcontour"
           }
          ],
          "mesh3d": [
           {
            "colorbar": {
             "outlinewidth": 0,
             "ticks": ""
            },
            "type": "mesh3d"
           }
          ],
          "parcoords": [
           {
            "line": {
             "colorbar": {
              "outlinewidth": 0,
              "ticks": ""
             }
            },
            "type": "parcoords"
           }
          ],
          "pie": [
           {
            "automargin": true,
            "type": "pie"
           }
          ],
          "scatter": [
           {
            "fillpattern": {
             "fillmode": "overlay",
             "size": 10,
             "solidity": 0.2
            },
            "type": "scatter"
           }
          ],
          "scatter3d": [
           {
            "line": {
             "colorbar": {
              "outlinewidth": 0,
              "ticks": ""
             }
            },
            "marker": {
             "colorbar": {
              "outlinewidth": 0,
              "ticks": ""
             }
            },
            "type": "scatter3d"
           }
          ],
          "scattercarpet": [
           {
            "marker": {
             "colorbar": {
              "outlinewidth": 0,
              "ticks": ""
             }
            },
            "type": "scattercarpet"
           }
          ],
          "scattergeo": [
           {
            "marker": {
             "colorbar": {
              "outlinewidth": 0,
              "ticks": ""
             }
            },
            "type": "scattergeo"
           }
          ],
          "scattergl": [
           {
            "marker": {
             "colorbar": {
              "outlinewidth": 0,
              "ticks": ""
             }
            },
            "type": "scattergl"
           }
          ],
          "scattermapbox": [
           {
            "marker": {
             "colorbar": {
              "outlinewidth": 0,
              "ticks": ""
             }
            },
            "type": "scattermapbox"
           }
          ],
          "scatterpolar": [
           {
            "marker": {
             "colorbar": {
              "outlinewidth": 0,
              "ticks": ""
             }
            },
            "type": "scatterpolar"
           }
          ],
          "scatterpolargl": [
           {
            "marker": {
             "colorbar": {
              "outlinewidth": 0,
              "ticks": ""
             }
            },
            "type": "scatterpolargl"
           }
          ],
          "scatterternary": [
           {
            "marker": {
             "colorbar": {
              "outlinewidth": 0,
              "ticks": ""
             }
            },
            "type": "scatterternary"
           }
          ],
          "surface": [
           {
            "colorbar": {
             "outlinewidth": 0,
             "ticks": ""
            },
            "colorscale": [
             [
              0,
              "#0d0887"
             ],
             [
              0.1111111111111111,
              "#46039f"
             ],
             [
              0.2222222222222222,
              "#7201a8"
             ],
             [
              0.3333333333333333,
              "#9c179e"
             ],
             [
              0.4444444444444444,
              "#bd3786"
             ],
             [
              0.5555555555555556,
              "#d8576b"
             ],
             [
              0.6666666666666666,
              "#ed7953"
             ],
             [
              0.7777777777777778,
              "#fb9f3a"
             ],
             [
              0.8888888888888888,
              "#fdca26"
             ],
             [
              1,
              "#f0f921"
             ]
            ],
            "type": "surface"
           }
          ],
          "table": [
           {
            "cells": {
             "fill": {
              "color": "#EBF0F8"
             },
             "line": {
              "color": "white"
             }
            },
            "header": {
             "fill": {
              "color": "#C8D4E3"
             },
             "line": {
              "color": "white"
             }
            },
            "type": "table"
           }
          ]
         },
         "layout": {
          "annotationdefaults": {
           "arrowcolor": "#2a3f5f",
           "arrowhead": 0,
           "arrowwidth": 1
          },
          "autotypenumbers": "strict",
          "coloraxis": {
           "colorbar": {
            "outlinewidth": 0,
            "ticks": ""
           }
          },
          "colorscale": {
           "diverging": [
            [
             0,
             "#8e0152"
            ],
            [
             0.1,
             "#c51b7d"
            ],
            [
             0.2,
             "#de77ae"
            ],
            [
             0.3,
             "#f1b6da"
            ],
            [
             0.4,
             "#fde0ef"
            ],
            [
             0.5,
             "#f7f7f7"
            ],
            [
             0.6,
             "#e6f5d0"
            ],
            [
             0.7,
             "#b8e186"
            ],
            [
             0.8,
             "#7fbc41"
            ],
            [
             0.9,
             "#4d9221"
            ],
            [
             1,
             "#276419"
            ]
           ],
           "sequential": [
            [
             0,
             "#0d0887"
            ],
            [
             0.1111111111111111,
             "#46039f"
            ],
            [
             0.2222222222222222,
             "#7201a8"
            ],
            [
             0.3333333333333333,
             "#9c179e"
            ],
            [
             0.4444444444444444,
             "#bd3786"
            ],
            [
             0.5555555555555556,
             "#d8576b"
            ],
            [
             0.6666666666666666,
             "#ed7953"
            ],
            [
             0.7777777777777778,
             "#fb9f3a"
            ],
            [
             0.8888888888888888,
             "#fdca26"
            ],
            [
             1,
             "#f0f921"
            ]
           ],
           "sequentialminus": [
            [
             0,
             "#0d0887"
            ],
            [
             0.1111111111111111,
             "#46039f"
            ],
            [
             0.2222222222222222,
             "#7201a8"
            ],
            [
             0.3333333333333333,
             "#9c179e"
            ],
            [
             0.4444444444444444,
             "#bd3786"
            ],
            [
             0.5555555555555556,
             "#d8576b"
            ],
            [
             0.6666666666666666,
             "#ed7953"
            ],
            [
             0.7777777777777778,
             "#fb9f3a"
            ],
            [
             0.8888888888888888,
             "#fdca26"
            ],
            [
             1,
             "#f0f921"
            ]
           ]
          },
          "colorway": [
           "#636efa",
           "#EF553B",
           "#00cc96",
           "#ab63fa",
           "#FFA15A",
           "#19d3f3",
           "#FF6692",
           "#B6E880",
           "#FF97FF",
           "#FECB52"
          ],
          "font": {
           "color": "#2a3f5f"
          },
          "geo": {
           "bgcolor": "white",
           "lakecolor": "white",
           "landcolor": "#E5ECF6",
           "showlakes": true,
           "showland": true,
           "subunitcolor": "white"
          },
          "hoverlabel": {
           "align": "left"
          },
          "hovermode": "closest",
          "mapbox": {
           "style": "light"
          },
          "paper_bgcolor": "white",
          "plot_bgcolor": "#E5ECF6",
          "polar": {
           "angularaxis": {
            "gridcolor": "white",
            "linecolor": "white",
            "ticks": ""
           },
           "bgcolor": "#E5ECF6",
           "radialaxis": {
            "gridcolor": "white",
            "linecolor": "white",
            "ticks": ""
           }
          },
          "scene": {
           "xaxis": {
            "backgroundcolor": "#E5ECF6",
            "gridcolor": "white",
            "gridwidth": 2,
            "linecolor": "white",
            "showbackground": true,
            "ticks": "",
            "zerolinecolor": "white"
           },
           "yaxis": {
            "backgroundcolor": "#E5ECF6",
            "gridcolor": "white",
            "gridwidth": 2,
            "linecolor": "white",
            "showbackground": true,
            "ticks": "",
            "zerolinecolor": "white"
           },
           "zaxis": {
            "backgroundcolor": "#E5ECF6",
            "gridcolor": "white",
            "gridwidth": 2,
            "linecolor": "white",
            "showbackground": true,
            "ticks": "",
            "zerolinecolor": "white"
           }
          },
          "shapedefaults": {
           "line": {
            "color": "#2a3f5f"
           }
          },
          "ternary": {
           "aaxis": {
            "gridcolor": "white",
            "linecolor": "white",
            "ticks": ""
           },
           "baxis": {
            "gridcolor": "white",
            "linecolor": "white",
            "ticks": ""
           },
           "bgcolor": "#E5ECF6",
           "caxis": {
            "gridcolor": "white",
            "linecolor": "white",
            "ticks": ""
           }
          },
          "title": {
           "x": 0.05
          },
          "xaxis": {
           "automargin": true,
           "gridcolor": "white",
           "linecolor": "white",
           "ticks": "",
           "title": {
            "standoff": 15
           },
           "zerolinecolor": "white",
           "zerolinewidth": 2
          },
          "yaxis": {
           "automargin": true,
           "gridcolor": "white",
           "linecolor": "white",
           "ticks": "",
           "title": {
            "standoff": 15
           },
           "zerolinecolor": "white",
           "zerolinewidth": 2
          }
         }
        },
        "title": {
         "text": "Number of Apps Installed vs Data Usage"
        },
        "xaxis": {
         "anchor": "y",
         "domain": [
          0,
          1
         ],
         "title": {
          "text": "Number of Apps Installed"
         }
        },
        "yaxis": {
         "anchor": "x",
         "domain": [
          0,
          1
         ],
         "title": {
          "text": "Data Usage (MB/day)"
         }
        }
       }
      }
     },
     "metadata": {},
     "output_type": "display_data"
    }
   ],
   "source": [
    "# 3. Anzahl installierter Apps im Vergleich zur Datenverwendung pro Tag (Streudiagramm)\n",
    "fig3 = px.scatter(df_U, x='Number of Apps Installed', y='Data Usage (MB/day)', \n",
    "                  size='App Usage Time (min/day)', color='Device Model',\n",
    "                  title='Number of Apps Installed vs Data Usage')\n",
    "fig3.show()\n"
   ]
  },
  {
   "cell_type": "code",
   "execution_count": 47,
   "metadata": {},
   "outputs": [
    {
     "data": {
      "application/vnd.plotly.v1+json": {
       "config": {
        "plotlyServerURL": "https://plot.ly"
       },
       "data": [
        {
         "alignmentgroup": "True",
         "hovertemplate": "Gender=%{x}<br>App Usage Time (min/day)=%{y}<extra></extra>",
         "legendgroup": "Male",
         "marker": {
          "color": "#636efa",
          "pattern": {
           "shape": ""
          }
         },
         "name": "Male",
         "offsetgroup": "Male",
         "orientation": "v",
         "showlegend": true,
         "textposition": "auto",
         "type": "bar",
         "x": [
          "Male",
          "Male",
          "Male",
          "Male",
          "Male",
          "Male",
          "Male",
          "Male",
          "Male",
          "Male",
          "Male",
          "Male",
          "Male",
          "Male",
          "Male",
          "Male",
          "Male",
          "Male",
          "Male",
          "Male",
          "Male",
          "Male",
          "Male",
          "Male",
          "Male",
          "Male",
          "Male",
          "Male",
          "Male",
          "Male",
          "Male",
          "Male",
          "Male",
          "Male",
          "Male",
          "Male",
          "Male",
          "Male",
          "Male",
          "Male",
          "Male",
          "Male",
          "Male",
          "Male",
          "Male",
          "Male",
          "Male",
          "Male",
          "Male",
          "Male",
          "Male",
          "Male",
          "Male",
          "Male",
          "Male",
          "Male",
          "Male",
          "Male",
          "Male",
          "Male",
          "Male",
          "Male",
          "Male",
          "Male",
          "Male",
          "Male",
          "Male",
          "Male",
          "Male",
          "Male",
          "Male",
          "Male",
          "Male",
          "Male",
          "Male",
          "Male",
          "Male",
          "Male",
          "Male",
          "Male",
          "Male",
          "Male",
          "Male",
          "Male",
          "Male",
          "Male",
          "Male",
          "Male",
          "Male",
          "Male",
          "Male",
          "Male",
          "Male",
          "Male",
          "Male",
          "Male",
          "Male",
          "Male",
          "Male",
          "Male",
          "Male",
          "Male",
          "Male",
          "Male",
          "Male",
          "Male",
          "Male",
          "Male",
          "Male",
          "Male",
          "Male",
          "Male",
          "Male",
          "Male",
          "Male",
          "Male",
          "Male",
          "Male",
          "Male",
          "Male",
          "Male",
          "Male",
          "Male",
          "Male",
          "Male",
          "Male",
          "Male",
          "Male",
          "Male",
          "Male",
          "Male",
          "Male",
          "Male",
          "Male",
          "Male",
          "Male",
          "Male",
          "Male",
          "Male",
          "Male",
          "Male",
          "Male",
          "Male",
          "Male",
          "Male",
          "Male",
          "Male",
          "Male",
          "Male",
          "Male",
          "Male",
          "Male",
          "Male",
          "Male",
          "Male",
          "Male",
          "Male",
          "Male",
          "Male",
          "Male",
          "Male",
          "Male",
          "Male",
          "Male",
          "Male",
          "Male",
          "Male",
          "Male",
          "Male",
          "Male",
          "Male",
          "Male",
          "Male",
          "Male",
          "Male",
          "Male",
          "Male",
          "Male",
          "Male",
          "Male",
          "Male",
          "Male",
          "Male",
          "Male",
          "Male",
          "Male",
          "Male",
          "Male",
          "Male",
          "Male",
          "Male",
          "Male",
          "Male",
          "Male",
          "Male",
          "Male",
          "Male",
          "Male",
          "Male",
          "Male",
          "Male",
          "Male",
          "Male",
          "Male",
          "Male",
          "Male",
          "Male",
          "Male",
          "Male",
          "Male",
          "Male",
          "Male",
          "Male",
          "Male",
          "Male",
          "Male",
          "Male",
          "Male",
          "Male",
          "Male",
          "Male",
          "Male",
          "Male",
          "Male",
          "Male",
          "Male",
          "Male",
          "Male",
          "Male",
          "Male",
          "Male",
          "Male",
          "Male",
          "Male",
          "Male",
          "Male",
          "Male",
          "Male",
          "Male",
          "Male",
          "Male",
          "Male",
          "Male",
          "Male",
          "Male",
          "Male",
          "Male",
          "Male",
          "Male",
          "Male",
          "Male",
          "Male",
          "Male",
          "Male",
          "Male",
          "Male",
          "Male",
          "Male",
          "Male",
          "Male",
          "Male",
          "Male",
          "Male",
          "Male",
          "Male",
          "Male",
          "Male",
          "Male",
          "Male",
          "Male",
          "Male",
          "Male",
          "Male",
          "Male",
          "Male",
          "Male",
          "Male",
          "Male",
          "Male",
          "Male",
          "Male",
          "Male",
          "Male",
          "Male",
          "Male",
          "Male",
          "Male",
          "Male",
          "Male",
          "Male",
          "Male",
          "Male",
          "Male",
          "Male",
          "Male",
          "Male",
          "Male",
          "Male",
          "Male",
          "Male",
          "Male",
          "Male",
          "Male",
          "Male",
          "Male",
          "Male",
          "Male",
          "Male",
          "Male",
          "Male",
          "Male",
          "Male",
          "Male",
          "Male",
          "Male",
          "Male",
          "Male",
          "Male",
          "Male",
          "Male",
          "Male",
          "Male",
          "Male",
          "Male",
          "Male",
          "Male",
          "Male",
          "Male",
          "Male",
          "Male",
          "Male",
          "Male",
          "Male",
          "Male",
          "Male",
          "Male",
          "Male",
          "Male",
          "Male",
          "Male",
          "Male",
          "Male",
          "Male",
          "Male",
          "Male",
          "Male",
          "Male",
          "Male",
          "Male",
          "Male",
          "Male",
          "Male",
          "Male",
          "Male",
          "Male",
          "Male",
          "Male",
          "Male",
          "Male",
          "Male",
          "Male",
          "Male",
          "Male",
          "Male"
         ],
         "xaxis": "x",
         "y": [
          393,
          154,
          239,
          99,
          543,
          424,
          215,
          215,
          216,
          91,
          444,
          512,
          197,
          278,
          46,
          122,
          522,
          473,
          398,
          576,
          120,
          152,
          502,
          580,
          589,
          245,
          97,
          68,
          539,
          428,
          325,
          79,
          459,
          225,
          257,
          516,
          521,
          457,
          47,
          172,
          39,
          404,
          151,
          34,
          301,
          134,
          411,
          326,
          550,
          41,
          183,
          274,
          166,
          66,
          152,
          488,
          136,
          121,
          75,
          97,
          529,
          227,
          535,
          125,
          540,
          79,
          83,
          66,
          497,
          516,
          448,
          68,
          188,
          443,
          52,
          228,
          149,
          523,
          158,
          86,
          339,
          304,
          131,
          53,
          442,
          32,
          595,
          35,
          587,
          92,
          46,
          255,
          207,
          539,
          151,
          474,
          498,
          75,
          134,
          79,
          262,
          215,
          80,
          88,
          69,
          100,
          301,
          163,
          539,
          481,
          133,
          41,
          553,
          402,
          555,
          101,
          433,
          133,
          92,
          384,
          132,
          360,
          159,
          495,
          537,
          132,
          64,
          162,
          451,
          30,
          202,
          71,
          314,
          523,
          424,
          201,
          70,
          563,
          584,
          208,
          381,
          284,
          179,
          122,
          501,
          230,
          85,
          73,
          386,
          411,
          534,
          121,
          84,
          448,
          55,
          580,
          65,
          264,
          420,
          106,
          243,
          397,
          132,
          281,
          508,
          445,
          199,
          191,
          473,
          30,
          306,
          64,
          75,
          529,
          256,
          62,
          156,
          303,
          463,
          30,
          517,
          557,
          321,
          579,
          382,
          165,
          561,
          69,
          44,
          525,
          106,
          188,
          493,
          104,
          102,
          98,
          72,
          311,
          337,
          168,
          331,
          472,
          517,
          49,
          522,
          97,
          411,
          405,
          575,
          270,
          98,
          83,
          32,
          168,
          201,
          130,
          105,
          94,
          540,
          266,
          140,
          534,
          46,
          581,
          221,
          41,
          123,
          223,
          66,
          555,
          378,
          546,
          234,
          179,
          591,
          120,
          88,
          143,
          234,
          174,
          123,
          216,
          290,
          414,
          429,
          39,
          248,
          289,
          189,
          155,
          528,
          549,
          80,
          586,
          416,
          329,
          493,
          274,
          66,
          200,
          493,
          238,
          267,
          492,
          567,
          36,
          466,
          126,
          120,
          64,
          119,
          350,
          69,
          506,
          224,
          175,
          339,
          389,
          289,
          567,
          242,
          275,
          383,
          455,
          173,
          198,
          361,
          553,
          121,
          46,
          290,
          60,
          86,
          404,
          441,
          537,
          94,
          47,
          148,
          149,
          328,
          424,
          159,
          447,
          512,
          511,
          140,
          114,
          83,
          122,
          203,
          551,
          507,
          57,
          553,
          106,
          119,
          292,
          64,
          42,
          36,
          227,
          47,
          461,
          94,
          318,
          510,
          63,
          502,
          105,
          389,
          149,
          206,
          49,
          594,
          104,
          505,
          50,
          138,
          130,
          555,
          198,
          529,
          205,
          170,
          81,
          468,
          500,
          37,
          81,
          141,
          380,
          190,
          75,
          218,
          412,
          335,
          387,
          541,
          195,
          505,
          92,
          316,
          62
         ],
         "yaxis": "y"
        },
        {
         "alignmentgroup": "True",
         "hovertemplate": "Gender=%{x}<br>App Usage Time (min/day)=%{y}<extra></extra>",
         "legendgroup": "Female",
         "marker": {
          "color": "#EF553B",
          "pattern": {
           "shape": ""
          }
         },
         "name": "Female",
         "offsetgroup": "Female",
         "orientation": "v",
         "showlegend": true,
         "textposition": "auto",
         "type": "bar",
         "x": [
          "Female",
          "Female",
          "Female",
          "Female",
          "Female",
          "Female",
          "Female",
          "Female",
          "Female",
          "Female",
          "Female",
          "Female",
          "Female",
          "Female",
          "Female",
          "Female",
          "Female",
          "Female",
          "Female",
          "Female",
          "Female",
          "Female",
          "Female",
          "Female",
          "Female",
          "Female",
          "Female",
          "Female",
          "Female",
          "Female",
          "Female",
          "Female",
          "Female",
          "Female",
          "Female",
          "Female",
          "Female",
          "Female",
          "Female",
          "Female",
          "Female",
          "Female",
          "Female",
          "Female",
          "Female",
          "Female",
          "Female",
          "Female",
          "Female",
          "Female",
          "Female",
          "Female",
          "Female",
          "Female",
          "Female",
          "Female",
          "Female",
          "Female",
          "Female",
          "Female",
          "Female",
          "Female",
          "Female",
          "Female",
          "Female",
          "Female",
          "Female",
          "Female",
          "Female",
          "Female",
          "Female",
          "Female",
          "Female",
          "Female",
          "Female",
          "Female",
          "Female",
          "Female",
          "Female",
          "Female",
          "Female",
          "Female",
          "Female",
          "Female",
          "Female",
          "Female",
          "Female",
          "Female",
          "Female",
          "Female",
          "Female",
          "Female",
          "Female",
          "Female",
          "Female",
          "Female",
          "Female",
          "Female",
          "Female",
          "Female",
          "Female",
          "Female",
          "Female",
          "Female",
          "Female",
          "Female",
          "Female",
          "Female",
          "Female",
          "Female",
          "Female",
          "Female",
          "Female",
          "Female",
          "Female",
          "Female",
          "Female",
          "Female",
          "Female",
          "Female",
          "Female",
          "Female",
          "Female",
          "Female",
          "Female",
          "Female",
          "Female",
          "Female",
          "Female",
          "Female",
          "Female",
          "Female",
          "Female",
          "Female",
          "Female",
          "Female",
          "Female",
          "Female",
          "Female",
          "Female",
          "Female",
          "Female",
          "Female",
          "Female",
          "Female",
          "Female",
          "Female",
          "Female",
          "Female",
          "Female",
          "Female",
          "Female",
          "Female",
          "Female",
          "Female",
          "Female",
          "Female",
          "Female",
          "Female",
          "Female",
          "Female",
          "Female",
          "Female",
          "Female",
          "Female",
          "Female",
          "Female",
          "Female",
          "Female",
          "Female",
          "Female",
          "Female",
          "Female",
          "Female",
          "Female",
          "Female",
          "Female",
          "Female",
          "Female",
          "Female",
          "Female",
          "Female",
          "Female",
          "Female",
          "Female",
          "Female",
          "Female",
          "Female",
          "Female",
          "Female",
          "Female",
          "Female",
          "Female",
          "Female",
          "Female",
          "Female",
          "Female",
          "Female",
          "Female",
          "Female",
          "Female",
          "Female",
          "Female",
          "Female",
          "Female",
          "Female",
          "Female",
          "Female",
          "Female",
          "Female",
          "Female",
          "Female",
          "Female",
          "Female",
          "Female",
          "Female",
          "Female",
          "Female",
          "Female",
          "Female",
          "Female",
          "Female",
          "Female",
          "Female",
          "Female",
          "Female",
          "Female",
          "Female",
          "Female",
          "Female",
          "Female",
          "Female",
          "Female",
          "Female",
          "Female",
          "Female",
          "Female",
          "Female",
          "Female",
          "Female",
          "Female",
          "Female",
          "Female",
          "Female",
          "Female",
          "Female",
          "Female",
          "Female",
          "Female",
          "Female",
          "Female",
          "Female",
          "Female",
          "Female",
          "Female",
          "Female",
          "Female",
          "Female",
          "Female",
          "Female",
          "Female",
          "Female",
          "Female",
          "Female",
          "Female",
          "Female",
          "Female",
          "Female",
          "Female",
          "Female",
          "Female",
          "Female",
          "Female",
          "Female",
          "Female",
          "Female",
          "Female",
          "Female",
          "Female",
          "Female",
          "Female",
          "Female",
          "Female",
          "Female",
          "Female",
          "Female",
          "Female",
          "Female",
          "Female",
          "Female",
          "Female",
          "Female",
          "Female",
          "Female",
          "Female",
          "Female",
          "Female",
          "Female",
          "Female",
          "Female",
          "Female",
          "Female",
          "Female",
          "Female",
          "Female",
          "Female",
          "Female",
          "Female",
          "Female",
          "Female",
          "Female",
          "Female",
          "Female",
          "Female",
          "Female",
          "Female",
          "Female",
          "Female",
          "Female",
          "Female",
          "Female",
          "Female",
          "Female",
          "Female",
          "Female",
          "Female",
          "Female",
          "Female",
          "Female",
          "Female",
          "Female",
          "Female",
          "Female",
          "Female",
          "Female",
          "Female"
         ],
         "xaxis": "x",
         "y": [
          268,
          187,
          350,
          340,
          53,
          462,
          189,
          503,
          132,
          299,
          81,
          577,
          93,
          576,
          423,
          292,
          452,
          412,
          260,
          593,
          32,
          240,
          138,
          558,
          138,
          452,
          125,
          516,
          64,
          522,
          309,
          545,
          134,
          82,
          452,
          31,
          229,
          34,
          173,
          78,
          230,
          565,
          330,
          223,
          137,
          116,
          291,
          84,
          516,
          59,
          225,
          174,
          54,
          187,
          216,
          95,
          295,
          471,
          220,
          82,
          388,
          529,
          584,
          332,
          252,
          97,
          320,
          176,
          555,
          237,
          219,
          156,
          524,
          42,
          120,
          329,
          68,
          64,
          278,
          540,
          225,
          153,
          368,
          51,
          279,
          193,
          544,
          73,
          597,
          402,
          130,
          42,
          432,
          473,
          202,
          151,
          126,
          495,
          127,
          78,
          278,
          451,
          152,
          499,
          351,
          532,
          511,
          193,
          129,
          37,
          524,
          425,
          573,
          45,
          564,
          168,
          75,
          42,
          441,
          100,
          52,
          397,
          272,
          570,
          64,
          334,
          518,
          334,
          181,
          426,
          105,
          269,
          411,
          39,
          49,
          314,
          211,
          59,
          226,
          458,
          170,
          122,
          267,
          469,
          541,
          155,
          410,
          285,
          230,
          341,
          130,
          74,
          299,
          116,
          408,
          227,
          274,
          347,
          76,
          203,
          48,
          88,
          541,
          233,
          176,
          461,
          37,
          531,
          597,
          290,
          308,
          156,
          60,
          225,
          379,
          53,
          291,
          488,
          74,
          230,
          78,
          516,
          598,
          102,
          558,
          511,
          560,
          65,
          458,
          84,
          349,
          563,
          119,
          589,
          78,
          41,
          566,
          559,
          478,
          147,
          395,
          357,
          501,
          257,
          116,
          264,
          572,
          202,
          416,
          46,
          98,
          105,
          105,
          260,
          231,
          152,
          34,
          74,
          74,
          56,
          523,
          68,
          265,
          238,
          541,
          139,
          210,
          412,
          318,
          258,
          258,
          78,
          444,
          131,
          228,
          416,
          152,
          87,
          107,
          182,
          102,
          143,
          420,
          582,
          348,
          33,
          241,
          110,
          574,
          438,
          272,
          99,
          44,
          228,
          589,
          431,
          190,
          139,
          593,
          576,
          592,
          170,
          544,
          50,
          236,
          139,
          172,
          157,
          405,
          387,
          201,
          142,
          408,
          71,
          116,
          291,
          444,
          211,
          519,
          554,
          381,
          257,
          527,
          191,
          71,
          73,
          197,
          111,
          580,
          379,
          217,
          192,
          325,
          138,
          182,
          425,
          580,
          258,
          49,
          288,
          225,
          342,
          218,
          453,
          55,
          210,
          216,
          496,
          138,
          96,
          83,
          417,
          538,
          50,
          186,
          174,
          89,
          66,
          186,
          69,
          262,
          278,
          463,
          469,
          160,
          522,
          115,
          298,
          33,
          307,
          261,
          178,
          378,
          564,
          99,
          212
         ],
         "yaxis": "y"
        }
       ],
       "layout": {
        "barmode": "relative",
        "legend": {
         "title": {
          "text": "Gender"
         },
         "tracegroupgap": 0
        },
        "template": {
         "data": {
          "bar": [
           {
            "error_x": {
             "color": "#2a3f5f"
            },
            "error_y": {
             "color": "#2a3f5f"
            },
            "marker": {
             "line": {
              "color": "#E5ECF6",
              "width": 0.5
             },
             "pattern": {
              "fillmode": "overlay",
              "size": 10,
              "solidity": 0.2
             }
            },
            "type": "bar"
           }
          ],
          "barpolar": [
           {
            "marker": {
             "line": {
              "color": "#E5ECF6",
              "width": 0.5
             },
             "pattern": {
              "fillmode": "overlay",
              "size": 10,
              "solidity": 0.2
             }
            },
            "type": "barpolar"
           }
          ],
          "carpet": [
           {
            "aaxis": {
             "endlinecolor": "#2a3f5f",
             "gridcolor": "white",
             "linecolor": "white",
             "minorgridcolor": "white",
             "startlinecolor": "#2a3f5f"
            },
            "baxis": {
             "endlinecolor": "#2a3f5f",
             "gridcolor": "white",
             "linecolor": "white",
             "minorgridcolor": "white",
             "startlinecolor": "#2a3f5f"
            },
            "type": "carpet"
           }
          ],
          "choropleth": [
           {
            "colorbar": {
             "outlinewidth": 0,
             "ticks": ""
            },
            "type": "choropleth"
           }
          ],
          "contour": [
           {
            "colorbar": {
             "outlinewidth": 0,
             "ticks": ""
            },
            "colorscale": [
             [
              0,
              "#0d0887"
             ],
             [
              0.1111111111111111,
              "#46039f"
             ],
             [
              0.2222222222222222,
              "#7201a8"
             ],
             [
              0.3333333333333333,
              "#9c179e"
             ],
             [
              0.4444444444444444,
              "#bd3786"
             ],
             [
              0.5555555555555556,
              "#d8576b"
             ],
             [
              0.6666666666666666,
              "#ed7953"
             ],
             [
              0.7777777777777778,
              "#fb9f3a"
             ],
             [
              0.8888888888888888,
              "#fdca26"
             ],
             [
              1,
              "#f0f921"
             ]
            ],
            "type": "contour"
           }
          ],
          "contourcarpet": [
           {
            "colorbar": {
             "outlinewidth": 0,
             "ticks": ""
            },
            "type": "contourcarpet"
           }
          ],
          "heatmap": [
           {
            "colorbar": {
             "outlinewidth": 0,
             "ticks": ""
            },
            "colorscale": [
             [
              0,
              "#0d0887"
             ],
             [
              0.1111111111111111,
              "#46039f"
             ],
             [
              0.2222222222222222,
              "#7201a8"
             ],
             [
              0.3333333333333333,
              "#9c179e"
             ],
             [
              0.4444444444444444,
              "#bd3786"
             ],
             [
              0.5555555555555556,
              "#d8576b"
             ],
             [
              0.6666666666666666,
              "#ed7953"
             ],
             [
              0.7777777777777778,
              "#fb9f3a"
             ],
             [
              0.8888888888888888,
              "#fdca26"
             ],
             [
              1,
              "#f0f921"
             ]
            ],
            "type": "heatmap"
           }
          ],
          "heatmapgl": [
           {
            "colorbar": {
             "outlinewidth": 0,
             "ticks": ""
            },
            "colorscale": [
             [
              0,
              "#0d0887"
             ],
             [
              0.1111111111111111,
              "#46039f"
             ],
             [
              0.2222222222222222,
              "#7201a8"
             ],
             [
              0.3333333333333333,
              "#9c179e"
             ],
             [
              0.4444444444444444,
              "#bd3786"
             ],
             [
              0.5555555555555556,
              "#d8576b"
             ],
             [
              0.6666666666666666,
              "#ed7953"
             ],
             [
              0.7777777777777778,
              "#fb9f3a"
             ],
             [
              0.8888888888888888,
              "#fdca26"
             ],
             [
              1,
              "#f0f921"
             ]
            ],
            "type": "heatmapgl"
           }
          ],
          "histogram": [
           {
            "marker": {
             "pattern": {
              "fillmode": "overlay",
              "size": 10,
              "solidity": 0.2
             }
            },
            "type": "histogram"
           }
          ],
          "histogram2d": [
           {
            "colorbar": {
             "outlinewidth": 0,
             "ticks": ""
            },
            "colorscale": [
             [
              0,
              "#0d0887"
             ],
             [
              0.1111111111111111,
              "#46039f"
             ],
             [
              0.2222222222222222,
              "#7201a8"
             ],
             [
              0.3333333333333333,
              "#9c179e"
             ],
             [
              0.4444444444444444,
              "#bd3786"
             ],
             [
              0.5555555555555556,
              "#d8576b"
             ],
             [
              0.6666666666666666,
              "#ed7953"
             ],
             [
              0.7777777777777778,
              "#fb9f3a"
             ],
             [
              0.8888888888888888,
              "#fdca26"
             ],
             [
              1,
              "#f0f921"
             ]
            ],
            "type": "histogram2d"
           }
          ],
          "histogram2dcontour": [
           {
            "colorbar": {
             "outlinewidth": 0,
             "ticks": ""
            },
            "colorscale": [
             [
              0,
              "#0d0887"
             ],
             [
              0.1111111111111111,
              "#46039f"
             ],
             [
              0.2222222222222222,
              "#7201a8"
             ],
             [
              0.3333333333333333,
              "#9c179e"
             ],
             [
              0.4444444444444444,
              "#bd3786"
             ],
             [
              0.5555555555555556,
              "#d8576b"
             ],
             [
              0.6666666666666666,
              "#ed7953"
             ],
             [
              0.7777777777777778,
              "#fb9f3a"
             ],
             [
              0.8888888888888888,
              "#fdca26"
             ],
             [
              1,
              "#f0f921"
             ]
            ],
            "type": "histogram2dcontour"
           }
          ],
          "mesh3d": [
           {
            "colorbar": {
             "outlinewidth": 0,
             "ticks": ""
            },
            "type": "mesh3d"
           }
          ],
          "parcoords": [
           {
            "line": {
             "colorbar": {
              "outlinewidth": 0,
              "ticks": ""
             }
            },
            "type": "parcoords"
           }
          ],
          "pie": [
           {
            "automargin": true,
            "type": "pie"
           }
          ],
          "scatter": [
           {
            "fillpattern": {
             "fillmode": "overlay",
             "size": 10,
             "solidity": 0.2
            },
            "type": "scatter"
           }
          ],
          "scatter3d": [
           {
            "line": {
             "colorbar": {
              "outlinewidth": 0,
              "ticks": ""
             }
            },
            "marker": {
             "colorbar": {
              "outlinewidth": 0,
              "ticks": ""
             }
            },
            "type": "scatter3d"
           }
          ],
          "scattercarpet": [
           {
            "marker": {
             "colorbar": {
              "outlinewidth": 0,
              "ticks": ""
             }
            },
            "type": "scattercarpet"
           }
          ],
          "scattergeo": [
           {
            "marker": {
             "colorbar": {
              "outlinewidth": 0,
              "ticks": ""
             }
            },
            "type": "scattergeo"
           }
          ],
          "scattergl": [
           {
            "marker": {
             "colorbar": {
              "outlinewidth": 0,
              "ticks": ""
             }
            },
            "type": "scattergl"
           }
          ],
          "scattermapbox": [
           {
            "marker": {
             "colorbar": {
              "outlinewidth": 0,
              "ticks": ""
             }
            },
            "type": "scattermapbox"
           }
          ],
          "scatterpolar": [
           {
            "marker": {
             "colorbar": {
              "outlinewidth": 0,
              "ticks": ""
             }
            },
            "type": "scatterpolar"
           }
          ],
          "scatterpolargl": [
           {
            "marker": {
             "colorbar": {
              "outlinewidth": 0,
              "ticks": ""
             }
            },
            "type": "scatterpolargl"
           }
          ],
          "scatterternary": [
           {
            "marker": {
             "colorbar": {
              "outlinewidth": 0,
              "ticks": ""
             }
            },
            "type": "scatterternary"
           }
          ],
          "surface": [
           {
            "colorbar": {
             "outlinewidth": 0,
             "ticks": ""
            },
            "colorscale": [
             [
              0,
              "#0d0887"
             ],
             [
              0.1111111111111111,
              "#46039f"
             ],
             [
              0.2222222222222222,
              "#7201a8"
             ],
             [
              0.3333333333333333,
              "#9c179e"
             ],
             [
              0.4444444444444444,
              "#bd3786"
             ],
             [
              0.5555555555555556,
              "#d8576b"
             ],
             [
              0.6666666666666666,
              "#ed7953"
             ],
             [
              0.7777777777777778,
              "#fb9f3a"
             ],
             [
              0.8888888888888888,
              "#fdca26"
             ],
             [
              1,
              "#f0f921"
             ]
            ],
            "type": "surface"
           }
          ],
          "table": [
           {
            "cells": {
             "fill": {
              "color": "#EBF0F8"
             },
             "line": {
              "color": "white"
             }
            },
            "header": {
             "fill": {
              "color": "#C8D4E3"
             },
             "line": {
              "color": "white"
             }
            },
            "type": "table"
           }
          ]
         },
         "layout": {
          "annotationdefaults": {
           "arrowcolor": "#2a3f5f",
           "arrowhead": 0,
           "arrowwidth": 1
          },
          "autotypenumbers": "strict",
          "coloraxis": {
           "colorbar": {
            "outlinewidth": 0,
            "ticks": ""
           }
          },
          "colorscale": {
           "diverging": [
            [
             0,
             "#8e0152"
            ],
            [
             0.1,
             "#c51b7d"
            ],
            [
             0.2,
             "#de77ae"
            ],
            [
             0.3,
             "#f1b6da"
            ],
            [
             0.4,
             "#fde0ef"
            ],
            [
             0.5,
             "#f7f7f7"
            ],
            [
             0.6,
             "#e6f5d0"
            ],
            [
             0.7,
             "#b8e186"
            ],
            [
             0.8,
             "#7fbc41"
            ],
            [
             0.9,
             "#4d9221"
            ],
            [
             1,
             "#276419"
            ]
           ],
           "sequential": [
            [
             0,
             "#0d0887"
            ],
            [
             0.1111111111111111,
             "#46039f"
            ],
            [
             0.2222222222222222,
             "#7201a8"
            ],
            [
             0.3333333333333333,
             "#9c179e"
            ],
            [
             0.4444444444444444,
             "#bd3786"
            ],
            [
             0.5555555555555556,
             "#d8576b"
            ],
            [
             0.6666666666666666,
             "#ed7953"
            ],
            [
             0.7777777777777778,
             "#fb9f3a"
            ],
            [
             0.8888888888888888,
             "#fdca26"
            ],
            [
             1,
             "#f0f921"
            ]
           ],
           "sequentialminus": [
            [
             0,
             "#0d0887"
            ],
            [
             0.1111111111111111,
             "#46039f"
            ],
            [
             0.2222222222222222,
             "#7201a8"
            ],
            [
             0.3333333333333333,
             "#9c179e"
            ],
            [
             0.4444444444444444,
             "#bd3786"
            ],
            [
             0.5555555555555556,
             "#d8576b"
            ],
            [
             0.6666666666666666,
             "#ed7953"
            ],
            [
             0.7777777777777778,
             "#fb9f3a"
            ],
            [
             0.8888888888888888,
             "#fdca26"
            ],
            [
             1,
             "#f0f921"
            ]
           ]
          },
          "colorway": [
           "#636efa",
           "#EF553B",
           "#00cc96",
           "#ab63fa",
           "#FFA15A",
           "#19d3f3",
           "#FF6692",
           "#B6E880",
           "#FF97FF",
           "#FECB52"
          ],
          "font": {
           "color": "#2a3f5f"
          },
          "geo": {
           "bgcolor": "white",
           "lakecolor": "white",
           "landcolor": "#E5ECF6",
           "showlakes": true,
           "showland": true,
           "subunitcolor": "white"
          },
          "hoverlabel": {
           "align": "left"
          },
          "hovermode": "closest",
          "mapbox": {
           "style": "light"
          },
          "paper_bgcolor": "white",
          "plot_bgcolor": "#E5ECF6",
          "polar": {
           "angularaxis": {
            "gridcolor": "white",
            "linecolor": "white",
            "ticks": ""
           },
           "bgcolor": "#E5ECF6",
           "radialaxis": {
            "gridcolor": "white",
            "linecolor": "white",
            "ticks": ""
           }
          },
          "scene": {
           "xaxis": {
            "backgroundcolor": "#E5ECF6",
            "gridcolor": "white",
            "gridwidth": 2,
            "linecolor": "white",
            "showbackground": true,
            "ticks": "",
            "zerolinecolor": "white"
           },
           "yaxis": {
            "backgroundcolor": "#E5ECF6",
            "gridcolor": "white",
            "gridwidth": 2,
            "linecolor": "white",
            "showbackground": true,
            "ticks": "",
            "zerolinecolor": "white"
           },
           "zaxis": {
            "backgroundcolor": "#E5ECF6",
            "gridcolor": "white",
            "gridwidth": 2,
            "linecolor": "white",
            "showbackground": true,
            "ticks": "",
            "zerolinecolor": "white"
           }
          },
          "shapedefaults": {
           "line": {
            "color": "#2a3f5f"
           }
          },
          "ternary": {
           "aaxis": {
            "gridcolor": "white",
            "linecolor": "white",
            "ticks": ""
           },
           "baxis": {
            "gridcolor": "white",
            "linecolor": "white",
            "ticks": ""
           },
           "bgcolor": "#E5ECF6",
           "caxis": {
            "gridcolor": "white",
            "linecolor": "white",
            "ticks": ""
           }
          },
          "title": {
           "x": 0.05
          },
          "xaxis": {
           "automargin": true,
           "gridcolor": "white",
           "linecolor": "white",
           "ticks": "",
           "title": {
            "standoff": 15
           },
           "zerolinecolor": "white",
           "zerolinewidth": 2
          },
          "yaxis": {
           "automargin": true,
           "gridcolor": "white",
           "linecolor": "white",
           "ticks": "",
           "title": {
            "standoff": 15
           },
           "zerolinecolor": "white",
           "zerolinewidth": 2
          }
         }
        },
        "title": {
         "text": "App Usage Time by Gender"
        },
        "xaxis": {
         "anchor": "y",
         "categoryarray": [
          "Male",
          "Female"
         ],
         "categoryorder": "array",
         "domain": [
          0,
          1
         ],
         "title": {
          "text": "Gender"
         }
        },
        "yaxis": {
         "anchor": "x",
         "domain": [
          0,
          1
         ],
         "title": {
          "text": "App Usage Time (min/day)"
         }
        }
       }
      }
     },
     "metadata": {},
     "output_type": "display_data"
    }
   ],
   "source": [
    "# 5. App-Nutzungszeit basierend auf Geschlecht (Balkendiagramm)\n",
    "fig5 = px.bar(df_U, x='Gender', y='App Usage Time (min/day)', color='Gender', \n",
    "              title='App Usage Time by Gender')\n",
    "fig5.show()\n"
   ]
  },
  {
   "cell_type": "code",
   "execution_count": 49,
   "metadata": {},
   "outputs": [
    {
     "data": {
      "application/vnd.plotly.v1+json": {
       "config": {
        "plotlyServerURL": "https://plot.ly"
       },
       "data": [
        {
         "alignmentgroup": "True",
         "hovertemplate": "Device Model=%{x}<br>Screen On Time (hours/day)=%{y}<extra></extra>",
         "legendgroup": "Google Pixel 5",
         "marker": {
          "color": "#636efa",
          "pattern": {
           "shape": ""
          }
         },
         "name": "Google Pixel 5",
         "offsetgroup": "Google Pixel 5",
         "orientation": "v",
         "showlegend": true,
         "textposition": "auto",
         "type": "bar",
         "x": [
          "Google Pixel 5",
          "Google Pixel 5",
          "Google Pixel 5",
          "Google Pixel 5",
          "Google Pixel 5",
          "Google Pixel 5",
          "Google Pixel 5",
          "Google Pixel 5",
          "Google Pixel 5",
          "Google Pixel 5",
          "Google Pixel 5",
          "Google Pixel 5",
          "Google Pixel 5",
          "Google Pixel 5",
          "Google Pixel 5",
          "Google Pixel 5",
          "Google Pixel 5",
          "Google Pixel 5",
          "Google Pixel 5",
          "Google Pixel 5",
          "Google Pixel 5",
          "Google Pixel 5",
          "Google Pixel 5",
          "Google Pixel 5",
          "Google Pixel 5",
          "Google Pixel 5",
          "Google Pixel 5",
          "Google Pixel 5",
          "Google Pixel 5",
          "Google Pixel 5",
          "Google Pixel 5",
          "Google Pixel 5",
          "Google Pixel 5",
          "Google Pixel 5",
          "Google Pixel 5",
          "Google Pixel 5",
          "Google Pixel 5",
          "Google Pixel 5",
          "Google Pixel 5",
          "Google Pixel 5",
          "Google Pixel 5",
          "Google Pixel 5",
          "Google Pixel 5",
          "Google Pixel 5",
          "Google Pixel 5",
          "Google Pixel 5",
          "Google Pixel 5",
          "Google Pixel 5",
          "Google Pixel 5",
          "Google Pixel 5",
          "Google Pixel 5",
          "Google Pixel 5",
          "Google Pixel 5",
          "Google Pixel 5",
          "Google Pixel 5",
          "Google Pixel 5",
          "Google Pixel 5",
          "Google Pixel 5",
          "Google Pixel 5",
          "Google Pixel 5",
          "Google Pixel 5",
          "Google Pixel 5",
          "Google Pixel 5",
          "Google Pixel 5",
          "Google Pixel 5",
          "Google Pixel 5",
          "Google Pixel 5",
          "Google Pixel 5",
          "Google Pixel 5",
          "Google Pixel 5",
          "Google Pixel 5",
          "Google Pixel 5",
          "Google Pixel 5",
          "Google Pixel 5",
          "Google Pixel 5",
          "Google Pixel 5",
          "Google Pixel 5",
          "Google Pixel 5",
          "Google Pixel 5",
          "Google Pixel 5",
          "Google Pixel 5",
          "Google Pixel 5",
          "Google Pixel 5",
          "Google Pixel 5",
          "Google Pixel 5",
          "Google Pixel 5",
          "Google Pixel 5",
          "Google Pixel 5",
          "Google Pixel 5",
          "Google Pixel 5",
          "Google Pixel 5",
          "Google Pixel 5",
          "Google Pixel 5",
          "Google Pixel 5",
          "Google Pixel 5",
          "Google Pixel 5",
          "Google Pixel 5",
          "Google Pixel 5",
          "Google Pixel 5",
          "Google Pixel 5",
          "Google Pixel 5",
          "Google Pixel 5",
          "Google Pixel 5",
          "Google Pixel 5",
          "Google Pixel 5",
          "Google Pixel 5",
          "Google Pixel 5",
          "Google Pixel 5",
          "Google Pixel 5",
          "Google Pixel 5",
          "Google Pixel 5",
          "Google Pixel 5",
          "Google Pixel 5",
          "Google Pixel 5",
          "Google Pixel 5",
          "Google Pixel 5",
          "Google Pixel 5",
          "Google Pixel 5",
          "Google Pixel 5",
          "Google Pixel 5",
          "Google Pixel 5",
          "Google Pixel 5",
          "Google Pixel 5",
          "Google Pixel 5",
          "Google Pixel 5",
          "Google Pixel 5",
          "Google Pixel 5",
          "Google Pixel 5",
          "Google Pixel 5",
          "Google Pixel 5",
          "Google Pixel 5",
          "Google Pixel 5",
          "Google Pixel 5",
          "Google Pixel 5",
          "Google Pixel 5",
          "Google Pixel 5",
          "Google Pixel 5",
          "Google Pixel 5",
          "Google Pixel 5",
          "Google Pixel 5",
          "Google Pixel 5",
          "Google Pixel 5"
         ],
         "xaxis": "x",
         "y": [
          6.4,
          4.8,
          2,
          1.4,
          10.4,
          1.4,
          5.6,
          10.5,
          4.7,
          2,
          8.2,
          8.7,
          1.7,
          6.3,
          2.5,
          5.7,
          4.5,
          7.4,
          2.1,
          4.1,
          1.2,
          1.1,
          2.5,
          2.7,
          1.4,
          5.1,
          2.7,
          10,
          8.1,
          5.1,
          4.2,
          10.8,
          3.6,
          11.1,
          6.3,
          3.7,
          2,
          7.7,
          11.3,
          1.5,
          5.4,
          11.8,
          1.1,
          5.2,
          6.4,
          10.7,
          1.9,
          4.7,
          1.6,
          1.7,
          3.1,
          4.6,
          1.7,
          1.5,
          6.2,
          1.9,
          10.5,
          2.2,
          2.3,
          4.4,
          1.3,
          6.9,
          1.2,
          1.6,
          1.8,
          2.9,
          2.2,
          11.3,
          6,
          6.3,
          4.6,
          7.5,
          3.8,
          1.5,
          4.6,
          2,
          10.6,
          11.3,
          6,
          9.2,
          2.7,
          7.3,
          6.9,
          2,
          10.4,
          3.9,
          5.7,
          1.1,
          1.2,
          1.3,
          4,
          6.6,
          9.3,
          6.1,
          10.9,
          4.5,
          1.3,
          5.8,
          8.5,
          5.9,
          5.3,
          1.1,
          2.4,
          3,
          4.8,
          9.5,
          5.4,
          9.7,
          6.6,
          7.6,
          1.4,
          3.9,
          5.3,
          6.6,
          6.1,
          10.3,
          1.9,
          11.5,
          1.1,
          3.7,
          5.6,
          1.8,
          3.1,
          6.2,
          9.8,
          8.2,
          4.8,
          2,
          10.5,
          3.7,
          5.6,
          1.5,
          6.4,
          7.3,
          1.6,
          4.6,
          6.1,
          4,
          7.7,
          4.9,
          5.7,
          3.1
         ],
         "yaxis": "y"
        },
        {
         "alignmentgroup": "True",
         "hovertemplate": "Device Model=%{x}<br>Screen On Time (hours/day)=%{y}<extra></extra>",
         "legendgroup": "OnePlus 9",
         "marker": {
          "color": "#EF553B",
          "pattern": {
           "shape": ""
          }
         },
         "name": "OnePlus 9",
         "offsetgroup": "OnePlus 9",
         "orientation": "v",
         "showlegend": true,
         "textposition": "auto",
         "type": "bar",
         "x": [
          "OnePlus 9",
          "OnePlus 9",
          "OnePlus 9",
          "OnePlus 9",
          "OnePlus 9",
          "OnePlus 9",
          "OnePlus 9",
          "OnePlus 9",
          "OnePlus 9",
          "OnePlus 9",
          "OnePlus 9",
          "OnePlus 9",
          "OnePlus 9",
          "OnePlus 9",
          "OnePlus 9",
          "OnePlus 9",
          "OnePlus 9",
          "OnePlus 9",
          "OnePlus 9",
          "OnePlus 9",
          "OnePlus 9",
          "OnePlus 9",
          "OnePlus 9",
          "OnePlus 9",
          "OnePlus 9",
          "OnePlus 9",
          "OnePlus 9",
          "OnePlus 9",
          "OnePlus 9",
          "OnePlus 9",
          "OnePlus 9",
          "OnePlus 9",
          "OnePlus 9",
          "OnePlus 9",
          "OnePlus 9",
          "OnePlus 9",
          "OnePlus 9",
          "OnePlus 9",
          "OnePlus 9",
          "OnePlus 9",
          "OnePlus 9",
          "OnePlus 9",
          "OnePlus 9",
          "OnePlus 9",
          "OnePlus 9",
          "OnePlus 9",
          "OnePlus 9",
          "OnePlus 9",
          "OnePlus 9",
          "OnePlus 9",
          "OnePlus 9",
          "OnePlus 9",
          "OnePlus 9",
          "OnePlus 9",
          "OnePlus 9",
          "OnePlus 9",
          "OnePlus 9",
          "OnePlus 9",
          "OnePlus 9",
          "OnePlus 9",
          "OnePlus 9",
          "OnePlus 9",
          "OnePlus 9",
          "OnePlus 9",
          "OnePlus 9",
          "OnePlus 9",
          "OnePlus 9",
          "OnePlus 9",
          "OnePlus 9",
          "OnePlus 9",
          "OnePlus 9",
          "OnePlus 9",
          "OnePlus 9",
          "OnePlus 9",
          "OnePlus 9",
          "OnePlus 9",
          "OnePlus 9",
          "OnePlus 9",
          "OnePlus 9",
          "OnePlus 9",
          "OnePlus 9",
          "OnePlus 9",
          "OnePlus 9",
          "OnePlus 9",
          "OnePlus 9",
          "OnePlus 9",
          "OnePlus 9",
          "OnePlus 9",
          "OnePlus 9",
          "OnePlus 9",
          "OnePlus 9",
          "OnePlus 9",
          "OnePlus 9",
          "OnePlus 9",
          "OnePlus 9",
          "OnePlus 9",
          "OnePlus 9",
          "OnePlus 9",
          "OnePlus 9",
          "OnePlus 9",
          "OnePlus 9",
          "OnePlus 9",
          "OnePlus 9",
          "OnePlus 9",
          "OnePlus 9",
          "OnePlus 9",
          "OnePlus 9",
          "OnePlus 9",
          "OnePlus 9",
          "OnePlus 9",
          "OnePlus 9",
          "OnePlus 9",
          "OnePlus 9",
          "OnePlus 9",
          "OnePlus 9",
          "OnePlus 9",
          "OnePlus 9",
          "OnePlus 9",
          "OnePlus 9",
          "OnePlus 9",
          "OnePlus 9",
          "OnePlus 9",
          "OnePlus 9",
          "OnePlus 9",
          "OnePlus 9",
          "OnePlus 9",
          "OnePlus 9",
          "OnePlus 9",
          "OnePlus 9",
          "OnePlus 9",
          "OnePlus 9",
          "OnePlus 9",
          "OnePlus 9"
         ],
         "xaxis": "x",
         "y": [
          4.7,
          11.4,
          5.5,
          6.2,
          3.6,
          11.6,
          4,
          6.8,
          6.4,
          10.1,
          8.4,
          8.7,
          1.1,
          8.4,
          10.6,
          12,
          5.5,
          4.1,
          6,
          3.8,
          8.7,
          4.2,
          7.5,
          2.8,
          2.4,
          1.1,
          4.4,
          3.7,
          1.6,
          3.3,
          9.3,
          8.4,
          9.5,
          6.8,
          2,
          2.5,
          3.4,
          6.9,
          1.7,
          3.5,
          1.3,
          1.4,
          7.9,
          1.2,
          7,
          9.4,
          4.2,
          11.9,
          10.8,
          3.7,
          7.6,
          1.8,
          6.6,
          2.8,
          5,
          7.5,
          6.8,
          2,
          4.3,
          6.6,
          4.3,
          2,
          1.6,
          6,
          9.8,
          3.3,
          1.4,
          10.4,
          7.2,
          11.2,
          3.9,
          1.3,
          1.1,
          3,
          1.5,
          2.9,
          2,
          7.9,
          6.1,
          1.6,
          1.5,
          7.3,
          5.1,
          5,
          2.4,
          3.8,
          2,
          4.4,
          3,
          8.8,
          11.8,
          4.7,
          2.4,
          4.8,
          4.3,
          6.8,
          3.4,
          2.2,
          8.5,
          2.2,
          6.5,
          7.9,
          6.1,
          9.4,
          2,
          4.6,
          11.6,
          1.7,
          7.1,
          5.9,
          6,
          1.3,
          3.1,
          7.5,
          10.5,
          2.5,
          1.2,
          3,
          2.1,
          5.3,
          6,
          10.4,
          5.4,
          7,
          1.8,
          1.8,
          3.2,
          10.7,
          1.4,
          3.3,
          3.8,
          6.3,
          5.4
         ],
         "yaxis": "y"
        },
        {
         "alignmentgroup": "True",
         "hovertemplate": "Device Model=%{x}<br>Screen On Time (hours/day)=%{y}<extra></extra>",
         "legendgroup": "Xiaomi Mi 11",
         "marker": {
          "color": "#00cc96",
          "pattern": {
           "shape": ""
          }
         },
         "name": "Xiaomi Mi 11",
         "offsetgroup": "Xiaomi Mi 11",
         "orientation": "v",
         "showlegend": true,
         "textposition": "auto",
         "type": "bar",
         "x": [
          "Xiaomi Mi 11",
          "Xiaomi Mi 11",
          "Xiaomi Mi 11",
          "Xiaomi Mi 11",
          "Xiaomi Mi 11",
          "Xiaomi Mi 11",
          "Xiaomi Mi 11",
          "Xiaomi Mi 11",
          "Xiaomi Mi 11",
          "Xiaomi Mi 11",
          "Xiaomi Mi 11",
          "Xiaomi Mi 11",
          "Xiaomi Mi 11",
          "Xiaomi Mi 11",
          "Xiaomi Mi 11",
          "Xiaomi Mi 11",
          "Xiaomi Mi 11",
          "Xiaomi Mi 11",
          "Xiaomi Mi 11",
          "Xiaomi Mi 11",
          "Xiaomi Mi 11",
          "Xiaomi Mi 11",
          "Xiaomi Mi 11",
          "Xiaomi Mi 11",
          "Xiaomi Mi 11",
          "Xiaomi Mi 11",
          "Xiaomi Mi 11",
          "Xiaomi Mi 11",
          "Xiaomi Mi 11",
          "Xiaomi Mi 11",
          "Xiaomi Mi 11",
          "Xiaomi Mi 11",
          "Xiaomi Mi 11",
          "Xiaomi Mi 11",
          "Xiaomi Mi 11",
          "Xiaomi Mi 11",
          "Xiaomi Mi 11",
          "Xiaomi Mi 11",
          "Xiaomi Mi 11",
          "Xiaomi Mi 11",
          "Xiaomi Mi 11",
          "Xiaomi Mi 11",
          "Xiaomi Mi 11",
          "Xiaomi Mi 11",
          "Xiaomi Mi 11",
          "Xiaomi Mi 11",
          "Xiaomi Mi 11",
          "Xiaomi Mi 11",
          "Xiaomi Mi 11",
          "Xiaomi Mi 11",
          "Xiaomi Mi 11",
          "Xiaomi Mi 11",
          "Xiaomi Mi 11",
          "Xiaomi Mi 11",
          "Xiaomi Mi 11",
          "Xiaomi Mi 11",
          "Xiaomi Mi 11",
          "Xiaomi Mi 11",
          "Xiaomi Mi 11",
          "Xiaomi Mi 11",
          "Xiaomi Mi 11",
          "Xiaomi Mi 11",
          "Xiaomi Mi 11",
          "Xiaomi Mi 11",
          "Xiaomi Mi 11",
          "Xiaomi Mi 11",
          "Xiaomi Mi 11",
          "Xiaomi Mi 11",
          "Xiaomi Mi 11",
          "Xiaomi Mi 11",
          "Xiaomi Mi 11",
          "Xiaomi Mi 11",
          "Xiaomi Mi 11",
          "Xiaomi Mi 11",
          "Xiaomi Mi 11",
          "Xiaomi Mi 11",
          "Xiaomi Mi 11",
          "Xiaomi Mi 11",
          "Xiaomi Mi 11",
          "Xiaomi Mi 11",
          "Xiaomi Mi 11",
          "Xiaomi Mi 11",
          "Xiaomi Mi 11",
          "Xiaomi Mi 11",
          "Xiaomi Mi 11",
          "Xiaomi Mi 11",
          "Xiaomi Mi 11",
          "Xiaomi Mi 11",
          "Xiaomi Mi 11",
          "Xiaomi Mi 11",
          "Xiaomi Mi 11",
          "Xiaomi Mi 11",
          "Xiaomi Mi 11",
          "Xiaomi Mi 11",
          "Xiaomi Mi 11",
          "Xiaomi Mi 11",
          "Xiaomi Mi 11",
          "Xiaomi Mi 11",
          "Xiaomi Mi 11",
          "Xiaomi Mi 11",
          "Xiaomi Mi 11",
          "Xiaomi Mi 11",
          "Xiaomi Mi 11",
          "Xiaomi Mi 11",
          "Xiaomi Mi 11",
          "Xiaomi Mi 11",
          "Xiaomi Mi 11",
          "Xiaomi Mi 11",
          "Xiaomi Mi 11",
          "Xiaomi Mi 11",
          "Xiaomi Mi 11",
          "Xiaomi Mi 11",
          "Xiaomi Mi 11",
          "Xiaomi Mi 11",
          "Xiaomi Mi 11",
          "Xiaomi Mi 11",
          "Xiaomi Mi 11",
          "Xiaomi Mi 11",
          "Xiaomi Mi 11",
          "Xiaomi Mi 11",
          "Xiaomi Mi 11",
          "Xiaomi Mi 11",
          "Xiaomi Mi 11",
          "Xiaomi Mi 11",
          "Xiaomi Mi 11",
          "Xiaomi Mi 11",
          "Xiaomi Mi 11",
          "Xiaomi Mi 11",
          "Xiaomi Mi 11",
          "Xiaomi Mi 11",
          "Xiaomi Mi 11",
          "Xiaomi Mi 11",
          "Xiaomi Mi 11",
          "Xiaomi Mi 11",
          "Xiaomi Mi 11",
          "Xiaomi Mi 11",
          "Xiaomi Mi 11",
          "Xiaomi Mi 11",
          "Xiaomi Mi 11",
          "Xiaomi Mi 11",
          "Xiaomi Mi 11",
          "Xiaomi Mi 11",
          "Xiaomi Mi 11",
          "Xiaomi Mi 11",
          "Xiaomi Mi 11",
          "Xiaomi Mi 11"
         ],
         "xaxis": "x",
         "y": [
          4,
          4.9,
          6,
          4.6,
          10.2,
          4.7,
          2.4,
          10.9,
          7.4,
          5.9,
          2.2,
          7,
          11.9,
          7.5,
          1.9,
          11.5,
          4,
          1.1,
          5.7,
          2,
          7.2,
          1.8,
          3.3,
          7.2,
          4.2,
          2.8,
          1.2,
          5.5,
          8.6,
          7.9,
          2.5,
          3.3,
          7.2,
          1.6,
          4.5,
          5.2,
          1.6,
          1.5,
          3.4,
          1.7,
          7.8,
          2.4,
          1.9,
          4.8,
          8.4,
          3.7,
          1.6,
          5.4,
          5.7,
          10.4,
          2.8,
          1.3,
          6.5,
          1.1,
          3.2,
          6.1,
          10.8,
          7,
          10,
          1.4,
          11.7,
          4,
          2.4,
          7.7,
          5,
          4,
          9,
          1.3,
          8.4,
          6.5,
          5.9,
          1.6,
          1.7,
          4,
          4.5,
          3.3,
          6.5,
          3,
          1.3,
          1.5,
          8.6,
          11.6,
          11.6,
          2.8,
          6.8,
          1.1,
          11.1,
          3.2,
          8.2,
          5.1,
          4.9,
          1.1,
          2.3,
          10.1,
          3.4,
          1.3,
          7.5,
          1.9,
          9.4,
          3,
          4.9,
          1.6,
          1.1,
          7.3,
          1.5,
          7.7,
          8.4,
          5.1,
          2,
          3.8,
          6.5,
          11.8,
          4.7,
          6.2,
          4.9,
          2.1,
          4.4,
          10.9,
          4.4,
          6.3,
          10.8,
          4,
          4.9,
          1.3,
          10.2,
          7.4,
          1.2,
          1.1,
          2.9,
          5.4,
          5.2,
          5.3,
          6.8,
          9.6,
          3.1,
          3.2,
          10.3,
          11.2,
          11.4,
          1.5,
          7.6,
          5.5,
          6.6,
          6.7,
          8.6,
          6.8
         ],
         "yaxis": "y"
        },
        {
         "alignmentgroup": "True",
         "hovertemplate": "Device Model=%{x}<br>Screen On Time (hours/day)=%{y}<extra></extra>",
         "legendgroup": "iPhone 12",
         "marker": {
          "color": "#ab63fa",
          "pattern": {
           "shape": ""
          }
         },
         "name": "iPhone 12",
         "offsetgroup": "iPhone 12",
         "orientation": "v",
         "showlegend": true,
         "textposition": "auto",
         "type": "bar",
         "x": [
          "iPhone 12",
          "iPhone 12",
          "iPhone 12",
          "iPhone 12",
          "iPhone 12",
          "iPhone 12",
          "iPhone 12",
          "iPhone 12",
          "iPhone 12",
          "iPhone 12",
          "iPhone 12",
          "iPhone 12",
          "iPhone 12",
          "iPhone 12",
          "iPhone 12",
          "iPhone 12",
          "iPhone 12",
          "iPhone 12",
          "iPhone 12",
          "iPhone 12",
          "iPhone 12",
          "iPhone 12",
          "iPhone 12",
          "iPhone 12",
          "iPhone 12",
          "iPhone 12",
          "iPhone 12",
          "iPhone 12",
          "iPhone 12",
          "iPhone 12",
          "iPhone 12",
          "iPhone 12",
          "iPhone 12",
          "iPhone 12",
          "iPhone 12",
          "iPhone 12",
          "iPhone 12",
          "iPhone 12",
          "iPhone 12",
          "iPhone 12",
          "iPhone 12",
          "iPhone 12",
          "iPhone 12",
          "iPhone 12",
          "iPhone 12",
          "iPhone 12",
          "iPhone 12",
          "iPhone 12",
          "iPhone 12",
          "iPhone 12",
          "iPhone 12",
          "iPhone 12",
          "iPhone 12",
          "iPhone 12",
          "iPhone 12",
          "iPhone 12",
          "iPhone 12",
          "iPhone 12",
          "iPhone 12",
          "iPhone 12",
          "iPhone 12",
          "iPhone 12",
          "iPhone 12",
          "iPhone 12",
          "iPhone 12",
          "iPhone 12",
          "iPhone 12",
          "iPhone 12",
          "iPhone 12",
          "iPhone 12",
          "iPhone 12",
          "iPhone 12",
          "iPhone 12",
          "iPhone 12",
          "iPhone 12",
          "iPhone 12",
          "iPhone 12",
          "iPhone 12",
          "iPhone 12",
          "iPhone 12",
          "iPhone 12",
          "iPhone 12",
          "iPhone 12",
          "iPhone 12",
          "iPhone 12",
          "iPhone 12",
          "iPhone 12",
          "iPhone 12",
          "iPhone 12",
          "iPhone 12",
          "iPhone 12",
          "iPhone 12",
          "iPhone 12",
          "iPhone 12",
          "iPhone 12",
          "iPhone 12",
          "iPhone 12",
          "iPhone 12",
          "iPhone 12",
          "iPhone 12",
          "iPhone 12",
          "iPhone 12",
          "iPhone 12",
          "iPhone 12",
          "iPhone 12",
          "iPhone 12",
          "iPhone 12",
          "iPhone 12",
          "iPhone 12",
          "iPhone 12",
          "iPhone 12",
          "iPhone 12",
          "iPhone 12",
          "iPhone 12",
          "iPhone 12",
          "iPhone 12",
          "iPhone 12",
          "iPhone 12",
          "iPhone 12",
          "iPhone 12",
          "iPhone 12",
          "iPhone 12",
          "iPhone 12",
          "iPhone 12",
          "iPhone 12",
          "iPhone 12",
          "iPhone 12",
          "iPhone 12",
          "iPhone 12",
          "iPhone 12",
          "iPhone 12",
          "iPhone 12",
          "iPhone 12",
          "iPhone 12",
          "iPhone 12",
          "iPhone 12",
          "iPhone 12",
          "iPhone 12",
          "iPhone 12",
          "iPhone 12",
          "iPhone 12",
          "iPhone 12",
          "iPhone 12",
          "iPhone 12",
          "iPhone 12",
          "iPhone 12"
         ],
         "xaxis": "x",
         "y": [
          4.3,
          6.6,
          5.4,
          5.8,
          8.5,
          7.6,
          3.3,
          1.6,
          7.1,
          4,
          4.5,
          10.2,
          9,
          2,
          2.8,
          1.4,
          2.5,
          9.5,
          3.2,
          1.2,
          5.2,
          7.4,
          11.3,
          2.2,
          11.2,
          5.3,
          9.4,
          2,
          6.6,
          11.9,
          9.2,
          1.2,
          7.8,
          2,
          2.2,
          7.2,
          4.1,
          3.7,
          3.3,
          6.9,
          9.6,
          5.2,
          2.3,
          8.9,
          3.8,
          10.8,
          6.6,
          9.6,
          6.8,
          4.1,
          2.6,
          7.7,
          2.7,
          5.2,
          4.4,
          6,
          11.4,
          2.9,
          5.1,
          7.2,
          4.9,
          4.4,
          7.5,
          8.3,
          3.8,
          6.1,
          1.2,
          1,
          10.3,
          10.5,
          6,
          5.8,
          7.7,
          4.1,
          9.5,
          7.9,
          2.4,
          9.8,
          1.7,
          4.6,
          10.4,
          6.6,
          7.4,
          11.6,
          7.4,
          8.2,
          5,
          2.3,
          1.4,
          1.4,
          3.2,
          6.1,
          5.5,
          3.8,
          8.4,
          1.7,
          4,
          8.8,
          3.9,
          1.6,
          1.6,
          1,
          4.6,
          5,
          4.2,
          2.4,
          11.1,
          6,
          3.8,
          4.4,
          3.7,
          4.8,
          2.9,
          3.6,
          10,
          1.2,
          1.2,
          6.4,
          10.5,
          2.5,
          2.6,
          3.8,
          6.6,
          3.5,
          1.6,
          7.5,
          10,
          5.7,
          6,
          8.5,
          9.6,
          5,
          5,
          5.2,
          6.3,
          10.2,
          6.6,
          1.5,
          6.3,
          1.7,
          5.4,
          2.4,
          1.6,
          1.8,
          4,
          3.9
         ],
         "yaxis": "y"
        },
        {
         "alignmentgroup": "True",
         "hovertemplate": "Device Model=%{x}<br>Screen On Time (hours/day)=%{y}<extra></extra>",
         "legendgroup": "Samsung Galaxy S21",
         "marker": {
          "color": "#FFA15A",
          "pattern": {
           "shape": ""
          }
         },
         "name": "Samsung Galaxy S21",
         "offsetgroup": "Samsung Galaxy S21",
         "orientation": "v",
         "showlegend": true,
         "textposition": "auto",
         "type": "bar",
         "x": [
          "Samsung Galaxy S21",
          "Samsung Galaxy S21",
          "Samsung Galaxy S21",
          "Samsung Galaxy S21",
          "Samsung Galaxy S21",
          "Samsung Galaxy S21",
          "Samsung Galaxy S21",
          "Samsung Galaxy S21",
          "Samsung Galaxy S21",
          "Samsung Galaxy S21",
          "Samsung Galaxy S21",
          "Samsung Galaxy S21",
          "Samsung Galaxy S21",
          "Samsung Galaxy S21",
          "Samsung Galaxy S21",
          "Samsung Galaxy S21",
          "Samsung Galaxy S21",
          "Samsung Galaxy S21",
          "Samsung Galaxy S21",
          "Samsung Galaxy S21",
          "Samsung Galaxy S21",
          "Samsung Galaxy S21",
          "Samsung Galaxy S21",
          "Samsung Galaxy S21",
          "Samsung Galaxy S21",
          "Samsung Galaxy S21",
          "Samsung Galaxy S21",
          "Samsung Galaxy S21",
          "Samsung Galaxy S21",
          "Samsung Galaxy S21",
          "Samsung Galaxy S21",
          "Samsung Galaxy S21",
          "Samsung Galaxy S21",
          "Samsung Galaxy S21",
          "Samsung Galaxy S21",
          "Samsung Galaxy S21",
          "Samsung Galaxy S21",
          "Samsung Galaxy S21",
          "Samsung Galaxy S21",
          "Samsung Galaxy S21",
          "Samsung Galaxy S21",
          "Samsung Galaxy S21",
          "Samsung Galaxy S21",
          "Samsung Galaxy S21",
          "Samsung Galaxy S21",
          "Samsung Galaxy S21",
          "Samsung Galaxy S21",
          "Samsung Galaxy S21",
          "Samsung Galaxy S21",
          "Samsung Galaxy S21",
          "Samsung Galaxy S21",
          "Samsung Galaxy S21",
          "Samsung Galaxy S21",
          "Samsung Galaxy S21",
          "Samsung Galaxy S21",
          "Samsung Galaxy S21",
          "Samsung Galaxy S21",
          "Samsung Galaxy S21",
          "Samsung Galaxy S21",
          "Samsung Galaxy S21",
          "Samsung Galaxy S21",
          "Samsung Galaxy S21",
          "Samsung Galaxy S21",
          "Samsung Galaxy S21",
          "Samsung Galaxy S21",
          "Samsung Galaxy S21",
          "Samsung Galaxy S21",
          "Samsung Galaxy S21",
          "Samsung Galaxy S21",
          "Samsung Galaxy S21",
          "Samsung Galaxy S21",
          "Samsung Galaxy S21",
          "Samsung Galaxy S21",
          "Samsung Galaxy S21",
          "Samsung Galaxy S21",
          "Samsung Galaxy S21",
          "Samsung Galaxy S21",
          "Samsung Galaxy S21",
          "Samsung Galaxy S21",
          "Samsung Galaxy S21",
          "Samsung Galaxy S21",
          "Samsung Galaxy S21",
          "Samsung Galaxy S21",
          "Samsung Galaxy S21",
          "Samsung Galaxy S21",
          "Samsung Galaxy S21",
          "Samsung Galaxy S21",
          "Samsung Galaxy S21",
          "Samsung Galaxy S21",
          "Samsung Galaxy S21",
          "Samsung Galaxy S21",
          "Samsung Galaxy S21",
          "Samsung Galaxy S21",
          "Samsung Galaxy S21",
          "Samsung Galaxy S21",
          "Samsung Galaxy S21",
          "Samsung Galaxy S21",
          "Samsung Galaxy S21",
          "Samsung Galaxy S21",
          "Samsung Galaxy S21",
          "Samsung Galaxy S21",
          "Samsung Galaxy S21",
          "Samsung Galaxy S21",
          "Samsung Galaxy S21",
          "Samsung Galaxy S21",
          "Samsung Galaxy S21",
          "Samsung Galaxy S21",
          "Samsung Galaxy S21",
          "Samsung Galaxy S21",
          "Samsung Galaxy S21",
          "Samsung Galaxy S21",
          "Samsung Galaxy S21",
          "Samsung Galaxy S21",
          "Samsung Galaxy S21",
          "Samsung Galaxy S21",
          "Samsung Galaxy S21",
          "Samsung Galaxy S21",
          "Samsung Galaxy S21",
          "Samsung Galaxy S21",
          "Samsung Galaxy S21",
          "Samsung Galaxy S21",
          "Samsung Galaxy S21",
          "Samsung Galaxy S21",
          "Samsung Galaxy S21",
          "Samsung Galaxy S21",
          "Samsung Galaxy S21",
          "Samsung Galaxy S21",
          "Samsung Galaxy S21",
          "Samsung Galaxy S21",
          "Samsung Galaxy S21",
          "Samsung Galaxy S21",
          "Samsung Galaxy S21",
          "Samsung Galaxy S21"
         ],
         "xaxis": "x",
         "y": [
          7.3,
          7.7,
          2.6,
          6.5,
          3.4,
          6.2,
          1.2,
          11.2,
          6.2,
          2.1,
          3.7,
          3.6,
          2.7,
          7,
          7.2,
          1.8,
          2.4,
          1.5,
          6.2,
          7.5,
          3.2,
          1.6,
          6.6,
          11.8,
          1,
          1.7,
          9.7,
          1.1,
          7.4,
          1.6,
          6.5,
          1.6,
          5.7,
          1.1,
          6.4,
          8.9,
          6.1,
          10.9,
          3.4,
          10.7,
          3.8,
          7.3,
          8.9,
          6.5,
          5,
          1.7,
          4.7,
          6.6,
          7.8,
          1.7,
          7.4,
          8.5,
          4.2,
          6,
          1.5,
          7.9,
          1.3,
          1.4,
          7.4,
          6.9,
          7.5,
          1.9,
          4.6,
          11.8,
          10.9,
          10.8,
          3,
          1.3,
          3.5,
          8.6,
          7.8,
          11.8,
          11.7,
          2.8,
          5.7,
          7.2,
          5.2,
          3,
          3.5,
          3.3,
          9,
          3.3,
          5.9,
          7.3,
          4.6,
          6.2,
          4.8,
          10.4,
          2.5,
          6.6,
          10.8,
          1.6,
          7.1,
          11.2,
          5.2,
          4.5,
          3.3,
          5.9,
          11.1,
          5.5,
          4,
          2.5,
          7.3,
          4.2,
          6.2,
          1.3,
          9.1,
          3.5,
          1.1,
          2.7,
          6.1,
          3.6,
          3.7,
          7.7,
          4.2,
          3,
          4.3,
          4,
          4.2,
          1.5,
          5.1,
          3.4,
          1.8,
          1.3,
          1.2,
          11.4,
          5.5,
          3.2,
          3.5,
          1.6,
          9.5,
          9.7,
          1.7
         ],
         "yaxis": "y"
        }
       ],
       "layout": {
        "barmode": "relative",
        "legend": {
         "title": {
          "text": "Device Model"
         },
         "tracegroupgap": 0
        },
        "template": {
         "data": {
          "bar": [
           {
            "error_x": {
             "color": "#2a3f5f"
            },
            "error_y": {
             "color": "#2a3f5f"
            },
            "marker": {
             "line": {
              "color": "#E5ECF6",
              "width": 0.5
             },
             "pattern": {
              "fillmode": "overlay",
              "size": 10,
              "solidity": 0.2
             }
            },
            "type": "bar"
           }
          ],
          "barpolar": [
           {
            "marker": {
             "line": {
              "color": "#E5ECF6",
              "width": 0.5
             },
             "pattern": {
              "fillmode": "overlay",
              "size": 10,
              "solidity": 0.2
             }
            },
            "type": "barpolar"
           }
          ],
          "carpet": [
           {
            "aaxis": {
             "endlinecolor": "#2a3f5f",
             "gridcolor": "white",
             "linecolor": "white",
             "minorgridcolor": "white",
             "startlinecolor": "#2a3f5f"
            },
            "baxis": {
             "endlinecolor": "#2a3f5f",
             "gridcolor": "white",
             "linecolor": "white",
             "minorgridcolor": "white",
             "startlinecolor": "#2a3f5f"
            },
            "type": "carpet"
           }
          ],
          "choropleth": [
           {
            "colorbar": {
             "outlinewidth": 0,
             "ticks": ""
            },
            "type": "choropleth"
           }
          ],
          "contour": [
           {
            "colorbar": {
             "outlinewidth": 0,
             "ticks": ""
            },
            "colorscale": [
             [
              0,
              "#0d0887"
             ],
             [
              0.1111111111111111,
              "#46039f"
             ],
             [
              0.2222222222222222,
              "#7201a8"
             ],
             [
              0.3333333333333333,
              "#9c179e"
             ],
             [
              0.4444444444444444,
              "#bd3786"
             ],
             [
              0.5555555555555556,
              "#d8576b"
             ],
             [
              0.6666666666666666,
              "#ed7953"
             ],
             [
              0.7777777777777778,
              "#fb9f3a"
             ],
             [
              0.8888888888888888,
              "#fdca26"
             ],
             [
              1,
              "#f0f921"
             ]
            ],
            "type": "contour"
           }
          ],
          "contourcarpet": [
           {
            "colorbar": {
             "outlinewidth": 0,
             "ticks": ""
            },
            "type": "contourcarpet"
           }
          ],
          "heatmap": [
           {
            "colorbar": {
             "outlinewidth": 0,
             "ticks": ""
            },
            "colorscale": [
             [
              0,
              "#0d0887"
             ],
             [
              0.1111111111111111,
              "#46039f"
             ],
             [
              0.2222222222222222,
              "#7201a8"
             ],
             [
              0.3333333333333333,
              "#9c179e"
             ],
             [
              0.4444444444444444,
              "#bd3786"
             ],
             [
              0.5555555555555556,
              "#d8576b"
             ],
             [
              0.6666666666666666,
              "#ed7953"
             ],
             [
              0.7777777777777778,
              "#fb9f3a"
             ],
             [
              0.8888888888888888,
              "#fdca26"
             ],
             [
              1,
              "#f0f921"
             ]
            ],
            "type": "heatmap"
           }
          ],
          "heatmapgl": [
           {
            "colorbar": {
             "outlinewidth": 0,
             "ticks": ""
            },
            "colorscale": [
             [
              0,
              "#0d0887"
             ],
             [
              0.1111111111111111,
              "#46039f"
             ],
             [
              0.2222222222222222,
              "#7201a8"
             ],
             [
              0.3333333333333333,
              "#9c179e"
             ],
             [
              0.4444444444444444,
              "#bd3786"
             ],
             [
              0.5555555555555556,
              "#d8576b"
             ],
             [
              0.6666666666666666,
              "#ed7953"
             ],
             [
              0.7777777777777778,
              "#fb9f3a"
             ],
             [
              0.8888888888888888,
              "#fdca26"
             ],
             [
              1,
              "#f0f921"
             ]
            ],
            "type": "heatmapgl"
           }
          ],
          "histogram": [
           {
            "marker": {
             "pattern": {
              "fillmode": "overlay",
              "size": 10,
              "solidity": 0.2
             }
            },
            "type": "histogram"
           }
          ],
          "histogram2d": [
           {
            "colorbar": {
             "outlinewidth": 0,
             "ticks": ""
            },
            "colorscale": [
             [
              0,
              "#0d0887"
             ],
             [
              0.1111111111111111,
              "#46039f"
             ],
             [
              0.2222222222222222,
              "#7201a8"
             ],
             [
              0.3333333333333333,
              "#9c179e"
             ],
             [
              0.4444444444444444,
              "#bd3786"
             ],
             [
              0.5555555555555556,
              "#d8576b"
             ],
             [
              0.6666666666666666,
              "#ed7953"
             ],
             [
              0.7777777777777778,
              "#fb9f3a"
             ],
             [
              0.8888888888888888,
              "#fdca26"
             ],
             [
              1,
              "#f0f921"
             ]
            ],
            "type": "histogram2d"
           }
          ],
          "histogram2dcontour": [
           {
            "colorbar": {
             "outlinewidth": 0,
             "ticks": ""
            },
            "colorscale": [
             [
              0,
              "#0d0887"
             ],
             [
              0.1111111111111111,
              "#46039f"
             ],
             [
              0.2222222222222222,
              "#7201a8"
             ],
             [
              0.3333333333333333,
              "#9c179e"
             ],
             [
              0.4444444444444444,
              "#bd3786"
             ],
             [
              0.5555555555555556,
              "#d8576b"
             ],
             [
              0.6666666666666666,
              "#ed7953"
             ],
             [
              0.7777777777777778,
              "#fb9f3a"
             ],
             [
              0.8888888888888888,
              "#fdca26"
             ],
             [
              1,
              "#f0f921"
             ]
            ],
            "type": "histogram2dcontour"
           }
          ],
          "mesh3d": [
           {
            "colorbar": {
             "outlinewidth": 0,
             "ticks": ""
            },
            "type": "mesh3d"
           }
          ],
          "parcoords": [
           {
            "line": {
             "colorbar": {
              "outlinewidth": 0,
              "ticks": ""
             }
            },
            "type": "parcoords"
           }
          ],
          "pie": [
           {
            "automargin": true,
            "type": "pie"
           }
          ],
          "scatter": [
           {
            "fillpattern": {
             "fillmode": "overlay",
             "size": 10,
             "solidity": 0.2
            },
            "type": "scatter"
           }
          ],
          "scatter3d": [
           {
            "line": {
             "colorbar": {
              "outlinewidth": 0,
              "ticks": ""
             }
            },
            "marker": {
             "colorbar": {
              "outlinewidth": 0,
              "ticks": ""
             }
            },
            "type": "scatter3d"
           }
          ],
          "scattercarpet": [
           {
            "marker": {
             "colorbar": {
              "outlinewidth": 0,
              "ticks": ""
             }
            },
            "type": "scattercarpet"
           }
          ],
          "scattergeo": [
           {
            "marker": {
             "colorbar": {
              "outlinewidth": 0,
              "ticks": ""
             }
            },
            "type": "scattergeo"
           }
          ],
          "scattergl": [
           {
            "marker": {
             "colorbar": {
              "outlinewidth": 0,
              "ticks": ""
             }
            },
            "type": "scattergl"
           }
          ],
          "scattermapbox": [
           {
            "marker": {
             "colorbar": {
              "outlinewidth": 0,
              "ticks": ""
             }
            },
            "type": "scattermapbox"
           }
          ],
          "scatterpolar": [
           {
            "marker": {
             "colorbar": {
              "outlinewidth": 0,
              "ticks": ""
             }
            },
            "type": "scatterpolar"
           }
          ],
          "scatterpolargl": [
           {
            "marker": {
             "colorbar": {
              "outlinewidth": 0,
              "ticks": ""
             }
            },
            "type": "scatterpolargl"
           }
          ],
          "scatterternary": [
           {
            "marker": {
             "colorbar": {
              "outlinewidth": 0,
              "ticks": ""
             }
            },
            "type": "scatterternary"
           }
          ],
          "surface": [
           {
            "colorbar": {
             "outlinewidth": 0,
             "ticks": ""
            },
            "colorscale": [
             [
              0,
              "#0d0887"
             ],
             [
              0.1111111111111111,
              "#46039f"
             ],
             [
              0.2222222222222222,
              "#7201a8"
             ],
             [
              0.3333333333333333,
              "#9c179e"
             ],
             [
              0.4444444444444444,
              "#bd3786"
             ],
             [
              0.5555555555555556,
              "#d8576b"
             ],
             [
              0.6666666666666666,
              "#ed7953"
             ],
             [
              0.7777777777777778,
              "#fb9f3a"
             ],
             [
              0.8888888888888888,
              "#fdca26"
             ],
             [
              1,
              "#f0f921"
             ]
            ],
            "type": "surface"
           }
          ],
          "table": [
           {
            "cells": {
             "fill": {
              "color": "#EBF0F8"
             },
             "line": {
              "color": "white"
             }
            },
            "header": {
             "fill": {
              "color": "#C8D4E3"
             },
             "line": {
              "color": "white"
             }
            },
            "type": "table"
           }
          ]
         },
         "layout": {
          "annotationdefaults": {
           "arrowcolor": "#2a3f5f",
           "arrowhead": 0,
           "arrowwidth": 1
          },
          "autotypenumbers": "strict",
          "coloraxis": {
           "colorbar": {
            "outlinewidth": 0,
            "ticks": ""
           }
          },
          "colorscale": {
           "diverging": [
            [
             0,
             "#8e0152"
            ],
            [
             0.1,
             "#c51b7d"
            ],
            [
             0.2,
             "#de77ae"
            ],
            [
             0.3,
             "#f1b6da"
            ],
            [
             0.4,
             "#fde0ef"
            ],
            [
             0.5,
             "#f7f7f7"
            ],
            [
             0.6,
             "#e6f5d0"
            ],
            [
             0.7,
             "#b8e186"
            ],
            [
             0.8,
             "#7fbc41"
            ],
            [
             0.9,
             "#4d9221"
            ],
            [
             1,
             "#276419"
            ]
           ],
           "sequential": [
            [
             0,
             "#0d0887"
            ],
            [
             0.1111111111111111,
             "#46039f"
            ],
            [
             0.2222222222222222,
             "#7201a8"
            ],
            [
             0.3333333333333333,
             "#9c179e"
            ],
            [
             0.4444444444444444,
             "#bd3786"
            ],
            [
             0.5555555555555556,
             "#d8576b"
            ],
            [
             0.6666666666666666,
             "#ed7953"
            ],
            [
             0.7777777777777778,
             "#fb9f3a"
            ],
            [
             0.8888888888888888,
             "#fdca26"
            ],
            [
             1,
             "#f0f921"
            ]
           ],
           "sequentialminus": [
            [
             0,
             "#0d0887"
            ],
            [
             0.1111111111111111,
             "#46039f"
            ],
            [
             0.2222222222222222,
             "#7201a8"
            ],
            [
             0.3333333333333333,
             "#9c179e"
            ],
            [
             0.4444444444444444,
             "#bd3786"
            ],
            [
             0.5555555555555556,
             "#d8576b"
            ],
            [
             0.6666666666666666,
             "#ed7953"
            ],
            [
             0.7777777777777778,
             "#fb9f3a"
            ],
            [
             0.8888888888888888,
             "#fdca26"
            ],
            [
             1,
             "#f0f921"
            ]
           ]
          },
          "colorway": [
           "#636efa",
           "#EF553B",
           "#00cc96",
           "#ab63fa",
           "#FFA15A",
           "#19d3f3",
           "#FF6692",
           "#B6E880",
           "#FF97FF",
           "#FECB52"
          ],
          "font": {
           "color": "#2a3f5f"
          },
          "geo": {
           "bgcolor": "white",
           "lakecolor": "white",
           "landcolor": "#E5ECF6",
           "showlakes": true,
           "showland": true,
           "subunitcolor": "white"
          },
          "hoverlabel": {
           "align": "left"
          },
          "hovermode": "closest",
          "mapbox": {
           "style": "light"
          },
          "paper_bgcolor": "white",
          "plot_bgcolor": "#E5ECF6",
          "polar": {
           "angularaxis": {
            "gridcolor": "white",
            "linecolor": "white",
            "ticks": ""
           },
           "bgcolor": "#E5ECF6",
           "radialaxis": {
            "gridcolor": "white",
            "linecolor": "white",
            "ticks": ""
           }
          },
          "scene": {
           "xaxis": {
            "backgroundcolor": "#E5ECF6",
            "gridcolor": "white",
            "gridwidth": 2,
            "linecolor": "white",
            "showbackground": true,
            "ticks": "",
            "zerolinecolor": "white"
           },
           "yaxis": {
            "backgroundcolor": "#E5ECF6",
            "gridcolor": "white",
            "gridwidth": 2,
            "linecolor": "white",
            "showbackground": true,
            "ticks": "",
            "zerolinecolor": "white"
           },
           "zaxis": {
            "backgroundcolor": "#E5ECF6",
            "gridcolor": "white",
            "gridwidth": 2,
            "linecolor": "white",
            "showbackground": true,
            "ticks": "",
            "zerolinecolor": "white"
           }
          },
          "shapedefaults": {
           "line": {
            "color": "#2a3f5f"
           }
          },
          "ternary": {
           "aaxis": {
            "gridcolor": "white",
            "linecolor": "white",
            "ticks": ""
           },
           "baxis": {
            "gridcolor": "white",
            "linecolor": "white",
            "ticks": ""
           },
           "bgcolor": "#E5ECF6",
           "caxis": {
            "gridcolor": "white",
            "linecolor": "white",
            "ticks": ""
           }
          },
          "title": {
           "x": 0.05
          },
          "xaxis": {
           "automargin": true,
           "gridcolor": "white",
           "linecolor": "white",
           "ticks": "",
           "title": {
            "standoff": 15
           },
           "zerolinecolor": "white",
           "zerolinewidth": 2
          },
          "yaxis": {
           "automargin": true,
           "gridcolor": "white",
           "linecolor": "white",
           "ticks": "",
           "title": {
            "standoff": 15
           },
           "zerolinecolor": "white",
           "zerolinewidth": 2
          }
         }
        },
        "title": {
         "text": "Screen On Time by Device Model"
        },
        "xaxis": {
         "anchor": "y",
         "categoryarray": [
          "Google Pixel 5",
          "OnePlus 9",
          "Xiaomi Mi 11",
          "iPhone 12",
          "Samsung Galaxy S21"
         ],
         "categoryorder": "array",
         "domain": [
          0,
          1
         ],
         "title": {
          "text": "Device Model"
         }
        },
        "yaxis": {
         "anchor": "x",
         "domain": [
          0,
          1
         ],
         "title": {
          "text": "Screen On Time (hours/day)"
         }
        }
       }
      }
     },
     "metadata": {},
     "output_type": "display_data"
    }
   ],
   "source": [
    "# 8. Tägliche Bildschirmzeit nach Gerätetyp (Balkendiagramm)\n",
    "fig8 = px.bar(df_U, x='Device Model', y='Screen On Time (hours/day)', color='Device Model', \n",
    "              title='Screen On Time by Device Model')\n",
    "fig8.show()"
   ]
  },
  {
   "cell_type": "code",
   "execution_count": null,
   "metadata": {},
   "outputs": [],
   "source": []
  },
  {
   "cell_type": "code",
   "execution_count": null,
   "metadata": {},
   "outputs": [],
   "source": []
  },
  {
   "cell_type": "code",
   "execution_count": null,
   "metadata": {},
   "outputs": [],
   "source": []
  },
  {
   "cell_type": "code",
   "execution_count": null,
   "metadata": {},
   "outputs": [],
   "source": []
  },
  {
   "cell_type": "code",
   "execution_count": null,
   "metadata": {},
   "outputs": [],
   "source": []
  },
  {
   "cell_type": "code",
   "execution_count": null,
   "metadata": {},
   "outputs": [],
   "source": []
  },
  {
   "cell_type": "code",
   "execution_count": null,
   "metadata": {},
   "outputs": [],
   "source": []
  },
  {
   "cell_type": "code",
   "execution_count": null,
   "metadata": {},
   "outputs": [],
   "source": []
  },
  {
   "cell_type": "markdown",
   "metadata": {},
   "source": [
    "Machine-Learning\n",
    "---\n",
    "\n",
    "### Multiple Lineare Regression\n",
    "---"
   ]
  },
  {
   "cell_type": "code",
   "execution_count": 33,
   "metadata": {},
   "outputs": [],
   "source": [
    "import statsmodels.api as sm\n",
    "from sklearn.model_selection import train_test_split"
   ]
  },
  {
   "cell_type": "code",
   "execution_count": null,
   "metadata": {},
   "outputs": [],
   "source": [
    "df_wage = pd.read_csv(\"Data/wage.csv\", sep=\"\\t\")\n",
    "df_wage.head()"
   ]
  },
  {
   "cell_type": "code",
   "execution_count": 35,
   "metadata": {},
   "outputs": [],
   "source": [
    "X = df_wage[[\"educ\", \"exper\", \"metro\"]]\n",
    "y = df_wage[\"wage\"]"
   ]
  },
  {
   "cell_type": "code",
   "execution_count": 36,
   "metadata": {},
   "outputs": [],
   "source": [
    "X = sm.add_constant(X)"
   ]
  },
  {
   "cell_type": "code",
   "execution_count": null,
   "metadata": {},
   "outputs": [],
   "source": [
    "X_train, X_test, y_train, y_test = train_test_split(X, y, test_size=0.33, random_state=42)\n",
    "X_train.shape, X_test.shape, y_train.shape, y_test.shape"
   ]
  },
  {
   "cell_type": "code",
   "execution_count": 38,
   "metadata": {},
   "outputs": [],
   "source": [
    "model_stats = sm.OLS(y_train, X_train).fit()"
   ]
  },
  {
   "cell_type": "code",
   "execution_count": null,
   "metadata": {},
   "outputs": [],
   "source": [
    "print(model_stats.summary())"
   ]
  },
  {
   "cell_type": "code",
   "execution_count": null,
   "metadata": {},
   "outputs": [],
   "source": [
    "model_stats.params"
   ]
  },
  {
   "cell_type": "code",
   "execution_count": null,
   "metadata": {},
   "outputs": [],
   "source": [
    "educ = 1\n",
    "exper = 1\n",
    "metro = 1\n",
    "\n",
    "wage = model_stats.params[0] + model_stats.params[1] * educ + model_stats.params[2] * exper + model_stats.params[3] * metro\n",
    "print(f\"Dein Gehalt entspricht {wage}\")"
   ]
  },
  {
   "cell_type": "code",
   "execution_count": null,
   "metadata": {},
   "outputs": [],
   "source": []
  },
  {
   "cell_type": "markdown",
   "metadata": {},
   "source": [
    "### Logistische Regression\n",
    "\n",
    "---"
   ]
  },
  {
   "cell_type": "code",
   "execution_count": 42,
   "metadata": {},
   "outputs": [],
   "source": [
    "from sklearn.linear_model import LogisticRegression\n",
    "from sklearn.metrics import accuracy_score"
   ]
  },
  {
   "cell_type": "code",
   "execution_count": 43,
   "metadata": {},
   "outputs": [],
   "source": [
    "df['Sex'].replace(['male','female'], [0, 1], inplace=True)"
   ]
  },
  {
   "cell_type": "code",
   "execution_count": 44,
   "metadata": {},
   "outputs": [],
   "source": [
    "y_titantic = df['Survived']\n",
    "X_titantic = df[[\"Pclass\",\"Age\",\"Sex\"]]"
   ]
  },
  {
   "cell_type": "code",
   "execution_count": 45,
   "metadata": {},
   "outputs": [],
   "source": [
    "model = LogisticRegression().fit(X_titantic, y_titantic)\n"
   ]
  },
  {
   "cell_type": "code",
   "execution_count": null,
   "metadata": {},
   "outputs": [],
   "source": [
    "y_pred = model.predict(X_titantic)\n",
    "y_pred[:5]\n"
   ]
  },
  {
   "cell_type": "code",
   "execution_count": null,
   "metadata": {},
   "outputs": [],
   "source": [
    "print(\"Perished:\", model.predict_proba(X_titantic)[:,0][:5]) # Wahrscheinlichkeiten verstorben\n",
    "print(\"Survived:\", model.predict_proba(X_titantic)[:,1][:5]) # Wahrscheinlichkeiten überlebend\n"
   ]
  },
  {
   "cell_type": "code",
   "execution_count": null,
   "metadata": {},
   "outputs": [],
   "source": [
    "print(\"Accuracy Score:\", accuracy_score(y_titantic,y_pred))"
   ]
  },
  {
   "cell_type": "markdown",
   "metadata": {},
   "source": [
    "## Erstellung eine Vohersage: \n",
    "---\n"
   ]
  },
  {
   "cell_type": "markdown",
   "metadata": {},
   "source": [
    "Person 2:\n",
    "\n",
    "- ***44 Jahre alt, Weiblich, 1. Klasse***\n"
   ]
  },
  {
   "cell_type": "code",
   "execution_count": null,
   "metadata": {},
   "outputs": [],
   "source": [
    "#Pclass, Age, Sex\n",
    "Female = [[1,44,1]]\n",
    "print(model.predict(Female)[0])\n",
    "probability = model.predict_proba(Female)[0][1]\n",
    "print(f'Probability of survival: {probability:.1%}')"
   ]
  },
  {
   "cell_type": "markdown",
   "metadata": {},
   "source": [
    "Person 3:\n",
    "\n",
    "- ***66 Jahre alt, männlich, 1. Klasse***\n"
   ]
  },
  {
   "cell_type": "code",
   "execution_count": null,
   "metadata": {},
   "outputs": [],
   "source": [
    "#Pclass, Age, Sex\n",
    "Female = [[1,66,0]]\n",
    "print(model.predict(Female)[0])\n",
    "probability = model.predict_proba(Female)[0][1]\n",
    "print(f'Probability of survival: {probability:.1%}')"
   ]
  },
  {
   "cell_type": "code",
   "execution_count": null,
   "metadata": {},
   "outputs": [],
   "source": []
  }
 ],
 "metadata": {
  "kernelspec": {
   "display_name": "venv",
   "language": "python",
   "name": "python3"
  },
  "language_info": {
   "codemirror_mode": {
    "name": "ipython",
    "version": 3
   },
   "file_extension": ".py",
   "mimetype": "text/x-python",
   "name": "python",
   "nbconvert_exporter": "python",
   "pygments_lexer": "ipython3",
   "version": "3.10.9"
  }
 },
 "nbformat": 4,
 "nbformat_minor": 2
}
