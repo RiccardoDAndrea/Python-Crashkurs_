{
 "cells": [
  {
   "cell_type": "markdown",
   "metadata": {},
   "source": [
    "# 1. Einführung in Python Basic Syntax.\n",
    "---\n",
    "Im Folgenden werden die Grundlagen der Python-Syntax erläutert.\n",
    "Dabei werden wir uns auf den Leitfaden beziehen und darauf die Fragen aufbauen."
   ]
  },
  {
   "cell_type": "markdown",
   "metadata": {},
   "source": [
    "## 1.1 Variablen\n",
    "Die erste Aufgabe besteht darin, Variablen zu definieren, die die folgenden Informationen enthalten:\n"
   ]
  },
  {
   "cell_type": "code",
   "execution_count": 87,
   "metadata": {},
   "outputs": [],
   "source": [
    "first_name = \"Hier ein Name einfügen\"\n",
    "last_name = \"Hier ein Nachname einfügen\""
   ]
  },
  {
   "cell_type": "code",
   "execution_count": null,
   "metadata": {},
   "outputs": [],
   "source": [
    "print(\"Hallo, mein Name ist\", first_name, last_name)"
   ]
  },
  {
   "cell_type": "markdown",
   "metadata": {},
   "source": [
    "*Erwarterter Output:*\n",
    "\n",
    "<span style=\"color:lightgray\"> **Hallo, mein Name ist Max Musterman** </span>"
   ]
  },
  {
   "cell_type": "markdown",
   "metadata": {},
   "source": [
    "## 1.2 Definere nun dein Alter in der Varaible `alter`"
   ]
  },
  {
   "cell_type": "code",
   "execution_count": null,
   "metadata": {},
   "outputs": [],
   "source": [
    "alter = \n",
    "\n",
    "print(\"Mein Name ist\" , first_name, last_name, \"und ich bin\", alter, \"Jahre alt\")"
   ]
  },
  {
   "cell_type": "markdown",
   "metadata": {},
   "source": [
    "*Erwarterter Output:*\n",
    "\n",
    "<span style=\"color:lightgray\"> Mein Name ist Max Mustermann und ich bin 20 Jahre alt </span>"
   ]
  },
  {
   "cell_type": "markdown",
   "metadata": {},
   "source": [
    "## 1.3 Kommentare\n",
    "\n",
    "Ersetzte den Kommentar nach den `#` und trage dein Wert der in der Variable gespeichert ist"
   ]
  },
  {
   "cell_type": "code",
   "execution_count": null,
   "metadata": {},
   "outputs": [],
   "source": [
    "print(first_name)  # was ist in der Variable first_name gespeichert? \n",
    "print(last_name)   # was ist in der Variable last_name gespeichert?\n",
    "print(alter)       # was ist in der Variable alter gespeichert?"
   ]
  },
  {
   "cell_type": "markdown",
   "metadata": {},
   "source": [
    "*Erwarterter Output:*\n",
    "\n",
    "\n",
    "<span style=\"color:lightgray\">**Max           # Max** </span>\n",
    "\n",
    "<span style=\"color:lightgray\">**Mustermann   # Musterman** </span>\n",
    "\n",
    "<span style=\"color:lightgray\">**20           # 20** </span>"
   ]
  },
  {
   "cell_type": "markdown",
   "metadata": {},
   "source": [
    "### 1.4 Datentypen\n",
    "Definiere im folgeden die Datentypen \n",
    "1. `Integer` , \n",
    "2. `Float`, \n",
    "3. `String`, \n",
    "4. `Boolean` \n",
    "\n",
    "in einer ***Variable***.\n",
    "Und **unter** der Variable eine kurze erklärung was der jeweilige Datentyp ist woran erkennst du Sie"
   ]
  },
  {
   "cell_type": "code",
   "execution_count": 5,
   "metadata": {},
   "outputs": [],
   "source": [
    "# int:\n",
    "\n",
    "\n",
    "# Erklärung: \n",
    "\n",
    "\n",
    "#-----------\n",
    "\n",
    "# float:\n",
    "\n",
    "\n",
    "# Erklärung:\n",
    "\n",
    "\n",
    "#-----------\n",
    "# str: \n",
    "\n",
    "\n",
    "# Erklärung:\n",
    "\n",
    "\n",
    "#-----------\n",
    "# bool:\n",
    "\n",
    "\n",
    "# Erklärung:\n",
    "\n",
    "\n",
    "#-----------"
   ]
  },
  {
   "cell_type": "markdown",
   "metadata": {},
   "source": [
    "## 1.5 Rechen Operationen:\n",
    "Führe folgende Mathematische Operation durch speicher das Ergebnis bitte immer in einer neuen Variable:\n",
    "\n",
    "*Auf dein Sparkonte sind 1.000 €, auf dein Depot sind weitere 10.000 €. Du schuldest ein Freund 200 €.\n",
    "Führe mit den gegeben Information Rechen operation durch.*\n",
    "\n",
    "1. **Addition:** Berechne dein Gesamtvermögen, indem du dein Sparkonto und dein Depot zusammenzählst. \n",
    "\n",
    "2. **Subtraktion:** Berechne dein Nettovermögen (Gesamtvermögen abzgl. Schulden), indem du deine Schulden von deinem Gesamtvermögen abziehst.\n",
    "\n",
    "3. **Multiplikation:** Berechne, wie viel Prozent deiner Schulden dein Gesamtvermögen ausmachen. Dazu multiplizierst du den Anteil deiner Schulden am Gesamtvermögen mit 100.\n",
    "\n",
    "4. **Division:**\n",
    "Du hast 1.000 € auf deinem Sparkonto und möchtest das Geld gleichmäßig auf 4 Monate verteilen. Wie viel Geld kannst du jeden Monat ausgeben?\n",
    "\n"
   ]
  },
  {
   "cell_type": "code",
   "execution_count": 6,
   "metadata": {},
   "outputs": [],
   "source": [
    "Sparkonto = 1_000\n",
    "Depot = 10_000\n",
    "Verschuldung = 200\n"
   ]
  },
  {
   "cell_type": "markdown",
   "metadata": {},
   "source": [
    "Erstelle drei Listen (list):\n",
    "\n",
    "- Die erste Liste soll Länder enthalten als Strings (str).\n",
    "    - Deutschland, Frankreich, Italien\n",
    "\n",
    "- Die zweite Liste soll das BIP enthalten als Integers (int). \n",
    "    -  z.B Werte : 3800, 2700, 2000\n",
    "\n",
    "- Die dritte Liste soll die Jahre enthalten als Integers (int). \n",
    "    - 2021, 2022, 2023\n",
    "\n",
    "Wähle für alle Listen den passenden `Datentypen` aus. Und sei bereit sie kurz zu erklären."
   ]
  },
  {
   "cell_type": "code",
   "execution_count": 46,
   "metadata": {},
   "outputs": [],
   "source": [
    "Land = []              # Hier die erste Liste erstellen   \n",
    "BIP = []               # Hier die zweite Liste erstellen  \n",
    "Jahre = []             # Hier die Jahre-Liste erstellen   "
   ]
  },
  {
   "cell_type": "markdown",
   "metadata": {},
   "source": [
    "Erstelle ein Dictionary mit den folgenden Keys und Values:\n",
    "- Keys: \n",
    "    - \"Länder\", \"BIP in Mrd.\", \"Jahr\"\n",
    "\n",
    "- Iteams: \n",
    "    - füge in den Bereich Iteam deine erstellen Listen ein."
   ]
  },
  {
   "cell_type": "code",
   "execution_count": null,
   "metadata": {},
   "outputs": [],
   "source": [
    "my_dictionary = {\n",
    "    \"Key1\": \"Item1\",\n",
    "    \"Key2\": \"Item2\",\n",
    "    \"Key3\": \"Item3\"\n",
    "}\n",
    "my_dictionary"
   ]
  },
  {
   "cell_type": "markdown",
   "metadata": {},
   "source": [
    "IF ELIF ELSE Bedigungen\n",
    "---"
   ]
  },
  {
   "cell_type": "code",
   "execution_count": 31,
   "metadata": {},
   "outputs": [
    {
     "name": "stdout",
     "output_type": "stream",
     "text": [
      "Volljährig\n"
     ]
    }
   ],
   "source": [
    "user_age = 20\n",
    "\n",
    "if user_age >= 20:\n",
    "    print(\"Volljährig\")\n"
   ]
  },
  {
   "cell_type": "code",
   "execution_count": 34,
   "metadata": {},
   "outputs": [
    {
     "name": "stdout",
     "output_type": "stream",
     "text": [
      "Leider nicht volljährig\n"
     ]
    }
   ],
   "source": [
    "user_age = 17\n",
    "\n",
    "if user_age >= 18:\n",
    "    print(\"Volljährig\")\n",
    "else:\n",
    "    print(\"Leider nicht volljährig\")"
   ]
  },
  {
   "cell_type": "code",
   "execution_count": null,
   "metadata": {},
   "outputs": [],
   "source": [
    "user_age = 44\n",
    "\n",
    "if user_age >= 18:\n",
    "    print(\"Volljährig\")\n",
    "elif user_age == 16:\n",
    "    print(\"Noch 2 Jahre, dann dürfen Sie mit spielen\")\n",
    "else:\n",
    "    print(\"Leider nicht volljährig\")"
   ]
  },
  {
   "cell_type": "markdown",
   "metadata": {},
   "source": [
    "#### Bearbeitet nun das Arbeitsblatt:\n",
    "***Task_3_Tell_me_a_story***"
   ]
  },
  {
   "cell_type": "markdown",
   "metadata": {},
   "source": [
    "Funktionen:\n",
    "---"
   ]
  },
  {
   "cell_type": "code",
   "execution_count": null,
   "metadata": {},
   "outputs": [],
   "source": [
    "def greet_user(first_name: str, last_name: str):\n",
    "    greet = (f\"Hey {first_name} {last_name} how is your day?\")\n",
    "    return greet\n",
    "\n",
    "greet_user(\"Riccardo\",\"Dandrea\")"
   ]
  },
  {
   "cell_type": "code",
   "execution_count": 17,
   "metadata": {},
   "outputs": [
    {
     "data": {
      "text/plain": [
       "5"
      ]
     },
     "execution_count": 17,
     "metadata": {},
     "output_type": "execute_result"
    }
   ],
   "source": [
    "def add_numbers(num1, num2):\n",
    "    sum = num1 + num2\n",
    "    return sum\n",
    "\n",
    "\n",
    "add_numbers(1,4)"
   ]
  }
 ],
 "metadata": {
  "kernelspec": {
   "display_name": "venv",
   "language": "python",
   "name": "python3"
  },
  "language_info": {
   "codemirror_mode": {
    "name": "ipython",
    "version": 3
   },
   "file_extension": ".py",
   "mimetype": "text/x-python",
   "name": "python",
   "nbconvert_exporter": "python",
   "pygments_lexer": "ipython3",
   "version": "3.10.9"
  }
 },
 "nbformat": 4,
 "nbformat_minor": 2
}
